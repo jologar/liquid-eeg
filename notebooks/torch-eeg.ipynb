{
 "cells": [
  {
   "cell_type": "code",
   "execution_count": 1,
   "metadata": {},
   "outputs": [
    {
     "name": "stdout",
     "output_type": "stream",
     "text": [
      "Requirement already satisfied: torcheeg in /home/chema/Documents/MasterIA/TFM/code/liquid-eeg/.venv/lib/python3.10/site-packages (1.1.1)\n",
      "Requirement already satisfied: tqdm>=4.64.0 in /home/chema/Documents/MasterIA/TFM/code/liquid-eeg/.venv/lib/python3.10/site-packages (from torcheeg) (4.66.1)\n",
      "Requirement already satisfied: numpy>=1.21.5 in /home/chema/Documents/MasterIA/TFM/code/liquid-eeg/.venv/lib/python3.10/site-packages (from torcheeg) (1.26.2)\n",
      "Requirement already satisfied: pandas>=1.3.5 in /home/chema/Documents/MasterIA/TFM/code/liquid-eeg/.venv/lib/python3.10/site-packages (from torcheeg) (1.5.3)\n",
      "Requirement already satisfied: scipy>=1.7.3 in /home/chema/Documents/MasterIA/TFM/code/liquid-eeg/.venv/lib/python3.10/site-packages (from torcheeg) (1.11.4)\n",
      "Requirement already satisfied: scikit-learn>=1.0.2 in /home/chema/Documents/MasterIA/TFM/code/liquid-eeg/.venv/lib/python3.10/site-packages (from torcheeg) (1.3.2)\n",
      "Requirement already satisfied: lmdb>=1.3.0 in /home/chema/Documents/MasterIA/TFM/code/liquid-eeg/.venv/lib/python3.10/site-packages (from torcheeg) (1.4.1)\n",
      "Requirement already satisfied: einops>=0.4.1 in /home/chema/Documents/MasterIA/TFM/code/liquid-eeg/.venv/lib/python3.10/site-packages (from torcheeg) (0.7.0)\n",
      "Requirement already satisfied: mne>=1.0.3 in /home/chema/Documents/MasterIA/TFM/code/liquid-eeg/.venv/lib/python3.10/site-packages (from torcheeg) (1.6.0)\n",
      "Requirement already satisfied: xmltodict>=0.13.0 in /home/chema/Documents/MasterIA/TFM/code/liquid-eeg/.venv/lib/python3.10/site-packages (from torcheeg) (0.13.0)\n",
      "Requirement already satisfied: networkx>=2.6.3 in /home/chema/Documents/MasterIA/TFM/code/liquid-eeg/.venv/lib/python3.10/site-packages (from torcheeg) (3.2.1)\n",
      "Requirement already satisfied: PyWavelets>=1.3.0 in /home/chema/Documents/MasterIA/TFM/code/liquid-eeg/.venv/lib/python3.10/site-packages (from torcheeg) (1.5.0)\n",
      "Requirement already satisfied: spectrum>=0.8.1 in /home/chema/Documents/MasterIA/TFM/code/liquid-eeg/.venv/lib/python3.10/site-packages (from torcheeg) (0.8.1)\n",
      "Requirement already satisfied: torchmetrics>=0.10.0 in /home/chema/Documents/MasterIA/TFM/code/liquid-eeg/.venv/lib/python3.10/site-packages (from torcheeg) (1.2.0)\n",
      "Requirement already satisfied: mne-connectivity>=0.4.0 in /home/chema/Documents/MasterIA/TFM/code/liquid-eeg/.venv/lib/python3.10/site-packages (from torcheeg) (0.6.0)\n",
      "Requirement already satisfied: pytorch-lightning>=1.9.5 in /home/chema/Documents/MasterIA/TFM/code/liquid-eeg/.venv/lib/python3.10/site-packages (from torcheeg) (2.1.2)\n",
      "Requirement already satisfied: matplotlib>=3.5.0 in /home/chema/Documents/MasterIA/TFM/code/liquid-eeg/.venv/lib/python3.10/site-packages (from mne>=1.0.3->torcheeg) (3.8.2)\n",
      "Requirement already satisfied: pooch>=1.5 in /home/chema/Documents/MasterIA/TFM/code/liquid-eeg/.venv/lib/python3.10/site-packages (from mne>=1.0.3->torcheeg) (1.8.0)\n",
      "Requirement already satisfied: decorator in /home/chema/Documents/MasterIA/TFM/code/liquid-eeg/.venv/lib/python3.10/site-packages (from mne>=1.0.3->torcheeg) (5.1.1)\n",
      "Requirement already satisfied: packaging in /home/chema/Documents/MasterIA/TFM/code/liquid-eeg/.venv/lib/python3.10/site-packages (from mne>=1.0.3->torcheeg) (23.2)\n",
      "Requirement already satisfied: jinja2 in /home/chema/Documents/MasterIA/TFM/code/liquid-eeg/.venv/lib/python3.10/site-packages (from mne>=1.0.3->torcheeg) (3.1.2)\n",
      "Requirement already satisfied: lazy-loader>=0.3 in /home/chema/Documents/MasterIA/TFM/code/liquid-eeg/.venv/lib/python3.10/site-packages (from mne>=1.0.3->torcheeg) (0.3)\n",
      "Requirement already satisfied: defusedxml in /home/chema/Documents/MasterIA/TFM/code/liquid-eeg/.venv/lib/python3.10/site-packages (from mne>=1.0.3->torcheeg) (0.7.1)\n",
      "Requirement already satisfied: netCDF4>=1.6.5 in /home/chema/Documents/MasterIA/TFM/code/liquid-eeg/.venv/lib/python3.10/site-packages (from mne-connectivity>=0.4.0->torcheeg) (1.6.5)\n",
      "Requirement already satisfied: xarray>=2023.11.0 in /home/chema/Documents/MasterIA/TFM/code/liquid-eeg/.venv/lib/python3.10/site-packages (from mne-connectivity>=0.4.0->torcheeg) (2024.1.0)\n",
      "Requirement already satisfied: python-dateutil>=2.8.1 in /home/chema/Documents/MasterIA/TFM/code/liquid-eeg/.venv/lib/python3.10/site-packages (from pandas>=1.3.5->torcheeg) (2.8.2)\n",
      "Requirement already satisfied: pytz>=2020.1 in /home/chema/Documents/MasterIA/TFM/code/liquid-eeg/.venv/lib/python3.10/site-packages (from pandas>=1.3.5->torcheeg) (2023.3.post1)\n",
      "Requirement already satisfied: torch>=1.12.0 in /home/chema/Documents/MasterIA/TFM/code/liquid-eeg/.venv/lib/python3.10/site-packages (from pytorch-lightning>=1.9.5->torcheeg) (2.1.1)\n",
      "Requirement already satisfied: PyYAML>=5.4 in /home/chema/Documents/MasterIA/TFM/code/liquid-eeg/.venv/lib/python3.10/site-packages (from pytorch-lightning>=1.9.5->torcheeg) (6.0.1)\n",
      "Requirement already satisfied: fsspec>2021.06.0 in /home/chema/Documents/MasterIA/TFM/code/liquid-eeg/.venv/lib/python3.10/site-packages (from fsspec[http]>2021.06.0->pytorch-lightning>=1.9.5->torcheeg) (2023.10.0)\n",
      "Requirement already satisfied: typing-extensions>=4.0.0 in /home/chema/Documents/MasterIA/TFM/code/liquid-eeg/.venv/lib/python3.10/site-packages (from pytorch-lightning>=1.9.5->torcheeg) (4.8.0)\n",
      "Requirement already satisfied: lightning-utilities>=0.8.0 in /home/chema/Documents/MasterIA/TFM/code/liquid-eeg/.venv/lib/python3.10/site-packages (from pytorch-lightning>=1.9.5->torcheeg) (0.10.0)\n",
      "Requirement already satisfied: joblib>=1.1.1 in /home/chema/Documents/MasterIA/TFM/code/liquid-eeg/.venv/lib/python3.10/site-packages (from scikit-learn>=1.0.2->torcheeg) (1.3.2)\n",
      "Requirement already satisfied: threadpoolctl>=2.0.0 in /home/chema/Documents/MasterIA/TFM/code/liquid-eeg/.venv/lib/python3.10/site-packages (from scikit-learn>=1.0.2->torcheeg) (3.2.0)\n",
      "Requirement already satisfied: easydev in /home/chema/Documents/MasterIA/TFM/code/liquid-eeg/.venv/lib/python3.10/site-packages (from spectrum>=0.8.1->torcheeg) (0.12.1)\n",
      "Requirement already satisfied: requests in /home/chema/Documents/MasterIA/TFM/code/liquid-eeg/.venv/lib/python3.10/site-packages (from fsspec[http]>2021.06.0->pytorch-lightning>=1.9.5->torcheeg) (2.31.0)\n",
      "Requirement already satisfied: aiohttp!=4.0.0a0,!=4.0.0a1 in /home/chema/Documents/MasterIA/TFM/code/liquid-eeg/.venv/lib/python3.10/site-packages (from fsspec[http]>2021.06.0->pytorch-lightning>=1.9.5->torcheeg) (3.9.1)\n",
      "Requirement already satisfied: setuptools in /home/chema/Documents/MasterIA/TFM/code/liquid-eeg/.venv/lib/python3.10/site-packages (from lightning-utilities>=0.8.0->pytorch-lightning>=1.9.5->torcheeg) (69.0.2)\n",
      "Requirement already satisfied: contourpy>=1.0.1 in /home/chema/Documents/MasterIA/TFM/code/liquid-eeg/.venv/lib/python3.10/site-packages (from matplotlib>=3.5.0->mne>=1.0.3->torcheeg) (1.2.0)\n",
      "Requirement already satisfied: cycler>=0.10 in /home/chema/Documents/MasterIA/TFM/code/liquid-eeg/.venv/lib/python3.10/site-packages (from matplotlib>=3.5.0->mne>=1.0.3->torcheeg) (0.12.1)\n",
      "Requirement already satisfied: fonttools>=4.22.0 in /home/chema/Documents/MasterIA/TFM/code/liquid-eeg/.venv/lib/python3.10/site-packages (from matplotlib>=3.5.0->mne>=1.0.3->torcheeg) (4.45.1)\n",
      "Requirement already satisfied: kiwisolver>=1.3.1 in /home/chema/Documents/MasterIA/TFM/code/liquid-eeg/.venv/lib/python3.10/site-packages (from matplotlib>=3.5.0->mne>=1.0.3->torcheeg) (1.4.5)\n",
      "Requirement already satisfied: pillow>=8 in /home/chema/Documents/MasterIA/TFM/code/liquid-eeg/.venv/lib/python3.10/site-packages (from matplotlib>=3.5.0->mne>=1.0.3->torcheeg) (10.1.0)\n",
      "Requirement already satisfied: pyparsing>=2.3.1 in /home/chema/Documents/MasterIA/TFM/code/liquid-eeg/.venv/lib/python3.10/site-packages (from matplotlib>=3.5.0->mne>=1.0.3->torcheeg) (3.1.1)\n",
      "Requirement already satisfied: cftime in /home/chema/Documents/MasterIA/TFM/code/liquid-eeg/.venv/lib/python3.10/site-packages (from netCDF4>=1.6.5->mne-connectivity>=0.4.0->torcheeg) (1.6.3)\n",
      "Requirement already satisfied: certifi in /home/chema/Documents/MasterIA/TFM/code/liquid-eeg/.venv/lib/python3.10/site-packages (from netCDF4>=1.6.5->mne-connectivity>=0.4.0->torcheeg) (2023.11.17)\n",
      "Requirement already satisfied: platformdirs>=2.5.0 in /home/chema/Documents/MasterIA/TFM/code/liquid-eeg/.venv/lib/python3.10/site-packages (from pooch>=1.5->mne>=1.0.3->torcheeg) (4.0.0)\n",
      "Requirement already satisfied: six>=1.5 in /home/chema/Documents/MasterIA/TFM/code/liquid-eeg/.venv/lib/python3.10/site-packages (from python-dateutil>=2.8.1->pandas>=1.3.5->torcheeg) (1.16.0)\n",
      "Requirement already satisfied: filelock in /home/chema/Documents/MasterIA/TFM/code/liquid-eeg/.venv/lib/python3.10/site-packages (from torch>=1.12.0->pytorch-lightning>=1.9.5->torcheeg) (3.13.1)\n",
      "Requirement already satisfied: sympy in /home/chema/Documents/MasterIA/TFM/code/liquid-eeg/.venv/lib/python3.10/site-packages (from torch>=1.12.0->pytorch-lightning>=1.9.5->torcheeg) (1.12)\n",
      "Requirement already satisfied: nvidia-cuda-nvrtc-cu12==12.1.105 in /home/chema/Documents/MasterIA/TFM/code/liquid-eeg/.venv/lib/python3.10/site-packages (from torch>=1.12.0->pytorch-lightning>=1.9.5->torcheeg) (12.1.105)\n",
      "Requirement already satisfied: nvidia-cuda-runtime-cu12==12.1.105 in /home/chema/Documents/MasterIA/TFM/code/liquid-eeg/.venv/lib/python3.10/site-packages (from torch>=1.12.0->pytorch-lightning>=1.9.5->torcheeg) (12.1.105)\n",
      "Requirement already satisfied: nvidia-cuda-cupti-cu12==12.1.105 in /home/chema/Documents/MasterIA/TFM/code/liquid-eeg/.venv/lib/python3.10/site-packages (from torch>=1.12.0->pytorch-lightning>=1.9.5->torcheeg) (12.1.105)\n",
      "Requirement already satisfied: nvidia-cudnn-cu12==8.9.2.26 in /home/chema/Documents/MasterIA/TFM/code/liquid-eeg/.venv/lib/python3.10/site-packages (from torch>=1.12.0->pytorch-lightning>=1.9.5->torcheeg) (8.9.2.26)\n",
      "Requirement already satisfied: nvidia-cublas-cu12==12.1.3.1 in /home/chema/Documents/MasterIA/TFM/code/liquid-eeg/.venv/lib/python3.10/site-packages (from torch>=1.12.0->pytorch-lightning>=1.9.5->torcheeg) (12.1.3.1)\n",
      "Requirement already satisfied: nvidia-cufft-cu12==11.0.2.54 in /home/chema/Documents/MasterIA/TFM/code/liquid-eeg/.venv/lib/python3.10/site-packages (from torch>=1.12.0->pytorch-lightning>=1.9.5->torcheeg) (11.0.2.54)\n",
      "Requirement already satisfied: nvidia-curand-cu12==10.3.2.106 in /home/chema/Documents/MasterIA/TFM/code/liquid-eeg/.venv/lib/python3.10/site-packages (from torch>=1.12.0->pytorch-lightning>=1.9.5->torcheeg) (10.3.2.106)\n",
      "Requirement already satisfied: nvidia-cusolver-cu12==11.4.5.107 in /home/chema/Documents/MasterIA/TFM/code/liquid-eeg/.venv/lib/python3.10/site-packages (from torch>=1.12.0->pytorch-lightning>=1.9.5->torcheeg) (11.4.5.107)\n",
      "Requirement already satisfied: nvidia-cusparse-cu12==12.1.0.106 in /home/chema/Documents/MasterIA/TFM/code/liquid-eeg/.venv/lib/python3.10/site-packages (from torch>=1.12.0->pytorch-lightning>=1.9.5->torcheeg) (12.1.0.106)\n",
      "Requirement already satisfied: nvidia-nccl-cu12==2.18.1 in /home/chema/Documents/MasterIA/TFM/code/liquid-eeg/.venv/lib/python3.10/site-packages (from torch>=1.12.0->pytorch-lightning>=1.9.5->torcheeg) (2.18.1)\n",
      "Requirement already satisfied: nvidia-nvtx-cu12==12.1.105 in /home/chema/Documents/MasterIA/TFM/code/liquid-eeg/.venv/lib/python3.10/site-packages (from torch>=1.12.0->pytorch-lightning>=1.9.5->torcheeg) (12.1.105)\n",
      "Requirement already satisfied: triton==2.1.0 in /home/chema/Documents/MasterIA/TFM/code/liquid-eeg/.venv/lib/python3.10/site-packages (from torch>=1.12.0->pytorch-lightning>=1.9.5->torcheeg) (2.1.0)\n",
      "Requirement already satisfied: nvidia-nvjitlink-cu12 in /home/chema/Documents/MasterIA/TFM/code/liquid-eeg/.venv/lib/python3.10/site-packages (from nvidia-cusolver-cu12==11.4.5.107->torch>=1.12.0->pytorch-lightning>=1.9.5->torcheeg) (12.3.101)\n",
      "Requirement already satisfied: colorama in /home/chema/Documents/MasterIA/TFM/code/liquid-eeg/.venv/lib/python3.10/site-packages (from easydev->spectrum>=0.8.1->torcheeg) (0.4.6)\n",
      "Requirement already satisfied: pexpect in /home/chema/Documents/MasterIA/TFM/code/liquid-eeg/.venv/lib/python3.10/site-packages (from easydev->spectrum>=0.8.1->torcheeg) (4.9.0)\n",
      "Requirement already satisfied: colorlog in /home/chema/Documents/MasterIA/TFM/code/liquid-eeg/.venv/lib/python3.10/site-packages (from easydev->spectrum>=0.8.1->torcheeg) (6.8.0)\n",
      "Requirement already satisfied: MarkupSafe>=2.0 in /home/chema/Documents/MasterIA/TFM/code/liquid-eeg/.venv/lib/python3.10/site-packages (from jinja2->mne>=1.0.3->torcheeg) (2.1.3)\n",
      "Requirement already satisfied: attrs>=17.3.0 in /home/chema/Documents/MasterIA/TFM/code/liquid-eeg/.venv/lib/python3.10/site-packages (from aiohttp!=4.0.0a0,!=4.0.0a1->fsspec[http]>2021.06.0->pytorch-lightning>=1.9.5->torcheeg) (23.1.0)\n",
      "Requirement already satisfied: multidict<7.0,>=4.5 in /home/chema/Documents/MasterIA/TFM/code/liquid-eeg/.venv/lib/python3.10/site-packages (from aiohttp!=4.0.0a0,!=4.0.0a1->fsspec[http]>2021.06.0->pytorch-lightning>=1.9.5->torcheeg) (6.0.4)\n",
      "Requirement already satisfied: yarl<2.0,>=1.0 in /home/chema/Documents/MasterIA/TFM/code/liquid-eeg/.venv/lib/python3.10/site-packages (from aiohttp!=4.0.0a0,!=4.0.0a1->fsspec[http]>2021.06.0->pytorch-lightning>=1.9.5->torcheeg) (1.9.3)\n",
      "Requirement already satisfied: frozenlist>=1.1.1 in /home/chema/Documents/MasterIA/TFM/code/liquid-eeg/.venv/lib/python3.10/site-packages (from aiohttp!=4.0.0a0,!=4.0.0a1->fsspec[http]>2021.06.0->pytorch-lightning>=1.9.5->torcheeg) (1.4.0)\n",
      "Requirement already satisfied: aiosignal>=1.1.2 in /home/chema/Documents/MasterIA/TFM/code/liquid-eeg/.venv/lib/python3.10/site-packages (from aiohttp!=4.0.0a0,!=4.0.0a1->fsspec[http]>2021.06.0->pytorch-lightning>=1.9.5->torcheeg) (1.3.1)\n",
      "Requirement already satisfied: async-timeout<5.0,>=4.0 in /home/chema/Documents/MasterIA/TFM/code/liquid-eeg/.venv/lib/python3.10/site-packages (from aiohttp!=4.0.0a0,!=4.0.0a1->fsspec[http]>2021.06.0->pytorch-lightning>=1.9.5->torcheeg) (4.0.3)\n",
      "Requirement already satisfied: charset-normalizer<4,>=2 in /home/chema/Documents/MasterIA/TFM/code/liquid-eeg/.venv/lib/python3.10/site-packages (from requests->fsspec[http]>2021.06.0->pytorch-lightning>=1.9.5->torcheeg) (3.3.2)\n",
      "Requirement already satisfied: idna<4,>=2.5 in /home/chema/Documents/MasterIA/TFM/code/liquid-eeg/.venv/lib/python3.10/site-packages (from requests->fsspec[http]>2021.06.0->pytorch-lightning>=1.9.5->torcheeg) (3.6)\n",
      "Requirement already satisfied: urllib3<3,>=1.21.1 in /home/chema/Documents/MasterIA/TFM/code/liquid-eeg/.venv/lib/python3.10/site-packages (from requests->fsspec[http]>2021.06.0->pytorch-lightning>=1.9.5->torcheeg) (1.26.18)\n",
      "Requirement already satisfied: ptyprocess>=0.5 in /home/chema/Documents/MasterIA/TFM/code/liquid-eeg/.venv/lib/python3.10/site-packages (from pexpect->easydev->spectrum>=0.8.1->torcheeg) (0.7.0)\n",
      "Requirement already satisfied: mpmath>=0.19 in /home/chema/Documents/MasterIA/TFM/code/liquid-eeg/.venv/lib/python3.10/site-packages (from sympy->torch>=1.12.0->pytorch-lightning>=1.9.5->torcheeg) (1.3.0)\n",
      "\n",
      "\u001b[1m[\u001b[0m\u001b[34;49mnotice\u001b[0m\u001b[1;39;49m]\u001b[0m\u001b[39;49m A new release of pip is available: \u001b[0m\u001b[31;49m23.3.1\u001b[0m\u001b[39;49m -> \u001b[0m\u001b[32;49m23.3.2\u001b[0m\n",
      "\u001b[1m[\u001b[0m\u001b[34;49mnotice\u001b[0m\u001b[1;39;49m]\u001b[0m\u001b[39;49m To update, run: \u001b[0m\u001b[32;49mpip install --upgrade pip\u001b[0m\n",
      "Note: you may need to restart the kernel to use updated packages.\n",
      "Requirement already satisfied: moabb==0.5 in /home/chema/Documents/MasterIA/TFM/code/liquid-eeg/.venv/lib/python3.10/site-packages (0.5.0)\n",
      "Requirement already satisfied: PyYAML<7.0,>=6.0 in /home/chema/Documents/MasterIA/TFM/code/liquid-eeg/.venv/lib/python3.10/site-packages (from moabb==0.5) (6.0.1)\n",
      "Requirement already satisfied: coverage<8.0.0,>=7.0.1 in /home/chema/Documents/MasterIA/TFM/code/liquid-eeg/.venv/lib/python3.10/site-packages (from moabb==0.5) (7.4.0)\n",
      "Requirement already satisfied: h5py<4.0.0,>=3.7.0 in /home/chema/Documents/MasterIA/TFM/code/liquid-eeg/.venv/lib/python3.10/site-packages (from moabb==0.5) (3.8.0)\n",
      "Requirement already satisfied: matplotlib<4.0.0,>=3.6.2 in /home/chema/Documents/MasterIA/TFM/code/liquid-eeg/.venv/lib/python3.10/site-packages (from moabb==0.5) (3.8.2)\n",
      "Requirement already satisfied: memory-profiler<0.62.0,>=0.61.0 in /home/chema/Documents/MasterIA/TFM/code/liquid-eeg/.venv/lib/python3.10/site-packages (from moabb==0.5) (0.61.0)\n",
      "Requirement already satisfied: mne<2.0.0,>=1.3.0 in /home/chema/Documents/MasterIA/TFM/code/liquid-eeg/.venv/lib/python3.10/site-packages (from moabb==0.5) (1.6.0)\n",
      "Requirement already satisfied: numpy<2.0,>=1.22 in /home/chema/Documents/MasterIA/TFM/code/liquid-eeg/.venv/lib/python3.10/site-packages (from moabb==0.5) (1.26.2)\n",
      "Requirement already satisfied: pandas<2.0.0,>=1.5.2 in /home/chema/Documents/MasterIA/TFM/code/liquid-eeg/.venv/lib/python3.10/site-packages (from moabb==0.5) (1.5.3)\n",
      "Requirement already satisfied: pooch<2.0.0,>=1.6.0 in /home/chema/Documents/MasterIA/TFM/code/liquid-eeg/.venv/lib/python3.10/site-packages (from moabb==0.5) (1.8.0)\n",
      "Requirement already satisfied: pyriemann<0.4,>=0.3 in /home/chema/Documents/MasterIA/TFM/code/liquid-eeg/.venv/lib/python3.10/site-packages (from moabb==0.5) (0.3)\n",
      "Requirement already satisfied: requests<3.0.0,>=2.28.1 in /home/chema/Documents/MasterIA/TFM/code/liquid-eeg/.venv/lib/python3.10/site-packages (from moabb==0.5) (2.31.0)\n",
      "Requirement already satisfied: scikit-learn<2.0.0,>=1.2.0 in /home/chema/Documents/MasterIA/TFM/code/liquid-eeg/.venv/lib/python3.10/site-packages (from moabb==0.5) (1.3.2)\n",
      "Requirement already satisfied: scipy<2.0.0,>=1.9.3 in /home/chema/Documents/MasterIA/TFM/code/liquid-eeg/.venv/lib/python3.10/site-packages (from moabb==0.5) (1.11.4)\n",
      "Requirement already satisfied: seaborn<0.13.0,>=0.12.1 in /home/chema/Documents/MasterIA/TFM/code/liquid-eeg/.venv/lib/python3.10/site-packages (from moabb==0.5) (0.12.2)\n",
      "Requirement already satisfied: tqdm<5.0.0,>=4.64.1 in /home/chema/Documents/MasterIA/TFM/code/liquid-eeg/.venv/lib/python3.10/site-packages (from moabb==0.5) (4.66.1)\n",
      "Requirement already satisfied: contourpy>=1.0.1 in /home/chema/Documents/MasterIA/TFM/code/liquid-eeg/.venv/lib/python3.10/site-packages (from matplotlib<4.0.0,>=3.6.2->moabb==0.5) (1.2.0)\n",
      "Requirement already satisfied: cycler>=0.10 in /home/chema/Documents/MasterIA/TFM/code/liquid-eeg/.venv/lib/python3.10/site-packages (from matplotlib<4.0.0,>=3.6.2->moabb==0.5) (0.12.1)\n",
      "Requirement already satisfied: fonttools>=4.22.0 in /home/chema/Documents/MasterIA/TFM/code/liquid-eeg/.venv/lib/python3.10/site-packages (from matplotlib<4.0.0,>=3.6.2->moabb==0.5) (4.45.1)\n",
      "Requirement already satisfied: kiwisolver>=1.3.1 in /home/chema/Documents/MasterIA/TFM/code/liquid-eeg/.venv/lib/python3.10/site-packages (from matplotlib<4.0.0,>=3.6.2->moabb==0.5) (1.4.5)\n",
      "Requirement already satisfied: packaging>=20.0 in /home/chema/Documents/MasterIA/TFM/code/liquid-eeg/.venv/lib/python3.10/site-packages (from matplotlib<4.0.0,>=3.6.2->moabb==0.5) (23.2)\n",
      "Requirement already satisfied: pillow>=8 in /home/chema/Documents/MasterIA/TFM/code/liquid-eeg/.venv/lib/python3.10/site-packages (from matplotlib<4.0.0,>=3.6.2->moabb==0.5) (10.1.0)\n",
      "Requirement already satisfied: pyparsing>=2.3.1 in /home/chema/Documents/MasterIA/TFM/code/liquid-eeg/.venv/lib/python3.10/site-packages (from matplotlib<4.0.0,>=3.6.2->moabb==0.5) (3.1.1)\n",
      "Requirement already satisfied: python-dateutil>=2.7 in /home/chema/Documents/MasterIA/TFM/code/liquid-eeg/.venv/lib/python3.10/site-packages (from matplotlib<4.0.0,>=3.6.2->moabb==0.5) (2.8.2)\n",
      "Requirement already satisfied: psutil in /home/chema/Documents/MasterIA/TFM/code/liquid-eeg/.venv/lib/python3.10/site-packages (from memory-profiler<0.62.0,>=0.61.0->moabb==0.5) (5.9.6)\n",
      "Requirement already satisfied: decorator in /home/chema/Documents/MasterIA/TFM/code/liquid-eeg/.venv/lib/python3.10/site-packages (from mne<2.0.0,>=1.3.0->moabb==0.5) (5.1.1)\n",
      "Requirement already satisfied: jinja2 in /home/chema/Documents/MasterIA/TFM/code/liquid-eeg/.venv/lib/python3.10/site-packages (from mne<2.0.0,>=1.3.0->moabb==0.5) (3.1.2)\n",
      "Requirement already satisfied: lazy-loader>=0.3 in /home/chema/Documents/MasterIA/TFM/code/liquid-eeg/.venv/lib/python3.10/site-packages (from mne<2.0.0,>=1.3.0->moabb==0.5) (0.3)\n",
      "Requirement already satisfied: defusedxml in /home/chema/Documents/MasterIA/TFM/code/liquid-eeg/.venv/lib/python3.10/site-packages (from mne<2.0.0,>=1.3.0->moabb==0.5) (0.7.1)\n",
      "Requirement already satisfied: pytz>=2020.1 in /home/chema/Documents/MasterIA/TFM/code/liquid-eeg/.venv/lib/python3.10/site-packages (from pandas<2.0.0,>=1.5.2->moabb==0.5) (2023.3.post1)\n",
      "Requirement already satisfied: platformdirs>=2.5.0 in /home/chema/Documents/MasterIA/TFM/code/liquid-eeg/.venv/lib/python3.10/site-packages (from pooch<2.0.0,>=1.6.0->moabb==0.5) (4.0.0)\n",
      "Requirement already satisfied: joblib in /home/chema/Documents/MasterIA/TFM/code/liquid-eeg/.venv/lib/python3.10/site-packages (from pyriemann<0.4,>=0.3->moabb==0.5) (1.3.2)\n",
      "Requirement already satisfied: charset-normalizer<4,>=2 in /home/chema/Documents/MasterIA/TFM/code/liquid-eeg/.venv/lib/python3.10/site-packages (from requests<3.0.0,>=2.28.1->moabb==0.5) (3.3.2)\n",
      "Requirement already satisfied: idna<4,>=2.5 in /home/chema/Documents/MasterIA/TFM/code/liquid-eeg/.venv/lib/python3.10/site-packages (from requests<3.0.0,>=2.28.1->moabb==0.5) (3.6)\n",
      "Requirement already satisfied: urllib3<3,>=1.21.1 in /home/chema/Documents/MasterIA/TFM/code/liquid-eeg/.venv/lib/python3.10/site-packages (from requests<3.0.0,>=2.28.1->moabb==0.5) (1.26.18)\n",
      "Requirement already satisfied: certifi>=2017.4.17 in /home/chema/Documents/MasterIA/TFM/code/liquid-eeg/.venv/lib/python3.10/site-packages (from requests<3.0.0,>=2.28.1->moabb==0.5) (2023.11.17)\n",
      "Requirement already satisfied: threadpoolctl>=2.0.0 in /home/chema/Documents/MasterIA/TFM/code/liquid-eeg/.venv/lib/python3.10/site-packages (from scikit-learn<2.0.0,>=1.2.0->moabb==0.5) (3.2.0)\n",
      "Requirement already satisfied: six>=1.5 in /home/chema/Documents/MasterIA/TFM/code/liquid-eeg/.venv/lib/python3.10/site-packages (from python-dateutil>=2.7->matplotlib<4.0.0,>=3.6.2->moabb==0.5) (1.16.0)\n",
      "Requirement already satisfied: MarkupSafe>=2.0 in /home/chema/Documents/MasterIA/TFM/code/liquid-eeg/.venv/lib/python3.10/site-packages (from jinja2->mne<2.0.0,>=1.3.0->moabb==0.5) (2.1.3)\n",
      "\n",
      "\u001b[1m[\u001b[0m\u001b[34;49mnotice\u001b[0m\u001b[1;39;49m]\u001b[0m\u001b[39;49m A new release of pip is available: \u001b[0m\u001b[31;49m23.3.1\u001b[0m\u001b[39;49m -> \u001b[0m\u001b[32;49m23.3.2\u001b[0m\n",
      "\u001b[1m[\u001b[0m\u001b[34;49mnotice\u001b[0m\u001b[1;39;49m]\u001b[0m\u001b[39;49m To update, run: \u001b[0m\u001b[32;49mpip install --upgrade pip\u001b[0m\n",
      "Note: you may need to restart the kernel to use updated packages.\n"
     ]
    }
   ],
   "source": [
    "%pip install torcheeg\n",
    "%pip install moabb==0.5"
   ]
  },
  {
   "cell_type": "code",
   "execution_count": 2,
   "metadata": {},
   "outputs": [
    {
     "name": "stderr",
     "output_type": "stream",
     "text": [
      "2024-01-24 20:50:04.537708: I tensorflow/core/platform/cpu_feature_guard.cc:193] This TensorFlow binary is optimized with oneAPI Deep Neural Network Library (oneDNN) to use the following CPU instructions in performance-critical operations:  AVX2 AVX512F AVX512_VNNI FMA\n",
      "To enable them in other operations, rebuild TensorFlow with the appropriate compiler flags.\n",
      "2024-01-24 20:50:04.810371: I tensorflow/core/util/util.cc:169] oneDNN custom operations are on. You may see slightly different numerical results due to floating-point round-off errors from different computation orders. To turn them off, set the environment variable `TF_ENABLE_ONEDNN_OPTS=0`.\n",
      "2024-01-24 20:50:04.874129: W tensorflow/stream_executor/platform/default/dso_loader.cc:64] Could not load dynamic library 'libcudart.so.11.0'; dlerror: libcudart.so.11.0: cannot open shared object file: No such file or directory\n",
      "2024-01-24 20:50:04.874143: I tensorflow/stream_executor/cuda/cudart_stub.cc:29] Ignore above cudart dlerror if you do not have a GPU set up on your machine.\n",
      "2024-01-24 20:50:04.915423: E tensorflow/stream_executor/cuda/cuda_blas.cc:2981] Unable to register cuBLAS factory: Attempting to register factory for plugin cuBLAS when one has already been registered\n",
      "2024-01-24 20:50:05.646603: W tensorflow/stream_executor/platform/default/dso_loader.cc:64] Could not load dynamic library 'libnvinfer.so.7'; dlerror: libnvinfer.so.7: cannot open shared object file: No such file or directory\n",
      "2024-01-24 20:50:05.646733: W tensorflow/stream_executor/platform/default/dso_loader.cc:64] Could not load dynamic library 'libnvinfer_plugin.so.7'; dlerror: libnvinfer_plugin.so.7: cannot open shared object file: No such file or directory\n",
      "2024-01-24 20:50:05.646740: W tensorflow/compiler/tf2tensorrt/utils/py_utils.cc:38] TF-TRT Warning: Cannot dlopen some TensorRT libraries. If you would like to use Nvidia GPU with TensorRT, please make sure the missing libraries mentioned above are installed properly.\n"
     ]
    },
    {
     "name": "stdout",
     "output_type": "stream",
     "text": [
      "Tensorflow not install, you could not use those pipelines\n",
      "To use the get_shape_from_baseconcar, InputShapeSetterEEG, BraindecodeDatasetLoaderyou need to install `braindecode`.`pip install braindecode` or Please refer to `https://braindecode.org`.\n"
     ]
    }
   ],
   "source": [
    "# Load moabb dataset\n",
    "import torcheeg.datasets.moabb as moabb_dataset\n",
    "from torcheeg import transforms\n",
    "from moabb.datasets import BNCI2014001\n",
    "from moabb.paradigms import LeftRightImagery\n",
    "\n",
    "moabb = BNCI2014001()\n",
    "moabb.subject_list = [1, 2, 3]\n",
    "paradigm = LeftRightImagery()"
   ]
  },
  {
   "cell_type": "code",
   "execution_count": 3,
   "metadata": {},
   "outputs": [
    {
     "name": "stderr",
     "output_type": "stream",
     "text": [
      "[2024-01-24 20:50:06] INFO (torcheeg/MainThread) 🔍 | Detected cached processing results, reading cache from ./io/moabb.\n"
     ]
    }
   ],
   "source": [
    "dataset = moabb_dataset.MOABBDataset(\n",
    "    dataset=moabb,\n",
    "    paradigm=paradigm,\n",
    "    io_path='./io/moabb',\n",
    "    # offline_transform=transforms.Compose([transforms.BandDifferentialEntropy()]),\n",
    "    online_transform=transforms.ToTensor(),\n",
    "    label_transform=transforms.Compose([\n",
    "        transforms.Select('label'),\n",
    "        transforms.Mapping({'left_hand': 0, 'right_hand': 1,}),\n",
    "    ])\n",
    ")"
   ]
  },
  {
   "cell_type": "code",
   "execution_count": 4,
   "metadata": {},
   "outputs": [
    {
     "data": {
      "text/plain": [
       "(tensor([[ 3.3079,  3.0014,  2.1278, -1.4036],\n",
       "         [ 3.2340,  3.1799,  2.2855, -2.5170],\n",
       "         [ 3.2573,  3.0450,  2.1432, -1.8323],\n",
       "         [ 3.3858,  3.1501,  2.3015, -1.3530],\n",
       "         [ 3.4854,  3.1256,  2.2190, -1.9134],\n",
       "         [ 3.6255,  3.3306,  2.3606, -3.1138],\n",
       "         [ 3.1585,  2.9723,  2.0644, -2.8291],\n",
       "         [ 3.3503,  3.1082,  2.2270, -2.3801],\n",
       "         [ 3.4040,  3.0672,  2.1147, -2.0747],\n",
       "         [ 3.5860,  3.1837,  2.2757, -1.7749],\n",
       "         [ 3.7133,  3.1518,  2.1847, -3.2434],\n",
       "         [ 3.9287,  3.2827,  2.3741, -2.7579],\n",
       "         [ 3.9143,  3.5193,  2.4629, -1.5646],\n",
       "         [ 3.5198,  3.1574,  2.2032, -2.3894],\n",
       "         [ 3.5965,  3.0906,  2.1086, -2.5781],\n",
       "         [ 3.7583,  3.1620,  2.2260, -2.5988],\n",
       "         [ 3.8750,  3.1585,  2.1983, -3.8501],\n",
       "         [ 4.0504,  3.2456,  2.2810, -2.6974],\n",
       "         [ 3.7864,  3.1971,  2.1674, -2.6001],\n",
       "         [ 3.8891,  3.1942,  2.1937, -2.9871],\n",
       "         [ 3.9816,  3.1584,  2.2129, -4.0444],\n",
       "         [ 4.0230,  3.3011,  2.3015, -2.9757]]),\n",
       " 1)"
      ]
     },
     "execution_count": 4,
     "metadata": {},
     "output_type": "execute_result"
    }
   ],
   "source": [
    "dataset[2]"
   ]
  },
  {
   "cell_type": "code",
   "execution_count": 5,
   "metadata": {},
   "outputs": [],
   "source": [
    "import torch\n",
    "import torch.nn as nn\n",
    "from ncps.wirings import AutoNCP\n",
    "from ncps.torch import CfC\n",
    "\n",
    "class OnlyLiquidEEG(nn.Module):\n",
    "    def __init__(self, liquid_units=50, num_classes=2, channels=4):\n",
    "        super().__init__()\n",
    "        self.liquid_block = LiquidBlock(units=liquid_units, out_features=num_classes, in_features=channels)\n",
    "        self.softmax = nn.Softmax(dim=0)\n",
    "\n",
    "    def forward(self, x, state=None):\n",
    "        x, hx = self.liquid_block.forward(torch.squeeze(x, dim=1), state)\n",
    "        return self.softmax(x), hx\n",
    "\n",
    "\n",
    "\n",
    "class LiquidBlock(nn.Module):\n",
    "    def __init__(self, units=20, out_features=10, in_features=5):\n",
    "        super().__init__()\n",
    "        wiring = AutoNCP(units, out_features)\n",
    "        self.units = units\n",
    "        self.liquid = CfC(in_features, wiring, return_sequences=False, batch_first=True)\n",
    "\n",
    "    def forward(self, x, state=None):\n",
    "        x, hx = self.liquid.forward(input=x, hx=state)\n",
    "        return x, hx"
   ]
  },
  {
   "cell_type": "code",
   "execution_count": 6,
   "metadata": {},
   "outputs": [],
   "source": [
    "import os\n",
    "import time\n",
    "import logging\n",
    "\n",
    "os.makedirs('./examples_vanilla_torch/log', exist_ok=True)\n",
    "logger = logging.getLogger('Training models with vanilla PyTorch')\n",
    "logger.setLevel(logging.DEBUG)\n",
    "console_handler = logging.StreamHandler()\n",
    "timeticks = time.strftime(\"%Y-%m-%d-%H-%M-%S\", time.localtime())\n",
    "file_handler = logging.FileHandler(\n",
    "    os.path.join('./examples_vanilla_torch/log', f'{timeticks}.log'))\n",
    "logger.addHandler(console_handler)\n",
    "logger.addHandler(file_handler)"
   ]
  },
  {
   "cell_type": "code",
   "execution_count": 7,
   "metadata": {},
   "outputs": [],
   "source": [
    "import random\n",
    "import numpy as np\n",
    "\n",
    "import torch\n",
    "\n",
    "def seed_everything(seed):\n",
    "    random.seed(seed)\n",
    "    np.random.seed(seed)\n",
    "    os.environ[\"PYTHONHASHSEED\"] = str(seed)\n",
    "    torch.manual_seed(seed)\n",
    "    torch.cuda.manual_seed(seed)\n",
    "    torch.backends.cudnn.deterministic = True\n",
    "    torch.backends.cudnn.benchmark = False\n",
    "\n",
    "\n",
    "seed_everything(42)"
   ]
  },
  {
   "cell_type": "code",
   "execution_count": 8,
   "metadata": {},
   "outputs": [],
   "source": [
    "from torcheeg.model_selection import KFoldPerSubject\n",
    "\n",
    "k_fold = KFoldPerSubject(n_splits=10,\n",
    "                         split_path='./examples_vanilla_torch/split',\n",
    "                         shuffle=True)"
   ]
  },
  {
   "cell_type": "code",
   "execution_count": 9,
   "metadata": {},
   "outputs": [],
   "source": [
    "import datetime\n",
    "\n",
    "device = \"cuda\" if torch.cuda.is_available() else \"cpu\"\n",
    "\n",
    "# training process\n",
    "def train(dataloader, model, loss_fn, optimizer):\n",
    "    # Set the model to training mode - important for batch normalization and dropout layers\n",
    "    # Unnecessary in this situation but added for best practices\n",
    "    model.train()\n",
    "    total_start = datetime.datetime.now()\n",
    "    size = len(dataloader.dataset)\n",
    "\n",
    "    last_batch = 0\n",
    "    start_batch_loading = datetime.datetime.now()\n",
    "    for batch_idx, (X, y) in enumerate(dataloader):\n",
    "        start_batch_training = datetime.datetime.now()\n",
    "        batch_loading_time = (start_batch_training - start_batch_loading).total_seconds()\n",
    "  \n",
    "        X, y = X.to(device), y.to(device)\n",
    "\n",
    "        # Compute prediction and loss\n",
    "        pred, _ = model(X)\n",
    "        loss = loss_fn(pred, y)\n",
    "\n",
    "        # Backpropagation\n",
    "        optimizer.zero_grad()\n",
    "        loss.backward()\n",
    "        optimizer.step()\n",
    "        \n",
    "        batch_training_time = (datetime.datetime.now() - start_batch_training).total_seconds()\n",
    "        start_batch_loading = datetime.datetime.now()\n",
    "        if batch_idx % 100 == 0:\n",
    "            loss, current = loss.item(), batch_idx * len(X)\n",
    "            logger.info(f\"Train loss: {loss:>7f}  [{current:>5d}/{size:>5d}] training time ratio: {batch_training_time / (batch_training_time + batch_loading_time)}\")\n",
    "    last_batch += 1\n",
    "    print(f'Training time: {(datetime.datetime.now() - total_start).total_seconds()}')\n",
    "    \n",
    "    return loss\n",
    "\n",
    "# # training process\n",
    "# def train(dataloader, model, loss_fn, optimizer):\n",
    "#     size = len(dataloader.dataset)\n",
    "#     model.train()\n",
    "#     for batch_idx, (X, y) in enumerate(dataloader):\n",
    "#         X = X.to(device)\n",
    "#         y = y.to(device)\n",
    "\n",
    "#         # Compute prediction error\n",
    "#         pred, _ = model(X)\n",
    "#         loss = loss_fn(pred, y)\n",
    "\n",
    "#         # Backpropagation\n",
    "#         optimizer.zero_grad()\n",
    "#         loss.backward()\n",
    "#         optimizer.step()\n",
    "\n",
    "#         if batch_idx % 100 == 0:\n",
    "#             loss, current = loss.item(), batch_idx * len(X)\n",
    "#             logger.info(f\"Loss: {loss:>7f}  [{current:>5d}/{size:>5d}]\")\n",
    "\n",
    "#     return loss\n",
    "\n",
    "\n",
    "def valid(dataloader, model, loss_fn):\n",
    "    size = len(dataloader.dataset)\n",
    "    num_batches = len(dataloader)\n",
    "    model.eval()\n",
    "    loss, correct = 0, 0\n",
    "    with torch.no_grad():\n",
    "        for batch, (X, y) in enumerate(dataloader):\n",
    "            X, y = X.to(device), y.to(device)\n",
    "\n",
    "            pred, _ = model(X)\n",
    "            loss += loss_fn(pred, y).item()\n",
    "            correct += (pred.argmax(1) == y).type(torch.float).sum().item()\n",
    "\n",
    "    loss /= num_batches\n",
    "    correct /= size\n",
    "    logger.info(f\"Valid Error: \\n Accuracy: {(100*correct):>0.1f}%, Avg loss: {loss:>8f}\\n\")\n",
    "\n",
    "    return correct, loss\n",
    "\n",
    "# validation process\n",
    "# def valid(dataloader, model, loss_fn):\n",
    "#     size = len(dataloader.dataset)\n",
    "#     num_batches = len(dataloader)\n",
    "#     model.eval()\n",
    "#     loss, correct = 0, 0\n",
    "#     with torch.no_grad():\n",
    "#         for X, y in dataloader:\n",
    "#             X = X.to(device)\n",
    "#             y = y.to(device)\n",
    "\n",
    "#             pred, _ = model(X)\n",
    "#             loss += loss_fn(pred, y).item()\n",
    "#             correct += (pred.argmax(1) == y).type(torch.float).sum().item()\n",
    "#     loss /= num_batches\n",
    "#     correct /= size\n",
    "#     logger.info(\n",
    "#         f\"Valid Error: \\n Accuracy: {(100*correct):>0.1f}%, Avg loss: {loss:>8f} \\n\"\n",
    "#     )\n",
    "\n",
    "#     return correct, loss"
   ]
  },
  {
   "cell_type": "code",
   "execution_count": 10,
   "metadata": {},
   "outputs": [
    {
     "name": "stderr",
     "output_type": "stream",
     "text": [
      "[2024-01-24 20:50:07] INFO (torcheeg/MainThread) 📊 | Detected existing split of train and test set, use existing split from ./examples_vanilla_torch/split.\n",
      "[2024-01-24 20:50:07] INFO (torcheeg/MainThread) 💡 | If the dataset is re-generated, you need to re-generate the split of the dataset instead of using the previous split.\n",
      "[2024-01-24 20:50:08] INFO (torcheeg/MainThread) Read the split of train and test set from ./examples_vanilla_torch/split0. If you want to use the same setting for the experiment, please set split_path to ./examples_vanilla_torch/split0 for the next run.\n",
      "Train loss: 0.693170  [    0/  207] training time ratio: 0.95667170171003\n",
      "Valid Error: \n",
      " Accuracy: 51.9%, Avg loss: 0.693095\n",
      "\n",
      "Train loss: 0.692985  [    0/  207] training time ratio: 0.8576677393016665\n"
     ]
    },
    {
     "name": "stdout",
     "output_type": "stream",
     "text": [
      "Training time: 0.376825\n"
     ]
    },
    {
     "name": "stderr",
     "output_type": "stream",
     "text": [
      "Valid Error: \n",
      " Accuracy: 57.7%, Avg loss: 0.693066\n",
      "\n",
      "Train loss: 0.692736  [    0/  207] training time ratio: 0.8571428571428572\n",
      "Valid Error: \n",
      " Accuracy: 51.9%, Avg loss: 0.693120\n",
      "\n"
     ]
    },
    {
     "name": "stdout",
     "output_type": "stream",
     "text": [
      "Training time: 0.160522\n",
      "Training time: 0.157777\n"
     ]
    },
    {
     "name": "stderr",
     "output_type": "stream",
     "text": [
      "Train loss: 0.692899  [    0/  207] training time ratio: 0.8324868185556039\n",
      "Valid Error: \n",
      " Accuracy: 51.9%, Avg loss: 0.693023\n",
      "\n",
      "Train loss: 0.692880  [    0/  207] training time ratio: 0.8495970210161192\n",
      "Valid Error: \n",
      " Accuracy: 69.2%, Avg loss: 0.692562\n",
      "\n"
     ]
    },
    {
     "name": "stdout",
     "output_type": "stream",
     "text": [
      "Training time: 0.166966\n",
      "Training time: 0.153515\n"
     ]
    },
    {
     "name": "stderr",
     "output_type": "stream",
     "text": [
      "Train loss: 0.692647  [    0/  207] training time ratio: 0.8584356819650938\n",
      "Valid Error: \n",
      " Accuracy: 67.3%, Avg loss: 0.691706\n",
      "\n",
      "Train loss: 0.692074  [    0/  207] training time ratio: 0.8725566452485627\n"
     ]
    },
    {
     "name": "stdout",
     "output_type": "stream",
     "text": [
      "Training time: 0.203179\n"
     ]
    },
    {
     "name": "stderr",
     "output_type": "stream",
     "text": [
      "Valid Error: \n",
      " Accuracy: 71.2%, Avg loss: 0.691748\n",
      "\n",
      "Train loss: 0.691907  [    0/  207] training time ratio: 0.8657917975889758\n"
     ]
    },
    {
     "name": "stdout",
     "output_type": "stream",
     "text": [
      "Training time: 0.19599\n",
      "Training time: 0.168563\n"
     ]
    },
    {
     "name": "stderr",
     "output_type": "stream",
     "text": [
      "Valid Error: \n",
      " Accuracy: 65.4%, Avg loss: 0.690689\n",
      "\n",
      "Train loss: 0.691238  [    0/  207] training time ratio: 0.8272049429746114\n",
      "Valid Error: \n",
      " Accuracy: 63.5%, Avg loss: 0.689635\n",
      "\n",
      "Train loss: 0.688595  [    0/  207] training time ratio: 0.8592908666057095\n",
      "Valid Error: \n",
      " Accuracy: 63.5%, Avg loss: 0.691075\n",
      "\n"
     ]
    },
    {
     "name": "stdout",
     "output_type": "stream",
     "text": [
      "Training time: 0.156635\n",
      "Training time: 0.164131\n"
     ]
    },
    {
     "name": "stderr",
     "output_type": "stream",
     "text": [
      "Train loss: 0.690586  [    0/  207] training time ratio: 0.8548672160121192\n",
      "Valid Error: \n",
      " Accuracy: 53.8%, Avg loss: 0.692852\n",
      "\n",
      "Train loss: 0.692759  [    0/  207] training time ratio: 0.8655734579082849\n"
     ]
    },
    {
     "name": "stdout",
     "output_type": "stream",
     "text": [
      "Training time: 0.170462\n",
      "Training time: 0.16813\n"
     ]
    },
    {
     "name": "stderr",
     "output_type": "stream",
     "text": [
      "Valid Error: \n",
      " Accuracy: 71.2%, Avg loss: 0.691575\n",
      "\n",
      "Train loss: 0.692879  [    0/  207] training time ratio: 0.8332567542731115\n",
      "Valid Error: \n",
      " Accuracy: 50.0%, Avg loss: 0.693655\n",
      "\n",
      "Train loss: 0.690282  [    0/  207] training time ratio: 0.8614302694136291\n",
      "Valid Error: \n",
      " Accuracy: 48.1%, Avg loss: 0.692895\n",
      "\n"
     ]
    },
    {
     "name": "stdout",
     "output_type": "stream",
     "text": [
      "Training time: 0.160175\n",
      "Training time: 0.159284\n"
     ]
    },
    {
     "name": "stderr",
     "output_type": "stream",
     "text": [
      "Train loss: 0.693298  [    0/  207] training time ratio: 0.8595871262105522\n",
      "Valid Error: \n",
      " Accuracy: 40.4%, Avg loss: 0.693150\n",
      "\n",
      "Train loss: 0.693143  [    0/  207] training time ratio: 0.8506800565495052\n",
      "Valid Error: \n",
      " Accuracy: 40.4%, Avg loss: 0.693560\n",
      "\n"
     ]
    },
    {
     "name": "stdout",
     "output_type": "stream",
     "text": [
      "Training time: 0.168521\n",
      "Training time: 0.161697\n"
     ]
    },
    {
     "name": "stderr",
     "output_type": "stream",
     "text": [
      "Train loss: 0.692701  [    0/  207] training time ratio: 0.8495062753783684\n",
      "Valid Error: \n",
      " Accuracy: 42.3%, Avg loss: 0.693154\n",
      "\n",
      "Train loss: 0.693140  [    0/  207] training time ratio: 0.8553948553698328\n",
      "Valid Error: \n",
      " Accuracy: 55.8%, Avg loss: 0.692678\n",
      "\n"
     ]
    },
    {
     "name": "stdout",
     "output_type": "stream",
     "text": [
      "Training time: 0.159598\n",
      "Training time: 0.156767\n"
     ]
    },
    {
     "name": "stderr",
     "output_type": "stream",
     "text": [
      "Train loss: 0.693210  [    0/  207] training time ratio: 0.8646674882468393\n",
      "Valid Error: \n",
      " Accuracy: 57.7%, Avg loss: 0.693088\n",
      "\n",
      "Train loss: 0.693019  [    0/  207] training time ratio: 0.8563371920451173\n",
      "Valid Error: \n",
      " Accuracy: 59.6%, Avg loss: 0.693129\n",
      "\n"
     ]
    },
    {
     "name": "stdout",
     "output_type": "stream",
     "text": [
      "Training time: 0.167544\n",
      "Training time: 0.157092\n"
     ]
    },
    {
     "name": "stderr",
     "output_type": "stream",
     "text": [
      "Train loss: 0.693099  [    0/  207] training time ratio: 0.8678264699405417\n",
      "Valid Error: \n",
      " Accuracy: 50.0%, Avg loss: 0.693145\n",
      "\n",
      "Train loss: 0.693171  [    0/  207] training time ratio: 0.860265378774677\n",
      "Valid Error: \n",
      " Accuracy: 51.9%, Avg loss: 0.693136\n",
      "\n"
     ]
    },
    {
     "name": "stdout",
     "output_type": "stream",
     "text": [
      "Training time: 0.168553\n",
      "Training time: 0.164405\n"
     ]
    },
    {
     "name": "stderr",
     "output_type": "stream",
     "text": [
      "Train loss: 0.693097  [    0/  207] training time ratio: 0.8401518747033697\n",
      "Valid Error: \n",
      " Accuracy: 48.1%, Avg loss: 0.693280\n",
      "\n",
      "Train loss: 0.693168  [    0/  207] training time ratio: 0.8457836623021302\n",
      "Valid Error: \n",
      " Accuracy: 57.7%, Avg loss: 0.693138\n",
      "\n"
     ]
    },
    {
     "name": "stdout",
     "output_type": "stream",
     "text": [
      "Training time: 0.166368\n",
      "Training time: 0.156286\n"
     ]
    },
    {
     "name": "stderr",
     "output_type": "stream",
     "text": [
      "Train loss: 0.693141  [    0/  207] training time ratio: 0.8775206683872097\n",
      "Valid Error: \n",
      " Accuracy: 61.5%, Avg loss: 0.693126\n",
      "\n",
      "Train loss: 0.693137  [    0/  207] training time ratio: 0.8479692136498516\n",
      "Valid Error: \n",
      " Accuracy: 67.3%, Avg loss: 0.693091\n",
      "\n"
     ]
    },
    {
     "name": "stdout",
     "output_type": "stream",
     "text": [
      "Training time: 0.171895\n",
      "Training time: 0.163349\n"
     ]
    },
    {
     "name": "stderr",
     "output_type": "stream",
     "text": [
      "Train loss: 0.693068  [    0/  207] training time ratio: 0.8481074881205964\n",
      "Valid Error: \n",
      " Accuracy: 71.2%, Avg loss: 0.692999\n",
      "\n",
      "Train loss: 0.693081  [    0/  207] training time ratio: 0.8576991844032428\n",
      "Valid Error: \n",
      " Accuracy: 71.2%, Avg loss: 0.692934\n",
      "\n"
     ]
    },
    {
     "name": "stdout",
     "output_type": "stream",
     "text": [
      "Training time: 0.161452\n",
      "Training time: 0.15793\n"
     ]
    },
    {
     "name": "stderr",
     "output_type": "stream",
     "text": [
      "Train loss: 0.692966  [    0/  207] training time ratio: 0.8570774384806344\n",
      "Valid Error: \n",
      " Accuracy: 73.1%, Avg loss: 0.692831\n",
      "\n",
      "Train loss: 0.692896  [    0/  207] training time ratio: 0.839005439005439\n"
     ]
    },
    {
     "name": "stdout",
     "output_type": "stream",
     "text": [
      "Training time: 0.162945\n",
      "Training time: 0.167937\n"
     ]
    },
    {
     "name": "stderr",
     "output_type": "stream",
     "text": [
      "Valid Error: \n",
      " Accuracy: 65.4%, Avg loss: 0.692908\n",
      "\n",
      "Train loss: 0.693021  [    0/  207] training time ratio: 0.841974788933324\n",
      "Valid Error: \n",
      " Accuracy: 63.5%, Avg loss: 0.692700\n",
      "\n",
      "Train loss: 0.692838  [    0/  207] training time ratio: 0.8622390481341266\n"
     ]
    },
    {
     "name": "stdout",
     "output_type": "stream",
     "text": [
      "Training time: 0.171721\n",
      "Training time: 0.171193\n"
     ]
    },
    {
     "name": "stderr",
     "output_type": "stream",
     "text": [
      "Valid Error: \n",
      " Accuracy: 67.3%, Avg loss: 0.693016\n",
      "\n",
      "Train loss: 0.693023  [    0/  207] training time ratio: 0.8545926572623259\n",
      "Valid Error: \n",
      " Accuracy: 48.1%, Avg loss: 0.693146\n",
      "\n",
      "Train loss: 0.693145  [    0/  207] training time ratio: 0.8169386347965985\n",
      "Valid Error: \n",
      " Accuracy: 46.2%, Avg loss: 0.693162\n",
      "\n"
     ]
    },
    {
     "name": "stdout",
     "output_type": "stream",
     "text": [
      "Training time: 0.164171\n",
      "Training time: 0.16218\n"
     ]
    },
    {
     "name": "stderr",
     "output_type": "stream",
     "text": [
      "Train loss: 0.693133  [    0/  207] training time ratio: 0.843266253869969\n",
      "Valid Error: \n",
      " Accuracy: 48.1%, Avg loss: 0.693127\n",
      "\n",
      "Train loss: 0.693095  [    0/  207] training time ratio: 0.8606196221366121\n",
      "Valid Error: \n",
      " Accuracy: 59.6%, Avg loss: 0.693075\n",
      "\n"
     ]
    },
    {
     "name": "stdout",
     "output_type": "stream",
     "text": [
      "Training time: 0.170136\n",
      "Training time: 0.158094\n"
     ]
    },
    {
     "name": "stderr",
     "output_type": "stream",
     "text": [
      "Train loss: 0.693055  [    0/  207] training time ratio: 0.8347476452816776\n",
      "Valid Error: \n",
      " Accuracy: 63.5%, Avg loss: 0.693054\n",
      "\n",
      "Train loss: 0.693097  [    0/  207] training time ratio: 0.8630205469179624\n",
      "Valid Error: \n",
      " Accuracy: 63.5%, Avg loss: 0.693019\n",
      "\n"
     ]
    },
    {
     "name": "stdout",
     "output_type": "stream",
     "text": [
      "Training time: 0.172413\n",
      "Training time: 0.156874\n"
     ]
    },
    {
     "name": "stderr",
     "output_type": "stream",
     "text": [
      "Train loss: 0.692988  [    0/  207] training time ratio: 0.8588415713106051\n",
      "Valid Error: \n",
      " Accuracy: 63.5%, Avg loss: 0.692901\n",
      "\n",
      "Train loss: 0.692845  [    0/  207] training time ratio: 0.8489313920920492\n",
      "Valid Error: \n",
      " Accuracy: 61.5%, Avg loss: 0.692750\n",
      "\n"
     ]
    },
    {
     "name": "stdout",
     "output_type": "stream",
     "text": [
      "Training time: 0.169334\n",
      "Training time: 0.153516\n"
     ]
    },
    {
     "name": "stderr",
     "output_type": "stream",
     "text": [
      "Train loss: 0.692940  [    0/  207] training time ratio: 0.8576544099975968\n",
      "Valid Error: \n",
      " Accuracy: 61.5%, Avg loss: 0.692882\n",
      "\n",
      "Train loss: 0.692894  [    0/  207] training time ratio: 0.8487372955989813\n",
      "Valid Error: \n",
      " Accuracy: 73.1%, Avg loss: 0.692417\n",
      "\n"
     ]
    },
    {
     "name": "stdout",
     "output_type": "stream",
     "text": [
      "Training time: 0.162832\n",
      "Training time: 0.159146\n"
     ]
    },
    {
     "name": "stderr",
     "output_type": "stream",
     "text": [
      "Train loss: 0.692553  [    0/  207] training time ratio: 0.8585054858159533\n",
      "Valid Error: \n",
      " Accuracy: 63.5%, Avg loss: 0.690513\n",
      "\n",
      "Train loss: 0.691118  [    0/  207] training time ratio: 0.8524581803345573\n",
      "Valid Error: \n",
      " Accuracy: 59.6%, Avg loss: 0.692674\n",
      "\n"
     ]
    },
    {
     "name": "stdout",
     "output_type": "stream",
     "text": [
      "Training time: 0.155096\n",
      "Training time: 0.152085\n"
     ]
    },
    {
     "name": "stderr",
     "output_type": "stream",
     "text": [
      "Train loss: 0.692639  [    0/  207] training time ratio: 0.8621593652983788\n",
      "Valid Error: \n",
      " Accuracy: 61.5%, Avg loss: 0.693144\n",
      "\n",
      "Train loss: 0.693143  [    0/  207] training time ratio: 0.8555373566838855\n",
      "Valid Error: \n",
      " Accuracy: 51.9%, Avg loss: 0.693147\n",
      "\n"
     ]
    },
    {
     "name": "stdout",
     "output_type": "stream",
     "text": [
      "Training time: 0.15769\n",
      "Training time: 0.153943\n"
     ]
    },
    {
     "name": "stderr",
     "output_type": "stream",
     "text": [
      "Train loss: 0.693148  [    0/  207] training time ratio: 0.8589271231606999\n",
      "Valid Error: \n",
      " Accuracy: 46.2%, Avg loss: 0.693150\n",
      "\n",
      "Train loss: 0.693139  [    0/  207] training time ratio: 0.8577312157327087\n",
      "Valid Error: \n",
      " Accuracy: 44.2%, Avg loss: 0.693151\n",
      "\n"
     ]
    },
    {
     "name": "stdout",
     "output_type": "stream",
     "text": [
      "Training time: 0.160313\n",
      "Training time: 0.15251\n"
     ]
    },
    {
     "name": "stderr",
     "output_type": "stream",
     "text": [
      "Train loss: 0.693151  [    0/  207] training time ratio: 0.8472204903109959\n",
      "Valid Error: \n",
      " Accuracy: 51.9%, Avg loss: 0.693147\n",
      "\n",
      "Train loss: 0.693147  [    0/  207] training time ratio: 0.8510934025203856\n",
      "Valid Error: \n",
      " Accuracy: 55.8%, Avg loss: 0.693147\n",
      "\n"
     ]
    },
    {
     "name": "stdout",
     "output_type": "stream",
     "text": [
      "Training time: 0.154213\n",
      "Training time: 0.156794\n"
     ]
    },
    {
     "name": "stderr",
     "output_type": "stream",
     "text": [
      "Valid Error: \n",
      " Accuracy: 58.6%, Avg loss: 0.692441\n",
      "\n",
      "Test Error 0: \n",
      " Accuracy: 58.6%, Avg loss: 0.692441\n",
      "[2024-01-24 20:50:17] INFO (torcheeg/MainThread) Read the split of train and test set from ./examples_vanilla_torch/split1. If you want to use the same setting for the experiment, please set split_path to ./examples_vanilla_torch/split1 for the next run.\n",
      "Train loss: 0.693194  [    0/  207] training time ratio: 0.8477651288196526\n",
      "Valid Error: \n",
      " Accuracy: 50.0%, Avg loss: 0.693320\n",
      "\n",
      "Train loss: 0.692966  [    0/  207] training time ratio: 0.8358140874825948\n"
     ]
    },
    {
     "name": "stdout",
     "output_type": "stream",
     "text": [
      "Training time: 0.158052\n",
      "Training time: 0.162819\n"
     ]
    },
    {
     "name": "stderr",
     "output_type": "stream",
     "text": [
      "Valid Error: \n",
      " Accuracy: 50.0%, Avg loss: 0.693329\n",
      "\n",
      "Train loss: 0.693135  [    0/  207] training time ratio: 0.8341082043809128\n",
      "Valid Error: \n",
      " Accuracy: 46.2%, Avg loss: 0.693388\n",
      "\n",
      "Train loss: 0.692762  [    0/  207] training time ratio: 0.8583060296347009\n",
      "Valid Error: \n",
      " Accuracy: 46.2%, Avg loss: 0.693611\n",
      "\n"
     ]
    },
    {
     "name": "stdout",
     "output_type": "stream",
     "text": [
      "Training time: 0.160906\n",
      "Training time: 0.159342\n"
     ]
    },
    {
     "name": "stderr",
     "output_type": "stream",
     "text": [
      "Train loss: 0.692140  [    0/  207] training time ratio: 0.8650224105415268\n",
      "Valid Error: \n",
      " Accuracy: 50.0%, Avg loss: 0.693133\n",
      "\n",
      "Train loss: 0.693144  [    0/  207] training time ratio: 0.8573988735279058\n",
      "Valid Error: \n",
      " Accuracy: 46.2%, Avg loss: 0.693033\n",
      "\n"
     ]
    },
    {
     "name": "stdout",
     "output_type": "stream",
     "text": [
      "Training time: 0.155488\n",
      "Training time: 0.157938\n"
     ]
    },
    {
     "name": "stderr",
     "output_type": "stream",
     "text": [
      "Train loss: 0.692402  [    0/  207] training time ratio: 0.8608649839551702\n",
      "Valid Error: \n",
      " Accuracy: 50.0%, Avg loss: 0.692645\n",
      "\n",
      "Train loss: 0.693142  [    0/  207] training time ratio: 0.8594496464742977\n",
      "Valid Error: \n",
      " Accuracy: 55.8%, Avg loss: 0.693148\n",
      "\n"
     ]
    },
    {
     "name": "stdout",
     "output_type": "stream",
     "text": [
      "Training time: 0.173774\n",
      "Training time: 0.157848\n"
     ]
    },
    {
     "name": "stderr",
     "output_type": "stream",
     "text": [
      "Train loss: 0.693134  [    0/  207] training time ratio: 0.8421569722005136\n",
      "Valid Error: \n",
      " Accuracy: 50.0%, Avg loss: 0.693104\n",
      "\n",
      "Train loss: 0.693144  [    0/  207] training time ratio: 0.8607432074472111\n",
      "Valid Error: \n",
      " Accuracy: 48.1%, Avg loss: 0.693199\n",
      "\n"
     ]
    },
    {
     "name": "stdout",
     "output_type": "stream",
     "text": [
      "Training time: 0.16564\n",
      "Training time: 0.155595\n"
     ]
    },
    {
     "name": "stderr",
     "output_type": "stream",
     "text": [
      "Train loss: 0.692665  [    0/  207] training time ratio: 0.8617865546993956\n",
      "Valid Error: \n",
      " Accuracy: 51.9%, Avg loss: 0.693148\n",
      "\n",
      "Train loss: 0.693147  [    0/  207] training time ratio: 0.8547599277096664\n",
      "Valid Error: \n",
      " Accuracy: 51.9%, Avg loss: 0.693146\n",
      "\n"
     ]
    },
    {
     "name": "stdout",
     "output_type": "stream",
     "text": [
      "Training time: 0.168425\n",
      "Training time: 0.16031\n"
     ]
    },
    {
     "name": "stderr",
     "output_type": "stream",
     "text": [
      "Train loss: 0.693158  [    0/  207] training time ratio: 0.8564756433608893\n",
      "Valid Error: \n",
      " Accuracy: 50.0%, Avg loss: 0.693153\n",
      "\n",
      "Train loss: 0.693159  [    0/  207] training time ratio: 0.8584278356747347\n",
      "Valid Error: \n",
      " Accuracy: 48.1%, Avg loss: 0.693443\n",
      "\n"
     ]
    },
    {
     "name": "stdout",
     "output_type": "stream",
     "text": [
      "Training time: 0.166675\n",
      "Training time: 0.159227\n"
     ]
    },
    {
     "name": "stderr",
     "output_type": "stream",
     "text": [
      "Train loss: 0.693221  [    0/  207] training time ratio: 0.8489423250768395\n",
      "Valid Error: \n",
      " Accuracy: 50.0%, Avg loss: 0.693082\n",
      "\n",
      "Train loss: 0.693238  [    0/  207] training time ratio: 0.8463377890432578\n",
      "Valid Error: \n",
      " Accuracy: 55.8%, Avg loss: 0.692906\n",
      "\n"
     ]
    },
    {
     "name": "stdout",
     "output_type": "stream",
     "text": [
      "Training time: 0.163097\n",
      "Training time: 0.159846\n"
     ]
    },
    {
     "name": "stderr",
     "output_type": "stream",
     "text": [
      "Train loss: 0.693566  [    0/  207] training time ratio: 0.8544469726948951\n",
      "Valid Error: \n",
      " Accuracy: 50.0%, Avg loss: 0.693047\n",
      "\n",
      "Train loss: 0.693137  [    0/  207] training time ratio: 0.8587866888684544\n",
      "Valid Error: \n",
      " Accuracy: 50.0%, Avg loss: 0.693141\n",
      "\n"
     ]
    },
    {
     "name": "stdout",
     "output_type": "stream",
     "text": [
      "Training time: 0.157691\n",
      "Training time: 0.156212\n"
     ]
    },
    {
     "name": "stderr",
     "output_type": "stream",
     "text": [
      "Train loss: 0.693138  [    0/  207] training time ratio: 0.8628962743032276\n",
      "Valid Error: \n",
      " Accuracy: 50.0%, Avg loss: 0.693135\n",
      "\n",
      "Train loss: 0.693057  [    0/  207] training time ratio: 0.8577157802964254\n",
      "Valid Error: \n",
      " Accuracy: 50.0%, Avg loss: 0.692799\n",
      "\n"
     ]
    },
    {
     "name": "stdout",
     "output_type": "stream",
     "text": [
      "Training time: 0.158195\n",
      "Training time: 0.154297\n"
     ]
    },
    {
     "name": "stderr",
     "output_type": "stream",
     "text": [
      "Train loss: 0.693166  [    0/  207] training time ratio: 0.8693515066606511\n",
      "Valid Error: \n",
      " Accuracy: 50.0%, Avg loss: 0.693070\n",
      "\n",
      "Train loss: 0.693103  [    0/  207] training time ratio: 0.8494421062934325\n",
      "Valid Error: \n",
      " Accuracy: 46.2%, Avg loss: 0.693148\n",
      "\n"
     ]
    },
    {
     "name": "stdout",
     "output_type": "stream",
     "text": [
      "Training time: 0.158937\n",
      "Training time: 0.160239\n"
     ]
    },
    {
     "name": "stderr",
     "output_type": "stream",
     "text": [
      "Train loss: 0.693147  [    0/  207] training time ratio: 0.8595101032465565\n",
      "Valid Error: \n",
      " Accuracy: 46.2%, Avg loss: 0.693148\n",
      "\n",
      "Train loss: 0.693147  [    0/  207] training time ratio: 0.8548260271279733\n",
      "Valid Error: \n",
      " Accuracy: 50.0%, Avg loss: 0.693149\n",
      "\n"
     ]
    },
    {
     "name": "stdout",
     "output_type": "stream",
     "text": [
      "Training time: 0.163647\n",
      "Training time: 0.154666\n"
     ]
    },
    {
     "name": "stderr",
     "output_type": "stream",
     "text": [
      "Train loss: 0.693136  [    0/  207] training time ratio: 0.8752491623902625\n",
      "Valid Error: \n",
      " Accuracy: 50.0%, Avg loss: 0.693171\n",
      "\n",
      "Train loss: 0.693143  [    0/  207] training time ratio: 0.8615209426675908\n",
      "Valid Error: \n",
      " Accuracy: 50.0%, Avg loss: 0.693157\n",
      "\n"
     ]
    },
    {
     "name": "stdout",
     "output_type": "stream",
     "text": [
      "Training time: 0.169456\n",
      "Training time: 0.156514\n"
     ]
    },
    {
     "name": "stderr",
     "output_type": "stream",
     "text": [
      "Train loss: 0.693159  [    0/  207] training time ratio: 0.8621761417669844\n",
      "Valid Error: \n",
      " Accuracy: 48.1%, Avg loss: 0.693149\n",
      "\n",
      "Train loss: 0.693147  [    0/  207] training time ratio: 0.8400593105152602\n",
      "Valid Error: \n",
      " Accuracy: 48.1%, Avg loss: 0.693148\n",
      "\n"
     ]
    },
    {
     "name": "stdout",
     "output_type": "stream",
     "text": [
      "Training time: 0.164268\n",
      "Training time: 0.156699\n"
     ]
    },
    {
     "name": "stderr",
     "output_type": "stream",
     "text": [
      "Train loss: 0.693147  [    0/  207] training time ratio: 0.8801236104553843\n",
      "Valid Error: \n",
      " Accuracy: 48.1%, Avg loss: 0.693147\n",
      "\n",
      "Train loss: 0.693148  [    0/  207] training time ratio: 0.8602980963156083\n",
      "Valid Error: \n",
      " Accuracy: 51.9%, Avg loss: 0.693150\n",
      "\n"
     ]
    },
    {
     "name": "stdout",
     "output_type": "stream",
     "text": [
      "Training time: 0.165954\n",
      "Training time: 0.158183\n"
     ]
    },
    {
     "name": "stderr",
     "output_type": "stream",
     "text": [
      "Train loss: 0.693146  [    0/  207] training time ratio: 0.8600136705399865\n",
      "Valid Error: \n",
      " Accuracy: 51.9%, Avg loss: 0.693148\n",
      "\n",
      "Train loss: 0.693147  [    0/  207] training time ratio: 0.8580678826403547\n",
      "Valid Error: \n",
      " Accuracy: 55.8%, Avg loss: 0.693148\n",
      "\n"
     ]
    },
    {
     "name": "stdout",
     "output_type": "stream",
     "text": [
      "Training time: 0.167631\n",
      "Training time: 0.160155\n"
     ]
    },
    {
     "name": "stderr",
     "output_type": "stream",
     "text": [
      "Train loss: 0.693146  [    0/  207] training time ratio: 0.8434418382000958\n",
      "Valid Error: \n",
      " Accuracy: 50.0%, Avg loss: 0.693147\n",
      "\n",
      "Train loss: 0.693146  [    0/  207] training time ratio: 0.8584729076014294\n",
      "Valid Error: \n",
      " Accuracy: 48.1%, Avg loss: 0.693147\n",
      "\n"
     ]
    },
    {
     "name": "stdout",
     "output_type": "stream",
     "text": [
      "Training time: 0.159852\n",
      "Training time: 0.159564\n"
     ]
    },
    {
     "name": "stderr",
     "output_type": "stream",
     "text": [
      "Train loss: 0.693147  [    0/  207] training time ratio: 0.8582766990291263\n",
      "Valid Error: \n",
      " Accuracy: 44.2%, Avg loss: 0.693147\n",
      "\n",
      "Train loss: 0.693147  [    0/  207] training time ratio: 0.859427630429901\n",
      "Valid Error: \n",
      " Accuracy: 46.2%, Avg loss: 0.693147\n",
      "\n"
     ]
    },
    {
     "name": "stdout",
     "output_type": "stream",
     "text": [
      "Training time: 0.158525\n",
      "Training time: 0.15566\n"
     ]
    },
    {
     "name": "stderr",
     "output_type": "stream",
     "text": [
      "Train loss: 0.693147  [    0/  207] training time ratio: 0.8656019886496881\n",
      "Valid Error: \n",
      " Accuracy: 48.1%, Avg loss: 0.693147\n",
      "\n",
      "Train loss: 0.693147  [    0/  207] training time ratio: 0.8661450956588206\n",
      "Valid Error: \n",
      " Accuracy: 46.2%, Avg loss: 0.693148\n",
      "\n"
     ]
    },
    {
     "name": "stdout",
     "output_type": "stream",
     "text": [
      "Training time: 0.159496\n",
      "Training time: 0.162568\n"
     ]
    },
    {
     "name": "stderr",
     "output_type": "stream",
     "text": [
      "Train loss: 0.693147  [    0/  207] training time ratio: 0.8532742491383555\n",
      "Valid Error: \n",
      " Accuracy: 46.2%, Avg loss: 0.693147\n",
      "\n",
      "Train loss: 0.693147  [    0/  207] training time ratio: 0.8545914533340013\n",
      "Valid Error: \n",
      " Accuracy: 48.1%, Avg loss: 0.693148\n",
      "\n"
     ]
    },
    {
     "name": "stdout",
     "output_type": "stream",
     "text": [
      "Training time: 0.161004\n",
      "Training time: 0.155198\n"
     ]
    },
    {
     "name": "stderr",
     "output_type": "stream",
     "text": [
      "Train loss: 0.693147  [    0/  207] training time ratio: 0.8677889207258834\n",
      "Valid Error: \n",
      " Accuracy: 50.0%, Avg loss: 0.693148\n",
      "\n",
      "Train loss: 0.693147  [    0/  207] training time ratio: 0.8167947904177539\n",
      "Valid Error: \n",
      " Accuracy: 51.9%, Avg loss: 0.693147\n",
      "\n"
     ]
    },
    {
     "name": "stdout",
     "output_type": "stream",
     "text": [
      "Training time: 0.163421\n",
      "Training time: 0.15808\n"
     ]
    },
    {
     "name": "stderr",
     "output_type": "stream",
     "text": [
      "Train loss: 0.693147  [    0/  207] training time ratio: 0.8455373492829794\n",
      "Valid Error: \n",
      " Accuracy: 51.9%, Avg loss: 0.693147\n",
      "\n",
      "Train loss: 0.693147  [    0/  207] training time ratio: 0.8568642838458063\n",
      "Valid Error: \n",
      " Accuracy: 51.9%, Avg loss: 0.693147\n",
      "\n"
     ]
    },
    {
     "name": "stdout",
     "output_type": "stream",
     "text": [
      "Training time: 0.161644\n",
      "Training time: 0.158598\n"
     ]
    },
    {
     "name": "stderr",
     "output_type": "stream",
     "text": [
      "Train loss: 0.693147  [    0/  207] training time ratio: 0.8679626821085528\n",
      "Valid Error: \n",
      " Accuracy: 50.0%, Avg loss: 0.693147\n",
      "\n",
      "Train loss: 0.693147  [    0/  207] training time ratio: 0.8622101289405305\n",
      "Valid Error: \n",
      " Accuracy: 50.0%, Avg loss: 0.693147\n",
      "\n"
     ]
    },
    {
     "name": "stdout",
     "output_type": "stream",
     "text": [
      "Training time: 0.175781\n",
      "Training time: 0.158052\n"
     ]
    },
    {
     "name": "stderr",
     "output_type": "stream",
     "text": [
      "Train loss: 0.693147  [    0/  207] training time ratio: 0.865867818494264\n",
      "Valid Error: \n",
      " Accuracy: 50.0%, Avg loss: 0.693147\n",
      "\n",
      "Train loss: 0.693147  [    0/  207] training time ratio: 0.8657973246078337\n",
      "Valid Error: \n",
      " Accuracy: 50.0%, Avg loss: 0.693148\n",
      "\n"
     ]
    },
    {
     "name": "stdout",
     "output_type": "stream",
     "text": [
      "Training time: 0.163959\n",
      "Training time: 0.158158\n"
     ]
    },
    {
     "name": "stderr",
     "output_type": "stream",
     "text": [
      "Train loss: 0.693147  [    0/  207] training time ratio: 0.8716657126502576\n",
      "Valid Error: \n",
      " Accuracy: 44.2%, Avg loss: 0.693148\n",
      "\n",
      "Train loss: 0.693147  [    0/  207] training time ratio: 0.8585520060848071\n",
      "Valid Error: \n",
      " Accuracy: 46.2%, Avg loss: 0.693148\n",
      "\n"
     ]
    },
    {
     "name": "stdout",
     "output_type": "stream",
     "text": [
      "Training time: 0.163831\n",
      "Training time: 0.158597\n"
     ]
    },
    {
     "name": "stderr",
     "output_type": "stream",
     "text": [
      "Valid Error: \n",
      " Accuracy: 51.7%, Avg loss: 0.693142\n",
      "\n",
      "Test Error 1: \n",
      " Accuracy: 51.7%, Avg loss: 0.693142\n",
      "[2024-01-24 20:50:26] INFO (torcheeg/MainThread) Read the split of train and test set from ./examples_vanilla_torch/split2. If you want to use the same setting for the experiment, please set split_path to ./examples_vanilla_torch/split2 for the next run.\n",
      "Train loss: 0.693163  [    0/  207] training time ratio: 0.8533706191120178\n",
      "Valid Error: \n",
      " Accuracy: 51.9%, Avg loss: 0.693153\n",
      "\n",
      "Train loss: 0.693071  [    0/  207] training time ratio: 0.8268645447467146\n"
     ]
    },
    {
     "name": "stdout",
     "output_type": "stream",
     "text": [
      "Training time: 0.174238\n",
      "Training time: 0.160045\n"
     ]
    },
    {
     "name": "stderr",
     "output_type": "stream",
     "text": [
      "Valid Error: \n",
      " Accuracy: 36.5%, Avg loss: 0.693196\n",
      "\n",
      "Train loss: 0.693030  [    0/  207] training time ratio: 0.8637327551287854\n",
      "Valid Error: \n",
      " Accuracy: 36.5%, Avg loss: 0.693311\n",
      "\n",
      "Train loss: 0.692828  [    0/  207] training time ratio: 0.8578437296082365\n",
      "Valid Error: \n",
      " Accuracy: 44.2%, Avg loss: 0.693265\n",
      "\n"
     ]
    },
    {
     "name": "stdout",
     "output_type": "stream",
     "text": [
      "Training time: 0.161638\n",
      "Training time: 0.162653\n"
     ]
    },
    {
     "name": "stderr",
     "output_type": "stream",
     "text": [
      "Train loss: 0.692930  [    0/  207] training time ratio: 0.855899715421341\n",
      "Valid Error: \n",
      " Accuracy: 48.1%, Avg loss: 0.693465\n",
      "\n",
      "Train loss: 0.692422  [    0/  207] training time ratio: 0.8688426015008659\n",
      "Valid Error: \n",
      " Accuracy: 50.0%, Avg loss: 0.693214\n",
      "\n"
     ]
    },
    {
     "name": "stdout",
     "output_type": "stream",
     "text": [
      "Training time: 0.164153\n",
      "Training time: 0.158128\n"
     ]
    },
    {
     "name": "stderr",
     "output_type": "stream",
     "text": [
      "Train loss: 0.692995  [    0/  207] training time ratio: 0.8640757012504225\n",
      "Valid Error: \n",
      " Accuracy: 59.6%, Avg loss: 0.692122\n",
      "\n",
      "Train loss: 0.693410  [    0/  207] training time ratio: 0.8522198731501057\n"
     ]
    },
    {
     "name": "stdout",
     "output_type": "stream",
     "text": [
      "Training time: 0.162262\n",
      "Training time: 0.159801\n"
     ]
    },
    {
     "name": "stderr",
     "output_type": "stream",
     "text": [
      "Valid Error: \n",
      " Accuracy: 57.7%, Avg loss: 0.693063\n",
      "\n",
      "Train loss: 0.693189  [    0/  207] training time ratio: 0.905571340744064\n",
      "Valid Error: \n",
      " Accuracy: 46.2%, Avg loss: 0.693274\n",
      "\n",
      "Train loss: 0.693104  [    0/  207] training time ratio: 0.8646835677276091\n",
      "Valid Error: \n",
      " Accuracy: 55.8%, Avg loss: 0.692530\n",
      "\n"
     ]
    },
    {
     "name": "stdout",
     "output_type": "stream",
     "text": [
      "Training time: 0.178502\n",
      "Training time: 0.163809\n"
     ]
    },
    {
     "name": "stderr",
     "output_type": "stream",
     "text": [
      "Train loss: 0.693196  [    0/  207] training time ratio: 0.8535397376543209\n",
      "Valid Error: \n",
      " Accuracy: 57.7%, Avg loss: 0.692087\n",
      "\n",
      "Train loss: 0.692606  [    0/  207] training time ratio: 0.8283327732706063\n",
      "Valid Error: \n",
      " Accuracy: 46.2%, Avg loss: 0.693166\n",
      "\n"
     ]
    },
    {
     "name": "stdout",
     "output_type": "stream",
     "text": [
      "Training time: 0.158521\n",
      "Training time: 0.160482\n"
     ]
    },
    {
     "name": "stderr",
     "output_type": "stream",
     "text": [
      "Train loss: 0.693141  [    0/  207] training time ratio: 0.8430455753519047\n",
      "Valid Error: \n",
      " Accuracy: 51.9%, Avg loss: 0.693123\n",
      "\n",
      "Train loss: 0.693150  [    0/  207] training time ratio: 0.8595427530674847\n",
      "Valid Error: \n",
      " Accuracy: 40.4%, Avg loss: 0.693153\n",
      "\n"
     ]
    },
    {
     "name": "stdout",
     "output_type": "stream",
     "text": [
      "Training time: 0.161287\n",
      "Training time: 0.161246\n"
     ]
    },
    {
     "name": "stderr",
     "output_type": "stream",
     "text": [
      "Train loss: 0.693146  [    0/  207] training time ratio: 0.8534544757155871\n",
      "Valid Error: \n",
      " Accuracy: 42.3%, Avg loss: 0.693157\n",
      "\n",
      "Train loss: 0.693132  [    0/  207] training time ratio: 0.8552385462294305\n",
      "Valid Error: \n",
      " Accuracy: 44.2%, Avg loss: 0.693169\n",
      "\n"
     ]
    },
    {
     "name": "stdout",
     "output_type": "stream",
     "text": [
      "Training time: 0.159772\n",
      "Training time: 0.160142\n"
     ]
    },
    {
     "name": "stderr",
     "output_type": "stream",
     "text": [
      "Train loss: 0.693132  [    0/  207] training time ratio: 0.8712050112403693\n",
      "Valid Error: \n",
      " Accuracy: 42.3%, Avg loss: 0.693129\n",
      "\n",
      "Train loss: 0.693017  [    0/  207] training time ratio: 0.8662478534008652\n"
     ]
    },
    {
     "name": "stdout",
     "output_type": "stream",
     "text": [
      "Training time: 0.17019\n",
      "Training time: 0.179658\n"
     ]
    },
    {
     "name": "stderr",
     "output_type": "stream",
     "text": [
      "Valid Error: \n",
      " Accuracy: 48.1%, Avg loss: 0.693154\n",
      "\n",
      "Train loss: 0.693141  [    0/  207] training time ratio: 0.8007548322352633\n",
      "Valid Error: \n",
      " Accuracy: 42.3%, Avg loss: 0.693218\n",
      "\n",
      "Train loss: 0.693170  [    0/  207] training time ratio: 0.8618649638463706\n",
      "Valid Error: \n",
      " Accuracy: 53.8%, Avg loss: 0.693052\n",
      "\n"
     ]
    },
    {
     "name": "stdout",
     "output_type": "stream",
     "text": [
      "Training time: 0.172386\n",
      "Training time: 0.164531\n"
     ]
    },
    {
     "name": "stderr",
     "output_type": "stream",
     "text": [
      "Train loss: 0.693103  [    0/  207] training time ratio: 0.850041907245297\n",
      "Valid Error: \n",
      " Accuracy: 57.7%, Avg loss: 0.693042\n",
      "\n",
      "Train loss: 0.693106  [    0/  207] training time ratio: 0.8530140379851363\n",
      "Valid Error: \n",
      " Accuracy: 59.6%, Avg loss: 0.693085\n",
      "\n"
     ]
    },
    {
     "name": "stdout",
     "output_type": "stream",
     "text": [
      "Training time: 0.161631\n",
      "Training time: 0.159367\n"
     ]
    },
    {
     "name": "stderr",
     "output_type": "stream",
     "text": [
      "Train loss: 0.693157  [    0/  207] training time ratio: 0.8684154267145544\n",
      "Valid Error: \n",
      " Accuracy: 44.2%, Avg loss: 0.693476\n",
      "\n",
      "Train loss: 0.693707  [    0/  207] training time ratio: 0.8479754967876887\n"
     ]
    },
    {
     "name": "stdout",
     "output_type": "stream",
     "text": [
      "Training time: 0.167029\n",
      "Training time: 0.179902\n"
     ]
    },
    {
     "name": "stderr",
     "output_type": "stream",
     "text": [
      "Valid Error: \n",
      " Accuracy: 57.7%, Avg loss: 0.693110\n",
      "\n",
      "Train loss: 0.693154  [    0/  207] training time ratio: 0.8466339235437652\n",
      "Valid Error: \n",
      " Accuracy: 55.8%, Avg loss: 0.692995\n",
      "\n",
      "Train loss: 0.693237  [    0/  207] training time ratio: 0.8617315464794725\n",
      "Valid Error: \n",
      " Accuracy: 46.2%, Avg loss: 0.693191\n",
      "\n"
     ]
    },
    {
     "name": "stdout",
     "output_type": "stream",
     "text": [
      "Training time: 0.205129\n",
      "Training time: 0.160673\n"
     ]
    },
    {
     "name": "stderr",
     "output_type": "stream",
     "text": [
      "Train loss: 0.692987  [    0/  207] training time ratio: 0.8692362093352193\n",
      "Valid Error: \n",
      " Accuracy: 53.8%, Avg loss: 0.693146\n",
      "\n",
      "Train loss: 0.693136  [    0/  207] training time ratio: 0.8728087221551741\n"
     ]
    },
    {
     "name": "stdout",
     "output_type": "stream",
     "text": [
      "Training time: 0.1649\n",
      "Training time: 0.177752\n"
     ]
    },
    {
     "name": "stderr",
     "output_type": "stream",
     "text": [
      "Valid Error: \n",
      " Accuracy: 57.7%, Avg loss: 0.693146\n",
      "\n",
      "Train loss: 0.693152  [    0/  207] training time ratio: 0.8381042256474783\n",
      "Valid Error: \n",
      " Accuracy: 57.7%, Avg loss: 0.693144\n",
      "\n",
      "Train loss: 0.693151  [    0/  207] training time ratio: 0.85429510891903\n",
      "Valid Error: \n",
      " Accuracy: 59.6%, Avg loss: 0.693134\n",
      "\n"
     ]
    },
    {
     "name": "stdout",
     "output_type": "stream",
     "text": [
      "Training time: 0.17475\n",
      "Training time: 0.16221\n"
     ]
    },
    {
     "name": "stderr",
     "output_type": "stream",
     "text": [
      "Train loss: 0.693159  [    0/  207] training time ratio: 0.8508771929824561\n",
      "Valid Error: \n",
      " Accuracy: 59.6%, Avg loss: 0.693136\n",
      "\n",
      "Train loss: 0.693171  [    0/  207] training time ratio: 0.847974408317297\n",
      "Valid Error: \n",
      " Accuracy: 55.8%, Avg loss: 0.693143\n",
      "\n"
     ]
    },
    {
     "name": "stdout",
     "output_type": "stream",
     "text": [
      "Training time: 0.160909\n",
      "Training time: 0.158578\n"
     ]
    },
    {
     "name": "stderr",
     "output_type": "stream",
     "text": [
      "Train loss: 0.693149  [    0/  207] training time ratio: 0.8526201378289625\n",
      "Valid Error: \n",
      " Accuracy: 55.8%, Avg loss: 0.693145\n",
      "\n",
      "Train loss: 0.693151  [    0/  207] training time ratio: 0.8336693044564765\n"
     ]
    },
    {
     "name": "stdout",
     "output_type": "stream",
     "text": [
      "Training time: 0.200655\n"
     ]
    },
    {
     "name": "stderr",
     "output_type": "stream",
     "text": [
      "Valid Error: \n",
      " Accuracy: 55.8%, Avg loss: 0.693146\n",
      "\n",
      "Train loss: 0.693150  [    0/  207] training time ratio: 0.8481271337212097\n",
      "Valid Error: \n",
      " Accuracy: 53.8%, Avg loss: 0.693147\n",
      "\n"
     ]
    },
    {
     "name": "stdout",
     "output_type": "stream",
     "text": [
      "Training time: 0.186851\n",
      "Training time: 0.162908\n"
     ]
    },
    {
     "name": "stderr",
     "output_type": "stream",
     "text": [
      "Train loss: 0.693147  [    0/  207] training time ratio: 0.8615234019304316\n",
      "Valid Error: \n",
      " Accuracy: 53.8%, Avg loss: 0.693147\n",
      "\n",
      "Train loss: 0.693146  [    0/  207] training time ratio: 0.85492252681764\n",
      "Valid Error: \n",
      " Accuracy: 53.8%, Avg loss: 0.693147\n",
      "\n"
     ]
    },
    {
     "name": "stdout",
     "output_type": "stream",
     "text": [
      "Training time: 0.160716\n",
      "Training time: 0.15493\n"
     ]
    },
    {
     "name": "stderr",
     "output_type": "stream",
     "text": [
      "Train loss: 0.693148  [    0/  207] training time ratio: 0.8537572780203785\n",
      "Valid Error: \n",
      " Accuracy: 51.9%, Avg loss: 0.693147\n",
      "\n",
      "Train loss: 0.693147  [    0/  207] training time ratio: 0.8416798149869238\n"
     ]
    },
    {
     "name": "stdout",
     "output_type": "stream",
     "text": [
      "Training time: 0.159065\n",
      "Training time: 0.170308\n"
     ]
    },
    {
     "name": "stderr",
     "output_type": "stream",
     "text": [
      "Valid Error: \n",
      " Accuracy: 51.9%, Avg loss: 0.693147\n",
      "\n",
      "Train loss: 0.693148  [    0/  207] training time ratio: 0.8574707314245972\n",
      "Valid Error: \n",
      " Accuracy: 51.9%, Avg loss: 0.693147\n",
      "\n",
      "Train loss: 0.693147  [    0/  207] training time ratio: 0.8494916820702403\n"
     ]
    },
    {
     "name": "stdout",
     "output_type": "stream",
     "text": [
      "Training time: 0.162389\n",
      "Training time: 0.176016\n"
     ]
    },
    {
     "name": "stderr",
     "output_type": "stream",
     "text": [
      "Valid Error: \n",
      " Accuracy: 51.9%, Avg loss: 0.693147\n",
      "\n",
      "Train loss: 0.693148  [    0/  207] training time ratio: 0.8290483785220628\n",
      "Valid Error: \n",
      " Accuracy: 51.9%, Avg loss: 0.693147\n",
      "\n",
      "Train loss: 0.693148  [    0/  207] training time ratio: 0.8505075210957564\n",
      "Valid Error: \n",
      " Accuracy: 51.9%, Avg loss: 0.693147\n",
      "\n"
     ]
    },
    {
     "name": "stdout",
     "output_type": "stream",
     "text": [
      "Training time: 0.165603\n",
      "Training time: 0.154101\n"
     ]
    },
    {
     "name": "stderr",
     "output_type": "stream",
     "text": [
      "Train loss: 0.693146  [    0/  207] training time ratio: 0.8449908545761848\n",
      "Valid Error: \n",
      " Accuracy: 51.9%, Avg loss: 0.693147\n",
      "\n",
      "Train loss: 0.693148  [    0/  207] training time ratio: 0.8744218860233598\n"
     ]
    },
    {
     "name": "stdout",
     "output_type": "stream",
     "text": [
      "Training time: 0.191318\n"
     ]
    },
    {
     "name": "stderr",
     "output_type": "stream",
     "text": [
      "Valid Error: \n",
      " Accuracy: 51.9%, Avg loss: 0.693147\n",
      "\n",
      "Train loss: 0.693147  [    0/  207] training time ratio: 0.8365863243384858\n"
     ]
    },
    {
     "name": "stdout",
     "output_type": "stream",
     "text": [
      "Training time: 0.187819\n",
      "Training time: 0.174495\n"
     ]
    },
    {
     "name": "stderr",
     "output_type": "stream",
     "text": [
      "Valid Error: \n",
      " Accuracy: 51.9%, Avg loss: 0.693147\n",
      "\n",
      "Train loss: 0.693147  [    0/  207] training time ratio: 0.8661394584268165\n",
      "Valid Error: \n",
      " Accuracy: 50.0%, Avg loss: 0.693147\n",
      "\n",
      "Train loss: 0.693146  [    0/  207] training time ratio: 0.8484662426013704\n",
      "Valid Error: \n",
      " Accuracy: 53.8%, Avg loss: 0.693147\n",
      "\n"
     ]
    },
    {
     "name": "stdout",
     "output_type": "stream",
     "text": [
      "Training time: 0.16404\n",
      "Training time: 0.157469\n"
     ]
    },
    {
     "name": "stderr",
     "output_type": "stream",
     "text": [
      "Train loss: 0.693147  [    0/  207] training time ratio: 0.8433929931454683\n",
      "Valid Error: \n",
      " Accuracy: 48.1%, Avg loss: 0.693147\n",
      "\n",
      "Train loss: 0.693147  [    0/  207] training time ratio: 0.8515916728902166\n",
      "Valid Error: \n",
      " Accuracy: 50.0%, Avg loss: 0.693147\n",
      "\n"
     ]
    },
    {
     "name": "stdout",
     "output_type": "stream",
     "text": [
      "Training time: 0.153961\n",
      "Training time: 0.159953\n"
     ]
    },
    {
     "name": "stderr",
     "output_type": "stream",
     "text": [
      "Valid Error: \n",
      " Accuracy: 69.0%, Avg loss: 0.687802\n",
      "\n",
      "Test Error 2: \n",
      " Accuracy: 69.0%, Avg loss: 0.687802\n",
      "[2024-01-24 20:50:36] INFO (torcheeg/MainThread) Read the split of train and test set from ./examples_vanilla_torch/split3. If you want to use the same setting for the experiment, please set split_path to ./examples_vanilla_torch/split3 for the next run.\n",
      "Train loss: 0.693204  [    0/  207] training time ratio: 0.8490506711815213\n",
      "Valid Error: \n",
      " Accuracy: 46.2%, Avg loss: 0.693515\n",
      "\n",
      "Train loss: 0.693194  [    0/  207] training time ratio: 0.8402786234443118\n"
     ]
    },
    {
     "name": "stdout",
     "output_type": "stream",
     "text": [
      "Training time: 0.161083\n",
      "Training time: 0.156324\n"
     ]
    },
    {
     "name": "stderr",
     "output_type": "stream",
     "text": [
      "Valid Error: \n",
      " Accuracy: 42.3%, Avg loss: 0.693864\n",
      "\n",
      "Train loss: 0.693643  [    0/  207] training time ratio: 0.8426871523661895\n",
      "Valid Error: \n",
      " Accuracy: 55.8%, Avg loss: 0.693136\n",
      "\n",
      "Train loss: 0.693079  [    0/  207] training time ratio: 0.8409027842012765\n",
      "Valid Error: \n",
      " Accuracy: 51.9%, Avg loss: 0.693144\n",
      "\n"
     ]
    },
    {
     "name": "stdout",
     "output_type": "stream",
     "text": [
      "Training time: 0.154061\n",
      "Training time: 0.152915\n"
     ]
    },
    {
     "name": "stderr",
     "output_type": "stream",
     "text": [
      "Train loss: 0.693150  [    0/  207] training time ratio: 0.8424209002550492\n",
      "Valid Error: \n",
      " Accuracy: 51.9%, Avg loss: 0.693155\n",
      "\n",
      "Train loss: 0.693155  [    0/  207] training time ratio: 0.8472546432558612\n",
      "Valid Error: \n",
      " Accuracy: 48.1%, Avg loss: 0.693190\n",
      "\n"
     ]
    },
    {
     "name": "stdout",
     "output_type": "stream",
     "text": [
      "Training time: 0.168481\n",
      "Training time: 0.148542\n"
     ]
    },
    {
     "name": "stderr",
     "output_type": "stream",
     "text": [
      "Train loss: 0.693133  [    0/  207] training time ratio: 0.8488800874078121\n",
      "Valid Error: \n",
      " Accuracy: 46.2%, Avg loss: 0.693285\n",
      "\n",
      "Train loss: 0.693095  [    0/  207] training time ratio: 0.7799736195760939\n",
      "Valid Error: \n",
      " Accuracy: 46.2%, Avg loss: 0.693424\n",
      "\n"
     ]
    },
    {
     "name": "stdout",
     "output_type": "stream",
     "text": [
      "Training time: 0.155356\n",
      "Training time: 0.154648\n"
     ]
    },
    {
     "name": "stderr",
     "output_type": "stream",
     "text": [
      "Train loss: 0.693009  [    0/  207] training time ratio: 0.8520885587497589\n",
      "Valid Error: \n",
      " Accuracy: 46.2%, Avg loss: 0.693156\n",
      "\n",
      "Train loss: 0.693146  [    0/  207] training time ratio: 0.8476307291797041\n",
      "Valid Error: \n",
      " Accuracy: 46.2%, Avg loss: 0.693147\n",
      "\n"
     ]
    },
    {
     "name": "stdout",
     "output_type": "stream",
     "text": [
      "Training time: 0.152438\n",
      "Training time: 0.150005\n"
     ]
    },
    {
     "name": "stderr",
     "output_type": "stream",
     "text": [
      "Train loss: 0.693147  [    0/  207] training time ratio: 0.8496462812994507\n",
      "Valid Error: \n",
      " Accuracy: 50.0%, Avg loss: 0.693147\n",
      "\n",
      "Train loss: 0.693147  [    0/  207] training time ratio: 0.8560681236009507\n",
      "Valid Error: \n",
      " Accuracy: 44.2%, Avg loss: 0.693147\n",
      "\n"
     ]
    },
    {
     "name": "stdout",
     "output_type": "stream",
     "text": [
      "Training time: 0.154686\n",
      "Training time: 0.154521\n"
     ]
    },
    {
     "name": "stderr",
     "output_type": "stream",
     "text": [
      "Train loss: 0.693147  [    0/  207] training time ratio: 0.8448705656759349\n",
      "Valid Error: \n",
      " Accuracy: 44.2%, Avg loss: 0.693147\n",
      "\n",
      "Train loss: 0.693147  [    0/  207] training time ratio: 0.8414655583737224\n",
      "Valid Error: \n",
      " Accuracy: 42.3%, Avg loss: 0.693147\n",
      "\n"
     ]
    },
    {
     "name": "stdout",
     "output_type": "stream",
     "text": [
      "Training time: 0.152223\n",
      "Training time: 0.148409\n"
     ]
    },
    {
     "name": "stderr",
     "output_type": "stream",
     "text": [
      "Train loss: 0.693147  [    0/  207] training time ratio: 0.8681915057236395\n",
      "Valid Error: \n",
      " Accuracy: 42.3%, Avg loss: 0.693147\n",
      "\n",
      "Train loss: 0.693147  [    0/  207] training time ratio: 0.8451749476860188\n",
      "Valid Error: \n",
      " Accuracy: 44.2%, Avg loss: 0.693148\n",
      "\n"
     ]
    },
    {
     "name": "stdout",
     "output_type": "stream",
     "text": [
      "Training time: 0.166582\n",
      "Training time: 0.152358\n"
     ]
    },
    {
     "name": "stderr",
     "output_type": "stream",
     "text": [
      "Train loss: 0.693147  [    0/  207] training time ratio: 0.8627015863250869\n",
      "Valid Error: \n",
      " Accuracy: 42.3%, Avg loss: 0.693148\n",
      "\n",
      "Train loss: 0.693147  [    0/  207] training time ratio: 0.8163698477834603\n",
      "Valid Error: \n",
      " Accuracy: 42.3%, Avg loss: 0.693147\n",
      "\n"
     ]
    },
    {
     "name": "stdout",
     "output_type": "stream",
     "text": [
      "Training time: 0.158733\n",
      "Training time: 0.165914\n"
     ]
    },
    {
     "name": "stderr",
     "output_type": "stream",
     "text": [
      "Train loss: 0.693147  [    0/  207] training time ratio: 0.8566124848282919\n",
      "Valid Error: \n",
      " Accuracy: 44.2%, Avg loss: 0.693148\n",
      "\n",
      "Train loss: 0.693147  [    0/  207] training time ratio: 0.8490166414523449\n",
      "Valid Error: \n",
      " Accuracy: 44.2%, Avg loss: 0.693148\n",
      "\n"
     ]
    },
    {
     "name": "stdout",
     "output_type": "stream",
     "text": [
      "Training time: 0.155438\n",
      "Training time: 0.149816\n"
     ]
    },
    {
     "name": "stderr",
     "output_type": "stream",
     "text": [
      "Train loss: 0.693147  [    0/  207] training time ratio: 0.8373752740614793\n",
      "Valid Error: \n",
      " Accuracy: 44.2%, Avg loss: 0.693148\n",
      "\n",
      "Train loss: 0.693147  [    0/  207] training time ratio: 0.8431550523043408\n",
      "Valid Error: \n",
      " Accuracy: 42.3%, Avg loss: 0.693147\n",
      "\n"
     ]
    },
    {
     "name": "stdout",
     "output_type": "stream",
     "text": [
      "Training time: 0.155427\n",
      "Training time: 0.161331\n"
     ]
    },
    {
     "name": "stderr",
     "output_type": "stream",
     "text": [
      "Train loss: 0.693147  [    0/  207] training time ratio: 0.8367191225560324\n",
      "Valid Error: \n",
      " Accuracy: 44.2%, Avg loss: 0.693148\n",
      "\n",
      "Train loss: 0.693147  [    0/  207] training time ratio: 0.8487136602882582\n",
      "Valid Error: \n",
      " Accuracy: 44.2%, Avg loss: 0.693148\n",
      "\n"
     ]
    },
    {
     "name": "stdout",
     "output_type": "stream",
     "text": [
      "Training time: 0.157237\n",
      "Training time: 0.160084\n"
     ]
    },
    {
     "name": "stderr",
     "output_type": "stream",
     "text": [
      "Train loss: 0.693147  [    0/  207] training time ratio: 0.8248449816079874\n",
      "Valid Error: \n",
      " Accuracy: 44.2%, Avg loss: 0.693147\n",
      "\n",
      "Train loss: 0.693147  [    0/  207] training time ratio: 0.8537020293349407\n",
      "Valid Error: \n",
      " Accuracy: 40.4%, Avg loss: 0.693148\n",
      "\n"
     ]
    },
    {
     "name": "stdout",
     "output_type": "stream",
     "text": [
      "Training time: 0.16497\n",
      "Training time: 0.152817\n"
     ]
    },
    {
     "name": "stderr",
     "output_type": "stream",
     "text": [
      "Train loss: 0.693147  [    0/  207] training time ratio: 0.8698063797760686\n",
      "Valid Error: \n",
      " Accuracy: 40.4%, Avg loss: 0.693148\n",
      "\n",
      "Train loss: 0.693147  [    0/  207] training time ratio: 0.83881546258571\n",
      "Valid Error: \n",
      " Accuracy: 40.4%, Avg loss: 0.693148\n",
      "\n"
     ]
    },
    {
     "name": "stdout",
     "output_type": "stream",
     "text": [
      "Training time: 0.164098\n",
      "Training time: 0.157389\n"
     ]
    },
    {
     "name": "stderr",
     "output_type": "stream",
     "text": [
      "Train loss: 0.693147  [    0/  207] training time ratio: 0.8831895958980807\n",
      "Valid Error: \n",
      " Accuracy: 40.4%, Avg loss: 0.693148\n",
      "\n",
      "Train loss: 0.693147  [    0/  207] training time ratio: 0.8519131334022751\n",
      "Valid Error: \n",
      " Accuracy: 42.3%, Avg loss: 0.693148\n",
      "\n"
     ]
    },
    {
     "name": "stdout",
     "output_type": "stream",
     "text": [
      "Training time: 0.173492\n",
      "Training time: 0.1519\n"
     ]
    },
    {
     "name": "stderr",
     "output_type": "stream",
     "text": [
      "Train loss: 0.693146  [    0/  207] training time ratio: 0.8634352328114822\n",
      "Valid Error: \n",
      " Accuracy: 42.3%, Avg loss: 0.693149\n",
      "\n",
      "Train loss: 0.693147  [    0/  207] training time ratio: 0.8532329557447407\n",
      "Valid Error: \n",
      " Accuracy: 44.2%, Avg loss: 0.693150\n",
      "\n"
     ]
    },
    {
     "name": "stdout",
     "output_type": "stream",
     "text": [
      "Training time: 0.157521\n",
      "Training time: 0.1532\n"
     ]
    },
    {
     "name": "stderr",
     "output_type": "stream",
     "text": [
      "Train loss: 0.693146  [    0/  207] training time ratio: 0.8229017566688354\n",
      "Valid Error: \n",
      " Accuracy: 46.2%, Avg loss: 0.693150\n",
      "\n",
      "Train loss: 0.693145  [    0/  207] training time ratio: 0.846887398779554\n",
      "Valid Error: \n",
      " Accuracy: 46.2%, Avg loss: 0.693150\n",
      "\n"
     ]
    },
    {
     "name": "stdout",
     "output_type": "stream",
     "text": [
      "Training time: 0.160183\n",
      "Training time: 0.156002\n"
     ]
    },
    {
     "name": "stderr",
     "output_type": "stream",
     "text": [
      "Train loss: 0.693145  [    0/  207] training time ratio: 0.846045880214445\n",
      "Valid Error: \n",
      " Accuracy: 48.1%, Avg loss: 0.693150\n",
      "\n",
      "Train loss: 0.693146  [    0/  207] training time ratio: 0.8275836650449653\n",
      "Valid Error: \n",
      " Accuracy: 44.2%, Avg loss: 0.693152\n",
      "\n"
     ]
    },
    {
     "name": "stdout",
     "output_type": "stream",
     "text": [
      "Training time: 0.154495\n",
      "Training time: 0.150269\n"
     ]
    },
    {
     "name": "stderr",
     "output_type": "stream",
     "text": [
      "Train loss: 0.693141  [    0/  207] training time ratio: 0.8507071419130282\n",
      "Valid Error: \n",
      " Accuracy: 36.5%, Avg loss: 0.693151\n",
      "\n",
      "Train loss: 0.693145  [    0/  207] training time ratio: 0.841737201282886\n",
      "Valid Error: \n",
      " Accuracy: 48.1%, Avg loss: 0.693147\n",
      "\n"
     ]
    },
    {
     "name": "stdout",
     "output_type": "stream",
     "text": [
      "Training time: 0.156788\n",
      "Training time: 0.155004\n"
     ]
    },
    {
     "name": "stderr",
     "output_type": "stream",
     "text": [
      "Train loss: 0.693147  [    0/  207] training time ratio: 0.8525044047319406\n",
      "Valid Error: \n",
      " Accuracy: 50.0%, Avg loss: 0.693147\n",
      "\n",
      "Train loss: 0.693147  [    0/  207] training time ratio: 0.8474270090811444\n",
      "Valid Error: \n",
      " Accuracy: 48.1%, Avg loss: 0.693147\n",
      "\n"
     ]
    },
    {
     "name": "stdout",
     "output_type": "stream",
     "text": [
      "Training time: 0.156709\n",
      "Training time: 0.152336\n"
     ]
    },
    {
     "name": "stderr",
     "output_type": "stream",
     "text": [
      "Train loss: 0.693147  [    0/  207] training time ratio: 0.8559812280742514\n",
      "Valid Error: \n",
      " Accuracy: 48.1%, Avg loss: 0.693147\n",
      "\n",
      "Train loss: 0.693147  [    0/  207] training time ratio: 0.8597845512311358\n",
      "Valid Error: \n",
      " Accuracy: 48.1%, Avg loss: 0.693147\n",
      "\n"
     ]
    },
    {
     "name": "stdout",
     "output_type": "stream",
     "text": [
      "Training time: 0.165677\n",
      "Training time: 0.152407\n"
     ]
    },
    {
     "name": "stderr",
     "output_type": "stream",
     "text": [
      "Train loss: 0.693147  [    0/  207] training time ratio: 0.8591842333897298\n",
      "Valid Error: \n",
      " Accuracy: 48.1%, Avg loss: 0.693147\n",
      "\n",
      "Train loss: 0.693147  [    0/  207] training time ratio: 0.8443235400797969\n",
      "Valid Error: \n",
      " Accuracy: 48.1%, Avg loss: 0.693147\n",
      "\n"
     ]
    },
    {
     "name": "stdout",
     "output_type": "stream",
     "text": [
      "Training time: 0.15552\n",
      "Training time: 0.152845\n"
     ]
    },
    {
     "name": "stderr",
     "output_type": "stream",
     "text": [
      "Train loss: 0.693147  [    0/  207] training time ratio: 0.8365115039736788\n",
      "Valid Error: \n",
      " Accuracy: 48.1%, Avg loss: 0.693147\n",
      "\n",
      "Train loss: 0.693147  [    0/  207] training time ratio: 0.8323833753271852\n",
      "Valid Error: \n",
      " Accuracy: 48.1%, Avg loss: 0.693147\n",
      "\n"
     ]
    },
    {
     "name": "stdout",
     "output_type": "stream",
     "text": [
      "Training time: 0.156469\n",
      "Training time: 0.150888\n"
     ]
    },
    {
     "name": "stderr",
     "output_type": "stream",
     "text": [
      "Train loss: 0.693147  [    0/  207] training time ratio: 0.8555971418849949\n",
      "Valid Error: \n",
      " Accuracy: 48.1%, Avg loss: 0.693147\n",
      "\n",
      "Train loss: 0.693147  [    0/  207] training time ratio: 0.8323899139895612\n",
      "Valid Error: \n",
      " Accuracy: 48.1%, Avg loss: 0.693147\n",
      "\n"
     ]
    },
    {
     "name": "stdout",
     "output_type": "stream",
     "text": [
      "Training time: 0.156725\n",
      "Training time: 0.151723\n"
     ]
    },
    {
     "name": "stderr",
     "output_type": "stream",
     "text": [
      "Train loss: 0.693147  [    0/  207] training time ratio: 0.8474189871356457\n",
      "Valid Error: \n",
      " Accuracy: 48.1%, Avg loss: 0.693147\n",
      "\n",
      "Train loss: 0.693147  [    0/  207] training time ratio: 0.8413483372861684\n",
      "Valid Error: \n",
      " Accuracy: 48.1%, Avg loss: 0.693147\n",
      "\n"
     ]
    },
    {
     "name": "stdout",
     "output_type": "stream",
     "text": [
      "Training time: 0.155412\n",
      "Training time: 0.153876\n"
     ]
    },
    {
     "name": "stderr",
     "output_type": "stream",
     "text": [
      "Valid Error: \n",
      " Accuracy: 65.5%, Avg loss: 0.692587\n",
      "\n",
      "Test Error 3: \n",
      " Accuracy: 65.5%, Avg loss: 0.692587\n",
      "[2024-01-24 20:50:45] INFO (torcheeg/MainThread) Read the split of train and test set from ./examples_vanilla_torch/split4. If you want to use the same setting for the experiment, please set split_path to ./examples_vanilla_torch/split4 for the next run.\n",
      "Train loss: 0.693152  [    0/  207] training time ratio: 0.8509013734052155\n",
      "Valid Error: \n",
      " Accuracy: 40.4%, Avg loss: 0.693461\n",
      "\n",
      "Train loss: 0.692959  [    0/  207] training time ratio: 0.8219329757393828\n"
     ]
    },
    {
     "name": "stdout",
     "output_type": "stream",
     "text": [
      "Training time: 0.162061\n",
      "Training time: 0.156725\n"
     ]
    },
    {
     "name": "stderr",
     "output_type": "stream",
     "text": [
      "Valid Error: \n",
      " Accuracy: 42.3%, Avg loss: 0.694489\n",
      "\n",
      "Train loss: 0.692810  [    0/  207] training time ratio: 0.8638492499085255\n",
      "Valid Error: \n",
      " Accuracy: 46.2%, Avg loss: 0.695150\n",
      "\n",
      "Train loss: 0.691775  [    0/  207] training time ratio: 0.8625237761537692\n",
      "Valid Error: \n",
      " Accuracy: 40.4%, Avg loss: 0.693159\n",
      "\n"
     ]
    },
    {
     "name": "stdout",
     "output_type": "stream",
     "text": [
      "Training time: 0.170741\n",
      "Training time: 0.1533\n"
     ]
    },
    {
     "name": "stderr",
     "output_type": "stream",
     "text": [
      "Train loss: 0.693134  [    0/  207] training time ratio: 0.866813440492476\n",
      "Valid Error: \n",
      " Accuracy: 44.2%, Avg loss: 0.693156\n",
      "\n",
      "Train loss: 0.693140  [    0/  207] training time ratio: 0.8464441561504894\n",
      "Valid Error: \n",
      " Accuracy: 44.2%, Avg loss: 0.693158\n",
      "\n"
     ]
    },
    {
     "name": "stdout",
     "output_type": "stream",
     "text": [
      "Training time: 0.162873\n",
      "Training time: 0.157002\n"
     ]
    },
    {
     "name": "stderr",
     "output_type": "stream",
     "text": [
      "Train loss: 0.693118  [    0/  207] training time ratio: 0.8207228717273176\n",
      "Valid Error: \n",
      " Accuracy: 44.2%, Avg loss: 0.693168\n",
      "\n",
      "Train loss: 0.693165  [    0/  207] training time ratio: 0.8125524150592716\n",
      "Valid Error: \n",
      " Accuracy: 44.2%, Avg loss: 0.693212\n",
      "\n"
     ]
    },
    {
     "name": "stdout",
     "output_type": "stream",
     "text": [
      "Training time: 0.168413\n",
      "Training time: 0.161075\n"
     ]
    },
    {
     "name": "stderr",
     "output_type": "stream",
     "text": [
      "Train loss: 0.693134  [    0/  207] training time ratio: 0.8473840583074138\n",
      "Valid Error: \n",
      " Accuracy: 46.2%, Avg loss: 0.693222\n",
      "\n",
      "Train loss: 0.693112  [    0/  207] training time ratio: 0.8514349361329006\n",
      "Valid Error: \n",
      " Accuracy: 50.0%, Avg loss: 0.693279\n",
      "\n"
     ]
    },
    {
     "name": "stdout",
     "output_type": "stream",
     "text": [
      "Training time: 0.16612\n",
      "Training time: 0.157773\n"
     ]
    },
    {
     "name": "stderr",
     "output_type": "stream",
     "text": [
      "Train loss: 0.692903  [    0/  207] training time ratio: 0.8501945525291829\n",
      "Valid Error: \n",
      " Accuracy: 48.1%, Avg loss: 0.693198\n",
      "\n",
      "Train loss: 0.693016  [    0/  207] training time ratio: 0.8659366537148239\n",
      "Valid Error: \n",
      " Accuracy: 40.4%, Avg loss: 0.693173\n",
      "\n"
     ]
    },
    {
     "name": "stdout",
     "output_type": "stream",
     "text": [
      "Training time: 0.159318\n",
      "Training time: 0.155201\n"
     ]
    },
    {
     "name": "stderr",
     "output_type": "stream",
     "text": [
      "Train loss: 0.693167  [    0/  207] training time ratio: 0.8554166762932329\n",
      "Valid Error: \n",
      " Accuracy: 46.2%, Avg loss: 0.693159\n",
      "\n",
      "Train loss: 0.693038  [    0/  207] training time ratio: 0.8366839171974522\n",
      "Valid Error: \n",
      " Accuracy: 50.0%, Avg loss: 0.693067\n",
      "\n"
     ]
    },
    {
     "name": "stdout",
     "output_type": "stream",
     "text": [
      "Training time: 0.160024\n",
      "Training time: 0.154794\n"
     ]
    },
    {
     "name": "stderr",
     "output_type": "stream",
     "text": [
      "Train loss: 0.692994  [    0/  207] training time ratio: 0.7977365650906955\n",
      "Valid Error: \n",
      " Accuracy: 61.5%, Avg loss: 0.692666\n",
      "\n",
      "Train loss: 0.692798  [    0/  207] training time ratio: 0.8120746432491768\n",
      "Valid Error: \n",
      " Accuracy: 53.8%, Avg loss: 0.693157\n",
      "\n"
     ]
    },
    {
     "name": "stdout",
     "output_type": "stream",
     "text": [
      "Training time: 0.157636\n",
      "Training time: 0.157453\n"
     ]
    },
    {
     "name": "stderr",
     "output_type": "stream",
     "text": [
      "Train loss: 0.693138  [    0/  207] training time ratio: 0.8049517895080895\n",
      "Valid Error: \n",
      " Accuracy: 50.0%, Avg loss: 0.693181\n",
      "\n",
      "Train loss: 0.693213  [    0/  207] training time ratio: 0.8625559499922827\n",
      "Valid Error: \n",
      " Accuracy: 53.8%, Avg loss: 0.693091\n",
      "\n"
     ]
    },
    {
     "name": "stdout",
     "output_type": "stream",
     "text": [
      "Training time: 0.172898\n",
      "Training time: 0.156101\n"
     ]
    },
    {
     "name": "stderr",
     "output_type": "stream",
     "text": [
      "Train loss: 0.692733  [    0/  207] training time ratio: 0.855669112844354\n",
      "Valid Error: \n",
      " Accuracy: 48.1%, Avg loss: 0.693124\n",
      "\n",
      "Train loss: 0.692970  [    0/  207] training time ratio: 0.8656331396513725\n",
      "Valid Error: \n",
      " Accuracy: 53.8%, Avg loss: 0.692593\n",
      "\n"
     ]
    },
    {
     "name": "stdout",
     "output_type": "stream",
     "text": [
      "Training time: 0.177271\n",
      "Training time: 0.160008\n"
     ]
    },
    {
     "name": "stderr",
     "output_type": "stream",
     "text": [
      "Train loss: 0.692580  [    0/  207] training time ratio: 0.8316488066244521\n",
      "Valid Error: \n",
      " Accuracy: 55.8%, Avg loss: 0.690963\n",
      "\n",
      "Train loss: 0.690847  [    0/  207] training time ratio: 0.8594160511574876\n",
      "Valid Error: \n",
      " Accuracy: 44.2%, Avg loss: 0.694183\n",
      "\n"
     ]
    },
    {
     "name": "stdout",
     "output_type": "stream",
     "text": [
      "Training time: 0.171886\n",
      "Training time: 0.153665\n"
     ]
    },
    {
     "name": "stderr",
     "output_type": "stream",
     "text": [
      "Train loss: 0.692395  [    0/  207] training time ratio: 0.8566759310728183\n",
      "Valid Error: \n",
      " Accuracy: 48.1%, Avg loss: 0.694436\n",
      "\n",
      "Train loss: 0.693289  [    0/  207] training time ratio: 0.8436907366885485\n",
      "Valid Error: \n",
      " Accuracy: 46.2%, Avg loss: 0.693238\n",
      "\n"
     ]
    },
    {
     "name": "stdout",
     "output_type": "stream",
     "text": [
      "Training time: 0.159212\n",
      "Training time: 0.153247\n"
     ]
    },
    {
     "name": "stderr",
     "output_type": "stream",
     "text": [
      "Train loss: 0.693025  [    0/  207] training time ratio: 0.8478314914005469\n",
      "Valid Error: \n",
      " Accuracy: 34.6%, Avg loss: 0.693268\n",
      "\n",
      "Train loss: 0.692922  [    0/  207] training time ratio: 0.8506259646715829\n",
      "Valid Error: \n",
      " Accuracy: 34.6%, Avg loss: 0.693328\n",
      "\n"
     ]
    },
    {
     "name": "stdout",
     "output_type": "stream",
     "text": [
      "Training time: 0.15693\n",
      "Training time: 0.153121\n"
     ]
    },
    {
     "name": "stderr",
     "output_type": "stream",
     "text": [
      "Train loss: 0.693227  [    0/  207] training time ratio: 0.8495713338892096\n",
      "Valid Error: \n",
      " Accuracy: 30.8%, Avg loss: 0.693314\n",
      "\n",
      "Train loss: 0.693119  [    0/  207] training time ratio: 0.8114907122187995\n",
      "Valid Error: \n",
      " Accuracy: 34.6%, Avg loss: 0.693330\n",
      "\n"
     ]
    },
    {
     "name": "stdout",
     "output_type": "stream",
     "text": [
      "Training time: 0.179438\n",
      "Training time: 0.155798\n"
     ]
    },
    {
     "name": "stderr",
     "output_type": "stream",
     "text": [
      "Train loss: 0.693229  [    0/  207] training time ratio: 0.8671156993579252\n",
      "Valid Error: \n",
      " Accuracy: 38.5%, Avg loss: 0.693327\n",
      "\n",
      "Train loss: 0.693206  [    0/  207] training time ratio: 0.8405129482071713\n",
      "Valid Error: \n",
      " Accuracy: 40.4%, Avg loss: 0.693349\n",
      "\n"
     ]
    },
    {
     "name": "stdout",
     "output_type": "stream",
     "text": [
      "Training time: 0.163267\n",
      "Training time: 0.152497\n"
     ]
    },
    {
     "name": "stderr",
     "output_type": "stream",
     "text": [
      "Train loss: 0.693217  [    0/  207] training time ratio: 0.8216140412384687\n",
      "Valid Error: \n",
      " Accuracy: 48.1%, Avg loss: 0.693313\n",
      "\n",
      "Train loss: 0.692860  [    0/  207] training time ratio: 0.8621588988167109\n",
      "Valid Error: \n",
      " Accuracy: 51.9%, Avg loss: 0.693260\n",
      "\n"
     ]
    },
    {
     "name": "stdout",
     "output_type": "stream",
     "text": [
      "Training time: 0.167505\n",
      "Training time: 0.155913\n"
     ]
    },
    {
     "name": "stderr",
     "output_type": "stream",
     "text": [
      "Train loss: 0.692312  [    0/  207] training time ratio: 0.8289059727971615\n",
      "Valid Error: \n",
      " Accuracy: 51.9%, Avg loss: 0.693061\n",
      "\n",
      "Train loss: 0.693140  [    0/  207] training time ratio: 0.8465969088989153\n",
      "Valid Error: \n",
      " Accuracy: 53.8%, Avg loss: 0.693238\n",
      "\n"
     ]
    },
    {
     "name": "stdout",
     "output_type": "stream",
     "text": [
      "Training time: 0.157197\n",
      "Training time: 0.154905\n"
     ]
    },
    {
     "name": "stderr",
     "output_type": "stream",
     "text": [
      "Train loss: 0.692612  [    0/  207] training time ratio: 0.8507156988246246\n",
      "Valid Error: \n",
      " Accuracy: 55.8%, Avg loss: 0.692969\n",
      "\n",
      "Train loss: 0.693239  [    0/  207] training time ratio: 0.8442584266872004\n",
      "Valid Error: \n",
      " Accuracy: 48.1%, Avg loss: 0.693153\n",
      "\n"
     ]
    },
    {
     "name": "stdout",
     "output_type": "stream",
     "text": [
      "Training time: 0.155288\n",
      "Training time: 0.15127\n"
     ]
    },
    {
     "name": "stderr",
     "output_type": "stream",
     "text": [
      "Train loss: 0.693150  [    0/  207] training time ratio: 0.8549573136027319\n",
      "Valid Error: \n",
      " Accuracy: 38.5%, Avg loss: 0.693441\n",
      "\n",
      "Train loss: 0.693240  [    0/  207] training time ratio: 0.8416905622740307\n",
      "Valid Error: \n",
      " Accuracy: 42.3%, Avg loss: 0.693108\n",
      "\n"
     ]
    },
    {
     "name": "stdout",
     "output_type": "stream",
     "text": [
      "Training time: 0.156673\n",
      "Training time: 0.151903\n"
     ]
    },
    {
     "name": "stderr",
     "output_type": "stream",
     "text": [
      "Train loss: 0.693069  [    0/  207] training time ratio: 0.8153939419277965\n",
      "Valid Error: \n",
      " Accuracy: 46.2%, Avg loss: 0.693240\n",
      "\n",
      "Train loss: 0.693341  [    0/  207] training time ratio: 0.8488730110231039\n",
      "Valid Error: \n",
      " Accuracy: 48.1%, Avg loss: 0.692851\n",
      "\n"
     ]
    },
    {
     "name": "stdout",
     "output_type": "stream",
     "text": [
      "Training time: 0.189703\n",
      "Training time: 0.161535\n"
     ]
    },
    {
     "name": "stderr",
     "output_type": "stream",
     "text": [
      "Train loss: 0.693245  [    0/  207] training time ratio: 0.8616183507499516\n",
      "Valid Error: \n",
      " Accuracy: 51.9%, Avg loss: 0.693095\n",
      "\n",
      "Train loss: 0.693232  [    0/  207] training time ratio: 0.8487869643934822\n",
      "Valid Error: \n",
      " Accuracy: 46.2%, Avg loss: 0.693159\n",
      "\n"
     ]
    },
    {
     "name": "stdout",
     "output_type": "stream",
     "text": [
      "Training time: 0.169276\n",
      "Training time: 0.159314\n"
     ]
    },
    {
     "name": "stderr",
     "output_type": "stream",
     "text": [
      "Train loss: 0.693140  [    0/  207] training time ratio: 0.8662440715067493\n",
      "Valid Error: \n",
      " Accuracy: 57.7%, Avg loss: 0.693144\n",
      "\n",
      "Train loss: 0.693147  [    0/  207] training time ratio: 0.8605303538889421\n",
      "Valid Error: \n",
      " Accuracy: 55.8%, Avg loss: 0.693144\n",
      "\n"
     ]
    },
    {
     "name": "stdout",
     "output_type": "stream",
     "text": [
      "Training time: 0.159797\n",
      "Training time: 0.158293\n"
     ]
    },
    {
     "name": "stderr",
     "output_type": "stream",
     "text": [
      "Train loss: 0.693146  [    0/  207] training time ratio: 0.8496197445831539\n",
      "Valid Error: \n",
      " Accuracy: 57.7%, Avg loss: 0.693144\n",
      "\n",
      "Train loss: 0.693147  [    0/  207] training time ratio: 0.8395537973905992\n",
      "Valid Error: \n",
      " Accuracy: 57.7%, Avg loss: 0.693144\n",
      "\n"
     ]
    },
    {
     "name": "stdout",
     "output_type": "stream",
     "text": [
      "Training time: 0.157543\n",
      "Training time: 0.151984\n"
     ]
    },
    {
     "name": "stderr",
     "output_type": "stream",
     "text": [
      "Train loss: 0.693148  [    0/  207] training time ratio: 0.8601896830904464\n",
      "Valid Error: \n",
      " Accuracy: 59.6%, Avg loss: 0.693144\n",
      "\n",
      "Train loss: 0.693147  [    0/  207] training time ratio: 0.8733494159471814\n",
      "Valid Error: \n",
      " Accuracy: 59.6%, Avg loss: 0.693143\n",
      "\n"
     ]
    },
    {
     "name": "stdout",
     "output_type": "stream",
     "text": [
      "Training time: 0.15998\n",
      "Training time: 0.162375\n"
     ]
    },
    {
     "name": "stderr",
     "output_type": "stream",
     "text": [
      "Train loss: 0.693150  [    0/  207] training time ratio: 0.841619036509973\n",
      "Valid Error: \n",
      " Accuracy: 55.8%, Avg loss: 0.693144\n",
      "\n",
      "Train loss: 0.693142  [    0/  207] training time ratio: 0.8580997451765563\n",
      "Valid Error: \n",
      " Accuracy: 53.8%, Avg loss: 0.693144\n",
      "\n"
     ]
    },
    {
     "name": "stdout",
     "output_type": "stream",
     "text": [
      "Training time: 0.158335\n",
      "Training time: 0.155613\n"
     ]
    },
    {
     "name": "stderr",
     "output_type": "stream",
     "text": [
      "Valid Error: \n",
      " Accuracy: 44.8%, Avg loss: 0.694138\n",
      "\n",
      "Test Error 4: \n",
      " Accuracy: 44.8%, Avg loss: 0.694138\n",
      "[2024-01-24 20:50:54] INFO (torcheeg/MainThread) Read the split of train and test set from ./examples_vanilla_torch/split5. If you want to use the same setting for the experiment, please set split_path to ./examples_vanilla_torch/split5 for the next run.\n",
      "Train loss: 0.693157  [    0/  207] training time ratio: 0.8479254827569433\n",
      "Valid Error: \n",
      " Accuracy: 40.4%, Avg loss: 0.693070\n",
      "\n",
      "Train loss: 0.692808  [    0/  207] training time ratio: 0.8198583234946872\n"
     ]
    },
    {
     "name": "stdout",
     "output_type": "stream",
     "text": [
      "Training time: 0.15846\n",
      "Training time: 0.162793\n"
     ]
    },
    {
     "name": "stderr",
     "output_type": "stream",
     "text": [
      "Valid Error: \n",
      " Accuracy: 61.5%, Avg loss: 0.692918\n",
      "\n",
      "Train loss: 0.692905  [    0/  207] training time ratio: 0.8007142857142857\n",
      "Valid Error: \n",
      " Accuracy: 46.2%, Avg loss: 0.693327\n",
      "\n",
      "Train loss: 0.692675  [    0/  207] training time ratio: 0.8468768074031232\n",
      "Valid Error: \n",
      " Accuracy: 46.2%, Avg loss: 0.693210\n",
      "\n"
     ]
    },
    {
     "name": "stdout",
     "output_type": "stream",
     "text": [
      "Training time: 0.154746\n",
      "Training time: 0.157368\n"
     ]
    },
    {
     "name": "stderr",
     "output_type": "stream",
     "text": [
      "Train loss: 0.693219  [    0/  207] training time ratio: 0.8806904167859626\n",
      "Valid Error: \n",
      " Accuracy: 55.8%, Avg loss: 0.693157\n",
      "\n",
      "Train loss: 0.693105  [    0/  207] training time ratio: 0.8305366378805964\n",
      "Valid Error: \n",
      " Accuracy: 50.0%, Avg loss: 0.693152\n",
      "\n"
     ]
    },
    {
     "name": "stdout",
     "output_type": "stream",
     "text": [
      "Training time: 0.163739\n",
      "Training time: 0.156091\n"
     ]
    },
    {
     "name": "stderr",
     "output_type": "stream",
     "text": [
      "Train loss: 0.693139  [    0/  207] training time ratio: 0.8609070008565117\n",
      "Valid Error: \n",
      " Accuracy: 59.6%, Avg loss: 0.692933\n",
      "\n",
      "Train loss: 0.693421  [    0/  207] training time ratio: 0.8688750379344959\n",
      "Valid Error: \n",
      " Accuracy: 48.1%, Avg loss: 0.693152\n",
      "\n"
     ]
    },
    {
     "name": "stdout",
     "output_type": "stream",
     "text": [
      "Training time: 0.161065\n",
      "Training time: 0.158439\n"
     ]
    },
    {
     "name": "stderr",
     "output_type": "stream",
     "text": [
      "Train loss: 0.693146  [    0/  207] training time ratio: 0.862294652791413\n",
      "Valid Error: \n",
      " Accuracy: 46.2%, Avg loss: 0.693107\n",
      "\n",
      "Train loss: 0.693147  [    0/  207] training time ratio: 0.8501760272192425\n",
      "Valid Error: \n",
      " Accuracy: 55.8%, Avg loss: 0.693251\n",
      "\n"
     ]
    },
    {
     "name": "stdout",
     "output_type": "stream",
     "text": [
      "Training time: 0.160632\n",
      "Training time: 0.157727\n"
     ]
    },
    {
     "name": "stderr",
     "output_type": "stream",
     "text": [
      "Train loss: 0.693195  [    0/  207] training time ratio: 0.8293354574419664\n",
      "Valid Error: \n",
      " Accuracy: 51.9%, Avg loss: 0.692761\n",
      "\n",
      "Train loss: 0.693195  [    0/  207] training time ratio: 0.8809135070851222\n"
     ]
    },
    {
     "name": "stdout",
     "output_type": "stream",
     "text": [
      "Training time: 0.157782\n",
      "Training time: 0.169244\n"
     ]
    },
    {
     "name": "stderr",
     "output_type": "stream",
     "text": [
      "Valid Error: \n",
      " Accuracy: 48.1%, Avg loss: 0.693152\n",
      "\n",
      "Train loss: 0.693146  [    0/  207] training time ratio: 0.8586048700152923\n",
      "Valid Error: \n",
      " Accuracy: 50.0%, Avg loss: 0.693299\n",
      "\n",
      "Train loss: 0.694189  [    0/  207] training time ratio: 0.8303629410491377\n",
      "Valid Error: \n",
      " Accuracy: 50.0%, Avg loss: 0.693150\n",
      "\n"
     ]
    },
    {
     "name": "stdout",
     "output_type": "stream",
     "text": [
      "Training time: 0.161809\n",
      "Training time: 0.154511\n"
     ]
    },
    {
     "name": "stderr",
     "output_type": "stream",
     "text": [
      "Train loss: 0.693145  [    0/  207] training time ratio: 0.8505684152855774\n",
      "Valid Error: \n",
      " Accuracy: 50.0%, Avg loss: 0.693149\n",
      "\n",
      "Train loss: 0.693150  [    0/  207] training time ratio: 0.8491034754162874\n",
      "Valid Error: \n",
      " Accuracy: 51.9%, Avg loss: 0.693150\n",
      "\n"
     ]
    },
    {
     "name": "stdout",
     "output_type": "stream",
     "text": [
      "Training time: 0.159419\n",
      "Training time: 0.157872\n"
     ]
    },
    {
     "name": "stderr",
     "output_type": "stream",
     "text": [
      "Train loss: 0.693149  [    0/  207] training time ratio: 0.8437822525747162\n",
      "Valid Error: \n",
      " Accuracy: 51.9%, Avg loss: 0.693151\n",
      "\n",
      "Train loss: 0.693152  [    0/  207] training time ratio: 0.8161626719243651\n",
      "Valid Error: \n",
      " Accuracy: 51.9%, Avg loss: 0.693152\n",
      "\n"
     ]
    },
    {
     "name": "stdout",
     "output_type": "stream",
     "text": [
      "Training time: 0.159245\n",
      "Training time: 0.153949\n"
     ]
    },
    {
     "name": "stderr",
     "output_type": "stream",
     "text": [
      "Train loss: 0.693142  [    0/  207] training time ratio: 0.8622625027298537\n",
      "Valid Error: \n",
      " Accuracy: 50.0%, Avg loss: 0.693154\n",
      "\n",
      "Train loss: 0.693131  [    0/  207] training time ratio: 0.8521098203849916\n",
      "Valid Error: \n",
      " Accuracy: 48.1%, Avg loss: 0.693151\n",
      "\n"
     ]
    },
    {
     "name": "stdout",
     "output_type": "stream",
     "text": [
      "Training time: 0.159315\n",
      "Training time: 0.160875\n"
     ]
    },
    {
     "name": "stderr",
     "output_type": "stream",
     "text": [
      "Train loss: 0.693154  [    0/  207] training time ratio: 0.8663413784089918\n",
      "Valid Error: \n",
      " Accuracy: 63.5%, Avg loss: 0.693143\n",
      "\n",
      "Train loss: 0.693150  [    0/  207] training time ratio: 0.813727155789627\n"
     ]
    },
    {
     "name": "stdout",
     "output_type": "stream",
     "text": [
      "Training time: 0.161534\n",
      "Training time: 0.159417\n"
     ]
    },
    {
     "name": "stderr",
     "output_type": "stream",
     "text": [
      "Valid Error: \n",
      " Accuracy: 57.7%, Avg loss: 0.693145\n",
      "\n",
      "Train loss: 0.693141  [    0/  207] training time ratio: 0.8311624384702764\n",
      "Valid Error: \n",
      " Accuracy: 48.1%, Avg loss: 0.693147\n",
      "\n",
      "Train loss: 0.693133  [    0/  207] training time ratio: 0.8633189791499405\n",
      "Valid Error: \n",
      " Accuracy: 44.2%, Avg loss: 0.693149\n",
      "\n"
     ]
    },
    {
     "name": "stdout",
     "output_type": "stream",
     "text": [
      "Training time: 0.174587\n",
      "Training time: 0.1608\n"
     ]
    },
    {
     "name": "stderr",
     "output_type": "stream",
     "text": [
      "Train loss: 0.693141  [    0/  207] training time ratio: 0.8473752731668759\n",
      "Valid Error: \n",
      " Accuracy: 44.2%, Avg loss: 0.693148\n",
      "\n",
      "Train loss: 0.693146  [    0/  207] training time ratio: 0.8391636798088411\n"
     ]
    },
    {
     "name": "stdout",
     "output_type": "stream",
     "text": [
      "Training time: 0.16415\n",
      "Training time: 0.162851\n"
     ]
    },
    {
     "name": "stderr",
     "output_type": "stream",
     "text": [
      "Valid Error: \n",
      " Accuracy: 44.2%, Avg loss: 0.693148\n",
      "\n",
      "Train loss: 0.693147  [    0/  207] training time ratio: 0.8570881312391554\n",
      "Valid Error: \n",
      " Accuracy: 40.4%, Avg loss: 0.693148\n",
      "\n",
      "Train loss: 0.693147  [    0/  207] training time ratio: 0.8507114700509566\n",
      "Valid Error: \n",
      " Accuracy: 40.4%, Avg loss: 0.693148\n",
      "\n"
     ]
    },
    {
     "name": "stdout",
     "output_type": "stream",
     "text": [
      "Training time: 0.164571\n",
      "Training time: 0.160531\n"
     ]
    },
    {
     "name": "stderr",
     "output_type": "stream",
     "text": [
      "Train loss: 0.693146  [    0/  207] training time ratio: 0.8223895786688378\n",
      "Valid Error: \n",
      " Accuracy: 40.4%, Avg loss: 0.693148\n",
      "\n",
      "Train loss: 0.693146  [    0/  207] training time ratio: 0.8382013027947048\n"
     ]
    },
    {
     "name": "stdout",
     "output_type": "stream",
     "text": [
      "Training time: 0.169243\n",
      "Training time: 0.162692\n"
     ]
    },
    {
     "name": "stderr",
     "output_type": "stream",
     "text": [
      "Valid Error: \n",
      " Accuracy: 40.4%, Avg loss: 0.693148\n",
      "\n",
      "Train loss: 0.693147  [    0/  207] training time ratio: 0.8561830828763384\n",
      "Valid Error: \n",
      " Accuracy: 40.4%, Avg loss: 0.693148\n",
      "\n",
      "Train loss: 0.693148  [    0/  207] training time ratio: 0.8130954562110663\n",
      "Valid Error: \n",
      " Accuracy: 40.4%, Avg loss: 0.693148\n",
      "\n"
     ]
    },
    {
     "name": "stdout",
     "output_type": "stream",
     "text": [
      "Training time: 0.158292\n",
      "Training time: 0.159065\n"
     ]
    },
    {
     "name": "stderr",
     "output_type": "stream",
     "text": [
      "Train loss: 0.693147  [    0/  207] training time ratio: 0.834690487765354\n",
      "Valid Error: \n",
      " Accuracy: 46.2%, Avg loss: 0.693148\n",
      "\n",
      "Train loss: 0.693147  [    0/  207] training time ratio: 0.8590326370090403\n",
      "Valid Error: \n",
      " Accuracy: 46.2%, Avg loss: 0.693149\n",
      "\n"
     ]
    },
    {
     "name": "stdout",
     "output_type": "stream",
     "text": [
      "Training time: 0.183766\n",
      "Training time: 0.150633\n"
     ]
    },
    {
     "name": "stderr",
     "output_type": "stream",
     "text": [
      "Train loss: 0.693146  [    0/  207] training time ratio: 0.8360491831177672\n",
      "Valid Error: \n",
      " Accuracy: 46.2%, Avg loss: 0.693149\n",
      "\n",
      "Train loss: 0.693148  [    0/  207] training time ratio: 0.8489248392282959\n",
      "Valid Error: \n",
      " Accuracy: 46.2%, Avg loss: 0.693148\n",
      "\n"
     ]
    },
    {
     "name": "stdout",
     "output_type": "stream",
     "text": [
      "Training time: 0.162839\n",
      "Training time: 0.156153\n"
     ]
    },
    {
     "name": "stderr",
     "output_type": "stream",
     "text": [
      "Train loss: 0.693148  [    0/  207] training time ratio: 0.8320911680911681\n",
      "Valid Error: \n",
      " Accuracy: 46.2%, Avg loss: 0.693149\n",
      "\n",
      "Train loss: 0.693146  [    0/  207] training time ratio: 0.8442105794468\n",
      "Valid Error: \n",
      " Accuracy: 46.2%, Avg loss: 0.693149\n",
      "\n"
     ]
    },
    {
     "name": "stdout",
     "output_type": "stream",
     "text": [
      "Training time: 0.156074\n",
      "Training time: 0.151341\n"
     ]
    },
    {
     "name": "stderr",
     "output_type": "stream",
     "text": [
      "Train loss: 0.693147  [    0/  207] training time ratio: 0.8453216793236854\n",
      "Valid Error: \n",
      " Accuracy: 46.2%, Avg loss: 0.693149\n",
      "\n",
      "Train loss: 0.693149  [    0/  207] training time ratio: 0.8355799840827697\n",
      "Valid Error: \n",
      " Accuracy: 46.2%, Avg loss: 0.693150\n",
      "\n"
     ]
    },
    {
     "name": "stdout",
     "output_type": "stream",
     "text": [
      "Training time: 0.15233\n",
      "Training time: 0.151847\n"
     ]
    },
    {
     "name": "stderr",
     "output_type": "stream",
     "text": [
      "Train loss: 0.693148  [    0/  207] training time ratio: 0.8416584969273809\n",
      "Valid Error: \n",
      " Accuracy: 46.2%, Avg loss: 0.693150\n",
      "\n",
      "Train loss: 0.693151  [    0/  207] training time ratio: 0.8406898641482753\n",
      "Valid Error: \n",
      " Accuracy: 46.2%, Avg loss: 0.693150\n",
      "\n"
     ]
    },
    {
     "name": "stdout",
     "output_type": "stream",
     "text": [
      "Training time: 0.153249\n",
      "Training time: 0.149225\n"
     ]
    },
    {
     "name": "stderr",
     "output_type": "stream",
     "text": [
      "Train loss: 0.693147  [    0/  207] training time ratio: 0.8528793915248098\n",
      "Valid Error: \n",
      " Accuracy: 48.1%, Avg loss: 0.693153\n",
      "\n",
      "Train loss: 0.693148  [    0/  207] training time ratio: 0.8400636010297309\n",
      "Valid Error: \n",
      " Accuracy: 48.1%, Avg loss: 0.693159\n",
      "\n"
     ]
    },
    {
     "name": "stdout",
     "output_type": "stream",
     "text": [
      "Training time: 0.153764\n",
      "Training time: 0.150015\n"
     ]
    },
    {
     "name": "stderr",
     "output_type": "stream",
     "text": [
      "Train loss: 0.693149  [    0/  207] training time ratio: 0.8734398155771448\n",
      "Valid Error: \n",
      " Accuracy: 51.9%, Avg loss: 0.693153\n",
      "\n",
      "Train loss: 0.693144  [    0/  207] training time ratio: 0.8577852435715209\n",
      "Valid Error: \n",
      " Accuracy: 50.0%, Avg loss: 0.693149\n",
      "\n"
     ]
    },
    {
     "name": "stdout",
     "output_type": "stream",
     "text": [
      "Training time: 0.178723\n",
      "Training time: 0.150241\n"
     ]
    },
    {
     "name": "stderr",
     "output_type": "stream",
     "text": [
      "Train loss: 0.693148  [    0/  207] training time ratio: 0.8518825169949451\n",
      "Valid Error: \n",
      " Accuracy: 50.0%, Avg loss: 0.693148\n",
      "\n",
      "Train loss: 0.693146  [    0/  207] training time ratio: 0.8641610867113063\n",
      "Valid Error: \n",
      " Accuracy: 51.9%, Avg loss: 0.693148\n",
      "\n"
     ]
    },
    {
     "name": "stdout",
     "output_type": "stream",
     "text": [
      "Training time: 0.162934\n",
      "Training time: 0.153565\n"
     ]
    },
    {
     "name": "stderr",
     "output_type": "stream",
     "text": [
      "Train loss: 0.693147  [    0/  207] training time ratio: 0.8520630123185419\n",
      "Valid Error: \n",
      " Accuracy: 44.2%, Avg loss: 0.693148\n",
      "\n",
      "Train loss: 0.693147  [    0/  207] training time ratio: 0.8404493334576303\n",
      "Valid Error: \n",
      " Accuracy: 44.2%, Avg loss: 0.693148\n",
      "\n"
     ]
    },
    {
     "name": "stdout",
     "output_type": "stream",
     "text": [
      "Training time: 0.162905\n",
      "Training time: 0.158641\n"
     ]
    },
    {
     "name": "stderr",
     "output_type": "stream",
     "text": [
      "Valid Error: \n",
      " Accuracy: 41.4%, Avg loss: 0.693167\n",
      "\n",
      "Test Error 5: \n",
      " Accuracy: 41.4%, Avg loss: 0.693167\n",
      "[2024-01-24 20:51:03] INFO (torcheeg/MainThread) Read the split of train and test set from ./examples_vanilla_torch/split6. If you want to use the same setting for the experiment, please set split_path to ./examples_vanilla_torch/split6 for the next run.\n",
      "Train loss: 0.693150  [    0/  207] training time ratio: 0.8436480397741986\n",
      "Valid Error: \n",
      " Accuracy: 53.8%, Avg loss: 0.693009\n",
      "\n",
      "Train loss: 0.692873  [    0/  207] training time ratio: 0.838210961737332\n",
      "Valid Error: \n",
      " Accuracy: 50.0%, Avg loss: 0.693007\n",
      "\n"
     ]
    },
    {
     "name": "stdout",
     "output_type": "stream",
     "text": [
      "Training time: 0.149347\n",
      "Training time: 0.148787\n"
     ]
    },
    {
     "name": "stderr",
     "output_type": "stream",
     "text": [
      "Train loss: 0.692971  [    0/  207] training time ratio: 0.8431211979410388\n",
      "Valid Error: \n",
      " Accuracy: 51.9%, Avg loss: 0.692912\n",
      "\n",
      "Train loss: 0.694106  [    0/  207] training time ratio: 0.8428108212747423\n",
      "Valid Error: \n",
      " Accuracy: 55.8%, Avg loss: 0.693132\n",
      "\n"
     ]
    },
    {
     "name": "stdout",
     "output_type": "stream",
     "text": [
      "Training time: 0.15457\n",
      "Training time: 0.158048\n"
     ]
    },
    {
     "name": "stderr",
     "output_type": "stream",
     "text": [
      "Train loss: 0.693066  [    0/  207] training time ratio: 0.8510557911086857\n",
      "Valid Error: \n",
      " Accuracy: 50.0%, Avg loss: 0.693133\n",
      "\n",
      "Train loss: 0.693090  [    0/  207] training time ratio: 0.8600820959813511\n",
      "Valid Error: \n",
      " Accuracy: 50.0%, Avg loss: 0.693117\n",
      "\n"
     ]
    },
    {
     "name": "stdout",
     "output_type": "stream",
     "text": [
      "Training time: 0.194081\n",
      "Training time: 0.158687\n"
     ]
    },
    {
     "name": "stderr",
     "output_type": "stream",
     "text": [
      "Train loss: 0.693079  [    0/  207] training time ratio: 0.8622460573558152\n",
      "Valid Error: \n",
      " Accuracy: 59.6%, Avg loss: 0.693113\n",
      "\n",
      "Train loss: 0.693084  [    0/  207] training time ratio: 0.8565865179266853\n",
      "Valid Error: \n",
      " Accuracy: 57.7%, Avg loss: 0.693082\n",
      "\n"
     ]
    },
    {
     "name": "stdout",
     "output_type": "stream",
     "text": [
      "Training time: 0.157427\n",
      "Training time: 0.151556\n"
     ]
    },
    {
     "name": "stderr",
     "output_type": "stream",
     "text": [
      "Train loss: 0.693065  [    0/  207] training time ratio: 0.8575109753769804\n",
      "Valid Error: \n",
      " Accuracy: 53.8%, Avg loss: 0.692960\n",
      "\n",
      "Train loss: 0.692827  [    0/  207] training time ratio: 0.8520174964368211\n",
      "Valid Error: \n",
      " Accuracy: 61.5%, Avg loss: 0.693018\n",
      "\n"
     ]
    },
    {
     "name": "stdout",
     "output_type": "stream",
     "text": [
      "Training time: 0.157982\n",
      "Training time: 0.152062\n"
     ]
    },
    {
     "name": "stderr",
     "output_type": "stream",
     "text": [
      "Train loss: 0.692418  [    0/  207] training time ratio: 0.8397500359143801\n",
      "Valid Error: \n",
      " Accuracy: 57.7%, Avg loss: 0.692921\n",
      "\n",
      "Train loss: 0.692018  [    0/  207] training time ratio: 0.8515856859041966\n",
      "Valid Error: \n",
      " Accuracy: 51.9%, Avg loss: 0.692871\n",
      "\n"
     ]
    },
    {
     "name": "stdout",
     "output_type": "stream",
     "text": [
      "Training time: 0.156116\n",
      "Training time: 0.153061\n"
     ]
    },
    {
     "name": "stderr",
     "output_type": "stream",
     "text": [
      "Train loss: 0.692913  [    0/  207] training time ratio: 0.7975321022913078\n",
      "Valid Error: \n",
      " Accuracy: 51.9%, Avg loss: 0.692339\n",
      "\n",
      "Train loss: 0.692582  [    0/  207] training time ratio: 0.8417133607271822\n",
      "Valid Error: \n",
      " Accuracy: 53.8%, Avg loss: 0.692832\n",
      "\n"
     ]
    },
    {
     "name": "stdout",
     "output_type": "stream",
     "text": [
      "Training time: 0.163228\n",
      "Training time: 0.153634\n"
     ]
    },
    {
     "name": "stderr",
     "output_type": "stream",
     "text": [
      "Train loss: 0.692613  [    0/  207] training time ratio: 0.8512336032580387\n",
      "Valid Error: \n",
      " Accuracy: 42.3%, Avg loss: 0.693244\n",
      "\n",
      "Train loss: 0.692789  [    0/  207] training time ratio: 0.8523058823529412\n",
      "Valid Error: \n",
      " Accuracy: 61.5%, Avg loss: 0.692750\n",
      "\n"
     ]
    },
    {
     "name": "stdout",
     "output_type": "stream",
     "text": [
      "Training time: 0.154182\n",
      "Training time: 0.162109\n"
     ]
    },
    {
     "name": "stderr",
     "output_type": "stream",
     "text": [
      "Train loss: 0.693061  [    0/  207] training time ratio: 0.8546196470517377\n",
      "Valid Error: \n",
      " Accuracy: 46.2%, Avg loss: 0.693278\n",
      "\n",
      "Train loss: 0.693145  [    0/  207] training time ratio: 0.8598773064485448\n",
      "Valid Error: \n",
      " Accuracy: 53.8%, Avg loss: 0.693140\n",
      "\n"
     ]
    },
    {
     "name": "stdout",
     "output_type": "stream",
     "text": [
      "Training time: 0.208798\n",
      "Training time: 0.15933\n"
     ]
    },
    {
     "name": "stderr",
     "output_type": "stream",
     "text": [
      "Train loss: 0.693154  [    0/  207] training time ratio: 0.8388640113127503\n",
      "Valid Error: \n",
      " Accuracy: 46.2%, Avg loss: 0.693352\n",
      "\n",
      "Train loss: 0.693239  [    0/  207] training time ratio: 0.8500464252553389\n"
     ]
    },
    {
     "name": "stdout",
     "output_type": "stream",
     "text": [
      "Training time: 0.162864\n",
      "Training time: 0.16355\n"
     ]
    },
    {
     "name": "stderr",
     "output_type": "stream",
     "text": [
      "Valid Error: \n",
      " Accuracy: 46.2%, Avg loss: 0.693263\n",
      "\n",
      "Train loss: 0.693314  [    0/  207] training time ratio: 0.8747961359929746\n",
      "Valid Error: \n",
      " Accuracy: 44.2%, Avg loss: 0.693553\n",
      "\n",
      "Train loss: 0.692912  [    0/  207] training time ratio: 0.8491800004992387\n",
      "Valid Error: \n",
      " Accuracy: 59.6%, Avg loss: 0.693067\n",
      "\n"
     ]
    },
    {
     "name": "stdout",
     "output_type": "stream",
     "text": [
      "Training time: 0.164248\n",
      "Training time: 0.153561\n"
     ]
    },
    {
     "name": "stderr",
     "output_type": "stream",
     "text": [
      "Train loss: 0.693125  [    0/  207] training time ratio: 0.8455007002801119\n",
      "Valid Error: \n",
      " Accuracy: 57.7%, Avg loss: 0.693115\n",
      "\n",
      "Train loss: 0.693102  [    0/  207] training time ratio: 0.8206582433704864\n"
     ]
    },
    {
     "name": "stdout",
     "output_type": "stream",
     "text": [
      "Training time: 0.170186\n",
      "Training time: 0.166728\n"
     ]
    },
    {
     "name": "stderr",
     "output_type": "stream",
     "text": [
      "Valid Error: \n",
      " Accuracy: 55.8%, Avg loss: 0.693121\n",
      "\n",
      "Train loss: 0.693092  [    0/  207] training time ratio: 0.8657056145675266\n",
      "Valid Error: \n",
      " Accuracy: 53.8%, Avg loss: 0.693122\n",
      "\n",
      "Train loss: 0.693147  [    0/  207] training time ratio: 0.8378358750907772\n",
      "Valid Error: \n",
      " Accuracy: 53.8%, Avg loss: 0.693129\n",
      "\n"
     ]
    },
    {
     "name": "stdout",
     "output_type": "stream",
     "text": [
      "Training time: 0.156722\n",
      "Training time: 0.154708\n"
     ]
    },
    {
     "name": "stderr",
     "output_type": "stream",
     "text": [
      "Train loss: 0.693148  [    0/  207] training time ratio: 0.8577814348618957\n",
      "Valid Error: \n",
      " Accuracy: 53.8%, Avg loss: 0.693145\n",
      "\n",
      "Train loss: 0.693143  [    0/  207] training time ratio: 0.8290979244278872\n"
     ]
    },
    {
     "name": "stdout",
     "output_type": "stream",
     "text": [
      "Training time: 0.168901\n",
      "Training time: 0.161174\n"
     ]
    },
    {
     "name": "stderr",
     "output_type": "stream",
     "text": [
      "Valid Error: \n",
      " Accuracy: 51.9%, Avg loss: 0.693148\n",
      "\n",
      "Train loss: 0.693141  [    0/  207] training time ratio: 0.8718587322649791\n",
      "Valid Error: \n",
      " Accuracy: 50.0%, Avg loss: 0.693148\n",
      "\n",
      "Train loss: 0.693146  [    0/  207] training time ratio: 0.8395565927654609\n",
      "Valid Error: \n",
      " Accuracy: 50.0%, Avg loss: 0.693146\n",
      "\n"
     ]
    },
    {
     "name": "stdout",
     "output_type": "stream",
     "text": [
      "Training time: 0.167739\n",
      "Training time: 0.160161\n"
     ]
    },
    {
     "name": "stderr",
     "output_type": "stream",
     "text": [
      "Train loss: 0.693147  [    0/  207] training time ratio: 0.859438185238847\n",
      "Valid Error: \n",
      " Accuracy: 48.1%, Avg loss: 0.693143\n",
      "\n",
      "Train loss: 0.693142  [    0/  207] training time ratio: 0.8584628518341828\n",
      "Valid Error: \n",
      " Accuracy: 48.1%, Avg loss: 0.693140\n",
      "\n"
     ]
    },
    {
     "name": "stdout",
     "output_type": "stream",
     "text": [
      "Training time: 0.165148\n",
      "Training time: 0.158969\n"
     ]
    },
    {
     "name": "stderr",
     "output_type": "stream",
     "text": [
      "Train loss: 0.693136  [    0/  207] training time ratio: 0.854090120145166\n",
      "Valid Error: \n",
      " Accuracy: 51.9%, Avg loss: 0.693144\n",
      "\n",
      "Train loss: 0.693108  [    0/  207] training time ratio: 0.8430687149296293\n",
      "Valid Error: \n",
      " Accuracy: 48.1%, Avg loss: 0.693142\n",
      "\n"
     ]
    },
    {
     "name": "stdout",
     "output_type": "stream",
     "text": [
      "Training time: 0.161011\n",
      "Training time: 0.161484\n"
     ]
    },
    {
     "name": "stderr",
     "output_type": "stream",
     "text": [
      "Train loss: 0.693162  [    0/  207] training time ratio: 0.8477295516401662\n",
      "Valid Error: \n",
      " Accuracy: 46.2%, Avg loss: 0.693133\n",
      "\n",
      "Train loss: 0.693116  [    0/  207] training time ratio: 0.8093155677029952\n",
      "Valid Error: \n",
      " Accuracy: 50.0%, Avg loss: 0.693131\n",
      "\n"
     ]
    },
    {
     "name": "stdout",
     "output_type": "stream",
     "text": [
      "Training time: 0.160377\n",
      "Training time: 0.160971\n"
     ]
    },
    {
     "name": "stderr",
     "output_type": "stream",
     "text": [
      "Train loss: 0.693126  [    0/  207] training time ratio: 0.8473860559048974\n",
      "Valid Error: \n",
      " Accuracy: 53.8%, Avg loss: 0.693180\n",
      "\n",
      "Train loss: 0.693028  [    0/  207] training time ratio: 0.8734787600459242\n",
      "Valid Error: \n",
      " Accuracy: 57.7%, Avg loss: 0.693143\n",
      "\n"
     ]
    },
    {
     "name": "stdout",
     "output_type": "stream",
     "text": [
      "Training time: 0.162043\n",
      "Training time: 0.157211\n"
     ]
    },
    {
     "name": "stderr",
     "output_type": "stream",
     "text": [
      "Train loss: 0.693131  [    0/  207] training time ratio: 0.8557534148609025\n",
      "Valid Error: \n",
      " Accuracy: 57.7%, Avg loss: 0.693145\n",
      "\n",
      "Train loss: 0.693147  [    0/  207] training time ratio: 0.8587388622344071\n",
      "Valid Error: \n",
      " Accuracy: 61.5%, Avg loss: 0.693145\n",
      "\n"
     ]
    },
    {
     "name": "stdout",
     "output_type": "stream",
     "text": [
      "Training time: 0.170293\n",
      "Training time: 0.155558\n"
     ]
    },
    {
     "name": "stderr",
     "output_type": "stream",
     "text": [
      "Train loss: 0.693146  [    0/  207] training time ratio: 0.8530146758144395\n",
      "Valid Error: \n",
      " Accuracy: 57.7%, Avg loss: 0.693145\n",
      "\n",
      "Train loss: 0.693148  [    0/  207] training time ratio: 0.8510997479999021\n",
      "Valid Error: \n",
      " Accuracy: 59.6%, Avg loss: 0.693146\n",
      "\n"
     ]
    },
    {
     "name": "stdout",
     "output_type": "stream",
     "text": [
      "Training time: 0.159731\n",
      "Training time: 0.158346\n"
     ]
    },
    {
     "name": "stderr",
     "output_type": "stream",
     "text": [
      "Train loss: 0.693145  [    0/  207] training time ratio: 0.8294605708168081\n",
      "Valid Error: \n",
      " Accuracy: 61.5%, Avg loss: 0.693146\n",
      "\n",
      "Train loss: 0.693147  [    0/  207] training time ratio: 0.8436333781161368\n",
      "Valid Error: \n",
      " Accuracy: 57.7%, Avg loss: 0.693146\n",
      "\n"
     ]
    },
    {
     "name": "stdout",
     "output_type": "stream",
     "text": [
      "Training time: 0.157744\n",
      "Training time: 0.155235\n"
     ]
    },
    {
     "name": "stderr",
     "output_type": "stream",
     "text": [
      "Train loss: 0.693147  [    0/  207] training time ratio: 0.8243066041484542\n",
      "Valid Error: \n",
      " Accuracy: 59.6%, Avg loss: 0.693146\n",
      "\n",
      "Train loss: 0.693147  [    0/  207] training time ratio: 0.8536343727187402\n",
      "Valid Error: \n",
      " Accuracy: 57.7%, Avg loss: 0.693145\n",
      "\n"
     ]
    },
    {
     "name": "stdout",
     "output_type": "stream",
     "text": [
      "Training time: 0.174375\n",
      "Training time: 0.151246\n"
     ]
    },
    {
     "name": "stderr",
     "output_type": "stream",
     "text": [
      "Train loss: 0.693147  [    0/  207] training time ratio: 0.8099048087969802\n",
      "Valid Error: \n",
      " Accuracy: 57.7%, Avg loss: 0.693145\n",
      "\n",
      "Train loss: 0.693145  [    0/  207] training time ratio: 0.8530950197079749\n",
      "Valid Error: \n",
      " Accuracy: 53.8%, Avg loss: 0.693145\n",
      "\n"
     ]
    },
    {
     "name": "stdout",
     "output_type": "stream",
     "text": [
      "Training time: 0.171455\n",
      "Training time: 0.152805\n"
     ]
    },
    {
     "name": "stderr",
     "output_type": "stream",
     "text": [
      "Train loss: 0.693147  [    0/  207] training time ratio: 0.8626956752454231\n",
      "Valid Error: \n",
      " Accuracy: 53.8%, Avg loss: 0.693145\n",
      "\n",
      "Train loss: 0.693144  [    0/  207] training time ratio: 0.8538447922724859\n",
      "Valid Error: \n",
      " Accuracy: 57.7%, Avg loss: 0.693145\n",
      "\n"
     ]
    },
    {
     "name": "stdout",
     "output_type": "stream",
     "text": [
      "Training time: 0.171557\n",
      "Training time: 0.154582\n"
     ]
    },
    {
     "name": "stderr",
     "output_type": "stream",
     "text": [
      "Valid Error: \n",
      " Accuracy: 51.7%, Avg loss: 0.693053\n",
      "\n",
      "Test Error 6: \n",
      " Accuracy: 51.7%, Avg loss: 0.693053\n",
      "[2024-01-24 20:51:12] INFO (torcheeg/MainThread) Read the split of train and test set from ./examples_vanilla_torch/split7. If you want to use the same setting for the experiment, please set split_path to ./examples_vanilla_torch/split7 for the next run.\n",
      "Train loss: 0.693110  [    0/  207] training time ratio: 0.8449708512490437\n",
      "Valid Error: \n",
      " Accuracy: 46.2%, Avg loss: 0.693201\n",
      "\n",
      "Train loss: 0.693067  [    0/  207] training time ratio: 0.8387953484774257\n",
      "Valid Error: \n",
      " Accuracy: 51.9%, Avg loss: 0.693062\n",
      "\n"
     ]
    },
    {
     "name": "stdout",
     "output_type": "stream",
     "text": [
      "Training time: 0.14825\n",
      "Training time: 0.150157\n"
     ]
    },
    {
     "name": "stderr",
     "output_type": "stream",
     "text": [
      "Train loss: 0.693019  [    0/  207] training time ratio: 0.8388295288975232\n",
      "Valid Error: \n",
      " Accuracy: 44.2%, Avg loss: 0.693138\n",
      "\n",
      "Train loss: 0.693032  [    0/  207] training time ratio: 0.8526384007577457\n",
      "Valid Error: \n",
      " Accuracy: 55.8%, Avg loss: 0.693180\n",
      "\n"
     ]
    },
    {
     "name": "stdout",
     "output_type": "stream",
     "text": [
      "Training time: 0.15434\n",
      "Training time: 0.151819\n"
     ]
    },
    {
     "name": "stderr",
     "output_type": "stream",
     "text": [
      "Train loss: 0.693070  [    0/  207] training time ratio: 0.8616574421822495\n",
      "Valid Error: \n",
      " Accuracy: 51.9%, Avg loss: 0.693183\n",
      "\n",
      "Train loss: 0.692456  [    0/  207] training time ratio: 0.8279865356872982\n",
      "Valid Error: \n",
      " Accuracy: 53.8%, Avg loss: 0.693254\n",
      "\n"
     ]
    },
    {
     "name": "stdout",
     "output_type": "stream",
     "text": [
      "Training time: 0.153907\n",
      "Training time: 0.157297\n"
     ]
    },
    {
     "name": "stderr",
     "output_type": "stream",
     "text": [
      "Train loss: 0.692085  [    0/  207] training time ratio: 0.847248529558369\n",
      "Valid Error: \n",
      " Accuracy: 53.8%, Avg loss: 0.692908\n",
      "\n",
      "Train loss: 0.691795  [    0/  207] training time ratio: 0.8489347504885373\n"
     ]
    },
    {
     "name": "stdout",
     "output_type": "stream",
     "text": [
      "Training time: 0.151749\n",
      "Training time: 0.183954\n"
     ]
    },
    {
     "name": "stderr",
     "output_type": "stream",
     "text": [
      "Valid Error: \n",
      " Accuracy: 50.0%, Avg loss: 0.693816\n",
      "\n",
      "Train loss: 0.690878  [    0/  207] training time ratio: 0.8161748720279858\n",
      "Valid Error: \n",
      " Accuracy: 50.0%, Avg loss: 0.693218\n",
      "\n",
      "Train loss: 0.693118  [    0/  207] training time ratio: 0.8646153078286043\n",
      "Valid Error: \n",
      " Accuracy: 57.7%, Avg loss: 0.692828\n",
      "\n"
     ]
    },
    {
     "name": "stdout",
     "output_type": "stream",
     "text": [
      "Training time: 0.170838\n",
      "Training time: 0.151924\n"
     ]
    },
    {
     "name": "stderr",
     "output_type": "stream",
     "text": [
      "Train loss: 0.693242  [    0/  207] training time ratio: 0.8645401721136636\n",
      "Valid Error: \n",
      " Accuracy: 59.6%, Avg loss: 0.693131\n",
      "\n",
      "Train loss: 0.693135  [    0/  207] training time ratio: 0.8618184560468565\n",
      "Valid Error: \n",
      " Accuracy: 50.0%, Avg loss: 0.693147\n",
      "\n"
     ]
    },
    {
     "name": "stdout",
     "output_type": "stream",
     "text": [
      "Training time: 0.157557\n",
      "Training time: 0.155981\n"
     ]
    },
    {
     "name": "stderr",
     "output_type": "stream",
     "text": [
      "Train loss: 0.693147  [    0/  207] training time ratio: 0.8528036823052766\n",
      "Valid Error: \n",
      " Accuracy: 46.2%, Avg loss: 0.693162\n",
      "\n",
      "Train loss: 0.693143  [    0/  207] training time ratio: 0.8539707941588318\n",
      "Valid Error: \n",
      " Accuracy: 46.2%, Avg loss: 0.693216\n",
      "\n"
     ]
    },
    {
     "name": "stdout",
     "output_type": "stream",
     "text": [
      "Training time: 0.158456\n",
      "Training time: 0.153335\n"
     ]
    },
    {
     "name": "stderr",
     "output_type": "stream",
     "text": [
      "Train loss: 0.693126  [    0/  207] training time ratio: 0.8684855233853007\n",
      "Valid Error: \n",
      " Accuracy: 44.2%, Avg loss: 0.693176\n",
      "\n",
      "Train loss: 0.693127  [    0/  207] training time ratio: 0.8883014281373444\n",
      "Valid Error: \n",
      " Accuracy: 40.4%, Avg loss: 0.693187\n",
      "\n"
     ]
    },
    {
     "name": "stdout",
     "output_type": "stream",
     "text": [
      "Training time: 0.161846\n",
      "Training time: 0.165605\n"
     ]
    },
    {
     "name": "stderr",
     "output_type": "stream",
     "text": [
      "Train loss: 0.693135  [    0/  207] training time ratio: 0.8513335093741748\n",
      "Valid Error: \n",
      " Accuracy: 38.5%, Avg loss: 0.693220\n",
      "\n",
      "Train loss: 0.693091  [    0/  207] training time ratio: 0.8219271970350814\n",
      "Valid Error: \n",
      " Accuracy: 42.3%, Avg loss: 0.693271\n",
      "\n"
     ]
    },
    {
     "name": "stdout",
     "output_type": "stream",
     "text": [
      "Training time: 0.153468\n",
      "Training time: 0.150984\n"
     ]
    },
    {
     "name": "stderr",
     "output_type": "stream",
     "text": [
      "Train loss: 0.693082  [    0/  207] training time ratio: 0.864448419283236\n",
      "Valid Error: \n",
      " Accuracy: 38.5%, Avg loss: 0.693433\n",
      "\n",
      "Train loss: 0.692998  [    0/  207] training time ratio: 0.8476776488303867\n",
      "Valid Error: \n",
      " Accuracy: 40.4%, Avg loss: 0.693516\n",
      "\n"
     ]
    },
    {
     "name": "stdout",
     "output_type": "stream",
     "text": [
      "Training time: 0.160542\n",
      "Training time: 0.148959\n"
     ]
    },
    {
     "name": "stderr",
     "output_type": "stream",
     "text": [
      "Train loss: 0.693114  [    0/  207] training time ratio: 0.8479742521772057\n",
      "Valid Error: \n",
      " Accuracy: 36.5%, Avg loss: 0.693530\n",
      "\n",
      "Train loss: 0.693240  [    0/  207] training time ratio: 0.817860145055031\n"
     ]
    },
    {
     "name": "stdout",
     "output_type": "stream",
     "text": [
      "Training time: 0.171031\n"
     ]
    },
    {
     "name": "stderr",
     "output_type": "stream",
     "text": [
      "Valid Error: \n",
      " Accuracy: 34.6%, Avg loss: 0.693879\n",
      "\n",
      "Train loss: 0.692995  [    0/  207] training time ratio: 0.837325623113775\n"
     ]
    },
    {
     "name": "stdout",
     "output_type": "stream",
     "text": [
      "Training time: 0.188926\n",
      "Training time: 0.164157\n"
     ]
    },
    {
     "name": "stderr",
     "output_type": "stream",
     "text": [
      "Valid Error: \n",
      " Accuracy: 40.4%, Avg loss: 0.693295\n",
      "\n",
      "Train loss: 0.693103  [    0/  207] training time ratio: 0.8815260341993916\n",
      "Valid Error: \n",
      " Accuracy: 50.0%, Avg loss: 0.693147\n",
      "\n",
      "Train loss: 0.693147  [    0/  207] training time ratio: 0.8515475077498401\n",
      "Valid Error: \n",
      " Accuracy: 48.1%, Avg loss: 0.693137\n",
      "\n"
     ]
    },
    {
     "name": "stdout",
     "output_type": "stream",
     "text": [
      "Training time: 0.178794\n",
      "Training time: 0.15678\n"
     ]
    },
    {
     "name": "stderr",
     "output_type": "stream",
     "text": [
      "Train loss: 0.693144  [    0/  207] training time ratio: 0.8696273750230585\n",
      "Valid Error: \n",
      " Accuracy: 50.0%, Avg loss: 0.693095\n",
      "\n",
      "Train loss: 0.693237  [    0/  207] training time ratio: 0.8475937183383991\n",
      "Valid Error: \n",
      " Accuracy: 50.0%, Avg loss: 0.692565\n",
      "\n"
     ]
    },
    {
     "name": "stdout",
     "output_type": "stream",
     "text": [
      "Training time: 0.16179\n",
      "Training time: 0.149279\n"
     ]
    },
    {
     "name": "stderr",
     "output_type": "stream",
     "text": [
      "Train loss: 0.695065  [    0/  207] training time ratio: 0.8379338940883782\n",
      "Valid Error: \n",
      " Accuracy: 42.3%, Avg loss: 0.693162\n",
      "\n",
      "Train loss: 0.693134  [    0/  207] training time ratio: 0.8566207410613382\n",
      "Valid Error: \n",
      " Accuracy: 46.2%, Avg loss: 0.693349\n",
      "\n"
     ]
    },
    {
     "name": "stdout",
     "output_type": "stream",
     "text": [
      "Training time: 0.159932\n",
      "Training time: 0.15752\n"
     ]
    },
    {
     "name": "stderr",
     "output_type": "stream",
     "text": [
      "Train loss: 0.693043  [    0/  207] training time ratio: 0.8435841627742046\n",
      "Valid Error: \n",
      " Accuracy: 53.8%, Avg loss: 0.692456\n",
      "\n",
      "Train loss: 0.693401  [    0/  207] training time ratio: 0.8382819842015697\n"
     ]
    },
    {
     "name": "stdout",
     "output_type": "stream",
     "text": [
      "Training time: 0.158058\n",
      "Training time: 0.162705\n"
     ]
    },
    {
     "name": "stderr",
     "output_type": "stream",
     "text": [
      "Valid Error: \n",
      " Accuracy: 48.1%, Avg loss: 0.693134\n",
      "\n",
      "Train loss: 0.693107  [    0/  207] training time ratio: 0.8507492467625756\n",
      "Valid Error: \n",
      " Accuracy: 40.4%, Avg loss: 0.693503\n",
      "\n",
      "Train loss: 0.692707  [    0/  207] training time ratio: 0.8953584180170283\n"
     ]
    },
    {
     "name": "stdout",
     "output_type": "stream",
     "text": [
      "Training time: 0.16961\n",
      "Training time: 0.178169\n"
     ]
    },
    {
     "name": "stderr",
     "output_type": "stream",
     "text": [
      "Valid Error: \n",
      " Accuracy: 48.1%, Avg loss: 0.693153\n",
      "\n",
      "Train loss: 0.693146  [    0/  207] training time ratio: 0.8185222333667669\n",
      "Valid Error: \n",
      " Accuracy: 59.6%, Avg loss: 0.693099\n",
      "\n",
      "Train loss: 0.693029  [    0/  207] training time ratio: 0.846108535867032\n",
      "Valid Error: \n",
      " Accuracy: 51.9%, Avg loss: 0.692804\n",
      "\n"
     ]
    },
    {
     "name": "stdout",
     "output_type": "stream",
     "text": [
      "Training time: 0.159584\n",
      "Training time: 0.149879\n"
     ]
    },
    {
     "name": "stderr",
     "output_type": "stream",
     "text": [
      "Train loss: 0.694360  [    0/  207] training time ratio: 0.8607234763688097\n",
      "Valid Error: \n",
      " Accuracy: 59.6%, Avg loss: 0.693139\n",
      "\n",
      "Train loss: 0.693144  [    0/  207] training time ratio: 0.8500152268805198\n",
      "Valid Error: \n",
      " Accuracy: 46.2%, Avg loss: 0.693134\n",
      "\n"
     ]
    },
    {
     "name": "stdout",
     "output_type": "stream",
     "text": [
      "Training time: 0.162762\n",
      "Training time: 0.151777\n"
     ]
    },
    {
     "name": "stderr",
     "output_type": "stream",
     "text": [
      "Train loss: 0.693111  [    0/  207] training time ratio: 0.8503461986700487\n",
      "Valid Error: \n",
      " Accuracy: 55.8%, Avg loss: 0.693032\n",
      "\n",
      "Train loss: 0.693166  [    0/  207] training time ratio: 0.8395885028949545\n",
      "Valid Error: \n",
      " Accuracy: 55.8%, Avg loss: 0.692930\n",
      "\n"
     ]
    },
    {
     "name": "stdout",
     "output_type": "stream",
     "text": [
      "Training time: 0.156207\n",
      "Training time: 0.148873\n"
     ]
    },
    {
     "name": "stderr",
     "output_type": "stream",
     "text": [
      "Train loss: 0.693153  [    0/  207] training time ratio: 0.8387128663931591\n",
      "Valid Error: \n",
      " Accuracy: 57.7%, Avg loss: 0.692734\n",
      "\n",
      "Train loss: 0.692790  [    0/  207] training time ratio: 0.8444542642509942\n",
      "Valid Error: \n",
      " Accuracy: 63.5%, Avg loss: 0.692575\n",
      "\n"
     ]
    },
    {
     "name": "stdout",
     "output_type": "stream",
     "text": [
      "Training time: 0.151253\n",
      "Training time: 0.152552\n"
     ]
    },
    {
     "name": "stderr",
     "output_type": "stream",
     "text": [
      "Train loss: 0.692967  [    0/  207] training time ratio: 0.8002077337545712\n",
      "Valid Error: \n",
      " Accuracy: 42.3%, Avg loss: 0.693217\n",
      "\n",
      "Train loss: 0.693134  [    0/  207] training time ratio: 0.8566089791823426\n",
      "Valid Error: \n",
      " Accuracy: 51.9%, Avg loss: 0.693083\n",
      "\n"
     ]
    },
    {
     "name": "stdout",
     "output_type": "stream",
     "text": [
      "Training time: 0.161174\n",
      "Training time: 0.149732\n"
     ]
    },
    {
     "name": "stderr",
     "output_type": "stream",
     "text": [
      "Train loss: 0.693143  [    0/  207] training time ratio: 0.8556284704694599\n",
      "Valid Error: \n",
      " Accuracy: 53.8%, Avg loss: 0.692727\n",
      "\n",
      "Train loss: 0.693019  [    0/  207] training time ratio: 0.8590228862206403\n",
      "Valid Error: \n",
      " Accuracy: 44.2%, Avg loss: 0.693240\n",
      "\n"
     ]
    },
    {
     "name": "stdout",
     "output_type": "stream",
     "text": [
      "Training time: 0.15994\n",
      "Training time: 0.152994\n"
     ]
    },
    {
     "name": "stderr",
     "output_type": "stream",
     "text": [
      "Train loss: 0.693099  [    0/  207] training time ratio: 0.8582776938447293\n",
      "Valid Error: \n",
      " Accuracy: 50.0%, Avg loss: 0.693187\n",
      "\n",
      "Train loss: 0.693099  [    0/  207] training time ratio: 0.8379751982110185\n",
      "Valid Error: \n",
      " Accuracy: 50.0%, Avg loss: 0.693190\n",
      "\n"
     ]
    },
    {
     "name": "stdout",
     "output_type": "stream",
     "text": [
      "Training time: 0.153412\n",
      "Training time: 0.150415\n"
     ]
    },
    {
     "name": "stderr",
     "output_type": "stream",
     "text": [
      "Train loss: 0.693116  [    0/  207] training time ratio: 0.8522817263908137\n",
      "Valid Error: \n",
      " Accuracy: 50.0%, Avg loss: 0.693203\n",
      "\n",
      "Train loss: 0.693051  [    0/  207] training time ratio: 0.8466320448207936\n",
      "Valid Error: \n",
      " Accuracy: 53.8%, Avg loss: 0.693171\n",
      "\n"
     ]
    },
    {
     "name": "stdout",
     "output_type": "stream",
     "text": [
      "Training time: 0.153876\n",
      "Training time: 0.149313\n"
     ]
    },
    {
     "name": "stderr",
     "output_type": "stream",
     "text": [
      "Train loss: 0.692968  [    0/  207] training time ratio: 0.8557976003147127\n",
      "Valid Error: \n",
      " Accuracy: 55.8%, Avg loss: 0.692678\n",
      "\n",
      "Valid Error: \n",
      " Accuracy: 44.8%, Avg loss: 0.693329\n",
      "\n",
      "Test Error 7: \n",
      " Accuracy: 44.8%, Avg loss: 0.693329\n",
      "[2024-01-24 20:51:21] INFO (torcheeg/MainThread) Read the split of train and test set from ./examples_vanilla_torch/split8. If you want to use the same setting for the experiment, please set split_path to ./examples_vanilla_torch/split8 for the next run.\n"
     ]
    },
    {
     "name": "stdout",
     "output_type": "stream",
     "text": [
      "Training time: 0.164609\n"
     ]
    },
    {
     "name": "stderr",
     "output_type": "stream",
     "text": [
      "Train loss: 0.693180  [    0/  208] training time ratio: 0.8674502880505481\n",
      "Valid Error: \n",
      " Accuracy: 48.1%, Avg loss: 0.693225\n",
      "\n",
      "Train loss: 0.693058  [    0/  208] training time ratio: 0.7928332584718272\n",
      "Valid Error: \n",
      " Accuracy: 53.8%, Avg loss: 0.693175\n",
      "\n"
     ]
    },
    {
     "name": "stdout",
     "output_type": "stream",
     "text": [
      "Training time: 0.161632\n",
      "Training time: 0.151558\n"
     ]
    },
    {
     "name": "stderr",
     "output_type": "stream",
     "text": [
      "Train loss: 0.692814  [    0/  208] training time ratio: 0.8628987517337032\n",
      "Valid Error: \n",
      " Accuracy: 59.6%, Avg loss: 0.692465\n",
      "\n",
      "Train loss: 0.692018  [    0/  208] training time ratio: 0.8533505821474774\n",
      "Valid Error: \n",
      " Accuracy: 42.3%, Avg loss: 0.694205\n",
      "\n"
     ]
    },
    {
     "name": "stdout",
     "output_type": "stream",
     "text": [
      "Training time: 0.156493\n",
      "Training time: 0.150578\n"
     ]
    },
    {
     "name": "stderr",
     "output_type": "stream",
     "text": [
      "Train loss: 0.692380  [    0/  208] training time ratio: 0.8552217994469785\n",
      "Valid Error: \n",
      " Accuracy: 50.0%, Avg loss: 0.694883\n",
      "\n",
      "Train loss: 0.691343  [    0/  208] training time ratio: 0.8301928186627014\n",
      "Valid Error: \n",
      " Accuracy: 46.2%, Avg loss: 0.694494\n",
      "\n"
     ]
    },
    {
     "name": "stdout",
     "output_type": "stream",
     "text": [
      "Training time: 0.154246\n",
      "Training time: 0.152043\n"
     ]
    },
    {
     "name": "stderr",
     "output_type": "stream",
     "text": [
      "Train loss: 0.693546  [    0/  208] training time ratio: 0.8536153955002123\n",
      "Valid Error: \n",
      " Accuracy: 46.2%, Avg loss: 0.694132\n",
      "\n",
      "Train loss: 0.691568  [    0/  208] training time ratio: 0.8061868958109559\n",
      "Valid Error: \n",
      " Accuracy: 42.3%, Avg loss: 0.694827\n",
      "\n"
     ]
    },
    {
     "name": "stdout",
     "output_type": "stream",
     "text": [
      "Training time: 0.155959\n",
      "Training time: 0.157563\n"
     ]
    },
    {
     "name": "stderr",
     "output_type": "stream",
     "text": [
      "Train loss: 0.691574  [    0/  208] training time ratio: 0.8139219827070965\n",
      "Valid Error: \n",
      " Accuracy: 46.2%, Avg loss: 0.694363\n",
      "\n",
      "Train loss: 0.693317  [    0/  208] training time ratio: 0.8534772372563023\n",
      "Valid Error: \n",
      " Accuracy: 40.4%, Avg loss: 0.693491\n",
      "\n"
     ]
    },
    {
     "name": "stdout",
     "output_type": "stream",
     "text": [
      "Training time: 0.16432\n",
      "Training time: 0.148835\n"
     ]
    },
    {
     "name": "stderr",
     "output_type": "stream",
     "text": [
      "Train loss: 0.693015  [    0/  208] training time ratio: 0.8484548242510026\n",
      "Valid Error: \n",
      " Accuracy: 46.2%, Avg loss: 0.693325\n",
      "\n",
      "Train loss: 0.693350  [    0/  208] training time ratio: 0.8360275973208441\n",
      "Valid Error: \n",
      " Accuracy: 57.7%, Avg loss: 0.692155\n",
      "\n"
     ]
    },
    {
     "name": "stdout",
     "output_type": "stream",
     "text": [
      "Training time: 0.155881\n",
      "Training time: 0.149993\n"
     ]
    },
    {
     "name": "stderr",
     "output_type": "stream",
     "text": [
      "Train loss: 0.693264  [    0/  208] training time ratio: 0.8364813422883883\n",
      "Valid Error: \n",
      " Accuracy: 61.5%, Avg loss: 0.693006\n",
      "\n",
      "Train loss: 0.693114  [    0/  208] training time ratio: 0.8371310271136637\n",
      "Valid Error: \n",
      " Accuracy: 55.8%, Avg loss: 0.693146\n",
      "\n"
     ]
    },
    {
     "name": "stdout",
     "output_type": "stream",
     "text": [
      "Training time: 0.154361\n",
      "Training time: 0.147625\n"
     ]
    },
    {
     "name": "stderr",
     "output_type": "stream",
     "text": [
      "Train loss: 0.693147  [    0/  208] training time ratio: 0.8364084490820722\n",
      "Valid Error: \n",
      " Accuracy: 40.4%, Avg loss: 0.693160\n",
      "\n",
      "Train loss: 0.693151  [    0/  208] training time ratio: 0.8375938324203692\n",
      "Valid Error: \n",
      " Accuracy: 61.5%, Avg loss: 0.692759\n",
      "\n"
     ]
    },
    {
     "name": "stdout",
     "output_type": "stream",
     "text": [
      "Training time: 0.153902\n",
      "Training time: 0.149028\n"
     ]
    },
    {
     "name": "stderr",
     "output_type": "stream",
     "text": [
      "Train loss: 0.692997  [    0/  208] training time ratio: 0.8356325147804522\n",
      "Valid Error: \n",
      " Accuracy: 50.0%, Avg loss: 0.693114\n",
      "\n",
      "Train loss: 0.693148  [    0/  208] training time ratio: 0.8538438543171741\n",
      "Valid Error: \n",
      " Accuracy: 46.2%, Avg loss: 0.693327\n",
      "\n"
     ]
    },
    {
     "name": "stdout",
     "output_type": "stream",
     "text": [
      "Training time: 0.166407\n",
      "Training time: 0.150212\n"
     ]
    },
    {
     "name": "stderr",
     "output_type": "stream",
     "text": [
      "Train loss: 0.693970  [    0/  208] training time ratio: 0.8565150364694785\n",
      "Valid Error: \n",
      " Accuracy: 42.3%, Avg loss: 0.693352\n",
      "\n",
      "Train loss: 0.693351  [    0/  208] training time ratio: 0.8310696530162472\n",
      "Valid Error: \n",
      " Accuracy: 48.1%, Avg loss: 0.693156\n",
      "\n"
     ]
    },
    {
     "name": "stdout",
     "output_type": "stream",
     "text": [
      "Training time: 0.156043\n",
      "Training time: 0.149053\n"
     ]
    },
    {
     "name": "stderr",
     "output_type": "stream",
     "text": [
      "Train loss: 0.693144  [    0/  208] training time ratio: 0.8514170797867365\n",
      "Valid Error: \n",
      " Accuracy: 48.1%, Avg loss: 0.692823\n",
      "\n",
      "Train loss: 0.692929  [    0/  208] training time ratio: 0.8423094831600186\n",
      "Valid Error: \n",
      " Accuracy: 51.9%, Avg loss: 0.693096\n",
      "\n"
     ]
    },
    {
     "name": "stdout",
     "output_type": "stream",
     "text": [
      "Training time: 0.155162\n",
      "Training time: 0.14839\n"
     ]
    },
    {
     "name": "stderr",
     "output_type": "stream",
     "text": [
      "Train loss: 0.693052  [    0/  208] training time ratio: 0.8380465958838625\n",
      "Valid Error: \n",
      " Accuracy: 46.2%, Avg loss: 0.693474\n",
      "\n",
      "Train loss: 0.693420  [    0/  208] training time ratio: 0.8407606708113474\n",
      "Valid Error: \n",
      " Accuracy: 53.8%, Avg loss: 0.693115\n",
      "\n"
     ]
    },
    {
     "name": "stdout",
     "output_type": "stream",
     "text": [
      "Training time: 0.151775\n",
      "Training time: 0.153502\n"
     ]
    },
    {
     "name": "stderr",
     "output_type": "stream",
     "text": [
      "Train loss: 0.693138  [    0/  208] training time ratio: 0.8650974674912408\n",
      "Valid Error: \n",
      " Accuracy: 51.9%, Avg loss: 0.692975\n",
      "\n",
      "Train loss: 0.693645  [    0/  208] training time ratio: 0.8482174540465095\n",
      "Valid Error: \n",
      " Accuracy: 50.0%, Avg loss: 0.693092\n",
      "\n"
     ]
    },
    {
     "name": "stdout",
     "output_type": "stream",
     "text": [
      "Training time: 0.173789\n",
      "Training time: 0.159485\n"
     ]
    },
    {
     "name": "stderr",
     "output_type": "stream",
     "text": [
      "Train loss: 0.693273  [    0/  208] training time ratio: 0.8307285508523765\n",
      "Valid Error: \n",
      " Accuracy: 48.1%, Avg loss: 0.693635\n",
      "\n",
      "Train loss: 0.692654  [    0/  208] training time ratio: 0.864421852092196\n",
      "Valid Error: \n",
      " Accuracy: 48.1%, Avg loss: 0.693154\n",
      "\n"
     ]
    },
    {
     "name": "stdout",
     "output_type": "stream",
     "text": [
      "Training time: 0.164512\n",
      "Training time: 0.15757\n"
     ]
    },
    {
     "name": "stderr",
     "output_type": "stream",
     "text": [
      "Train loss: 0.693155  [    0/  208] training time ratio: 0.878268221827169\n",
      "Valid Error: \n",
      " Accuracy: 50.0%, Avg loss: 0.693147\n",
      "\n",
      "Train loss: 0.693131  [    0/  208] training time ratio: 0.8475276143284814\n"
     ]
    },
    {
     "name": "stdout",
     "output_type": "stream",
     "text": [
      "Training time: 0.166455\n",
      "Training time: 0.168803\n"
     ]
    },
    {
     "name": "stderr",
     "output_type": "stream",
     "text": [
      "Valid Error: \n",
      " Accuracy: 50.0%, Avg loss: 0.693135\n",
      "\n",
      "Train loss: 0.692800  [    0/  208] training time ratio: 0.8912655685014061\n",
      "Valid Error: \n",
      " Accuracy: 44.2%, Avg loss: 0.693161\n",
      "\n",
      "Train loss: 0.693143  [    0/  208] training time ratio: 0.8536910697104871\n",
      "Valid Error: \n",
      " Accuracy: 40.4%, Avg loss: 0.693149\n",
      "\n"
     ]
    },
    {
     "name": "stdout",
     "output_type": "stream",
     "text": [
      "Training time: 0.179922\n",
      "Training time: 0.158078\n"
     ]
    },
    {
     "name": "stderr",
     "output_type": "stream",
     "text": [
      "Train loss: 0.693147  [    0/  208] training time ratio: 0.8689486771657071\n",
      "Valid Error: \n",
      " Accuracy: 46.2%, Avg loss: 0.693150\n",
      "\n",
      "Train loss: 0.693149  [    0/  208] training time ratio: 0.8480680061823802\n",
      "Valid Error: \n",
      " Accuracy: 40.4%, Avg loss: 0.693148\n",
      "\n"
     ]
    },
    {
     "name": "stdout",
     "output_type": "stream",
     "text": [
      "Training time: 0.160841\n",
      "Training time: 0.148694\n"
     ]
    },
    {
     "name": "stderr",
     "output_type": "stream",
     "text": [
      "Train loss: 0.693147  [    0/  208] training time ratio: 0.8687391676356376\n",
      "Valid Error: \n",
      " Accuracy: 53.8%, Avg loss: 0.693147\n",
      "\n",
      "Train loss: 0.693147  [    0/  208] training time ratio: 0.8387203670660209\n",
      "Valid Error: \n",
      " Accuracy: 51.9%, Avg loss: 0.693147\n",
      "\n"
     ]
    },
    {
     "name": "stdout",
     "output_type": "stream",
     "text": [
      "Training time: 0.170309\n",
      "Training time: 0.151187\n"
     ]
    },
    {
     "name": "stderr",
     "output_type": "stream",
     "text": [
      "Train loss: 0.693147  [    0/  208] training time ratio: 0.8636713793728475\n",
      "Valid Error: \n",
      " Accuracy: 53.8%, Avg loss: 0.693147\n",
      "\n",
      "Train loss: 0.693146  [    0/  208] training time ratio: 0.8477937530986615\n",
      "Valid Error: \n",
      " Accuracy: 55.8%, Avg loss: 0.693147\n",
      "\n"
     ]
    },
    {
     "name": "stdout",
     "output_type": "stream",
     "text": [
      "Training time: 0.156948\n",
      "Training time: 0.147302\n"
     ]
    },
    {
     "name": "stderr",
     "output_type": "stream",
     "text": [
      "Train loss: 0.693145  [    0/  208] training time ratio: 0.8247284476832119\n",
      "Valid Error: \n",
      " Accuracy: 55.8%, Avg loss: 0.693146\n",
      "\n",
      "Train loss: 0.693144  [    0/  208] training time ratio: 0.8559250631907618\n",
      "Valid Error: \n",
      " Accuracy: 55.8%, Avg loss: 0.693143\n",
      "\n"
     ]
    },
    {
     "name": "stdout",
     "output_type": "stream",
     "text": [
      "Training time: 0.190794\n",
      "Training time: 0.162804\n"
     ]
    },
    {
     "name": "stderr",
     "output_type": "stream",
     "text": [
      "Train loss: 0.693120  [    0/  208] training time ratio: 0.8471684465812874\n",
      "Valid Error: \n",
      " Accuracy: 51.9%, Avg loss: 0.693065\n",
      "\n",
      "Train loss: 0.693042  [    0/  208] training time ratio: 0.8582926768865005\n",
      "Valid Error: \n",
      " Accuracy: 55.8%, Avg loss: 0.693144\n",
      "\n"
     ]
    },
    {
     "name": "stdout",
     "output_type": "stream",
     "text": [
      "Training time: 0.162463\n",
      "Training time: 0.153779\n"
     ]
    },
    {
     "name": "stderr",
     "output_type": "stream",
     "text": [
      "Train loss: 0.693141  [    0/  208] training time ratio: 0.8606000629751248\n",
      "Valid Error: \n",
      " Accuracy: 50.0%, Avg loss: 0.693163\n",
      "\n",
      "Train loss: 0.693132  [    0/  208] training time ratio: 0.8613452823979139\n",
      "Valid Error: \n",
      " Accuracy: 42.3%, Avg loss: 0.693154\n",
      "\n"
     ]
    },
    {
     "name": "stdout",
     "output_type": "stream",
     "text": [
      "Training time: 0.16751\n",
      "Training time: 0.153568\n"
     ]
    },
    {
     "name": "stderr",
     "output_type": "stream",
     "text": [
      "Train loss: 0.693148  [    0/  208] training time ratio: 0.8607143747351629\n",
      "Valid Error: \n",
      " Accuracy: 48.1%, Avg loss: 0.693167\n",
      "\n",
      "Train loss: 0.693179  [    0/  208] training time ratio: 0.855259115721814\n"
     ]
    },
    {
     "name": "stdout",
     "output_type": "stream",
     "text": [
      "Training time: 0.161777\n",
      "Training time: 0.164153\n"
     ]
    },
    {
     "name": "stderr",
     "output_type": "stream",
     "text": [
      "Valid Error: \n",
      " Accuracy: 46.2%, Avg loss: 0.693122\n",
      "\n",
      "Train loss: 0.692699  [    0/  208] training time ratio: 0.8721093593202953\n",
      "Valid Error: \n",
      " Accuracy: 53.8%, Avg loss: 0.693147\n",
      "\n",
      "Train loss: 0.693148  [    0/  208] training time ratio: 0.8567909064298956\n",
      "Valid Error: \n",
      " Accuracy: 44.2%, Avg loss: 0.693108\n",
      "\n"
     ]
    },
    {
     "name": "stdout",
     "output_type": "stream",
     "text": [
      "Training time: 0.160656\n",
      "Training time: 0.157392\n"
     ]
    },
    {
     "name": "stderr",
     "output_type": "stream",
     "text": [
      "Train loss: 0.694529  [    0/  208] training time ratio: 0.8688996938591752\n",
      "Valid Error: \n",
      " Accuracy: 53.8%, Avg loss: 0.693154\n",
      "\n",
      "Train loss: 0.693139  [    0/  208] training time ratio: 0.8543426255919543\n",
      "Valid Error: \n",
      " Accuracy: 53.8%, Avg loss: 0.693154\n",
      "\n"
     ]
    },
    {
     "name": "stdout",
     "output_type": "stream",
     "text": [
      "Training time: 0.161495\n",
      "Training time: 0.156124\n"
     ]
    },
    {
     "name": "stderr",
     "output_type": "stream",
     "text": [
      "Valid Error: \n",
      " Accuracy: 50.0%, Avg loss: 0.693076\n",
      "\n",
      "Test Error 8: \n",
      " Accuracy: 50.0%, Avg loss: 0.693076\n",
      "[2024-01-24 20:51:30] INFO (torcheeg/MainThread) Read the split of train and test set from ./examples_vanilla_torch/split9. If you want to use the same setting for the experiment, please set split_path to ./examples_vanilla_torch/split9 for the next run.\n",
      "Train loss: 0.693122  [    0/  208] training time ratio: 0.846362734346441\n",
      "Valid Error: \n",
      " Accuracy: 55.8%, Avg loss: 0.693173\n",
      "\n",
      "Train loss: 0.693212  [    0/  208] training time ratio: 0.8138542603778435\n",
      "Valid Error: \n",
      " Accuracy: 53.8%, Avg loss: 0.693078\n",
      "\n"
     ]
    },
    {
     "name": "stdout",
     "output_type": "stream",
     "text": [
      "Training time: 0.147254\n",
      "Training time: 0.149113\n"
     ]
    },
    {
     "name": "stderr",
     "output_type": "stream",
     "text": [
      "Train loss: 0.692986  [    0/  208] training time ratio: 0.8533307123375187\n",
      "Valid Error: \n",
      " Accuracy: 53.8%, Avg loss: 0.693048\n",
      "\n",
      "Train loss: 0.692976  [    0/  208] training time ratio: 0.8247948497075759\n"
     ]
    },
    {
     "name": "stdout",
     "output_type": "stream",
     "text": [
      "Training time: 0.153763\n",
      "Training time: 0.157882\n"
     ]
    },
    {
     "name": "stderr",
     "output_type": "stream",
     "text": [
      "Valid Error: \n",
      " Accuracy: 51.9%, Avg loss: 0.693161\n",
      "\n",
      "Train loss: 0.692686  [    0/  208] training time ratio: 0.8742036473498698\n",
      "Valid Error: \n",
      " Accuracy: 48.1%, Avg loss: 0.693558\n",
      "\n",
      "Train loss: 0.691907  [    0/  208] training time ratio: 0.8507078841407975\n",
      "Valid Error: \n",
      " Accuracy: 44.2%, Avg loss: 0.694763\n",
      "\n"
     ]
    },
    {
     "name": "stdout",
     "output_type": "stream",
     "text": [
      "Training time: 0.157116\n",
      "Training time: 0.149357\n"
     ]
    },
    {
     "name": "stderr",
     "output_type": "stream",
     "text": [
      "Train loss: 0.691664  [    0/  208] training time ratio: 0.8589290390154491\n",
      "Valid Error: \n",
      " Accuracy: 44.2%, Avg loss: 0.693508\n",
      "\n",
      "Train loss: 0.692818  [    0/  208] training time ratio: 0.8554000624284673\n",
      "Valid Error: \n",
      " Accuracy: 48.1%, Avg loss: 0.693653\n",
      "\n"
     ]
    },
    {
     "name": "stdout",
     "output_type": "stream",
     "text": [
      "Training time: 0.160037\n",
      "Training time: 0.148082\n"
     ]
    },
    {
     "name": "stderr",
     "output_type": "stream",
     "text": [
      "Train loss: 0.692333  [    0/  208] training time ratio: 0.8475013611722652\n",
      "Valid Error: \n",
      " Accuracy: 55.8%, Avg loss: 0.693473\n",
      "\n",
      "Train loss: 0.694674  [    0/  208] training time ratio: 0.8540411026578402\n",
      "Valid Error: \n",
      " Accuracy: 53.8%, Avg loss: 0.693122\n",
      "\n"
     ]
    },
    {
     "name": "stdout",
     "output_type": "stream",
     "text": [
      "Training time: 0.154672\n",
      "Training time: 0.150989\n"
     ]
    },
    {
     "name": "stderr",
     "output_type": "stream",
     "text": [
      "Train loss: 0.693167  [    0/  208] training time ratio: 0.851516191783957\n",
      "Valid Error: \n",
      " Accuracy: 51.9%, Avg loss: 0.693145\n",
      "\n",
      "Train loss: 0.693159  [    0/  208] training time ratio: 0.8728607865723219\n",
      "Valid Error: \n",
      " Accuracy: 46.2%, Avg loss: 0.693152\n",
      "\n"
     ]
    },
    {
     "name": "stdout",
     "output_type": "stream",
     "text": [
      "Training time: 0.158247\n",
      "Training time: 0.158664\n"
     ]
    },
    {
     "name": "stderr",
     "output_type": "stream",
     "text": [
      "Train loss: 0.693147  [    0/  208] training time ratio: 0.8508399712151665\n",
      "Valid Error: \n",
      " Accuracy: 55.8%, Avg loss: 0.693143\n",
      "\n",
      "Train loss: 0.693136  [    0/  208] training time ratio: 0.8323481582819235\n",
      "Valid Error: \n",
      " Accuracy: 53.8%, Avg loss: 0.693147\n",
      "\n"
     ]
    },
    {
     "name": "stdout",
     "output_type": "stream",
     "text": [
      "Training time: 0.151546\n",
      "Training time: 0.147416\n"
     ]
    },
    {
     "name": "stderr",
     "output_type": "stream",
     "text": [
      "Train loss: 0.693132  [    0/  208] training time ratio: 0.8500089219709909\n",
      "Valid Error: \n",
      " Accuracy: 57.7%, Avg loss: 0.693144\n",
      "\n",
      "Train loss: 0.693144  [    0/  208] training time ratio: 0.835308530187222\n",
      "Valid Error: \n",
      " Accuracy: 55.8%, Avg loss: 0.693146\n",
      "\n"
     ]
    },
    {
     "name": "stdout",
     "output_type": "stream",
     "text": [
      "Training time: 0.149204\n",
      "Training time: 0.145888\n"
     ]
    },
    {
     "name": "stderr",
     "output_type": "stream",
     "text": [
      "Train loss: 0.693148  [    0/  208] training time ratio: 0.8801119065251378\n",
      "Valid Error: \n",
      " Accuracy: 55.8%, Avg loss: 0.693147\n",
      "\n",
      "Train loss: 0.693147  [    0/  208] training time ratio: 0.8412263535551207\n",
      "Valid Error: \n",
      " Accuracy: 59.6%, Avg loss: 0.693147\n",
      "\n"
     ]
    },
    {
     "name": "stdout",
     "output_type": "stream",
     "text": [
      "Training time: 0.164434\n",
      "Training time: 0.149308\n"
     ]
    },
    {
     "name": "stderr",
     "output_type": "stream",
     "text": [
      "Train loss: 0.693147  [    0/  208] training time ratio: 0.8670091864759921\n",
      "Valid Error: \n",
      " Accuracy: 63.5%, Avg loss: 0.693147\n",
      "\n",
      "Train loss: 0.693147  [    0/  208] training time ratio: 0.8228115418198063\n",
      "Valid Error: \n",
      " Accuracy: 59.6%, Avg loss: 0.693147\n",
      "\n"
     ]
    },
    {
     "name": "stdout",
     "output_type": "stream",
     "text": [
      "Training time: 0.153651\n",
      "Training time: 0.160025\n"
     ]
    },
    {
     "name": "stderr",
     "output_type": "stream",
     "text": [
      "Train loss: 0.693147  [    0/  208] training time ratio: 0.8338074699458566\n",
      "Valid Error: \n",
      " Accuracy: 55.8%, Avg loss: 0.693147\n",
      "\n",
      "Train loss: 0.693147  [    0/  208] training time ratio: 0.8544599758648431\n",
      "Valid Error: \n",
      " Accuracy: 59.6%, Avg loss: 0.693147\n",
      "\n"
     ]
    },
    {
     "name": "stdout",
     "output_type": "stream",
     "text": [
      "Training time: 0.172345\n",
      "Training time: 0.163905\n"
     ]
    },
    {
     "name": "stderr",
     "output_type": "stream",
     "text": [
      "Train loss: 0.693147  [    0/  208] training time ratio: 0.8865026505369036\n",
      "Valid Error: \n",
      " Accuracy: 55.8%, Avg loss: 0.693147\n",
      "\n",
      "Train loss: 0.693147  [    0/  208] training time ratio: 0.8516939589236903\n"
     ]
    },
    {
     "name": "stdout",
     "output_type": "stream",
     "text": [
      "Training time: 0.190115\n",
      "Training time: 0.166432\n"
     ]
    },
    {
     "name": "stderr",
     "output_type": "stream",
     "text": [
      "Valid Error: \n",
      " Accuracy: 53.8%, Avg loss: 0.693147\n",
      "\n",
      "Train loss: 0.693147  [    0/  208] training time ratio: 0.8658982913759984\n",
      "Valid Error: \n",
      " Accuracy: 53.8%, Avg loss: 0.693147\n",
      "\n",
      "Train loss: 0.693147  [    0/  208] training time ratio: 0.8515870086731869\n",
      "Valid Error: \n",
      " Accuracy: 53.8%, Avg loss: 0.693147\n",
      "\n"
     ]
    },
    {
     "name": "stdout",
     "output_type": "stream",
     "text": [
      "Training time: 0.173574\n",
      "Training time: 0.160477\n"
     ]
    },
    {
     "name": "stderr",
     "output_type": "stream",
     "text": [
      "Train loss: 0.693147  [    0/  208] training time ratio: 0.8398480476615532\n",
      "Valid Error: \n",
      " Accuracy: 53.8%, Avg loss: 0.693147\n",
      "\n",
      "Train loss: 0.693147  [    0/  208] training time ratio: 0.8862242152466367\n"
     ]
    },
    {
     "name": "stdout",
     "output_type": "stream",
     "text": [
      "Training time: 0.16441\n",
      "Training time: 0.173719\n"
     ]
    },
    {
     "name": "stderr",
     "output_type": "stream",
     "text": [
      "Valid Error: \n",
      " Accuracy: 51.9%, Avg loss: 0.693147\n",
      "\n",
      "Train loss: 0.693147  [    0/  208] training time ratio: 0.8670969256043182\n",
      "Valid Error: \n",
      " Accuracy: 51.9%, Avg loss: 0.693147\n",
      "\n",
      "Train loss: 0.693147  [    0/  208] training time ratio: 0.8503665939610544\n",
      "Valid Error: \n",
      " Accuracy: 51.9%, Avg loss: 0.693147\n",
      "\n"
     ]
    },
    {
     "name": "stdout",
     "output_type": "stream",
     "text": [
      "Training time: 0.161707\n",
      "Training time: 0.148494\n"
     ]
    },
    {
     "name": "stderr",
     "output_type": "stream",
     "text": [
      "Train loss: 0.693147  [    0/  208] training time ratio: 0.8550092336103416\n",
      "Valid Error: \n",
      " Accuracy: 50.0%, Avg loss: 0.693147\n",
      "\n",
      "Train loss: 0.693147  [    0/  208] training time ratio: 0.8370580856565035\n",
      "Valid Error: \n",
      " Accuracy: 50.0%, Avg loss: 0.693147\n",
      "\n"
     ]
    },
    {
     "name": "stdout",
     "output_type": "stream",
     "text": [
      "Training time: 0.155549\n",
      "Training time: 0.149069\n"
     ]
    },
    {
     "name": "stderr",
     "output_type": "stream",
     "text": [
      "Train loss: 0.693147  [    0/  208] training time ratio: 0.8263237518910741\n",
      "Valid Error: \n",
      " Accuracy: 50.0%, Avg loss: 0.693147\n",
      "\n",
      "Train loss: 0.693147  [    0/  208] training time ratio: 0.8256947830326669\n",
      "Valid Error: \n",
      " Accuracy: 50.0%, Avg loss: 0.693147\n",
      "\n"
     ]
    },
    {
     "name": "stdout",
     "output_type": "stream",
     "text": [
      "Training time: 0.154062\n",
      "Training time: 0.152108\n"
     ]
    },
    {
     "name": "stderr",
     "output_type": "stream",
     "text": [
      "Train loss: 0.693147  [    0/  208] training time ratio: 0.8323512598390572\n",
      "Valid Error: \n",
      " Accuracy: 50.0%, Avg loss: 0.693147\n",
      "\n",
      "Train loss: 0.693147  [    0/  208] training time ratio: 0.8633783948361953\n",
      "Valid Error: \n",
      " Accuracy: 48.1%, Avg loss: 0.693147\n",
      "\n"
     ]
    },
    {
     "name": "stdout",
     "output_type": "stream",
     "text": [
      "Training time: 0.167579\n",
      "Training time: 0.158597\n"
     ]
    },
    {
     "name": "stderr",
     "output_type": "stream",
     "text": [
      "Train loss: 0.693147  [    0/  208] training time ratio: 0.888092430161421\n",
      "Valid Error: \n",
      " Accuracy: 46.2%, Avg loss: 0.693147\n",
      "\n",
      "Train loss: 0.693147  [    0/  208] training time ratio: 0.8539308339391422\n",
      "Valid Error: \n",
      " Accuracy: 48.1%, Avg loss: 0.693147\n",
      "\n"
     ]
    },
    {
     "name": "stdout",
     "output_type": "stream",
     "text": [
      "Training time: 0.182409\n",
      "Training time: 0.161879\n"
     ]
    },
    {
     "name": "stderr",
     "output_type": "stream",
     "text": [
      "Train loss: 0.693147  [    0/  208] training time ratio: 0.849932079788375\n",
      "Valid Error: \n",
      " Accuracy: 48.1%, Avg loss: 0.693147\n",
      "\n",
      "Train loss: 0.693147  [    0/  208] training time ratio: 0.8504256814809029\n",
      "Valid Error: \n",
      " Accuracy: 50.0%, Avg loss: 0.693147\n",
      "\n"
     ]
    },
    {
     "name": "stdout",
     "output_type": "stream",
     "text": [
      "Training time: 0.163586\n",
      "Training time: 0.148387\n"
     ]
    },
    {
     "name": "stderr",
     "output_type": "stream",
     "text": [
      "Train loss: 0.693147  [    0/  208] training time ratio: 0.8920144074497057\n",
      "Valid Error: \n",
      " Accuracy: 50.0%, Avg loss: 0.693147\n",
      "\n",
      "Train loss: 0.693147  [    0/  208] training time ratio: 0.8617193006388832\n",
      "Valid Error: \n",
      " Accuracy: 48.1%, Avg loss: 0.693147\n",
      "\n"
     ]
    },
    {
     "name": "stdout",
     "output_type": "stream",
     "text": [
      "Training time: 0.186192\n",
      "Training time: 0.1611\n"
     ]
    },
    {
     "name": "stderr",
     "output_type": "stream",
     "text": [
      "Train loss: 0.693147  [    0/  208] training time ratio: 0.8430238164111464\n",
      "Valid Error: \n",
      " Accuracy: 48.1%, Avg loss: 0.693147\n",
      "\n",
      "Train loss: 0.693147  [    0/  208] training time ratio: 0.8766440723616286\n"
     ]
    },
    {
     "name": "stdout",
     "output_type": "stream",
     "text": [
      "Training time: 0.172848\n",
      "Training time: 0.164091\n"
     ]
    },
    {
     "name": "stderr",
     "output_type": "stream",
     "text": [
      "Valid Error: \n",
      " Accuracy: 48.1%, Avg loss: 0.693147\n",
      "\n",
      "Train loss: 0.693147  [    0/  208] training time ratio: 0.8717212771306462\n",
      "Valid Error: \n",
      " Accuracy: 48.1%, Avg loss: 0.693147\n",
      "\n",
      "Train loss: 0.693147  [    0/  208] training time ratio: 0.8536977075508354\n",
      "Valid Error: \n",
      " Accuracy: 50.0%, Avg loss: 0.693147\n",
      "\n"
     ]
    },
    {
     "name": "stdout",
     "output_type": "stream",
     "text": [
      "Training time: 0.169227\n",
      "Training time: 0.156916\n"
     ]
    },
    {
     "name": "stderr",
     "output_type": "stream",
     "text": [
      "Train loss: 0.693147  [    0/  208] training time ratio: 0.8507829427926822\n",
      "Valid Error: \n",
      " Accuracy: 50.0%, Avg loss: 0.693147\n",
      "\n",
      "Train loss: 0.693146  [    0/  208] training time ratio: 0.838479268508903\n"
     ]
    },
    {
     "name": "stdout",
     "output_type": "stream",
     "text": [
      "Training time: 0.180934\n",
      "Training time: 0.172028\n"
     ]
    },
    {
     "name": "stderr",
     "output_type": "stream",
     "text": [
      "Valid Error: \n",
      " Accuracy: 48.1%, Avg loss: 0.693148\n",
      "\n",
      "Train loss: 0.693147  [    0/  208] training time ratio: 0.8590675843284127\n",
      "Valid Error: \n",
      " Accuracy: 50.0%, Avg loss: 0.693148\n",
      "\n",
      "Train loss: 0.693146  [    0/  208] training time ratio: 0.8477415339936731\n",
      "Valid Error: \n",
      " Accuracy: 48.1%, Avg loss: 0.693148\n",
      "\n"
     ]
    },
    {
     "name": "stdout",
     "output_type": "stream",
     "text": [
      "Training time: 0.153675\n",
      "Training time: 0.15836\n"
     ]
    },
    {
     "name": "stderr",
     "output_type": "stream",
     "text": [
      "Valid Error: \n",
      " Accuracy: 39.3%, Avg loss: 0.693148\n",
      "\n",
      "Test Error 9: \n",
      " Accuracy: 39.3%, Avg loss: 0.693148\n",
      "[2024-01-24 20:51:39] INFO (torcheeg/MainThread) Read the split of train and test set from ./examples_vanilla_torch/split10. If you want to use the same setting for the experiment, please set split_path to ./examples_vanilla_torch/split10 for the next run.\n",
      "Train loss: 0.693125  [    0/  207] training time ratio: 0.8390646492434662\n",
      "Valid Error: \n",
      " Accuracy: 59.6%, Avg loss: 0.693071\n",
      "\n",
      "Train loss: 0.693144  [    0/  207] training time ratio: 0.8365134865134864\n"
     ]
    },
    {
     "name": "stdout",
     "output_type": "stream",
     "text": [
      "Training time: 0.157164\n",
      "Training time: 0.156607\n"
     ]
    },
    {
     "name": "stderr",
     "output_type": "stream",
     "text": [
      "Valid Error: \n",
      " Accuracy: 53.8%, Avg loss: 0.693196\n",
      "\n",
      "Train loss: 0.692941  [    0/  207] training time ratio: 0.8808937437934459\n",
      "Valid Error: \n",
      " Accuracy: 59.6%, Avg loss: 0.693110\n",
      "\n",
      "Train loss: 0.692767  [    0/  207] training time ratio: 0.8504595037879774\n",
      "Valid Error: \n",
      " Accuracy: 55.8%, Avg loss: 0.693050\n",
      "\n"
     ]
    },
    {
     "name": "stdout",
     "output_type": "stream",
     "text": [
      "Training time: 0.184026\n",
      "Training time: 0.156733\n"
     ]
    },
    {
     "name": "stderr",
     "output_type": "stream",
     "text": [
      "Train loss: 0.692951  [    0/  207] training time ratio: 0.8513596502002014\n",
      "Valid Error: \n",
      " Accuracy: 53.8%, Avg loss: 0.693055\n",
      "\n",
      "Train loss: 0.693191  [    0/  207] training time ratio: 0.8268050644462187\n",
      "Valid Error: \n",
      " Accuracy: 59.6%, Avg loss: 0.692919\n",
      "\n"
     ]
    },
    {
     "name": "stdout",
     "output_type": "stream",
     "text": [
      "Training time: 0.15744\n",
      "Training time: 0.15893\n"
     ]
    },
    {
     "name": "stderr",
     "output_type": "stream",
     "text": [
      "Train loss: 0.692896  [    0/  207] training time ratio: 0.8393866020984665\n",
      "Valid Error: \n",
      " Accuracy: 61.5%, Avg loss: 0.692855\n",
      "\n",
      "Train loss: 0.692976  [    0/  207] training time ratio: 0.8427807486631017\n",
      "Valid Error: \n",
      " Accuracy: 61.5%, Avg loss: 0.692972\n",
      "\n"
     ]
    },
    {
     "name": "stdout",
     "output_type": "stream",
     "text": [
      "Training time: 0.156061\n",
      "Training time: 0.148582\n"
     ]
    },
    {
     "name": "stderr",
     "output_type": "stream",
     "text": [
      "Train loss: 0.692748  [    0/  207] training time ratio: 0.8423925776674008\n",
      "Valid Error: \n",
      " Accuracy: 57.7%, Avg loss: 0.692807\n",
      "\n",
      "Train loss: 0.691897  [    0/  207] training time ratio: 0.8519270318634652\n",
      "Valid Error: \n",
      " Accuracy: 65.4%, Avg loss: 0.692813\n",
      "\n"
     ]
    },
    {
     "name": "stdout",
     "output_type": "stream",
     "text": [
      "Training time: 0.158893\n",
      "Training time: 0.145888\n"
     ]
    },
    {
     "name": "stderr",
     "output_type": "stream",
     "text": [
      "Train loss: 0.692789  [    0/  207] training time ratio: 0.8501268807833287\n",
      "Valid Error: \n",
      " Accuracy: 51.9%, Avg loss: 0.692386\n",
      "\n",
      "Train loss: 0.692742  [    0/  207] training time ratio: 0.8543768390079866\n",
      "Valid Error: \n",
      " Accuracy: 48.1%, Avg loss: 0.693906\n",
      "\n"
     ]
    },
    {
     "name": "stdout",
     "output_type": "stream",
     "text": [
      "Training time: 0.160199\n",
      "Training time: 0.149566\n"
     ]
    },
    {
     "name": "stderr",
     "output_type": "stream",
     "text": [
      "Train loss: 0.690294  [    0/  207] training time ratio: 0.8440845136259524\n",
      "Valid Error: \n",
      " Accuracy: 48.1%, Avg loss: 0.694702\n",
      "\n",
      "Train loss: 0.692835  [    0/  207] training time ratio: 0.8380603842634949\n",
      "Valid Error: \n",
      " Accuracy: 51.9%, Avg loss: 0.692786\n",
      "\n"
     ]
    },
    {
     "name": "stdout",
     "output_type": "stream",
     "text": [
      "Training time: 0.153627\n",
      "Training time: 0.149519\n"
     ]
    },
    {
     "name": "stderr",
     "output_type": "stream",
     "text": [
      "Train loss: 0.694230  [    0/  207] training time ratio: 0.8831773901659544\n",
      "Valid Error: \n",
      " Accuracy: 55.8%, Avg loss: 0.691987\n",
      "\n",
      "Train loss: 0.692735  [    0/  207] training time ratio: 0.856945961408436\n",
      "Valid Error: \n",
      " Accuracy: 48.1%, Avg loss: 0.693768\n",
      "\n"
     ]
    },
    {
     "name": "stdout",
     "output_type": "stream",
     "text": [
      "Training time: 0.193595\n",
      "Training time: 0.164733\n"
     ]
    },
    {
     "name": "stderr",
     "output_type": "stream",
     "text": [
      "Train loss: 0.693220  [    0/  207] training time ratio: 0.8503397790780048\n",
      "Valid Error: \n",
      " Accuracy: 50.0%, Avg loss: 0.692956\n",
      "\n",
      "Train loss: 0.692665  [    0/  207] training time ratio: 0.8469846275128103\n",
      "Valid Error: \n",
      " Accuracy: 50.0%, Avg loss: 0.693154\n",
      "\n"
     ]
    },
    {
     "name": "stdout",
     "output_type": "stream",
     "text": [
      "Training time: 0.146519\n",
      "Training time: 0.145883\n"
     ]
    },
    {
     "name": "stderr",
     "output_type": "stream",
     "text": [
      "Train loss: 0.692932  [    0/  207] training time ratio: 0.8494532776926733\n",
      "Valid Error: \n",
      " Accuracy: 53.8%, Avg loss: 0.693149\n",
      "\n",
      "Train loss: 0.693142  [    0/  207] training time ratio: 0.8382189533837768\n",
      "Valid Error: \n",
      " Accuracy: 55.8%, Avg loss: 0.693148\n",
      "\n"
     ]
    },
    {
     "name": "stdout",
     "output_type": "stream",
     "text": [
      "Training time: 0.148688\n",
      "Training time: 0.146763\n"
     ]
    },
    {
     "name": "stderr",
     "output_type": "stream",
     "text": [
      "Train loss: 0.693144  [    0/  207] training time ratio: 0.8457646176911544\n",
      "Valid Error: \n",
      " Accuracy: 55.8%, Avg loss: 0.693147\n",
      "\n",
      "Train loss: 0.693144  [    0/  207] training time ratio: 0.850472277069214\n",
      "Valid Error: \n",
      " Accuracy: 55.8%, Avg loss: 0.693147\n",
      "\n"
     ]
    },
    {
     "name": "stdout",
     "output_type": "stream",
     "text": [
      "Training time: 0.158124\n",
      "Training time: 0.150127\n"
     ]
    },
    {
     "name": "stderr",
     "output_type": "stream",
     "text": [
      "Train loss: 0.693147  [    0/  207] training time ratio: 0.8462976813762154\n",
      "Valid Error: \n",
      " Accuracy: 55.8%, Avg loss: 0.693147\n",
      "\n",
      "Train loss: 0.693145  [    0/  207] training time ratio: 0.8053223702026046\n",
      "Valid Error: \n",
      " Accuracy: 55.8%, Avg loss: 0.693147\n",
      "\n"
     ]
    },
    {
     "name": "stdout",
     "output_type": "stream",
     "text": [
      "Training time: 0.156486\n",
      "Training time: 0.150069\n"
     ]
    },
    {
     "name": "stderr",
     "output_type": "stream",
     "text": [
      "Train loss: 0.693146  [    0/  207] training time ratio: 0.854029919775157\n",
      "Valid Error: \n",
      " Accuracy: 55.8%, Avg loss: 0.693147\n",
      "\n",
      "Train loss: 0.693147  [    0/  207] training time ratio: 0.8522308308843174\n",
      "Valid Error: \n",
      " Accuracy: 55.8%, Avg loss: 0.693147\n",
      "\n"
     ]
    },
    {
     "name": "stdout",
     "output_type": "stream",
     "text": [
      "Training time: 0.173498\n",
      "Training time: 0.148948\n"
     ]
    },
    {
     "name": "stderr",
     "output_type": "stream",
     "text": [
      "Train loss: 0.693147  [    0/  207] training time ratio: 0.8248461870274933\n",
      "Valid Error: \n",
      " Accuracy: 55.8%, Avg loss: 0.693147\n",
      "\n",
      "Train loss: 0.693145  [    0/  207] training time ratio: 0.8464258591228404\n"
     ]
    },
    {
     "name": "stdout",
     "output_type": "stream",
     "text": [
      "Training time: 0.162348\n",
      "Training time: 0.160889\n"
     ]
    },
    {
     "name": "stderr",
     "output_type": "stream",
     "text": [
      "Valid Error: \n",
      " Accuracy: 55.8%, Avg loss: 0.693147\n",
      "\n",
      "Train loss: 0.693147  [    0/  207] training time ratio: 0.8639009855603943\n",
      "Valid Error: \n",
      " Accuracy: 55.8%, Avg loss: 0.693147\n",
      "\n",
      "Train loss: 0.693145  [    0/  207] training time ratio: 0.8353370990309374\n",
      "Valid Error: \n",
      " Accuracy: 55.8%, Avg loss: 0.693147\n",
      "\n"
     ]
    },
    {
     "name": "stdout",
     "output_type": "stream",
     "text": [
      "Training time: 0.156655\n",
      "Training time: 0.150101\n"
     ]
    },
    {
     "name": "stderr",
     "output_type": "stream",
     "text": [
      "Train loss: 0.693144  [    0/  207] training time ratio: 0.8474709896770061\n",
      "Valid Error: \n",
      " Accuracy: 55.8%, Avg loss: 0.693147\n",
      "\n",
      "Train loss: 0.693147  [    0/  207] training time ratio: 0.8404631798074421\n",
      "Valid Error: \n",
      " Accuracy: 55.8%, Avg loss: 0.693147\n",
      "\n"
     ]
    },
    {
     "name": "stdout",
     "output_type": "stream",
     "text": [
      "Training time: 0.153316\n",
      "Training time: 0.150037\n"
     ]
    },
    {
     "name": "stderr",
     "output_type": "stream",
     "text": [
      "Train loss: 0.693145  [    0/  207] training time ratio: 0.8629268838875825\n",
      "Valid Error: \n",
      " Accuracy: 57.7%, Avg loss: 0.693147\n",
      "\n",
      "Train loss: 0.693145  [    0/  207] training time ratio: 0.8551142430066196\n",
      "Valid Error: \n",
      " Accuracy: 57.7%, Avg loss: 0.693147\n",
      "\n"
     ]
    },
    {
     "name": "stdout",
     "output_type": "stream",
     "text": [
      "Training time: 0.1863\n",
      "Training time: 0.147511\n"
     ]
    },
    {
     "name": "stderr",
     "output_type": "stream",
     "text": [
      "Train loss: 0.693144  [    0/  207] training time ratio: 0.8501543400419805\n",
      "Valid Error: \n",
      " Accuracy: 57.7%, Avg loss: 0.693147\n",
      "\n",
      "Train loss: 0.693144  [    0/  207] training time ratio: 0.8506709022805936\n",
      "Valid Error: \n",
      " Accuracy: 57.7%, Avg loss: 0.693147\n",
      "\n"
     ]
    },
    {
     "name": "stdout",
     "output_type": "stream",
     "text": [
      "Training time: 0.161811\n",
      "Training time: 0.158408\n"
     ]
    },
    {
     "name": "stderr",
     "output_type": "stream",
     "text": [
      "Train loss: 0.693148  [    0/  207] training time ratio: 0.8645035056253056\n",
      "Valid Error: \n",
      " Accuracy: 57.7%, Avg loss: 0.693147\n",
      "\n",
      "Train loss: 0.693137  [    0/  207] training time ratio: 0.8347418561770129\n",
      "Valid Error: \n",
      " Accuracy: 57.7%, Avg loss: 0.693147\n",
      "\n"
     ]
    },
    {
     "name": "stdout",
     "output_type": "stream",
     "text": [
      "Training time: 0.170115\n",
      "Training time: 0.147642\n"
     ]
    },
    {
     "name": "stderr",
     "output_type": "stream",
     "text": [
      "Train loss: 0.693130  [    0/  207] training time ratio: 0.8475501735142087\n",
      "Valid Error: \n",
      " Accuracy: 57.7%, Avg loss: 0.693147\n",
      "\n",
      "Train loss: 0.693131  [    0/  207] training time ratio: 0.8431819307543712\n",
      "Valid Error: \n",
      " Accuracy: 57.7%, Avg loss: 0.693144\n",
      "\n"
     ]
    },
    {
     "name": "stdout",
     "output_type": "stream",
     "text": [
      "Training time: 0.160469\n",
      "Training time: 0.157604\n"
     ]
    },
    {
     "name": "stderr",
     "output_type": "stream",
     "text": [
      "Train loss: 0.693129  [    0/  207] training time ratio: 0.8333895143711095\n",
      "Valid Error: \n",
      " Accuracy: 59.6%, Avg loss: 0.693139\n",
      "\n",
      "Train loss: 0.693117  [    0/  207] training time ratio: 0.8099249502220861\n",
      "Valid Error: \n",
      " Accuracy: 57.7%, Avg loss: 0.693119\n",
      "\n"
     ]
    },
    {
     "name": "stdout",
     "output_type": "stream",
     "text": [
      "Training time: 0.163866\n",
      "Training time: 0.154793\n"
     ]
    },
    {
     "name": "stderr",
     "output_type": "stream",
     "text": [
      "Train loss: 0.693081  [    0/  207] training time ratio: 0.8304520118446264\n",
      "Valid Error: \n",
      " Accuracy: 59.6%, Avg loss: 0.693110\n",
      "\n",
      "Train loss: 0.693104  [    0/  207] training time ratio: 0.8469074045125319\n",
      "Valid Error: \n",
      " Accuracy: 59.6%, Avg loss: 0.693102\n",
      "\n"
     ]
    },
    {
     "name": "stdout",
     "output_type": "stream",
     "text": [
      "Training time: 0.159821\n",
      "Training time: 0.149352\n"
     ]
    },
    {
     "name": "stderr",
     "output_type": "stream",
     "text": [
      "Train loss: 0.692959  [    0/  207] training time ratio: 0.8466420115106025\n",
      "Valid Error: \n",
      " Accuracy: 63.5%, Avg loss: 0.693023\n",
      "\n",
      "Train loss: 0.693003  [    0/  207] training time ratio: 0.8722605296675303\n",
      "Valid Error: \n",
      " Accuracy: 63.5%, Avg loss: 0.693070\n",
      "\n"
     ]
    },
    {
     "name": "stdout",
     "output_type": "stream",
     "text": [
      "Training time: 0.161807\n",
      "Training time: 0.164559\n"
     ]
    },
    {
     "name": "stderr",
     "output_type": "stream",
     "text": [
      "Train loss: 0.693087  [    0/  207] training time ratio: 0.8565117306484991\n",
      "Valid Error: \n",
      " Accuracy: 63.5%, Avg loss: 0.692994\n",
      "\n",
      "Train loss: 0.693041  [    0/  207] training time ratio: 0.8526990859970712\n"
     ]
    },
    {
     "name": "stdout",
     "output_type": "stream",
     "text": [
      "Training time: 0.16009\n",
      "Training time: 0.160322\n"
     ]
    },
    {
     "name": "stderr",
     "output_type": "stream",
     "text": [
      "Valid Error: \n",
      " Accuracy: 61.5%, Avg loss: 0.693082\n",
      "\n",
      "Train loss: 0.692970  [    0/  207] training time ratio: 0.8641764461902554\n",
      "Valid Error: \n",
      " Accuracy: 59.6%, Avg loss: 0.693115\n",
      "\n",
      "Train loss: 0.693060  [    0/  207] training time ratio: 0.8617794639579\n",
      "Valid Error: \n",
      " Accuracy: 53.8%, Avg loss: 0.693129\n",
      "\n"
     ]
    },
    {
     "name": "stdout",
     "output_type": "stream",
     "text": [
      "Training time: 0.161935\n",
      "Training time: 0.157559\n"
     ]
    },
    {
     "name": "stderr",
     "output_type": "stream",
     "text": [
      "Valid Error: \n",
      " Accuracy: 55.2%, Avg loss: 0.692193\n",
      "\n",
      "Test Error 10: \n",
      " Accuracy: 55.2%, Avg loss: 0.692193\n",
      "[2024-01-24 20:51:48] INFO (torcheeg/MainThread) Read the split of train and test set from ./examples_vanilla_torch/split11. If you want to use the same setting for the experiment, please set split_path to ./examples_vanilla_torch/split11 for the next run.\n",
      "Train loss: 0.693216  [    0/  207] training time ratio: 0.8472969575056575\n",
      "Valid Error: \n",
      " Accuracy: 53.8%, Avg loss: 0.692896\n",
      "\n",
      "Train loss: 0.693239  [    0/  207] training time ratio: 0.8608013516775284\n"
     ]
    },
    {
     "name": "stdout",
     "output_type": "stream",
     "text": [
      "Training time: 0.160084\n",
      "Training time: 0.157297\n"
     ]
    },
    {
     "name": "stderr",
     "output_type": "stream",
     "text": [
      "Valid Error: \n",
      " Accuracy: 53.8%, Avg loss: 0.692910\n",
      "\n",
      "Train loss: 0.692913  [    0/  207] training time ratio: 0.8597616226388792\n",
      "Valid Error: \n",
      " Accuracy: 50.0%, Avg loss: 0.693174\n",
      "\n",
      "Train loss: 0.692986  [    0/  207] training time ratio: 0.8462869649310328\n",
      "Valid Error: \n",
      " Accuracy: 51.9%, Avg loss: 0.693021\n",
      "\n"
     ]
    },
    {
     "name": "stdout",
     "output_type": "stream",
     "text": [
      "Training time: 0.155662\n",
      "Training time: 0.154912\n"
     ]
    },
    {
     "name": "stderr",
     "output_type": "stream",
     "text": [
      "Train loss: 0.692902  [    0/  207] training time ratio: 0.8526373985374311\n",
      "Valid Error: \n",
      " Accuracy: 42.3%, Avg loss: 0.693130\n",
      "\n",
      "Train loss: 0.692985  [    0/  207] training time ratio: 0.83158026233604\n",
      "Valid Error: \n",
      " Accuracy: 59.6%, Avg loss: 0.692007\n",
      "\n"
     ]
    },
    {
     "name": "stdout",
     "output_type": "stream",
     "text": [
      "Training time: 0.154303\n",
      "Training time: 0.150795\n"
     ]
    },
    {
     "name": "stderr",
     "output_type": "stream",
     "text": [
      "Train loss: 0.693598  [    0/  207] training time ratio: 0.8298480900019067\n",
      "Valid Error: \n",
      " Accuracy: 50.0%, Avg loss: 0.692942\n",
      "\n",
      "Train loss: 0.693171  [    0/  207] training time ratio: 0.8577433305797172\n",
      "Valid Error: \n",
      " Accuracy: 51.9%, Avg loss: 0.692882\n",
      "\n"
     ]
    },
    {
     "name": "stdout",
     "output_type": "stream",
     "text": [
      "Training time: 0.165022\n",
      "Training time: 0.153253\n"
     ]
    },
    {
     "name": "stderr",
     "output_type": "stream",
     "text": [
      "Train loss: 0.693143  [    0/  207] training time ratio: 0.8742161046663061\n",
      "Valid Error: \n",
      " Accuracy: 48.1%, Avg loss: 0.692937\n",
      "\n",
      "Train loss: 0.692610  [    0/  207] training time ratio: 0.8470284781807654\n",
      "Valid Error: \n",
      " Accuracy: 51.9%, Avg loss: 0.692600\n",
      "\n"
     ]
    },
    {
     "name": "stdout",
     "output_type": "stream",
     "text": [
      "Training time: 0.169135\n",
      "Training time: 0.146921\n"
     ]
    },
    {
     "name": "stderr",
     "output_type": "stream",
     "text": [
      "Train loss: 0.692721  [    0/  207] training time ratio: 0.8452144065267138\n",
      "Valid Error: \n",
      " Accuracy: 55.8%, Avg loss: 0.692694\n",
      "\n",
      "Train loss: 0.693047  [    0/  207] training time ratio: 0.8395267587740194\n",
      "Valid Error: \n",
      " Accuracy: 51.9%, Avg loss: 0.692667\n",
      "\n"
     ]
    },
    {
     "name": "stdout",
     "output_type": "stream",
     "text": [
      "Training time: 0.150882\n",
      "Training time: 0.149269\n"
     ]
    },
    {
     "name": "stderr",
     "output_type": "stream",
     "text": [
      "Train loss: 0.692388  [    0/  207] training time ratio: 0.8572594942614538\n",
      "Valid Error: \n",
      " Accuracy: 51.9%, Avg loss: 0.692923\n",
      "\n",
      "Train loss: 0.692829  [    0/  207] training time ratio: 0.8422268907563025\n",
      "Valid Error: \n",
      " Accuracy: 44.2%, Avg loss: 0.693610\n",
      "\n"
     ]
    },
    {
     "name": "stdout",
     "output_type": "stream",
     "text": [
      "Training time: 0.155442\n",
      "Training time: 0.147559\n"
     ]
    },
    {
     "name": "stderr",
     "output_type": "stream",
     "text": [
      "Train loss: 0.693226  [    0/  207] training time ratio: 0.8520217747878385\n",
      "Valid Error: \n",
      " Accuracy: 55.8%, Avg loss: 0.693098\n",
      "\n",
      "Train loss: 0.693109  [    0/  207] training time ratio: 0.8489420698958308\n",
      "Valid Error: \n",
      " Accuracy: 63.5%, Avg loss: 0.693101\n",
      "\n"
     ]
    },
    {
     "name": "stdout",
     "output_type": "stream",
     "text": [
      "Training time: 0.152775\n",
      "Training time: 0.149522\n"
     ]
    },
    {
     "name": "stderr",
     "output_type": "stream",
     "text": [
      "Train loss: 0.693153  [    0/  207] training time ratio: 0.8667511858182693\n",
      "Valid Error: \n",
      " Accuracy: 63.5%, Avg loss: 0.693062\n",
      "\n",
      "Train loss: 0.693118  [    0/  207] training time ratio: 0.8484647961884595\n",
      "Valid Error: \n",
      " Accuracy: 59.6%, Avg loss: 0.692863\n",
      "\n"
     ]
    },
    {
     "name": "stdout",
     "output_type": "stream",
     "text": [
      "Training time: 0.185952\n",
      "Training time: 0.156983\n"
     ]
    },
    {
     "name": "stderr",
     "output_type": "stream",
     "text": [
      "Train loss: 0.692884  [    0/  207] training time ratio: 0.8621130723970325\n",
      "Valid Error: \n",
      " Accuracy: 55.8%, Avg loss: 0.692677\n",
      "\n",
      "Train loss: 0.693702  [    0/  207] training time ratio: 0.8488105953452487\n",
      "Valid Error: \n",
      " Accuracy: 57.7%, Avg loss: 0.693104\n",
      "\n"
     ]
    },
    {
     "name": "stdout",
     "output_type": "stream",
     "text": [
      "Training time: 0.156054\n",
      "Training time: 0.152442\n"
     ]
    },
    {
     "name": "stderr",
     "output_type": "stream",
     "text": [
      "Train loss: 0.693146  [    0/  207] training time ratio: 0.8590002694691458\n",
      "Valid Error: \n",
      " Accuracy: 50.0%, Avg loss: 0.693150\n",
      "\n",
      "Train loss: 0.693154  [    0/  207] training time ratio: 0.8442782581600062\n",
      "Valid Error: \n",
      " Accuracy: 50.0%, Avg loss: 0.693146\n",
      "\n"
     ]
    },
    {
     "name": "stdout",
     "output_type": "stream",
     "text": [
      "Training time: 0.162171\n",
      "Training time: 0.152616\n"
     ]
    },
    {
     "name": "stderr",
     "output_type": "stream",
     "text": [
      "Train loss: 0.693140  [    0/  207] training time ratio: 0.8501360429558643\n",
      "Valid Error: \n",
      " Accuracy: 55.8%, Avg loss: 0.693141\n",
      "\n",
      "Train loss: 0.693147  [    0/  207] training time ratio: 0.857837241932251\n",
      "Valid Error: \n",
      " Accuracy: 53.8%, Avg loss: 0.693131\n",
      "\n"
     ]
    },
    {
     "name": "stdout",
     "output_type": "stream",
     "text": [
      "Training time: 0.158868\n",
      "Training time: 0.156855\n"
     ]
    },
    {
     "name": "stderr",
     "output_type": "stream",
     "text": [
      "Train loss: 0.693113  [    0/  207] training time ratio: 0.8514807857325077\n",
      "Valid Error: \n",
      " Accuracy: 53.8%, Avg loss: 0.693107\n",
      "\n",
      "Train loss: 0.693108  [    0/  207] training time ratio: 0.8496229222892022\n",
      "Valid Error: \n",
      " Accuracy: 48.1%, Avg loss: 0.693148\n",
      "\n"
     ]
    },
    {
     "name": "stdout",
     "output_type": "stream",
     "text": [
      "Training time: 0.176552\n",
      "Training time: 0.156005\n"
     ]
    },
    {
     "name": "stderr",
     "output_type": "stream",
     "text": [
      "Train loss: 0.693083  [    0/  207] training time ratio: 0.8567207567850931\n",
      "Valid Error: \n",
      " Accuracy: 55.8%, Avg loss: 0.693136\n",
      "\n",
      "Train loss: 0.693019  [    0/  207] training time ratio: 0.8567931456548348\n"
     ]
    },
    {
     "name": "stdout",
     "output_type": "stream",
     "text": [
      "Training time: 0.170379\n",
      "Training time: 0.175023\n"
     ]
    },
    {
     "name": "stderr",
     "output_type": "stream",
     "text": [
      "Valid Error: \n",
      " Accuracy: 53.8%, Avg loss: 0.693049\n",
      "\n",
      "Train loss: 0.693118  [    0/  207] training time ratio: 0.8536057633203019\n",
      "Valid Error: \n",
      " Accuracy: 53.8%, Avg loss: 0.692769\n",
      "\n",
      "Train loss: 0.693238  [    0/  207] training time ratio: 0.8482975692689427\n"
     ]
    },
    {
     "name": "stdout",
     "output_type": "stream",
     "text": [
      "Training time: 0.157863\n",
      "Training time: 0.16724\n"
     ]
    },
    {
     "name": "stderr",
     "output_type": "stream",
     "text": [
      "Valid Error: \n",
      " Accuracy: 57.7%, Avg loss: 0.693019\n",
      "\n",
      "Train loss: 0.693132  [    0/  207] training time ratio: 0.8441573917395554\n",
      "Valid Error: \n",
      " Accuracy: 48.1%, Avg loss: 0.693160\n",
      "\n",
      "Train loss: 0.693136  [    0/  207] training time ratio: 0.839994674477433\n",
      "Valid Error: \n",
      " Accuracy: 53.8%, Avg loss: 0.693101\n",
      "\n"
     ]
    },
    {
     "name": "stdout",
     "output_type": "stream",
     "text": [
      "Training time: 0.150887\n",
      "Training time: 0.147606\n"
     ]
    },
    {
     "name": "stderr",
     "output_type": "stream",
     "text": [
      "Train loss: 0.693068  [    0/  207] training time ratio: 0.8555566630120601\n",
      "Valid Error: \n",
      " Accuracy: 53.8%, Avg loss: 0.692986\n",
      "\n",
      "Train loss: 0.692796  [    0/  207] training time ratio: 0.8456030537970931\n"
     ]
    },
    {
     "name": "stdout",
     "output_type": "stream",
     "text": [
      "Training time: 0.178288\n",
      "Training time: 0.164686\n"
     ]
    },
    {
     "name": "stderr",
     "output_type": "stream",
     "text": [
      "Valid Error: \n",
      " Accuracy: 55.8%, Avg loss: 0.692910\n",
      "\n",
      "Train loss: 0.693222  [    0/  207] training time ratio: 0.8599243991156122\n",
      "Valid Error: \n",
      " Accuracy: 55.8%, Avg loss: 0.693059\n",
      "\n",
      "Train loss: 0.693025  [    0/  207] training time ratio: 0.845850622406639\n"
     ]
    },
    {
     "name": "stdout",
     "output_type": "stream",
     "text": [
      "Training time: 0.156748\n",
      "Training time: 0.165908\n"
     ]
    },
    {
     "name": "stderr",
     "output_type": "stream",
     "text": [
      "Valid Error: \n",
      " Accuracy: 57.7%, Avg loss: 0.693147\n",
      "\n",
      "Train loss: 0.693147  [    0/  207] training time ratio: 0.8506209751609936\n",
      "Valid Error: \n",
      " Accuracy: 55.8%, Avg loss: 0.693147\n",
      "\n",
      "Train loss: 0.693147  [    0/  207] training time ratio: 0.8514970372497325\n",
      "Valid Error: \n",
      " Accuracy: 53.8%, Avg loss: 0.693147\n",
      "\n"
     ]
    },
    {
     "name": "stdout",
     "output_type": "stream",
     "text": [
      "Training time: 0.169413\n",
      "Training time: 0.151462\n"
     ]
    },
    {
     "name": "stderr",
     "output_type": "stream",
     "text": [
      "Train loss: 0.693147  [    0/  207] training time ratio: 0.8567965325562603\n",
      "Valid Error: \n",
      " Accuracy: 53.8%, Avg loss: 0.693147\n",
      "\n",
      "Train loss: 0.693147  [    0/  207] training time ratio: 0.8144971776049617\n",
      "Valid Error: \n",
      " Accuracy: 53.8%, Avg loss: 0.693147\n",
      "\n"
     ]
    },
    {
     "name": "stdout",
     "output_type": "stream",
     "text": [
      "Training time: 0.156694\n",
      "Training time: 0.154456\n"
     ]
    },
    {
     "name": "stderr",
     "output_type": "stream",
     "text": [
      "Train loss: 0.693147  [    0/  207] training time ratio: 0.8588332684067005\n",
      "Valid Error: \n",
      " Accuracy: 53.8%, Avg loss: 0.693147\n",
      "\n",
      "Train loss: 0.693147  [    0/  207] training time ratio: 0.8487686349945582\n",
      "Valid Error: \n",
      " Accuracy: 53.8%, Avg loss: 0.693147\n",
      "\n"
     ]
    },
    {
     "name": "stdout",
     "output_type": "stream",
     "text": [
      "Training time: 0.160344\n",
      "Training time: 0.149127\n"
     ]
    },
    {
     "name": "stderr",
     "output_type": "stream",
     "text": [
      "Train loss: 0.693147  [    0/  207] training time ratio: 0.8671269862346744\n",
      "Valid Error: \n",
      " Accuracy: 53.8%, Avg loss: 0.693147\n",
      "\n",
      "Train loss: 0.693147  [    0/  207] training time ratio: 0.8497951752389622\n",
      "Valid Error: \n",
      " Accuracy: 53.8%, Avg loss: 0.693147\n",
      "\n"
     ]
    },
    {
     "name": "stdout",
     "output_type": "stream",
     "text": [
      "Training time: 0.159158\n",
      "Training time: 0.146496\n"
     ]
    },
    {
     "name": "stderr",
     "output_type": "stream",
     "text": [
      "Train loss: 0.693147  [    0/  207] training time ratio: 0.860238168355683\n",
      "Valid Error: \n",
      " Accuracy: 55.8%, Avg loss: 0.693147\n",
      "\n",
      "Train loss: 0.693147  [    0/  207] training time ratio: 0.8479860365198711\n",
      "Valid Error: \n",
      " Accuracy: 55.8%, Avg loss: 0.693147\n",
      "\n"
     ]
    },
    {
     "name": "stdout",
     "output_type": "stream",
     "text": [
      "Training time: 0.174293\n",
      "Training time: 0.147978\n"
     ]
    },
    {
     "name": "stderr",
     "output_type": "stream",
     "text": [
      "Train loss: 0.693147  [    0/  207] training time ratio: 0.8484688090737239\n",
      "Valid Error: \n",
      " Accuracy: 55.8%, Avg loss: 0.693147\n",
      "\n",
      "Train loss: 0.693147  [    0/  207] training time ratio: 0.8380741677201854\n",
      "Valid Error: \n",
      " Accuracy: 55.8%, Avg loss: 0.693147\n",
      "\n"
     ]
    },
    {
     "name": "stdout",
     "output_type": "stream",
     "text": [
      "Training time: 0.150911\n",
      "Training time: 0.146916\n"
     ]
    },
    {
     "name": "stderr",
     "output_type": "stream",
     "text": [
      "Train loss: 0.693147  [    0/  207] training time ratio: 0.8379471621792441\n",
      "Valid Error: \n",
      " Accuracy: 55.8%, Avg loss: 0.693147\n",
      "\n",
      "Train loss: 0.693147  [    0/  207] training time ratio: 0.8318790584415584\n"
     ]
    },
    {
     "name": "stdout",
     "output_type": "stream",
     "text": [
      "Training time: 0.152881\n",
      "Training time: 0.164846\n"
     ]
    },
    {
     "name": "stderr",
     "output_type": "stream",
     "text": [
      "Valid Error: \n",
      " Accuracy: 55.8%, Avg loss: 0.693147\n",
      "\n",
      "Valid Error: \n",
      " Accuracy: 51.7%, Avg loss: 0.693159\n",
      "\n",
      "Test Error 11: \n",
      " Accuracy: 51.7%, Avg loss: 0.693159\n",
      "[2024-01-24 20:51:57] INFO (torcheeg/MainThread) Read the split of train and test set from ./examples_vanilla_torch/split12. If you want to use the same setting for the experiment, please set split_path to ./examples_vanilla_torch/split12 for the next run.\n",
      "Train loss: 0.693123  [    0/  207] training time ratio: 0.8229511436051968\n",
      "Valid Error: \n",
      " Accuracy: 51.9%, Avg loss: 0.692765\n",
      "\n",
      "Train loss: 0.692416  [    0/  207] training time ratio: 0.8410394411372965\n",
      "Valid Error: \n",
      " Accuracy: 53.8%, Avg loss: 0.692502\n",
      "\n"
     ]
    },
    {
     "name": "stdout",
     "output_type": "stream",
     "text": [
      "Training time: 0.148866\n",
      "Training time: 0.148483\n"
     ]
    },
    {
     "name": "stderr",
     "output_type": "stream",
     "text": [
      "Train loss: 0.692905  [    0/  207] training time ratio: 0.8454506426929973\n",
      "Valid Error: \n",
      " Accuracy: 63.5%, Avg loss: 0.692369\n",
      "\n",
      "Train loss: 0.691980  [    0/  207] training time ratio: 0.8548571138778305\n",
      "Valid Error: \n",
      " Accuracy: 55.8%, Avg loss: 0.692705\n",
      "\n"
     ]
    },
    {
     "name": "stdout",
     "output_type": "stream",
     "text": [
      "Training time: 0.154232\n",
      "Training time: 0.15505\n"
     ]
    },
    {
     "name": "stderr",
     "output_type": "stream",
     "text": [
      "Train loss: 0.693346  [    0/  207] training time ratio: 0.8516967326857575\n",
      "Valid Error: \n",
      " Accuracy: 59.6%, Avg loss: 0.692330\n",
      "\n",
      "Train loss: 0.693289  [    0/  207] training time ratio: 0.8471778902296614\n",
      "Valid Error: \n",
      " Accuracy: 55.8%, Avg loss: 0.692735\n",
      "\n"
     ]
    },
    {
     "name": "stdout",
     "output_type": "stream",
     "text": [
      "Training time: 0.153643\n",
      "Training time: 0.154258\n"
     ]
    },
    {
     "name": "stderr",
     "output_type": "stream",
     "text": [
      "Train loss: 0.692630  [    0/  207] training time ratio: 0.8588742076600303\n",
      "Valid Error: \n",
      " Accuracy: 46.2%, Avg loss: 0.693155\n",
      "\n",
      "Train loss: 0.693128  [    0/  207] training time ratio: 0.8360823122840088\n",
      "Valid Error: \n",
      " Accuracy: 44.2%, Avg loss: 0.693161\n",
      "\n"
     ]
    },
    {
     "name": "stdout",
     "output_type": "stream",
     "text": [
      "Training time: 0.155787\n",
      "Training time: 0.16117\n"
     ]
    },
    {
     "name": "stderr",
     "output_type": "stream",
     "text": [
      "Train loss: 0.693130  [    0/  207] training time ratio: 0.8596861798430899\n",
      "Valid Error: \n",
      " Accuracy: 51.9%, Avg loss: 0.693168\n",
      "\n",
      "Train loss: 0.692994  [    0/  207] training time ratio: 0.8405057387879886\n",
      "Valid Error: \n",
      " Accuracy: 40.4%, Avg loss: 0.693164\n",
      "\n"
     ]
    },
    {
     "name": "stdout",
     "output_type": "stream",
     "text": [
      "Training time: 0.151353\n",
      "Training time: 0.148509\n"
     ]
    },
    {
     "name": "stderr",
     "output_type": "stream",
     "text": [
      "Train loss: 0.693167  [    0/  207] training time ratio: 0.8444309159627629\n",
      "Valid Error: \n",
      " Accuracy: 42.3%, Avg loss: 0.693161\n",
      "\n",
      "Train loss: 0.693155  [    0/  207] training time ratio: 0.8401029898586516\n",
      "Valid Error: \n",
      " Accuracy: 53.8%, Avg loss: 0.693102\n",
      "\n"
     ]
    },
    {
     "name": "stdout",
     "output_type": "stream",
     "text": [
      "Training time: 0.151089\n",
      "Training time: 0.147431\n"
     ]
    },
    {
     "name": "stderr",
     "output_type": "stream",
     "text": [
      "Train loss: 0.693141  [    0/  207] training time ratio: 0.8466415094339623\n",
      "Valid Error: \n",
      " Accuracy: 46.2%, Avg loss: 0.693604\n",
      "\n",
      "Train loss: 0.693879  [    0/  207] training time ratio: 0.8417085427135679\n",
      "Valid Error: \n",
      " Accuracy: 46.2%, Avg loss: 0.693191\n",
      "\n"
     ]
    },
    {
     "name": "stdout",
     "output_type": "stream",
     "text": [
      "Training time: 0.151812\n",
      "Training time: 0.148853\n"
     ]
    },
    {
     "name": "stderr",
     "output_type": "stream",
     "text": [
      "Train loss: 0.693071  [    0/  207] training time ratio: 0.8361842769199718\n",
      "Valid Error: \n",
      " Accuracy: 55.8%, Avg loss: 0.692756\n",
      "\n",
      "Train loss: 0.692924  [    0/  207] training time ratio: 0.8602645618650882\n",
      "Valid Error: \n",
      " Accuracy: 42.3%, Avg loss: 0.693150\n",
      "\n"
     ]
    },
    {
     "name": "stdout",
     "output_type": "stream",
     "text": [
      "Training time: 0.16345\n",
      "Training time: 0.1588\n"
     ]
    },
    {
     "name": "stderr",
     "output_type": "stream",
     "text": [
      "Train loss: 0.693145  [    0/  207] training time ratio: 0.8685932771926532\n",
      "Valid Error: \n",
      " Accuracy: 44.2%, Avg loss: 0.694251\n",
      "\n",
      "Train loss: 0.692997  [    0/  207] training time ratio: 0.8551125831088262\n",
      "Valid Error: \n",
      " Accuracy: 51.9%, Avg loss: 0.693147\n",
      "\n"
     ]
    },
    {
     "name": "stdout",
     "output_type": "stream",
     "text": [
      "Training time: 0.157555\n",
      "Training time: 0.165563\n"
     ]
    },
    {
     "name": "stderr",
     "output_type": "stream",
     "text": [
      "Train loss: 0.693147  [    0/  207] training time ratio: 0.8625679395778924\n",
      "Valid Error: \n",
      " Accuracy: 50.0%, Avg loss: 0.690923\n",
      "\n",
      "Train loss: 0.692881  [    0/  207] training time ratio: 0.8596192984556447\n",
      "Valid Error: \n",
      " Accuracy: 42.3%, Avg loss: 0.696039\n",
      "\n"
     ]
    },
    {
     "name": "stdout",
     "output_type": "stream",
     "text": [
      "Training time: 0.161004\n",
      "Training time: 0.154895\n"
     ]
    },
    {
     "name": "stderr",
     "output_type": "stream",
     "text": [
      "Train loss: 0.695070  [    0/  207] training time ratio: 0.8587122220340214\n",
      "Valid Error: \n",
      " Accuracy: 44.2%, Avg loss: 0.693152\n",
      "\n",
      "Train loss: 0.693154  [    0/  207] training time ratio: 0.8484364535572614\n",
      "Valid Error: \n",
      " Accuracy: 53.8%, Avg loss: 0.693145\n",
      "\n"
     ]
    },
    {
     "name": "stdout",
     "output_type": "stream",
     "text": [
      "Training time: 0.160106\n",
      "Training time: 0.149624\n"
     ]
    },
    {
     "name": "stderr",
     "output_type": "stream",
     "text": [
      "Train loss: 0.693146  [    0/  207] training time ratio: 0.8400018718704666\n",
      "Valid Error: \n",
      " Accuracy: 55.8%, Avg loss: 0.693144\n",
      "\n",
      "Train loss: 0.693143  [    0/  207] training time ratio: 0.847736294389014\n",
      "Valid Error: \n",
      " Accuracy: 51.9%, Avg loss: 0.693146\n",
      "\n"
     ]
    },
    {
     "name": "stdout",
     "output_type": "stream",
     "text": [
      "Training time: 0.174105\n",
      "Training time: 0.146655\n"
     ]
    },
    {
     "name": "stderr",
     "output_type": "stream",
     "text": [
      "Train loss: 0.693147  [    0/  207] training time ratio: 0.8537873047686554\n",
      "Valid Error: \n",
      " Accuracy: 51.9%, Avg loss: 0.693145\n",
      "\n",
      "Train loss: 0.693147  [    0/  207] training time ratio: 0.8778756636146803\n"
     ]
    },
    {
     "name": "stdout",
     "output_type": "stream",
     "text": [
      "Training time: 0.171023\n",
      "Training time: 0.177179\n"
     ]
    },
    {
     "name": "stderr",
     "output_type": "stream",
     "text": [
      "Valid Error: \n",
      " Accuracy: 51.9%, Avg loss: 0.693143\n",
      "\n",
      "Train loss: 0.693143  [    0/  207] training time ratio: 0.8559573077760836\n",
      "Valid Error: \n",
      " Accuracy: 51.9%, Avg loss: 0.693140\n",
      "\n",
      "Train loss: 0.693142  [    0/  207] training time ratio: 0.8527385114252419\n"
     ]
    },
    {
     "name": "stdout",
     "output_type": "stream",
     "text": [
      "Training time: 0.164488\n",
      "Training time: 0.170963\n"
     ]
    },
    {
     "name": "stderr",
     "output_type": "stream",
     "text": [
      "Valid Error: \n",
      " Accuracy: 53.8%, Avg loss: 0.693135\n",
      "\n",
      "Train loss: 0.693151  [    0/  207] training time ratio: 0.8503506028350906\n",
      "Valid Error: \n",
      " Accuracy: 53.8%, Avg loss: 0.693122\n",
      "\n",
      "Train loss: 0.693127  [    0/  207] training time ratio: 0.8381344651781902\n",
      "Valid Error: \n",
      " Accuracy: 51.9%, Avg loss: 0.693061\n",
      "\n"
     ]
    },
    {
     "name": "stdout",
     "output_type": "stream",
     "text": [
      "Training time: 0.154145\n",
      "Training time: 0.156155\n"
     ]
    },
    {
     "name": "stderr",
     "output_type": "stream",
     "text": [
      "Train loss: 0.693067  [    0/  207] training time ratio: 0.8803324569586974\n",
      "Valid Error: \n",
      " Accuracy: 55.8%, Avg loss: 0.692804\n",
      "\n",
      "Train loss: 0.692765  [    0/  207] training time ratio: 0.8547839014548156\n"
     ]
    },
    {
     "name": "stdout",
     "output_type": "stream",
     "text": [
      "Training time: 0.164496\n",
      "Training time: 0.173636\n"
     ]
    },
    {
     "name": "stderr",
     "output_type": "stream",
     "text": [
      "Valid Error: \n",
      " Accuracy: 53.8%, Avg loss: 0.692748\n",
      "\n",
      "Train loss: 0.692758  [    0/  207] training time ratio: 0.8471918307804521\n",
      "Valid Error: \n",
      " Accuracy: 50.0%, Avg loss: 0.692844\n",
      "\n",
      "Train loss: 0.692889  [    0/  207] training time ratio: 0.8430112462703695\n",
      "Valid Error: \n",
      " Accuracy: 48.1%, Avg loss: 0.692748\n",
      "\n"
     ]
    },
    {
     "name": "stdout",
     "output_type": "stream",
     "text": [
      "Training time: 0.165558\n",
      "Training time: 0.16067\n"
     ]
    },
    {
     "name": "stderr",
     "output_type": "stream",
     "text": [
      "Train loss: 0.693069  [    0/  207] training time ratio: 0.8647606129326241\n",
      "Valid Error: \n",
      " Accuracy: 51.9%, Avg loss: 0.693138\n",
      "\n",
      "Train loss: 0.693149  [    0/  207] training time ratio: 0.8502084992737665\n"
     ]
    },
    {
     "name": "stdout",
     "output_type": "stream",
     "text": [
      "Training time: 0.166735\n",
      "Training time: 0.172158\n"
     ]
    },
    {
     "name": "stderr",
     "output_type": "stream",
     "text": [
      "Valid Error: \n",
      " Accuracy: 55.8%, Avg loss: 0.693147\n",
      "\n",
      "Train loss: 0.693146  [    0/  207] training time ratio: 0.852416385591802\n",
      "Valid Error: \n",
      " Accuracy: 44.2%, Avg loss: 0.693150\n",
      "\n",
      "Train loss: 0.693148  [    0/  207] training time ratio: 0.8705528016565226\n"
     ]
    },
    {
     "name": "stdout",
     "output_type": "stream",
     "text": [
      "Training time: 0.154669\n",
      "Training time: 0.176599\n"
     ]
    },
    {
     "name": "stderr",
     "output_type": "stream",
     "text": [
      "Valid Error: \n",
      " Accuracy: 42.3%, Avg loss: 0.693154\n",
      "\n",
      "Train loss: 0.693153  [    0/  207] training time ratio: 0.851212310995795\n",
      "Valid Error: \n",
      " Accuracy: 48.1%, Avg loss: 0.693146\n",
      "\n",
      "Train loss: 0.693147  [    0/  207] training time ratio: 0.85883866683269\n"
     ]
    },
    {
     "name": "stdout",
     "output_type": "stream",
     "text": [
      "Training time: 0.15949\n",
      "Training time: 0.175029\n"
     ]
    },
    {
     "name": "stderr",
     "output_type": "stream",
     "text": [
      "Valid Error: \n",
      " Accuracy: 48.1%, Avg loss: 0.693131\n",
      "\n",
      "Train loss: 0.693141  [    0/  207] training time ratio: 0.8368313193413892\n",
      "Valid Error: \n",
      " Accuracy: 44.2%, Avg loss: 0.693398\n",
      "\n",
      "Train loss: 0.693298  [    0/  207] training time ratio: 0.852338252851373\n",
      "Valid Error: \n",
      " Accuracy: 42.3%, Avg loss: 0.693499\n",
      "\n"
     ]
    },
    {
     "name": "stdout",
     "output_type": "stream",
     "text": [
      "Training time: 0.159359\n",
      "Training time: 0.157293\n"
     ]
    },
    {
     "name": "stderr",
     "output_type": "stream",
     "text": [
      "Train loss: 0.691726  [    0/  207] training time ratio: 0.8551053801255282\n",
      "Valid Error: \n",
      " Accuracy: 44.2%, Avg loss: 0.693640\n",
      "\n",
      "Train loss: 0.693123  [    0/  207] training time ratio: 0.8396650171298059\n",
      "Valid Error: \n",
      " Accuracy: 48.1%, Avg loss: 0.693337\n",
      "\n"
     ]
    },
    {
     "name": "stdout",
     "output_type": "stream",
     "text": [
      "Training time: 0.154945\n",
      "Training time: 0.151994\n"
     ]
    },
    {
     "name": "stderr",
     "output_type": "stream",
     "text": [
      "Train loss: 0.693051  [    0/  207] training time ratio: 0.8582199295067808\n",
      "Valid Error: \n",
      " Accuracy: 48.1%, Avg loss: 0.694164\n",
      "\n",
      "Train loss: 0.692154  [    0/  207] training time ratio: 0.8501634750116768\n"
     ]
    },
    {
     "name": "stdout",
     "output_type": "stream",
     "text": [
      "Training time: 0.165079\n",
      "Training time: 0.16986\n"
     ]
    },
    {
     "name": "stderr",
     "output_type": "stream",
     "text": [
      "Valid Error: \n",
      " Accuracy: 50.0%, Avg loss: 0.695227\n",
      "\n",
      "Train loss: 0.694552  [    0/  207] training time ratio: 0.8556597682400516\n",
      "Valid Error: \n",
      " Accuracy: 51.9%, Avg loss: 0.692295\n",
      "\n",
      "Train loss: 0.693793  [    0/  207] training time ratio: 0.8538418033449139\n"
     ]
    },
    {
     "name": "stdout",
     "output_type": "stream",
     "text": [
      "Training time: 0.181782\n",
      "Training time: 0.168059\n"
     ]
    },
    {
     "name": "stderr",
     "output_type": "stream",
     "text": [
      "Valid Error: \n",
      " Accuracy: 51.9%, Avg loss: 0.693145\n",
      "\n",
      "Train loss: 0.691791  [    0/  207] training time ratio: 0.8150561193111932\n",
      "Valid Error: \n",
      " Accuracy: 53.8%, Avg loss: 0.693569\n",
      "\n",
      "Train loss: 0.694563  [    0/  207] training time ratio: 0.8614944089259707\n",
      "Valid Error: \n",
      " Accuracy: 50.0%, Avg loss: 0.693731\n",
      "\n"
     ]
    },
    {
     "name": "stdout",
     "output_type": "stream",
     "text": [
      "Training time: 0.170075\n",
      "Training time: 0.159365\n"
     ]
    },
    {
     "name": "stderr",
     "output_type": "stream",
     "text": [
      "Valid Error: \n",
      " Accuracy: 58.6%, Avg loss: 0.690583\n",
      "\n",
      "Test Error 12: \n",
      " Accuracy: 58.6%, Avg loss: 0.690583\n",
      "[2024-01-24 20:52:06] INFO (torcheeg/MainThread) Read the split of train and test set from ./examples_vanilla_torch/split13. If you want to use the same setting for the experiment, please set split_path to ./examples_vanilla_torch/split13 for the next run.\n",
      "Train loss: 0.693136  [    0/  207] training time ratio: 0.8466128720525705\n",
      "Valid Error: \n",
      " Accuracy: 44.2%, Avg loss: 0.693997\n",
      "\n",
      "Train loss: 0.692522  [    0/  207] training time ratio: 0.8529300656372479\n"
     ]
    },
    {
     "name": "stdout",
     "output_type": "stream",
     "text": [
      "Training time: 0.166822\n",
      "Training time: 0.166056\n"
     ]
    },
    {
     "name": "stderr",
     "output_type": "stream",
     "text": [
      "Valid Error: \n",
      " Accuracy: 42.3%, Avg loss: 0.694495\n",
      "\n",
      "Train loss: 0.692884  [    0/  207] training time ratio: 0.8590247398729641\n",
      "Valid Error: \n",
      " Accuracy: 46.2%, Avg loss: 0.693188\n",
      "\n",
      "Train loss: 0.693119  [    0/  207] training time ratio: 0.847414221130478\n",
      "Valid Error: \n",
      " Accuracy: 44.2%, Avg loss: 0.693415\n",
      "\n"
     ]
    },
    {
     "name": "stdout",
     "output_type": "stream",
     "text": [
      "Training time: 0.152784\n",
      "Training time: 0.150873\n"
     ]
    },
    {
     "name": "stderr",
     "output_type": "stream",
     "text": [
      "Train loss: 0.693131  [    0/  207] training time ratio: 0.837160464075464\n",
      "Valid Error: \n",
      " Accuracy: 42.3%, Avg loss: 0.693415\n",
      "\n",
      "Train loss: 0.693124  [    0/  207] training time ratio: 0.8497261308905467\n"
     ]
    },
    {
     "name": "stdout",
     "output_type": "stream",
     "text": [
      "Training time: 0.192452\n",
      "Training time: 0.16234\n"
     ]
    },
    {
     "name": "stderr",
     "output_type": "stream",
     "text": [
      "Valid Error: \n",
      " Accuracy: 40.4%, Avg loss: 0.693956\n",
      "\n",
      "Train loss: 0.693068  [    0/  207] training time ratio: 0.7996899477806788\n",
      "Valid Error: \n",
      " Accuracy: 46.2%, Avg loss: 0.694162\n",
      "\n",
      "Train loss: 0.692617  [    0/  207] training time ratio: 0.8640672071321854\n",
      "Valid Error: \n",
      " Accuracy: 38.5%, Avg loss: 0.694232\n",
      "\n"
     ]
    },
    {
     "name": "stdout",
     "output_type": "stream",
     "text": [
      "Training time: 0.171341\n",
      "Training time: 0.16025\n"
     ]
    },
    {
     "name": "stderr",
     "output_type": "stream",
     "text": [
      "Train loss: 0.692840  [    0/  207] training time ratio: 0.8584629672625959\n",
      "Valid Error: \n",
      " Accuracy: 32.7%, Avg loss: 0.696530\n",
      "\n",
      "Train loss: 0.692326  [    0/  207] training time ratio: 0.8579744462532682\n"
     ]
    },
    {
     "name": "stdout",
     "output_type": "stream",
     "text": [
      "Training time: 0.168161\n",
      "Training time: 0.179381\n"
     ]
    },
    {
     "name": "stderr",
     "output_type": "stream",
     "text": [
      "Valid Error: \n",
      " Accuracy: 48.1%, Avg loss: 0.693143\n",
      "\n",
      "Train loss: 0.693139  [    0/  207] training time ratio: 0.8254130004507241\n",
      "Valid Error: \n",
      " Accuracy: 46.2%, Avg loss: 0.694373\n",
      "\n",
      "Train loss: 0.691287  [    0/  207] training time ratio: 0.8418178898345914\n",
      "Valid Error: \n",
      " Accuracy: 44.2%, Avg loss: 0.694976\n",
      "\n"
     ]
    },
    {
     "name": "stdout",
     "output_type": "stream",
     "text": [
      "Training time: 0.16598\n",
      "Training time: 0.146053\n"
     ]
    },
    {
     "name": "stderr",
     "output_type": "stream",
     "text": [
      "Train loss: 0.691874  [    0/  207] training time ratio: 0.8335913883359138\n",
      "Valid Error: \n",
      " Accuracy: 40.4%, Avg loss: 0.696172\n",
      "\n",
      "Train loss: 0.691916  [    0/  207] training time ratio: 0.8482322792526061\n",
      "Valid Error: \n",
      " Accuracy: 40.4%, Avg loss: 0.696172\n",
      "\n"
     ]
    },
    {
     "name": "stdout",
     "output_type": "stream",
     "text": [
      "Training time: 0.15247\n",
      "Training time: 0.150335\n"
     ]
    },
    {
     "name": "stderr",
     "output_type": "stream",
     "text": [
      "Train loss: 0.689525  [    0/  207] training time ratio: 0.8450727591600702\n",
      "Valid Error: \n",
      " Accuracy: 34.6%, Avg loss: 0.697886\n",
      "\n",
      "Train loss: 0.691594  [    0/  207] training time ratio: 0.8026156941649899\n",
      "Valid Error: \n",
      " Accuracy: 40.4%, Avg loss: 0.696026\n",
      "\n"
     ]
    },
    {
     "name": "stdout",
     "output_type": "stream",
     "text": [
      "Training time: 0.153591\n",
      "Training time: 0.149617\n"
     ]
    },
    {
     "name": "stderr",
     "output_type": "stream",
     "text": [
      "Train loss: 0.691773  [    0/  207] training time ratio: 0.8419248697559638\n",
      "Valid Error: \n",
      " Accuracy: 38.5%, Avg loss: 0.696596\n",
      "\n",
      "Train loss: 0.690291  [    0/  207] training time ratio: 0.8479698080886486\n",
      "Valid Error: \n",
      " Accuracy: 40.4%, Avg loss: 0.696021\n",
      "\n"
     ]
    },
    {
     "name": "stdout",
     "output_type": "stream",
     "text": [
      "Training time: 0.158067\n",
      "Training time: 0.146176\n"
     ]
    },
    {
     "name": "stderr",
     "output_type": "stream",
     "text": [
      "Train loss: 0.692406  [    0/  207] training time ratio: 0.8383349962903267\n",
      "Valid Error: \n",
      " Accuracy: 40.4%, Avg loss: 0.696021\n",
      "\n",
      "Train loss: 0.693028  [    0/  207] training time ratio: 0.858912932052682\n",
      "Valid Error: \n",
      " Accuracy: 42.3%, Avg loss: 0.695459\n",
      "\n"
     ]
    },
    {
     "name": "stdout",
     "output_type": "stream",
     "text": [
      "Training time: 0.175635\n",
      "Training time: 0.154563\n"
     ]
    },
    {
     "name": "stderr",
     "output_type": "stream",
     "text": [
      "Train loss: 0.690941  [    0/  207] training time ratio: 0.8575120455540955\n",
      "Valid Error: \n",
      " Accuracy: 44.2%, Avg loss: 0.694906\n",
      "\n",
      "Train loss: 0.692225  [    0/  207] training time ratio: 0.8518054932338285\n"
     ]
    },
    {
     "name": "stdout",
     "output_type": "stream",
     "text": [
      "Training time: 0.16021\n",
      "Training time: 0.179775\n"
     ]
    },
    {
     "name": "stderr",
     "output_type": "stream",
     "text": [
      "Valid Error: \n",
      " Accuracy: 44.2%, Avg loss: 0.694906\n",
      "\n",
      "Train loss: 0.692573  [    0/  207] training time ratio: 0.8439222581258317\n",
      "Valid Error: \n",
      " Accuracy: 44.2%, Avg loss: 0.694906\n",
      "\n",
      "Train loss: 0.691474  [    0/  207] training time ratio: 0.8515438294618105\n"
     ]
    },
    {
     "name": "stdout",
     "output_type": "stream",
     "text": [
      "Training time: 0.16631\n",
      "Training time: 0.166872\n"
     ]
    },
    {
     "name": "stderr",
     "output_type": "stream",
     "text": [
      "Valid Error: \n",
      " Accuracy: 44.2%, Avg loss: 0.694906\n",
      "\n",
      "Train loss: 0.692327  [    0/  207] training time ratio: 0.8540561115962473\n",
      "Valid Error: \n",
      " Accuracy: 44.2%, Avg loss: 0.694906\n",
      "\n",
      "Train loss: 0.693141  [    0/  207] training time ratio: 0.8469036277024551\n"
     ]
    },
    {
     "name": "stdout",
     "output_type": "stream",
     "text": [
      "Training time: 0.168878\n",
      "Training time: 0.163559\n"
     ]
    },
    {
     "name": "stderr",
     "output_type": "stream",
     "text": [
      "Valid Error: \n",
      " Accuracy: 44.2%, Avg loss: 0.694906\n",
      "\n",
      "Train loss: 0.694694  [    0/  207] training time ratio: 0.8535929826276053\n",
      "Valid Error: \n",
      " Accuracy: 44.2%, Avg loss: 0.694906\n",
      "\n",
      "Train loss: 0.689794  [    0/  207] training time ratio: 0.8308947274635199\n"
     ]
    },
    {
     "name": "stdout",
     "output_type": "stream",
     "text": [
      "Training time: 0.157373\n",
      "Training time: 0.17118\n"
     ]
    },
    {
     "name": "stderr",
     "output_type": "stream",
     "text": [
      "Valid Error: \n",
      " Accuracy: 44.2%, Avg loss: 0.694906\n",
      "\n",
      "Train loss: 0.691483  [    0/  207] training time ratio: 0.832896869933907\n",
      "Valid Error: \n",
      " Accuracy: 44.2%, Avg loss: 0.694906\n",
      "\n",
      "Train loss: 0.689624  [    0/  207] training time ratio: 0.8467401166558651\n",
      "Valid Error: \n",
      " Accuracy: 44.2%, Avg loss: 0.694906\n",
      "\n"
     ]
    },
    {
     "name": "stdout",
     "output_type": "stream",
     "text": [
      "Training time: 0.149719\n",
      "Training time: 0.147988\n"
     ]
    },
    {
     "name": "stderr",
     "output_type": "stream",
     "text": [
      "Train loss: 0.692052  [    0/  207] training time ratio: 0.8435202537119793\n",
      "Valid Error: \n",
      " Accuracy: 44.2%, Avg loss: 0.694906\n",
      "\n",
      "Train loss: 0.689874  [    0/  207] training time ratio: 0.8486985545476569\n",
      "Valid Error: \n",
      " Accuracy: 44.2%, Avg loss: 0.694906\n",
      "\n"
     ]
    },
    {
     "name": "stdout",
     "output_type": "stream",
     "text": [
      "Training time: 0.157431\n",
      "Training time: 0.145909\n"
     ]
    },
    {
     "name": "stderr",
     "output_type": "stream",
     "text": [
      "Train loss: 0.691989  [    0/  207] training time ratio: 0.878491331154053\n",
      "Valid Error: \n",
      " Accuracy: 44.2%, Avg loss: 0.694907\n",
      "\n",
      "Train loss: 0.691312  [    0/  207] training time ratio: 0.835249343832021\n",
      "Valid Error: \n",
      " Accuracy: 44.2%, Avg loss: 0.694906\n",
      "\n"
     ]
    },
    {
     "name": "stdout",
     "output_type": "stream",
     "text": [
      "Training time: 0.16045\n",
      "Training time: 0.14826\n"
     ]
    },
    {
     "name": "stderr",
     "output_type": "stream",
     "text": [
      "Train loss: 0.689639  [    0/  207] training time ratio: 0.8393057250292602\n",
      "Valid Error: \n",
      " Accuracy: 44.2%, Avg loss: 0.694906\n",
      "\n",
      "Train loss: 0.690609  [    0/  207] training time ratio: 0.8366343504034577\n",
      "Valid Error: \n",
      " Accuracy: 44.2%, Avg loss: 0.694906\n",
      "\n"
     ]
    },
    {
     "name": "stdout",
     "output_type": "stream",
     "text": [
      "Training time: 0.15169\n",
      "Training time: 0.160762\n"
     ]
    },
    {
     "name": "stderr",
     "output_type": "stream",
     "text": [
      "Train loss: 0.692652  [    0/  207] training time ratio: 0.8653081888368561\n",
      "Valid Error: \n",
      " Accuracy: 44.2%, Avg loss: 0.694906\n",
      "\n",
      "Train loss: 0.692890  [    0/  207] training time ratio: 0.845251769734206\n",
      "Valid Error: \n",
      " Accuracy: 44.2%, Avg loss: 0.694906\n",
      "\n"
     ]
    },
    {
     "name": "stdout",
     "output_type": "stream",
     "text": [
      "Training time: 0.153019\n",
      "Training time: 0.145665\n"
     ]
    },
    {
     "name": "stderr",
     "output_type": "stream",
     "text": [
      "Train loss: 0.690974  [    0/  207] training time ratio: 0.8633602995895047\n",
      "Valid Error: \n",
      " Accuracy: 44.2%, Avg loss: 0.694906\n",
      "\n",
      "Train loss: 0.689624  [    0/  207] training time ratio: 0.8401638281877803\n",
      "Valid Error: \n",
      " Accuracy: 44.2%, Avg loss: 0.694906\n",
      "\n"
     ]
    },
    {
     "name": "stdout",
     "output_type": "stream",
     "text": [
      "Training time: 0.153762\n",
      "Training time: 0.147625\n"
     ]
    },
    {
     "name": "stderr",
     "output_type": "stream",
     "text": [
      "Train loss: 0.691681  [    0/  207] training time ratio: 0.8348181059563816\n",
      "Valid Error: \n",
      " Accuracy: 44.2%, Avg loss: 0.694906\n",
      "\n",
      "Train loss: 0.691985  [    0/  207] training time ratio: 0.8473525856970195\n",
      "Valid Error: \n",
      " Accuracy: 44.2%, Avg loss: 0.694906\n",
      "\n"
     ]
    },
    {
     "name": "stdout",
     "output_type": "stream",
     "text": [
      "Training time: 0.154665\n",
      "Training time: 0.147515\n"
     ]
    },
    {
     "name": "stderr",
     "output_type": "stream",
     "text": [
      "Train loss: 0.693219  [    0/  207] training time ratio: 0.8553136680472776\n",
      "Valid Error: \n",
      " Accuracy: 44.2%, Avg loss: 0.694906\n",
      "\n",
      "Train loss: 0.691564  [    0/  207] training time ratio: 0.8255525178955277\n",
      "Valid Error: \n",
      " Accuracy: 44.2%, Avg loss: 0.694906\n",
      "\n"
     ]
    },
    {
     "name": "stdout",
     "output_type": "stream",
     "text": [
      "Training time: 0.151656\n",
      "Training time: 0.156643\n"
     ]
    },
    {
     "name": "stderr",
     "output_type": "stream",
     "text": [
      "Train loss: 0.691490  [    0/  207] training time ratio: 0.853409117933839\n",
      "Valid Error: \n",
      " Accuracy: 44.2%, Avg loss: 0.694906\n",
      "\n",
      "Train loss: 0.691000  [    0/  207] training time ratio: 0.8304277262970525\n",
      "Valid Error: \n",
      " Accuracy: 44.2%, Avg loss: 0.694906\n",
      "\n"
     ]
    },
    {
     "name": "stdout",
     "output_type": "stream",
     "text": [
      "Training time: 0.153814\n",
      "Training time: 0.147429\n"
     ]
    },
    {
     "name": "stderr",
     "output_type": "stream",
     "text": [
      "Train loss: 0.692652  [    0/  207] training time ratio: 0.8366107432667894\n",
      "Valid Error: \n",
      " Accuracy: 44.2%, Avg loss: 0.694906\n",
      "\n",
      "Train loss: 0.690378  [    0/  207] training time ratio: 0.8074622757188259\n",
      "Valid Error: \n",
      " Accuracy: 44.2%, Avg loss: 0.694907\n",
      "\n"
     ]
    },
    {
     "name": "stdout",
     "output_type": "stream",
     "text": [
      "Training time: 0.156027\n",
      "Training time: 0.148821\n"
     ]
    },
    {
     "name": "stderr",
     "output_type": "stream",
     "text": [
      "Train loss: 0.688315  [    0/  207] training time ratio: 0.83406011159563\n",
      "Valid Error: \n",
      " Accuracy: 44.2%, Avg loss: 0.694907\n",
      "\n",
      "Train loss: 0.691029  [    0/  207] training time ratio: 0.8516125587355831\n",
      "Valid Error: \n",
      " Accuracy: 44.2%, Avg loss: 0.694906\n",
      "\n"
     ]
    },
    {
     "name": "stdout",
     "output_type": "stream",
     "text": [
      "Training time: 0.158065\n",
      "Training time: 0.146061\n"
     ]
    },
    {
     "name": "stderr",
     "output_type": "stream",
     "text": [
      "Valid Error: \n",
      " Accuracy: 48.3%, Avg loss: 0.693132\n",
      "\n",
      "Test Error 13: \n",
      " Accuracy: 48.3%, Avg loss: 0.693132\n",
      "[2024-01-24 20:52:15] INFO (torcheeg/MainThread) Read the split of train and test set from ./examples_vanilla_torch/split14. If you want to use the same setting for the experiment, please set split_path to ./examples_vanilla_torch/split14 for the next run.\n",
      "Train loss: 0.693209  [    0/  207] training time ratio: 0.848457216088328\n",
      "Valid Error: \n",
      " Accuracy: 46.2%, Avg loss: 0.693677\n",
      "\n",
      "Train loss: 0.691880  [    0/  207] training time ratio: 0.8477284833726505\n",
      "Valid Error: \n",
      " Accuracy: 44.2%, Avg loss: 0.695765\n",
      "\n"
     ]
    },
    {
     "name": "stdout",
     "output_type": "stream",
     "text": [
      "Training time: 0.159146\n",
      "Training time: 0.155235\n"
     ]
    },
    {
     "name": "stderr",
     "output_type": "stream",
     "text": [
      "Train loss: 0.693436  [    0/  207] training time ratio: 0.8593765103914935\n",
      "Valid Error: \n",
      " Accuracy: 53.8%, Avg loss: 0.691844\n",
      "\n",
      "Train loss: 0.694401  [    0/  207] training time ratio: 0.8189786854040843\n"
     ]
    },
    {
     "name": "stdout",
     "output_type": "stream",
     "text": [
      "Training time: 0.160682\n"
     ]
    },
    {
     "name": "stderr",
     "output_type": "stream",
     "text": [
      "Valid Error: \n",
      " Accuracy: 51.9%, Avg loss: 0.693064\n",
      "\n",
      "Train loss: 0.693198  [    0/  207] training time ratio: 0.8109280461695988\n"
     ]
    },
    {
     "name": "stdout",
     "output_type": "stream",
     "text": [
      "Training time: 0.179437\n"
     ]
    },
    {
     "name": "stderr",
     "output_type": "stream",
     "text": [
      "Valid Error: \n",
      " Accuracy: 51.9%, Avg loss: 0.690805\n",
      "\n",
      "Train loss: 0.691093  [    0/  207] training time ratio: 0.8489288902112466\n"
     ]
    },
    {
     "name": "stdout",
     "output_type": "stream",
     "text": [
      "Training time: 0.179702\n",
      "Training time: 0.159064\n"
     ]
    },
    {
     "name": "stderr",
     "output_type": "stream",
     "text": [
      "Valid Error: \n",
      " Accuracy: 46.2%, Avg loss: 0.695133\n",
      "\n",
      "Train loss: 0.692078  [    0/  207] training time ratio: 0.8481935940282488\n",
      "Valid Error: \n",
      " Accuracy: 46.2%, Avg loss: 0.695089\n",
      "\n",
      "Train loss: 0.692855  [    0/  207] training time ratio: 0.8455806657189078\n"
     ]
    },
    {
     "name": "stdout",
     "output_type": "stream",
     "text": [
      "Training time: 0.160792\n",
      "Training time: 0.167849\n"
     ]
    },
    {
     "name": "stderr",
     "output_type": "stream",
     "text": [
      "Valid Error: \n",
      " Accuracy: 46.2%, Avg loss: 0.695557\n",
      "\n",
      "Train loss: 0.692094  [    0/  207] training time ratio: 0.8582831325301206\n",
      "Valid Error: \n",
      " Accuracy: 46.2%, Avg loss: 0.695857\n",
      "\n",
      "Train loss: 0.695138  [    0/  207] training time ratio: 0.8435724831710918\n",
      "Valid Error: \n",
      " Accuracy: 46.2%, Avg loss: 0.695858\n",
      "\n"
     ]
    },
    {
     "name": "stdout",
     "output_type": "stream",
     "text": [
      "Training time: 0.160806\n",
      "Training time: 0.162066\n"
     ]
    },
    {
     "name": "stderr",
     "output_type": "stream",
     "text": [
      "Train loss: 0.691833  [    0/  207] training time ratio: 0.8479109331998999\n",
      "Valid Error: \n",
      " Accuracy: 44.2%, Avg loss: 0.696750\n",
      "\n",
      "Train loss: 0.690458  [    0/  207] training time ratio: 0.8471442127670488\n",
      "Valid Error: \n",
      " Accuracy: 44.2%, Avg loss: 0.696750\n",
      "\n"
     ]
    },
    {
     "name": "stdout",
     "output_type": "stream",
     "text": [
      "Training time: 0.156075\n",
      "Training time: 0.150694\n"
     ]
    },
    {
     "name": "stderr",
     "output_type": "stream",
     "text": [
      "Train loss: 0.692834  [    0/  207] training time ratio: 0.8490843208304769\n",
      "Valid Error: \n",
      " Accuracy: 46.2%, Avg loss: 0.695560\n",
      "\n",
      "Train loss: 0.691599  [    0/  207] training time ratio: 0.8871506318605296\n"
     ]
    },
    {
     "name": "stdout",
     "output_type": "stream",
     "text": [
      "Training time: 0.155444\n",
      "Training time: 0.173776\n"
     ]
    },
    {
     "name": "stderr",
     "output_type": "stream",
     "text": [
      "Valid Error: \n",
      " Accuracy: 46.2%, Avg loss: 0.693145\n",
      "\n",
      "Train loss: 0.691614  [    0/  207] training time ratio: 0.8668240850059032\n",
      "Valid Error: \n",
      " Accuracy: 50.0%, Avg loss: 0.693147\n",
      "\n",
      "Train loss: 0.693147  [    0/  207] training time ratio: 0.8462118153680528\n",
      "Valid Error: \n",
      " Accuracy: 50.0%, Avg loss: 0.693147\n",
      "\n"
     ]
    },
    {
     "name": "stdout",
     "output_type": "stream",
     "text": [
      "Training time: 0.158625\n",
      "Training time: 0.149485\n"
     ]
    },
    {
     "name": "stderr",
     "output_type": "stream",
     "text": [
      "Train loss: 0.693147  [    0/  207] training time ratio: 0.847245791863505\n",
      "Valid Error: \n",
      " Accuracy: 51.9%, Avg loss: 0.693147\n",
      "\n",
      "Train loss: 0.693147  [    0/  207] training time ratio: 0.8435365671269754\n",
      "Valid Error: \n",
      " Accuracy: 50.0%, Avg loss: 0.693147\n",
      "\n"
     ]
    },
    {
     "name": "stdout",
     "output_type": "stream",
     "text": [
      "Training time: 0.169277\n",
      "Training time: 0.155884\n"
     ]
    },
    {
     "name": "stderr",
     "output_type": "stream",
     "text": [
      "Train loss: 0.693147  [    0/  207] training time ratio: 0.875221278102319\n",
      "Valid Error: \n",
      " Accuracy: 50.0%, Avg loss: 0.693147\n",
      "\n",
      "Train loss: 0.693147  [    0/  207] training time ratio: 0.8473451327433628\n",
      "Valid Error: \n",
      " Accuracy: 50.0%, Avg loss: 0.693147\n",
      "\n"
     ]
    },
    {
     "name": "stdout",
     "output_type": "stream",
     "text": [
      "Training time: 0.160919\n",
      "Training time: 0.154588\n"
     ]
    },
    {
     "name": "stderr",
     "output_type": "stream",
     "text": [
      "Train loss: 0.693147  [    0/  207] training time ratio: 0.884778427234869\n",
      "Valid Error: \n",
      " Accuracy: 50.0%, Avg loss: 0.693147\n",
      "\n",
      "Train loss: 0.693147  [    0/  207] training time ratio: 0.8520841500065335\n",
      "Valid Error: \n",
      " Accuracy: 50.0%, Avg loss: 0.693147\n",
      "\n"
     ]
    },
    {
     "name": "stdout",
     "output_type": "stream",
     "text": [
      "Training time: 0.172793\n",
      "Training time: 0.149008\n"
     ]
    },
    {
     "name": "stderr",
     "output_type": "stream",
     "text": [
      "Train loss: 0.693147  [    0/  207] training time ratio: 0.8533560726032404\n",
      "Valid Error: \n",
      " Accuracy: 48.1%, Avg loss: 0.693147\n",
      "\n",
      "Train loss: 0.693147  [    0/  207] training time ratio: 0.845752926711926\n",
      "Valid Error: \n",
      " Accuracy: 48.1%, Avg loss: 0.693147\n",
      "\n"
     ]
    },
    {
     "name": "stdout",
     "output_type": "stream",
     "text": [
      "Training time: 0.155017\n",
      "Training time: 0.146189\n"
     ]
    },
    {
     "name": "stderr",
     "output_type": "stream",
     "text": [
      "Train loss: 0.693147  [    0/  207] training time ratio: 0.849085681426107\n",
      "Valid Error: \n",
      " Accuracy: 48.1%, Avg loss: 0.693147\n",
      "\n",
      "Train loss: 0.693147  [    0/  207] training time ratio: 0.840147913365029\n",
      "Valid Error: \n",
      " Accuracy: 48.1%, Avg loss: 0.693147\n",
      "\n"
     ]
    },
    {
     "name": "stdout",
     "output_type": "stream",
     "text": [
      "Training time: 0.15672\n",
      "Training time: 0.147888\n"
     ]
    },
    {
     "name": "stderr",
     "output_type": "stream",
     "text": [
      "Train loss: 0.693147  [    0/  207] training time ratio: 0.839572864321608\n",
      "Valid Error: \n",
      " Accuracy: 48.1%, Avg loss: 0.693147\n",
      "\n",
      "Train loss: 0.693147  [    0/  207] training time ratio: 0.8272002576696996\n",
      "Valid Error: \n",
      " Accuracy: 48.1%, Avg loss: 0.693147\n",
      "\n"
     ]
    },
    {
     "name": "stdout",
     "output_type": "stream",
     "text": [
      "Training time: 0.153246\n",
      "Training time: 0.160788\n"
     ]
    },
    {
     "name": "stderr",
     "output_type": "stream",
     "text": [
      "Train loss: 0.693147  [    0/  207] training time ratio: 0.8591008493108886\n",
      "Valid Error: \n",
      " Accuracy: 48.1%, Avg loss: 0.693147\n",
      "\n",
      "Train loss: 0.693147  [    0/  207] training time ratio: 0.8335111205930983\n",
      "Valid Error: \n",
      " Accuracy: 48.1%, Avg loss: 0.693147\n",
      "\n"
     ]
    },
    {
     "name": "stdout",
     "output_type": "stream",
     "text": [
      "Training time: 0.149649\n",
      "Training time: 0.144823\n"
     ]
    },
    {
     "name": "stderr",
     "output_type": "stream",
     "text": [
      "Train loss: 0.693147  [    0/  207] training time ratio: 0.8504299912456872\n",
      "Valid Error: \n",
      " Accuracy: 48.1%, Avg loss: 0.693147\n",
      "\n",
      "Train loss: 0.693147  [    0/  207] training time ratio: 0.827887119097328\n"
     ]
    },
    {
     "name": "stdout",
     "output_type": "stream",
     "text": [
      "Training time: 0.155823\n",
      "Training time: 0.171913\n"
     ]
    },
    {
     "name": "stderr",
     "output_type": "stream",
     "text": [
      "Valid Error: \n",
      " Accuracy: 50.0%, Avg loss: 0.693147\n",
      "\n",
      "Train loss: 0.693147  [    0/  207] training time ratio: 0.8464442745173006\n",
      "Valid Error: \n",
      " Accuracy: 50.0%, Avg loss: 0.693147\n",
      "\n",
      "Train loss: 0.693147  [    0/  207] training time ratio: 0.8480041192624558\n",
      "Valid Error: \n",
      " Accuracy: 50.0%, Avg loss: 0.693147\n",
      "\n"
     ]
    },
    {
     "name": "stdout",
     "output_type": "stream",
     "text": [
      "Training time: 0.16081\n",
      "Training time: 0.155829\n"
     ]
    },
    {
     "name": "stderr",
     "output_type": "stream",
     "text": [
      "Train loss: 0.693147  [    0/  207] training time ratio: 0.8563919468412179\n",
      "Valid Error: \n",
      " Accuracy: 50.0%, Avg loss: 0.693147\n",
      "\n",
      "Train loss: 0.693147  [    0/  207] training time ratio: 0.8538110615613307\n",
      "Valid Error: \n",
      " Accuracy: 50.0%, Avg loss: 0.693147\n",
      "\n"
     ]
    },
    {
     "name": "stdout",
     "output_type": "stream",
     "text": [
      "Training time: 0.173234\n",
      "Training time: 0.155155\n"
     ]
    },
    {
     "name": "stderr",
     "output_type": "stream",
     "text": [
      "Train loss: 0.693147  [    0/  207] training time ratio: 0.8624977185617814\n",
      "Valid Error: \n",
      " Accuracy: 50.0%, Avg loss: 0.693147\n",
      "\n",
      "Train loss: 0.693147  [    0/  207] training time ratio: 0.8570673512533977\n",
      "Valid Error: \n",
      " Accuracy: 50.0%, Avg loss: 0.693147\n",
      "\n"
     ]
    },
    {
     "name": "stdout",
     "output_type": "stream",
     "text": [
      "Training time: 0.161969\n",
      "Training time: 0.154554\n"
     ]
    },
    {
     "name": "stderr",
     "output_type": "stream",
     "text": [
      "Train loss: 0.693147  [    0/  207] training time ratio: 0.8536224489795918\n",
      "Valid Error: \n",
      " Accuracy: 51.9%, Avg loss: 0.693147\n",
      "\n",
      "Train loss: 0.693147  [    0/  207] training time ratio: 0.8479719654041158\n",
      "Valid Error: \n",
      " Accuracy: 50.0%, Avg loss: 0.693147\n",
      "\n"
     ]
    },
    {
     "name": "stdout",
     "output_type": "stream",
     "text": [
      "Training time: 0.152247\n",
      "Training time: 0.150054\n"
     ]
    },
    {
     "name": "stderr",
     "output_type": "stream",
     "text": [
      "Train loss: 0.693147  [    0/  207] training time ratio: 0.8218805880030654\n",
      "Valid Error: \n",
      " Accuracy: 51.9%, Avg loss: 0.693147\n",
      "\n",
      "Train loss: 0.693147  [    0/  207] training time ratio: 0.8497521189828883\n",
      "Valid Error: \n",
      " Accuracy: 51.9%, Avg loss: 0.693147\n",
      "\n"
     ]
    },
    {
     "name": "stdout",
     "output_type": "stream",
     "text": [
      "Training time: 0.162407\n",
      "Training time: 0.15979\n"
     ]
    },
    {
     "name": "stderr",
     "output_type": "stream",
     "text": [
      "Train loss: 0.693147  [    0/  207] training time ratio: 0.8556643498554106\n",
      "Valid Error: \n",
      " Accuracy: 51.9%, Avg loss: 0.693147\n",
      "\n",
      "Train loss: 0.693147  [    0/  207] training time ratio: 0.8655934554848587\n"
     ]
    },
    {
     "name": "stdout",
     "output_type": "stream",
     "text": [
      "Training time: 0.186917\n",
      "Training time: 0.16768\n"
     ]
    },
    {
     "name": "stderr",
     "output_type": "stream",
     "text": [
      "Valid Error: \n",
      " Accuracy: 53.8%, Avg loss: 0.693147\n",
      "\n",
      "Train loss: 0.693147  [    0/  207] training time ratio: 0.8027863329130408\n",
      "Valid Error: \n",
      " Accuracy: 53.8%, Avg loss: 0.693147\n",
      "\n",
      "Train loss: 0.693147  [    0/  207] training time ratio: 0.8573132844538338\n"
     ]
    },
    {
     "name": "stdout",
     "output_type": "stream",
     "text": [
      "Training time: 0.173486\n",
      "Training time: 0.161852\n"
     ]
    },
    {
     "name": "stderr",
     "output_type": "stream",
     "text": [
      "Valid Error: \n",
      " Accuracy: 53.8%, Avg loss: 0.693147\n",
      "\n",
      "Train loss: 0.693147  [    0/  207] training time ratio: 0.8756785383291408\n",
      "Valid Error: \n",
      " Accuracy: 53.8%, Avg loss: 0.693147\n",
      "\n",
      "Train loss: 0.693147  [    0/  207] training time ratio: 0.8402978998539237\n",
      "Valid Error: \n",
      " Accuracy: 53.8%, Avg loss: 0.693147\n",
      "\n"
     ]
    },
    {
     "name": "stdout",
     "output_type": "stream",
     "text": [
      "Training time: 0.166326\n",
      "Training time: 0.15606\n"
     ]
    },
    {
     "name": "stderr",
     "output_type": "stream",
     "text": [
      "Train loss: 0.693147  [    0/  207] training time ratio: 0.8335336391062275\n",
      "Valid Error: \n",
      " Accuracy: 53.8%, Avg loss: 0.693147\n",
      "\n",
      "Train loss: 0.693147  [    0/  207] training time ratio: 0.8386962732112713\n",
      "Valid Error: \n",
      " Accuracy: 53.8%, Avg loss: 0.693147\n",
      "\n"
     ]
    },
    {
     "name": "stdout",
     "output_type": "stream",
     "text": [
      "Training time: 0.153408\n",
      "Training time: 0.151254\n"
     ]
    },
    {
     "name": "stderr",
     "output_type": "stream",
     "text": [
      "Valid Error: \n",
      " Accuracy: 44.8%, Avg loss: 0.696953\n",
      "\n",
      "Test Error 14: \n",
      " Accuracy: 44.8%, Avg loss: 0.696953\n",
      "[2024-01-24 20:52:25] INFO (torcheeg/MainThread) Read the split of train and test set from ./examples_vanilla_torch/split15. If you want to use the same setting for the experiment, please set split_path to ./examples_vanilla_torch/split15 for the next run.\n",
      "Train loss: 0.693146  [    0/  207] training time ratio: 0.8569915254237288\n",
      "Valid Error: \n",
      " Accuracy: 57.7%, Avg loss: 0.692733\n",
      "\n",
      "Train loss: 0.693637  [    0/  207] training time ratio: 0.8511124657116733\n",
      "Valid Error: \n",
      " Accuracy: 51.9%, Avg loss: 0.691980\n",
      "\n"
     ]
    },
    {
     "name": "stdout",
     "output_type": "stream",
     "text": [
      "Training time: 0.151833\n",
      "Training time: 0.153932\n"
     ]
    },
    {
     "name": "stderr",
     "output_type": "stream",
     "text": [
      "Train loss: 0.694144  [    0/  207] training time ratio: 0.8413329322791336\n",
      "Valid Error: \n",
      " Accuracy: 53.8%, Avg loss: 0.691703\n",
      "\n",
      "Train loss: 0.691772  [    0/  207] training time ratio: 0.8386596496580481\n",
      "Valid Error: \n",
      " Accuracy: 57.7%, Avg loss: 0.691352\n",
      "\n"
     ]
    },
    {
     "name": "stdout",
     "output_type": "stream",
     "text": [
      "Training time: 0.157862\n",
      "Training time: 0.150419\n"
     ]
    },
    {
     "name": "stderr",
     "output_type": "stream",
     "text": [
      "Train loss: 0.694235  [    0/  207] training time ratio: 0.8459002257221843\n",
      "Valid Error: \n",
      " Accuracy: 50.0%, Avg loss: 0.693424\n",
      "\n",
      "Train loss: 0.693173  [    0/  207] training time ratio: 0.8349395434443622\n",
      "Valid Error: \n",
      " Accuracy: 50.0%, Avg loss: 0.692388\n",
      "\n"
     ]
    },
    {
     "name": "stdout",
     "output_type": "stream",
     "text": [
      "Training time: 0.152304\n",
      "Training time: 0.151362\n"
     ]
    },
    {
     "name": "stderr",
     "output_type": "stream",
     "text": [
      "Train loss: 0.693284  [    0/  207] training time ratio: 0.8568330787048445\n",
      "Valid Error: \n",
      " Accuracy: 50.0%, Avg loss: 0.693391\n",
      "\n",
      "Train loss: 0.692888  [    0/  207] training time ratio: 0.812820211975439\n"
     ]
    },
    {
     "name": "stdout",
     "output_type": "stream",
     "text": [
      "Training time: 0.155612\n",
      "Training time: 0.167629\n"
     ]
    },
    {
     "name": "stderr",
     "output_type": "stream",
     "text": [
      "Valid Error: \n",
      " Accuracy: 57.7%, Avg loss: 0.690979\n",
      "\n",
      "Train loss: 0.694962  [    0/  207] training time ratio: 0.7991705787002926\n",
      "Valid Error: \n",
      " Accuracy: 55.8%, Avg loss: 0.690529\n",
      "\n",
      "Train loss: 0.691941  [    0/  207] training time ratio: 0.8696554680625438\n",
      "Valid Error: \n",
      " Accuracy: 51.9%, Avg loss: 0.691976\n",
      "\n"
     ]
    },
    {
     "name": "stdout",
     "output_type": "stream",
     "text": [
      "Training time: 0.170281\n",
      "Training time: 0.155965\n"
     ]
    },
    {
     "name": "stderr",
     "output_type": "stream",
     "text": [
      "Train loss: 0.694647  [    0/  207] training time ratio: 0.8466012033909678\n",
      "Valid Error: \n",
      " Accuracy: 53.8%, Avg loss: 0.693147\n",
      "\n",
      "Train loss: 0.692358  [    0/  207] training time ratio: 0.8606276615441585\n"
     ]
    },
    {
     "name": "stdout",
     "output_type": "stream",
     "text": [
      "Training time: 0.171203\n",
      "Training time: 0.16096\n"
     ]
    },
    {
     "name": "stderr",
     "output_type": "stream",
     "text": [
      "Valid Error: \n",
      " Accuracy: 55.8%, Avg loss: 0.693147\n",
      "\n",
      "Train loss: 0.693147  [    0/  207] training time ratio: 0.8912624725507571\n",
      "Valid Error: \n",
      " Accuracy: 55.8%, Avg loss: 0.693147\n",
      "\n",
      "Train loss: 0.693147  [    0/  207] training time ratio: 0.8536460335768294\n",
      "Valid Error: \n",
      " Accuracy: 51.9%, Avg loss: 0.693147\n",
      "\n"
     ]
    },
    {
     "name": "stdout",
     "output_type": "stream",
     "text": [
      "Training time: 0.172876\n",
      "Training time: 0.155028\n"
     ]
    },
    {
     "name": "stderr",
     "output_type": "stream",
     "text": [
      "Train loss: 0.693147  [    0/  207] training time ratio: 0.8660590594239883\n",
      "Valid Error: \n",
      " Accuracy: 51.9%, Avg loss: 0.693147\n",
      "\n",
      "Train loss: 0.693147  [    0/  207] training time ratio: 0.8669779914925096\n"
     ]
    },
    {
     "name": "stdout",
     "output_type": "stream",
     "text": [
      "Training time: 0.165795\n",
      "Training time: 0.163083\n"
     ]
    },
    {
     "name": "stderr",
     "output_type": "stream",
     "text": [
      "Valid Error: \n",
      " Accuracy: 51.9%, Avg loss: 0.693147\n",
      "\n",
      "Train loss: 0.693147  [    0/  207] training time ratio: 0.8804299339380164\n",
      "Valid Error: \n",
      " Accuracy: 51.9%, Avg loss: 0.693147\n",
      "\n",
      "Train loss: 0.693147  [    0/  207] training time ratio: 0.8234358949273589\n",
      "Valid Error: \n",
      " Accuracy: 53.8%, Avg loss: 0.693147\n",
      "\n"
     ]
    },
    {
     "name": "stdout",
     "output_type": "stream",
     "text": [
      "Training time: 0.163202\n",
      "Training time: 0.156574\n"
     ]
    },
    {
     "name": "stderr",
     "output_type": "stream",
     "text": [
      "Train loss: 0.693147  [    0/  207] training time ratio: 0.8556729381029861\n",
      "Valid Error: \n",
      " Accuracy: 51.9%, Avg loss: 0.693147\n",
      "\n",
      "Train loss: 0.693147  [    0/  207] training time ratio: 0.8461054146429214\n"
     ]
    },
    {
     "name": "stdout",
     "output_type": "stream",
     "text": [
      "Training time: 0.197259\n",
      "Training time: 0.178632\n"
     ]
    },
    {
     "name": "stderr",
     "output_type": "stream",
     "text": [
      "Valid Error: \n",
      " Accuracy: 51.9%, Avg loss: 0.693147\n",
      "\n",
      "Train loss: 0.693147  [    0/  207] training time ratio: 0.8394066063882957\n",
      "Valid Error: \n",
      " Accuracy: 51.9%, Avg loss: 0.693147\n",
      "\n",
      "Train loss: 0.693147  [    0/  207] training time ratio: 0.8489154092587611\n",
      "Valid Error: \n",
      " Accuracy: 51.9%, Avg loss: 0.693147\n",
      "\n"
     ]
    },
    {
     "name": "stdout",
     "output_type": "stream",
     "text": [
      "Training time: 0.157818\n",
      "Training time: 0.162174\n"
     ]
    },
    {
     "name": "stderr",
     "output_type": "stream",
     "text": [
      "Train loss: 0.693147  [    0/  207] training time ratio: 0.8367004560383734\n",
      "Valid Error: \n",
      " Accuracy: 51.9%, Avg loss: 0.693147\n",
      "\n",
      "Train loss: 0.693147  [    0/  207] training time ratio: 0.8464721201353226\n",
      "Valid Error: \n",
      " Accuracy: 51.9%, Avg loss: 0.693147\n",
      "\n"
     ]
    },
    {
     "name": "stdout",
     "output_type": "stream",
     "text": [
      "Training time: 0.16215\n",
      "Training time: 0.155921\n"
     ]
    },
    {
     "name": "stderr",
     "output_type": "stream",
     "text": [
      "Train loss: 0.693147  [    0/  207] training time ratio: 0.8462582948249053\n",
      "Valid Error: \n",
      " Accuracy: 51.9%, Avg loss: 0.693147\n",
      "\n",
      "Train loss: 0.693147  [    0/  207] training time ratio: 0.8438192234245703\n",
      "Valid Error: \n",
      " Accuracy: 51.9%, Avg loss: 0.693147\n",
      "\n"
     ]
    },
    {
     "name": "stdout",
     "output_type": "stream",
     "text": [
      "Training time: 0.179296\n",
      "Training time: 0.156391\n"
     ]
    },
    {
     "name": "stderr",
     "output_type": "stream",
     "text": [
      "Train loss: 0.693147  [    0/  207] training time ratio: 0.8578517093643437\n",
      "Valid Error: \n",
      " Accuracy: 51.9%, Avg loss: 0.693147\n",
      "\n",
      "Train loss: 0.693147  [    0/  207] training time ratio: 0.8229489595364011\n"
     ]
    },
    {
     "name": "stdout",
     "output_type": "stream",
     "text": [
      "Training time: 0.171051\n",
      "Training time: 0.167489\n"
     ]
    },
    {
     "name": "stderr",
     "output_type": "stream",
     "text": [
      "Valid Error: \n",
      " Accuracy: 53.8%, Avg loss: 0.693147\n",
      "\n",
      "Train loss: 0.693147  [    0/  207] training time ratio: 0.8126292765269489\n",
      "Valid Error: \n",
      " Accuracy: 51.9%, Avg loss: 0.693147\n",
      "\n",
      "Train loss: 0.693147  [    0/  207] training time ratio: 0.8368810329697882\n",
      "Valid Error: \n",
      " Accuracy: 51.9%, Avg loss: 0.693147\n",
      "\n"
     ]
    },
    {
     "name": "stdout",
     "output_type": "stream",
     "text": [
      "Training time: 0.162247\n",
      "Training time: 0.152498\n"
     ]
    },
    {
     "name": "stderr",
     "output_type": "stream",
     "text": [
      "Train loss: 0.693147  [    0/  207] training time ratio: 0.8449785208405898\n",
      "Valid Error: \n",
      " Accuracy: 51.9%, Avg loss: 0.693147\n",
      "\n",
      "Train loss: 0.693147  [    0/  207] training time ratio: 0.8434377582450605\n",
      "Valid Error: \n",
      " Accuracy: 51.9%, Avg loss: 0.693147\n",
      "\n"
     ]
    },
    {
     "name": "stdout",
     "output_type": "stream",
     "text": [
      "Training time: 0.155805\n",
      "Training time: 0.156536\n"
     ]
    },
    {
     "name": "stderr",
     "output_type": "stream",
     "text": [
      "Train loss: 0.693147  [    0/  207] training time ratio: 0.8661240858693088\n",
      "Valid Error: \n",
      " Accuracy: 51.9%, Avg loss: 0.693147\n",
      "\n",
      "Train loss: 0.693147  [    0/  207] training time ratio: 0.8478060382487137\n",
      "Valid Error: \n",
      " Accuracy: 53.8%, Avg loss: 0.693147\n",
      "\n"
     ]
    },
    {
     "name": "stdout",
     "output_type": "stream",
     "text": [
      "Training time: 0.164087\n",
      "Training time: 0.155982\n"
     ]
    },
    {
     "name": "stderr",
     "output_type": "stream",
     "text": [
      "Train loss: 0.693147  [    0/  207] training time ratio: 0.8127157805279651\n",
      "Valid Error: \n",
      " Accuracy: 53.8%, Avg loss: 0.693147\n",
      "\n",
      "Train loss: 0.693147  [    0/  207] training time ratio: 0.8518699020161082\n",
      "Valid Error: \n",
      " Accuracy: 51.9%, Avg loss: 0.693147\n",
      "\n"
     ]
    },
    {
     "name": "stdout",
     "output_type": "stream",
     "text": [
      "Training time: 0.174602\n",
      "Training time: 0.149819\n"
     ]
    },
    {
     "name": "stderr",
     "output_type": "stream",
     "text": [
      "Train loss: 0.693147  [    0/  207] training time ratio: 0.8454133111172822\n",
      "Valid Error: \n",
      " Accuracy: 53.8%, Avg loss: 0.693147\n",
      "\n",
      "Train loss: 0.693147  [    0/  207] training time ratio: 0.8488542291541692\n",
      "Valid Error: \n",
      " Accuracy: 51.9%, Avg loss: 0.693147\n",
      "\n"
     ]
    },
    {
     "name": "stdout",
     "output_type": "stream",
     "text": [
      "Training time: 0.157068\n",
      "Training time: 0.158602\n"
     ]
    },
    {
     "name": "stderr",
     "output_type": "stream",
     "text": [
      "Train loss: 0.693147  [    0/  207] training time ratio: 0.8611182205263035\n",
      "Valid Error: \n",
      " Accuracy: 51.9%, Avg loss: 0.693147\n",
      "\n",
      "Train loss: 0.693147  [    0/  207] training time ratio: 0.8432518850816074\n",
      "Valid Error: \n",
      " Accuracy: 51.9%, Avg loss: 0.693147\n",
      "\n"
     ]
    },
    {
     "name": "stdout",
     "output_type": "stream",
     "text": [
      "Training time: 0.158623\n",
      "Training time: 0.156437\n"
     ]
    },
    {
     "name": "stderr",
     "output_type": "stream",
     "text": [
      "Train loss: 0.693147  [    0/  207] training time ratio: 0.8604468493628906\n",
      "Valid Error: \n",
      " Accuracy: 53.8%, Avg loss: 0.693147\n",
      "\n",
      "Train loss: 0.693147  [    0/  207] training time ratio: 0.8623337479667018\n",
      "Valid Error: \n",
      " Accuracy: 51.9%, Avg loss: 0.693147\n",
      "\n"
     ]
    },
    {
     "name": "stdout",
     "output_type": "stream",
     "text": [
      "Training time: 0.164461\n",
      "Training time: 0.157346\n"
     ]
    },
    {
     "name": "stderr",
     "output_type": "stream",
     "text": [
      "Train loss: 0.693147  [    0/  207] training time ratio: 0.827997854927837\n",
      "Valid Error: \n",
      " Accuracy: 53.8%, Avg loss: 0.693147\n",
      "\n",
      "Train loss: 0.693147  [    0/  207] training time ratio: 0.8295116978934084\n"
     ]
    },
    {
     "name": "stdout",
     "output_type": "stream",
     "text": [
      "Training time: 0.15728\n",
      "Training time: 0.170954\n"
     ]
    },
    {
     "name": "stderr",
     "output_type": "stream",
     "text": [
      "Valid Error: \n",
      " Accuracy: 51.9%, Avg loss: 0.693147\n",
      "\n",
      "Train loss: 0.693147  [    0/  207] training time ratio: 0.8513129790174645\n",
      "Valid Error: \n",
      " Accuracy: 53.8%, Avg loss: 0.693147\n",
      "\n",
      "Train loss: 0.693147  [    0/  207] training time ratio: 0.8492924818506215\n",
      "Valid Error: \n",
      " Accuracy: 53.8%, Avg loss: 0.693147\n",
      "\n"
     ]
    },
    {
     "name": "stdout",
     "output_type": "stream",
     "text": [
      "Training time: 0.155832\n",
      "Training time: 0.156462\n"
     ]
    },
    {
     "name": "stderr",
     "output_type": "stream",
     "text": [
      "Train loss: 0.693147  [    0/  207] training time ratio: 0.846173422172867\n",
      "Valid Error: \n",
      " Accuracy: 53.8%, Avg loss: 0.693147\n",
      "\n",
      "Train loss: 0.693147  [    0/  207] training time ratio: 0.865616567883582\n",
      "Valid Error: \n",
      " Accuracy: 53.8%, Avg loss: 0.693147\n",
      "\n"
     ]
    },
    {
     "name": "stdout",
     "output_type": "stream",
     "text": [
      "Training time: 0.16164\n",
      "Training time: 0.159784\n"
     ]
    },
    {
     "name": "stderr",
     "output_type": "stream",
     "text": [
      "Train loss: 0.693147  [    0/  207] training time ratio: 0.8582016053577584\n",
      "Valid Error: \n",
      " Accuracy: 53.8%, Avg loss: 0.693147\n",
      "\n",
      "Train loss: 0.693147  [    0/  207] training time ratio: 0.8453639460073167\n",
      "Valid Error: \n",
      " Accuracy: 55.8%, Avg loss: 0.693147\n",
      "\n"
     ]
    },
    {
     "name": "stdout",
     "output_type": "stream",
     "text": [
      "Training time: 0.159064\n",
      "Training time: 0.15042\n"
     ]
    },
    {
     "name": "stderr",
     "output_type": "stream",
     "text": [
      "Valid Error: \n",
      " Accuracy: 48.3%, Avg loss: 0.693008\n",
      "\n",
      "Test Error 15: \n",
      " Accuracy: 48.3%, Avg loss: 0.693008\n",
      "[2024-01-24 20:52:34] INFO (torcheeg/MainThread) Read the split of train and test set from ./examples_vanilla_torch/split16. If you want to use the same setting for the experiment, please set split_path to ./examples_vanilla_torch/split16 for the next run.\n",
      "Train loss: 0.693153  [    0/  207] training time ratio: 0.848332764011877\n",
      "Valid Error: \n",
      " Accuracy: 46.2%, Avg loss: 0.693614\n",
      "\n",
      "Train loss: 0.692795  [    0/  207] training time ratio: 0.826775782318021\n"
     ]
    },
    {
     "name": "stdout",
     "output_type": "stream",
     "text": [
      "Training time: 0.156293\n"
     ]
    },
    {
     "name": "stderr",
     "output_type": "stream",
     "text": [
      "Valid Error: \n",
      " Accuracy: 53.8%, Avg loss: 0.693453\n",
      "\n",
      "Train loss: 0.692942  [    0/  207] training time ratio: 0.8364980788133322\n"
     ]
    },
    {
     "name": "stdout",
     "output_type": "stream",
     "text": [
      "Training time: 0.223168\n",
      "Training time: 0.169777\n"
     ]
    },
    {
     "name": "stderr",
     "output_type": "stream",
     "text": [
      "Valid Error: \n",
      " Accuracy: 46.2%, Avg loss: 0.694103\n",
      "\n",
      "Train loss: 0.691207  [    0/  207] training time ratio: 0.8873097220369983\n",
      "Valid Error: \n",
      " Accuracy: 55.8%, Avg loss: 0.691728\n",
      "\n",
      "Train loss: 0.693700  [    0/  207] training time ratio: 0.855601396382101\n",
      "Valid Error: \n",
      " Accuracy: 53.8%, Avg loss: 0.693244\n",
      "\n"
     ]
    },
    {
     "name": "stdout",
     "output_type": "stream",
     "text": [
      "Training time: 0.171066\n",
      "Training time: 0.158349\n"
     ]
    },
    {
     "name": "stderr",
     "output_type": "stream",
     "text": [
      "Train loss: 0.693077  [    0/  207] training time ratio: 0.8558704649417914\n",
      "Valid Error: \n",
      " Accuracy: 50.0%, Avg loss: 0.693342\n",
      "\n",
      "Train loss: 0.693002  [    0/  207] training time ratio: 0.816115129205897\n"
     ]
    },
    {
     "name": "stdout",
     "output_type": "stream",
     "text": [
      "Training time: 0.179407\n"
     ]
    },
    {
     "name": "stderr",
     "output_type": "stream",
     "text": [
      "Valid Error: \n",
      " Accuracy: 46.2%, Avg loss: 0.693372\n",
      "\n",
      "Train loss: 0.692782  [    0/  207] training time ratio: 0.864797229359848\n",
      "Valid Error: \n",
      " Accuracy: 46.2%, Avg loss: 0.693242\n",
      "\n"
     ]
    },
    {
     "name": "stdout",
     "output_type": "stream",
     "text": [
      "Training time: 0.192101\n",
      "Training time: 0.160715\n"
     ]
    },
    {
     "name": "stderr",
     "output_type": "stream",
     "text": [
      "Train loss: 0.693080  [    0/  207] training time ratio: 0.8795538452522806\n",
      "Valid Error: \n",
      " Accuracy: 46.2%, Avg loss: 0.693276\n",
      "\n",
      "Train loss: 0.692953  [    0/  207] training time ratio: 0.8437181540253311\n",
      "Valid Error: \n",
      " Accuracy: 48.1%, Avg loss: 0.693723\n",
      "\n"
     ]
    },
    {
     "name": "stdout",
     "output_type": "stream",
     "text": [
      "Training time: 0.17523\n",
      "Training time: 0.158504\n"
     ]
    },
    {
     "name": "stderr",
     "output_type": "stream",
     "text": [
      "Train loss: 0.692908  [    0/  207] training time ratio: 0.8560466472303208\n",
      "Valid Error: \n",
      " Accuracy: 51.9%, Avg loss: 0.693226\n",
      "\n",
      "Train loss: 0.693066  [    0/  207] training time ratio: 0.8593052296980247\n"
     ]
    },
    {
     "name": "stdout",
     "output_type": "stream",
     "text": [
      "Training time: 0.163775\n",
      "Training time: 0.168774\n"
     ]
    },
    {
     "name": "stderr",
     "output_type": "stream",
     "text": [
      "Valid Error: \n",
      " Accuracy: 50.0%, Avg loss: 0.693148\n",
      "\n",
      "Train loss: 0.693149  [    0/  207] training time ratio: 0.8460757780784844\n",
      "Valid Error: \n",
      " Accuracy: 50.0%, Avg loss: 0.693147\n",
      "\n",
      "Train loss: 0.693147  [    0/  207] training time ratio: 0.8497164685505493\n",
      "Valid Error: \n",
      " Accuracy: 50.0%, Avg loss: 0.693147\n",
      "\n"
     ]
    },
    {
     "name": "stdout",
     "output_type": "stream",
     "text": [
      "Training time: 0.161578\n",
      "Training time: 0.15667\n"
     ]
    },
    {
     "name": "stderr",
     "output_type": "stream",
     "text": [
      "Train loss: 0.693147  [    0/  207] training time ratio: 0.8577328604052281\n",
      "Valid Error: \n",
      " Accuracy: 51.9%, Avg loss: 0.693147\n",
      "\n",
      "Train loss: 0.693147  [    0/  207] training time ratio: 0.8548223092175504\n",
      "Valid Error: \n",
      " Accuracy: 51.9%, Avg loss: 0.693147\n",
      "\n"
     ]
    },
    {
     "name": "stdout",
     "output_type": "stream",
     "text": [
      "Training time: 0.16627\n",
      "Training time: 0.154973\n"
     ]
    },
    {
     "name": "stderr",
     "output_type": "stream",
     "text": [
      "Train loss: 0.693147  [    0/  207] training time ratio: 0.8493754094287199\n",
      "Valid Error: \n",
      " Accuracy: 51.9%, Avg loss: 0.693147\n",
      "\n",
      "Train loss: 0.693147  [    0/  207] training time ratio: 0.8293428236039427\n"
     ]
    },
    {
     "name": "stdout",
     "output_type": "stream",
     "text": [
      "Training time: 0.216598\n"
     ]
    },
    {
     "name": "stderr",
     "output_type": "stream",
     "text": [
      "Valid Error: \n",
      " Accuracy: 51.9%, Avg loss: 0.693147\n",
      "\n",
      "Train loss: 0.693147  [    0/  207] training time ratio: 0.8530060808160063\n",
      "Valid Error: \n",
      " Accuracy: 51.9%, Avg loss: 0.693147\n",
      "\n"
     ]
    },
    {
     "name": "stdout",
     "output_type": "stream",
     "text": [
      "Training time: 0.186076\n",
      "Training time: 0.16056\n"
     ]
    },
    {
     "name": "stderr",
     "output_type": "stream",
     "text": [
      "Train loss: 0.693147  [    0/  207] training time ratio: 0.8296659541472821\n",
      "Valid Error: \n",
      " Accuracy: 51.9%, Avg loss: 0.693147\n",
      "\n",
      "Train loss: 0.693147  [    0/  207] training time ratio: 0.8515171741027879\n",
      "Valid Error: \n",
      " Accuracy: 51.9%, Avg loss: 0.693147\n",
      "\n"
     ]
    },
    {
     "name": "stdout",
     "output_type": "stream",
     "text": [
      "Training time: 0.179134\n",
      "Training time: 0.160395\n"
     ]
    },
    {
     "name": "stderr",
     "output_type": "stream",
     "text": [
      "Train loss: 0.693147  [    0/  207] training time ratio: 0.8680230893998664\n",
      "Valid Error: \n",
      " Accuracy: 51.9%, Avg loss: 0.693147\n",
      "\n",
      "Train loss: 0.693147  [    0/  207] training time ratio: 0.8482744537471922\n",
      "Valid Error: \n",
      " Accuracy: 51.9%, Avg loss: 0.693147\n",
      "\n"
     ]
    },
    {
     "name": "stdout",
     "output_type": "stream",
     "text": [
      "Training time: 0.155583\n",
      "Training time: 0.154711\n"
     ]
    },
    {
     "name": "stderr",
     "output_type": "stream",
     "text": [
      "Train loss: 0.693147  [    0/  207] training time ratio: 0.8639757294209666\n",
      "Valid Error: \n",
      " Accuracy: 50.0%, Avg loss: 0.693147\n",
      "\n",
      "Train loss: 0.693147  [    0/  207] training time ratio: 0.841126552699545\n",
      "Valid Error: \n",
      " Accuracy: 50.0%, Avg loss: 0.693147\n",
      "\n"
     ]
    },
    {
     "name": "stdout",
     "output_type": "stream",
     "text": [
      "Training time: 0.159357\n",
      "Training time: 0.157031\n"
     ]
    },
    {
     "name": "stderr",
     "output_type": "stream",
     "text": [
      "Train loss: 0.693147  [    0/  207] training time ratio: 0.8665238509343118\n",
      "Valid Error: \n",
      " Accuracy: 50.0%, Avg loss: 0.693147\n",
      "\n",
      "Train loss: 0.693147  [    0/  207] training time ratio: 0.8443377549000198\n",
      "Valid Error: \n",
      " Accuracy: 50.0%, Avg loss: 0.693147\n",
      "\n"
     ]
    },
    {
     "name": "stdout",
     "output_type": "stream",
     "text": [
      "Training time: 0.179429\n",
      "Training time: 0.159016\n"
     ]
    },
    {
     "name": "stderr",
     "output_type": "stream",
     "text": [
      "Train loss: 0.693147  [    0/  207] training time ratio: 0.8175311089087105\n",
      "Valid Error: \n",
      " Accuracy: 50.0%, Avg loss: 0.693147\n",
      "\n",
      "Train loss: 0.693147  [    0/  207] training time ratio: 0.8544055201698514\n",
      "Valid Error: \n",
      " Accuracy: 50.0%, Avg loss: 0.693147\n",
      "\n"
     ]
    },
    {
     "name": "stdout",
     "output_type": "stream",
     "text": [
      "Training time: 0.16349\n",
      "Training time: 0.150079\n"
     ]
    },
    {
     "name": "stderr",
     "output_type": "stream",
     "text": [
      "Train loss: 0.693147  [    0/  207] training time ratio: 0.8570406199101722\n",
      "Valid Error: \n",
      " Accuracy: 51.9%, Avg loss: 0.693147\n",
      "\n",
      "Train loss: 0.693147  [    0/  207] training time ratio: 0.839267070369597\n",
      "Valid Error: \n",
      " Accuracy: 51.9%, Avg loss: 0.693147\n",
      "\n"
     ]
    },
    {
     "name": "stdout",
     "output_type": "stream",
     "text": [
      "Training time: 0.157441\n",
      "Training time: 0.151699\n"
     ]
    },
    {
     "name": "stderr",
     "output_type": "stream",
     "text": [
      "Train loss: 0.693147  [    0/  207] training time ratio: 0.8554637106407378\n",
      "Valid Error: \n",
      " Accuracy: 51.9%, Avg loss: 0.693147\n",
      "\n",
      "Train loss: 0.693147  [    0/  207] training time ratio: 0.8588936563808741\n",
      "Valid Error: \n",
      " Accuracy: 50.0%, Avg loss: 0.693147\n",
      "\n"
     ]
    },
    {
     "name": "stdout",
     "output_type": "stream",
     "text": [
      "Training time: 0.157641\n",
      "Training time: 0.155092\n"
     ]
    },
    {
     "name": "stderr",
     "output_type": "stream",
     "text": [
      "Train loss: 0.693147  [    0/  207] training time ratio: 0.84114348177368\n",
      "Valid Error: \n",
      " Accuracy: 50.0%, Avg loss: 0.693147\n",
      "\n",
      "Train loss: 0.693147  [    0/  207] training time ratio: 0.8456136027599803\n",
      "Valid Error: \n",
      " Accuracy: 50.0%, Avg loss: 0.693147\n",
      "\n"
     ]
    },
    {
     "name": "stdout",
     "output_type": "stream",
     "text": [
      "Training time: 0.163008\n",
      "Training time: 0.155387\n"
     ]
    },
    {
     "name": "stderr",
     "output_type": "stream",
     "text": [
      "Train loss: 0.693147  [    0/  207] training time ratio: 0.8463431440102372\n",
      "Valid Error: \n",
      " Accuracy: 51.9%, Avg loss: 0.693147\n",
      "\n",
      "Train loss: 0.693147  [    0/  207] training time ratio: 0.8354415082178538\n"
     ]
    },
    {
     "name": "stdout",
     "output_type": "stream",
     "text": [
      "Training time: 0.207397\n"
     ]
    },
    {
     "name": "stderr",
     "output_type": "stream",
     "text": [
      "Valid Error: \n",
      " Accuracy: 48.1%, Avg loss: 0.693147\n",
      "\n",
      "Train loss: 0.693147  [    0/  207] training time ratio: 0.8869222570330415\n"
     ]
    },
    {
     "name": "stdout",
     "output_type": "stream",
     "text": [
      "Training time: 0.239686\n"
     ]
    },
    {
     "name": "stderr",
     "output_type": "stream",
     "text": [
      "Valid Error: \n",
      " Accuracy: 50.0%, Avg loss: 0.693147\n",
      "\n",
      "Train loss: 0.693147  [    0/  207] training time ratio: 0.8612094395280236\n",
      "Valid Error: \n",
      " Accuracy: 50.0%, Avg loss: 0.693147\n",
      "\n"
     ]
    },
    {
     "name": "stdout",
     "output_type": "stream",
     "text": [
      "Training time: 0.20878\n",
      "Training time: 0.158637\n"
     ]
    },
    {
     "name": "stderr",
     "output_type": "stream",
     "text": [
      "Train loss: 0.693147  [    0/  207] training time ratio: 0.8376294927289528\n",
      "Valid Error: \n",
      " Accuracy: 50.0%, Avg loss: 0.693147\n",
      "\n",
      "Train loss: 0.693147  [    0/  207] training time ratio: 0.849038411424402\n",
      "Valid Error: \n",
      " Accuracy: 50.0%, Avg loss: 0.693147\n",
      "\n"
     ]
    },
    {
     "name": "stdout",
     "output_type": "stream",
     "text": [
      "Training time: 0.154418\n",
      "Training time: 0.150245\n"
     ]
    },
    {
     "name": "stderr",
     "output_type": "stream",
     "text": [
      "Train loss: 0.693147  [    0/  207] training time ratio: 0.8556489072772039\n",
      "Valid Error: \n",
      " Accuracy: 51.9%, Avg loss: 0.693147\n",
      "\n",
      "Train loss: 0.693147  [    0/  207] training time ratio: 0.840751188423967\n",
      "Valid Error: \n",
      " Accuracy: 53.8%, Avg loss: 0.693147\n",
      "\n"
     ]
    },
    {
     "name": "stdout",
     "output_type": "stream",
     "text": [
      "Training time: 0.162978\n",
      "Training time: 0.148938\n"
     ]
    },
    {
     "name": "stderr",
     "output_type": "stream",
     "text": [
      "Train loss: 0.693147  [    0/  207] training time ratio: 0.8539947009069602\n",
      "Valid Error: \n",
      " Accuracy: 53.8%, Avg loss: 0.693147\n",
      "\n",
      "Train loss: 0.693147  [    0/  207] training time ratio: 0.8548226715280081\n",
      "Valid Error: \n",
      " Accuracy: 53.8%, Avg loss: 0.693147\n",
      "\n"
     ]
    },
    {
     "name": "stdout",
     "output_type": "stream",
     "text": [
      "Training time: 0.151006\n",
      "Training time: 0.148574\n"
     ]
    },
    {
     "name": "stderr",
     "output_type": "stream",
     "text": [
      "Train loss: 0.693147  [    0/  207] training time ratio: 0.8547748576098895\n",
      "Valid Error: \n",
      " Accuracy: 53.8%, Avg loss: 0.693147\n",
      "\n",
      "Train loss: 0.693147  [    0/  207] training time ratio: 0.8333419985442446\n",
      "Valid Error: \n",
      " Accuracy: 51.9%, Avg loss: 0.693147\n",
      "\n"
     ]
    },
    {
     "name": "stdout",
     "output_type": "stream",
     "text": [
      "Training time: 0.151236\n",
      "Training time: 0.148913\n"
     ]
    },
    {
     "name": "stderr",
     "output_type": "stream",
     "text": [
      "Train loss: 0.693147  [    0/  207] training time ratio: 0.8506753376688343\n",
      "Valid Error: \n",
      " Accuracy: 53.8%, Avg loss: 0.693147\n",
      "\n",
      "Train loss: 0.693147  [    0/  207] training time ratio: 0.8479254104021675\n",
      "Valid Error: \n",
      " Accuracy: 48.1%, Avg loss: 0.693147\n",
      "\n"
     ]
    },
    {
     "name": "stdout",
     "output_type": "stream",
     "text": [
      "Training time: 0.155801\n",
      "Training time: 0.147807\n"
     ]
    },
    {
     "name": "stderr",
     "output_type": "stream",
     "text": [
      "Train loss: 0.693147  [    0/  207] training time ratio: 0.8453796889295516\n",
      "Valid Error: \n",
      " Accuracy: 48.1%, Avg loss: 0.693147\n",
      "\n",
      "Valid Error: \n",
      " Accuracy: 48.3%, Avg loss: 0.694097\n",
      "\n",
      "Test Error 16: \n",
      " Accuracy: 48.3%, Avg loss: 0.694097\n",
      "[2024-01-24 20:52:43] INFO (torcheeg/MainThread) Read the split of train and test set from ./examples_vanilla_torch/split17. If you want to use the same setting for the experiment, please set split_path to ./examples_vanilla_torch/split17 for the next run.\n"
     ]
    },
    {
     "name": "stdout",
     "output_type": "stream",
     "text": [
      "Training time: 0.166177\n"
     ]
    },
    {
     "name": "stderr",
     "output_type": "stream",
     "text": [
      "Train loss: 0.693160  [    0/  207] training time ratio: 0.8547010636997188\n",
      "Valid Error: \n",
      " Accuracy: 59.6%, Avg loss: 0.692913\n",
      "\n",
      "Train loss: 0.693051  [    0/  207] training time ratio: 0.8438487899476662\n",
      "Valid Error: \n",
      " Accuracy: 55.8%, Avg loss: 0.692965\n",
      "\n"
     ]
    },
    {
     "name": "stdout",
     "output_type": "stream",
     "text": [
      "Training time: 0.165353\n",
      "Training time: 0.146157\n"
     ]
    },
    {
     "name": "stderr",
     "output_type": "stream",
     "text": [
      "Train loss: 0.693248  [    0/  207] training time ratio: 0.860342392785472\n",
      "Valid Error: \n",
      " Accuracy: 59.6%, Avg loss: 0.692881\n",
      "\n",
      "Train loss: 0.692841  [    0/  207] training time ratio: 0.8474482394830543\n",
      "Valid Error: \n",
      " Accuracy: 59.6%, Avg loss: 0.692952\n",
      "\n"
     ]
    },
    {
     "name": "stdout",
     "output_type": "stream",
     "text": [
      "Training time: 0.153192\n",
      "Training time: 0.147946\n"
     ]
    },
    {
     "name": "stderr",
     "output_type": "stream",
     "text": [
      "Train loss: 0.692720  [    0/  207] training time ratio: 0.8432299260897984\n",
      "Valid Error: \n",
      " Accuracy: 53.8%, Avg loss: 0.692998\n",
      "\n",
      "Train loss: 0.693184  [    0/  207] training time ratio: 0.8517383216746575\n",
      "Valid Error: \n",
      " Accuracy: 57.7%, Avg loss: 0.692910\n",
      "\n"
     ]
    },
    {
     "name": "stdout",
     "output_type": "stream",
     "text": [
      "Training time: 0.158574\n",
      "Training time: 0.15097\n"
     ]
    },
    {
     "name": "stderr",
     "output_type": "stream",
     "text": [
      "Train loss: 0.692832  [    0/  207] training time ratio: 0.8746521282905242\n",
      "Valid Error: \n",
      " Accuracy: 55.8%, Avg loss: 0.692581\n",
      "\n",
      "Train loss: 0.693134  [    0/  207] training time ratio: 0.847945064023131\n",
      "Valid Error: \n",
      " Accuracy: 61.5%, Avg loss: 0.692524\n",
      "\n"
     ]
    },
    {
     "name": "stdout",
     "output_type": "stream",
     "text": [
      "Training time: 0.163439\n",
      "Training time: 0.162726\n"
     ]
    },
    {
     "name": "stderr",
     "output_type": "stream",
     "text": [
      "Train loss: 0.692159  [    0/  207] training time ratio: 0.8538703617867336\n",
      "Valid Error: \n",
      " Accuracy: 63.5%, Avg loss: 0.693295\n",
      "\n",
      "Train loss: 0.692602  [    0/  207] training time ratio: 0.8536156998498231\n",
      "Valid Error: \n",
      " Accuracy: 61.5%, Avg loss: 0.692741\n",
      "\n"
     ]
    },
    {
     "name": "stdout",
     "output_type": "stream",
     "text": [
      "Training time: 0.159893\n",
      "Training time: 0.159917\n"
     ]
    },
    {
     "name": "stderr",
     "output_type": "stream",
     "text": [
      "Train loss: 0.692895  [    0/  207] training time ratio: 0.8496505242136795\n",
      "Valid Error: \n",
      " Accuracy: 59.6%, Avg loss: 0.693214\n",
      "\n",
      "Train loss: 0.692925  [    0/  207] training time ratio: 0.8541461815798099\n",
      "Valid Error: \n",
      " Accuracy: 59.6%, Avg loss: 0.692957\n",
      "\n"
     ]
    },
    {
     "name": "stdout",
     "output_type": "stream",
     "text": [
      "Training time: 0.153246\n",
      "Training time: 0.152656\n"
     ]
    },
    {
     "name": "stderr",
     "output_type": "stream",
     "text": [
      "Train loss: 0.693212  [    0/  207] training time ratio: 0.8559050145257042\n",
      "Valid Error: \n",
      " Accuracy: 50.0%, Avg loss: 0.693141\n",
      "\n",
      "Train loss: 0.693149  [    0/  207] training time ratio: 0.8464651337299673\n",
      "Valid Error: \n",
      " Accuracy: 53.8%, Avg loss: 0.693140\n",
      "\n"
     ]
    },
    {
     "name": "stdout",
     "output_type": "stream",
     "text": [
      "Training time: 0.150457\n",
      "Training time: 0.147062\n"
     ]
    },
    {
     "name": "stderr",
     "output_type": "stream",
     "text": [
      "Train loss: 0.693144  [    0/  207] training time ratio: 0.8567866049162807\n",
      "Valid Error: \n",
      " Accuracy: 63.5%, Avg loss: 0.693135\n",
      "\n",
      "Train loss: 0.693177  [    0/  207] training time ratio: 0.8570868815631368\n",
      "Valid Error: \n",
      " Accuracy: 63.5%, Avg loss: 0.693128\n",
      "\n"
     ]
    },
    {
     "name": "stdout",
     "output_type": "stream",
     "text": [
      "Training time: 0.166104\n",
      "Training time: 0.148101\n"
     ]
    },
    {
     "name": "stderr",
     "output_type": "stream",
     "text": [
      "Train loss: 0.693175  [    0/  207] training time ratio: 0.8525814342732071\n",
      "Valid Error: \n",
      " Accuracy: 59.6%, Avg loss: 0.693118\n",
      "\n",
      "Train loss: 0.693119  [    0/  207] training time ratio: 0.8436564223798266\n",
      "Valid Error: \n",
      " Accuracy: 57.7%, Avg loss: 0.692952\n",
      "\n"
     ]
    },
    {
     "name": "stdout",
     "output_type": "stream",
     "text": [
      "Training time: 0.15496\n",
      "Training time: 0.152533\n"
     ]
    },
    {
     "name": "stderr",
     "output_type": "stream",
     "text": [
      "Train loss: 0.693027  [    0/  207] training time ratio: 0.8546556929969805\n",
      "Valid Error: \n",
      " Accuracy: 59.6%, Avg loss: 0.693169\n",
      "\n",
      "Train loss: 0.693201  [    0/  207] training time ratio: 0.8492260061919505\n"
     ]
    },
    {
     "name": "stdout",
     "output_type": "stream",
     "text": [
      "Training time: 0.157212\n",
      "Training time: 0.169035\n"
     ]
    },
    {
     "name": "stderr",
     "output_type": "stream",
     "text": [
      "Valid Error: \n",
      " Accuracy: 59.6%, Avg loss: 0.693037\n",
      "\n",
      "Train loss: 0.693014  [    0/  207] training time ratio: 0.8543407772754258\n",
      "Valid Error: \n",
      " Accuracy: 59.6%, Avg loss: 0.693143\n",
      "\n",
      "Train loss: 0.693139  [    0/  207] training time ratio: 0.8472031702484377\n"
     ]
    },
    {
     "name": "stdout",
     "output_type": "stream",
     "text": [
      "Training time: 0.156315\n",
      "Training time: 0.166993\n"
     ]
    },
    {
     "name": "stderr",
     "output_type": "stream",
     "text": [
      "Valid Error: \n",
      " Accuracy: 50.0%, Avg loss: 0.693146\n",
      "\n",
      "Train loss: 0.693148  [    0/  207] training time ratio: 0.8272807286086025\n",
      "Valid Error: \n",
      " Accuracy: 51.9%, Avg loss: 0.693147\n",
      "\n",
      "Train loss: 0.693147  [    0/  207] training time ratio: 0.856981360254489\n",
      "Valid Error: \n",
      " Accuracy: 53.8%, Avg loss: 0.693147\n",
      "\n"
     ]
    },
    {
     "name": "stdout",
     "output_type": "stream",
     "text": [
      "Training time: 0.16352\n",
      "Training time: 0.162032\n"
     ]
    },
    {
     "name": "stderr",
     "output_type": "stream",
     "text": [
      "Train loss: 0.693148  [    0/  207] training time ratio: 0.8458221711953056\n",
      "Valid Error: \n",
      " Accuracy: 51.9%, Avg loss: 0.693147\n",
      "\n",
      "Train loss: 0.693147  [    0/  207] training time ratio: 0.8474161156012736\n",
      "Valid Error: \n",
      " Accuracy: 50.0%, Avg loss: 0.693147\n",
      "\n"
     ]
    },
    {
     "name": "stdout",
     "output_type": "stream",
     "text": [
      "Training time: 0.158645\n",
      "Training time: 0.158945\n"
     ]
    },
    {
     "name": "stderr",
     "output_type": "stream",
     "text": [
      "Train loss: 0.693147  [    0/  207] training time ratio: 0.854764806239337\n",
      "Valid Error: \n",
      " Accuracy: 57.7%, Avg loss: 0.693147\n",
      "\n",
      "Train loss: 0.693147  [    0/  207] training time ratio: 0.8410367393208635\n",
      "Valid Error: \n",
      " Accuracy: 57.7%, Avg loss: 0.693147\n",
      "\n"
     ]
    },
    {
     "name": "stdout",
     "output_type": "stream",
     "text": [
      "Training time: 0.161603\n",
      "Training time: 0.154391\n"
     ]
    },
    {
     "name": "stderr",
     "output_type": "stream",
     "text": [
      "Train loss: 0.693147  [    0/  207] training time ratio: 0.8583081935561723\n",
      "Valid Error: \n",
      " Accuracy: 57.7%, Avg loss: 0.693147\n",
      "\n",
      "Train loss: 0.693147  [    0/  207] training time ratio: 0.8553728729382859\n",
      "Valid Error: \n",
      " Accuracy: 57.7%, Avg loss: 0.693147\n",
      "\n"
     ]
    },
    {
     "name": "stdout",
     "output_type": "stream",
     "text": [
      "Training time: 0.169925\n",
      "Training time: 0.148371\n"
     ]
    },
    {
     "name": "stderr",
     "output_type": "stream",
     "text": [
      "Train loss: 0.693147  [    0/  207] training time ratio: 0.8519312196633275\n",
      "Valid Error: \n",
      " Accuracy: 53.8%, Avg loss: 0.693147\n",
      "\n",
      "Train loss: 0.693148  [    0/  207] training time ratio: 0.8601068200493015\n",
      "Valid Error: \n",
      " Accuracy: 51.9%, Avg loss: 0.693147\n",
      "\n"
     ]
    },
    {
     "name": "stdout",
     "output_type": "stream",
     "text": [
      "Training time: 0.151938\n",
      "Training time: 0.150335\n"
     ]
    },
    {
     "name": "stderr",
     "output_type": "stream",
     "text": [
      "Train loss: 0.693147  [    0/  207] training time ratio: 0.8534200325121921\n",
      "Valid Error: \n",
      " Accuracy: 51.9%, Avg loss: 0.693147\n",
      "\n",
      "Train loss: 0.693147  [    0/  207] training time ratio: 0.846122767797021\n",
      "Valid Error: \n",
      " Accuracy: 50.0%, Avg loss: 0.693147\n",
      "\n"
     ]
    },
    {
     "name": "stdout",
     "output_type": "stream",
     "text": [
      "Training time: 0.155579\n",
      "Training time: 0.147588\n"
     ]
    },
    {
     "name": "stderr",
     "output_type": "stream",
     "text": [
      "Train loss: 0.693147  [    0/  207] training time ratio: 0.8535800868918173\n",
      "Valid Error: \n",
      " Accuracy: 50.0%, Avg loss: 0.693147\n",
      "\n",
      "Train loss: 0.693147  [    0/  207] training time ratio: 0.8557473221066967\n",
      "Valid Error: \n",
      " Accuracy: 44.2%, Avg loss: 0.693147\n",
      "\n"
     ]
    },
    {
     "name": "stdout",
     "output_type": "stream",
     "text": [
      "Training time: 0.158964\n",
      "Training time: 0.149392\n"
     ]
    },
    {
     "name": "stderr",
     "output_type": "stream",
     "text": [
      "Train loss: 0.693147  [    0/  207] training time ratio: 0.8549359266575496\n",
      "Valid Error: \n",
      " Accuracy: 44.2%, Avg loss: 0.693147\n",
      "\n",
      "Train loss: 0.693145  [    0/  207] training time ratio: 0.8485773730714151\n",
      "Valid Error: \n",
      " Accuracy: 46.2%, Avg loss: 0.693147\n",
      "\n"
     ]
    },
    {
     "name": "stdout",
     "output_type": "stream",
     "text": [
      "Training time: 0.154177\n",
      "Training time: 0.144494\n"
     ]
    },
    {
     "name": "stderr",
     "output_type": "stream",
     "text": [
      "Train loss: 0.693146  [    0/  207] training time ratio: 0.8459200810385733\n",
      "Valid Error: \n",
      " Accuracy: 51.9%, Avg loss: 0.693147\n",
      "\n",
      "Train loss: 0.693145  [    0/  207] training time ratio: 0.8462327842290036\n",
      "Valid Error: \n",
      " Accuracy: 53.8%, Avg loss: 0.693146\n",
      "\n"
     ]
    },
    {
     "name": "stdout",
     "output_type": "stream",
     "text": [
      "Training time: 0.149099\n",
      "Training time: 0.145303\n"
     ]
    },
    {
     "name": "stderr",
     "output_type": "stream",
     "text": [
      "Train loss: 0.693144  [    0/  207] training time ratio: 0.8528844375148648\n",
      "Valid Error: \n",
      " Accuracy: 57.7%, Avg loss: 0.693146\n",
      "\n",
      "Train loss: 0.693142  [    0/  207] training time ratio: 0.8497531600933108\n",
      "Valid Error: \n",
      " Accuracy: 57.7%, Avg loss: 0.693140\n",
      "\n"
     ]
    },
    {
     "name": "stdout",
     "output_type": "stream",
     "text": [
      "Training time: 0.147871\n",
      "Training time: 0.144376\n"
     ]
    },
    {
     "name": "stderr",
     "output_type": "stream",
     "text": [
      "Train loss: 0.693127  [    0/  207] training time ratio: 0.8468215671876639\n",
      "Valid Error: \n",
      " Accuracy: 53.8%, Avg loss: 0.693083\n",
      "\n",
      "Train loss: 0.693086  [    0/  207] training time ratio: 0.8480656954220549\n",
      "Valid Error: \n",
      " Accuracy: 46.2%, Avg loss: 0.693141\n",
      "\n"
     ]
    },
    {
     "name": "stdout",
     "output_type": "stream",
     "text": [
      "Training time: 0.150119\n",
      "Training time: 0.143945\n"
     ]
    },
    {
     "name": "stderr",
     "output_type": "stream",
     "text": [
      "Train loss: 0.693168  [    0/  207] training time ratio: 0.8536283709300138\n",
      "Valid Error: \n",
      " Accuracy: 46.2%, Avg loss: 0.693023\n",
      "\n",
      "Train loss: 0.693166  [    0/  207] training time ratio: 0.8464876306389734\n",
      "Valid Error: \n",
      " Accuracy: 53.8%, Avg loss: 0.692956\n",
      "\n"
     ]
    },
    {
     "name": "stdout",
     "output_type": "stream",
     "text": [
      "Training time: 0.170128\n",
      "Training time: 0.14965\n"
     ]
    },
    {
     "name": "stderr",
     "output_type": "stream",
     "text": [
      "Train loss: 0.693341  [    0/  207] training time ratio: 0.8490878081554603\n",
      "Valid Error: \n",
      " Accuracy: 48.1%, Avg loss: 0.693145\n",
      "\n",
      "Train loss: 0.693149  [    0/  207] training time ratio: 0.849078184145312\n",
      "Valid Error: \n",
      " Accuracy: 50.0%, Avg loss: 0.693146\n",
      "\n"
     ]
    },
    {
     "name": "stdout",
     "output_type": "stream",
     "text": [
      "Training time: 0.151303\n",
      "Training time: 0.144192\n"
     ]
    },
    {
     "name": "stderr",
     "output_type": "stream",
     "text": [
      "Train loss: 0.693148  [    0/  207] training time ratio: 0.8424269104280498\n",
      "Valid Error: \n",
      " Accuracy: 53.8%, Avg loss: 0.693145\n",
      "\n",
      "Train loss: 0.693147  [    0/  207] training time ratio: 0.8489328530724155\n",
      "Valid Error: \n",
      " Accuracy: 50.0%, Avg loss: 0.693139\n",
      "\n",
      "Valid Error: \n",
      " Accuracy: 51.7%, Avg loss: 0.692744\n",
      "\n",
      "Test Error 17: \n",
      " Accuracy: 51.7%, Avg loss: 0.692744\n"
     ]
    },
    {
     "name": "stdout",
     "output_type": "stream",
     "text": [
      "Training time: 0.157028\n",
      "Training time: 0.145807\n"
     ]
    },
    {
     "name": "stderr",
     "output_type": "stream",
     "text": [
      "[2024-01-24 20:52:52] INFO (torcheeg/MainThread) Read the split of train and test set from ./examples_vanilla_torch/split18. If you want to use the same setting for the experiment, please set split_path to ./examples_vanilla_torch/split18 for the next run.\n",
      "Train loss: 0.693146  [    0/  208] training time ratio: 0.8535300316122235\n",
      "Valid Error: \n",
      " Accuracy: 38.5%, Avg loss: 0.693445\n",
      "\n",
      "Train loss: 0.693088  [    0/  208] training time ratio: 0.8232425130265443\n"
     ]
    },
    {
     "name": "stdout",
     "output_type": "stream",
     "text": [
      "Training time: 0.17746\n"
     ]
    },
    {
     "name": "stderr",
     "output_type": "stream",
     "text": [
      "Valid Error: \n",
      " Accuracy: 40.4%, Avg loss: 0.693557\n",
      "\n",
      "Train loss: 0.693416  [    0/  208] training time ratio: 0.8567530341225084\n",
      "Valid Error: \n",
      " Accuracy: 46.2%, Avg loss: 0.693785\n",
      "\n"
     ]
    },
    {
     "name": "stdout",
     "output_type": "stream",
     "text": [
      "Training time: 0.179673\n",
      "Training time: 0.150892\n"
     ]
    },
    {
     "name": "stderr",
     "output_type": "stream",
     "text": [
      "Train loss: 0.692988  [    0/  208] training time ratio: 0.8518396545730648\n",
      "Valid Error: \n",
      " Accuracy: 44.2%, Avg loss: 0.693602\n",
      "\n",
      "Train loss: 0.693128  [    0/  208] training time ratio: 0.7758819460456536\n",
      "Valid Error: \n",
      " Accuracy: 57.7%, Avg loss: 0.692589\n",
      "\n"
     ]
    },
    {
     "name": "stdout",
     "output_type": "stream",
     "text": [
      "Training time: 0.200085\n",
      "Training time: 0.15924\n"
     ]
    },
    {
     "name": "stderr",
     "output_type": "stream",
     "text": [
      "Train loss: 0.693071  [    0/  208] training time ratio: 0.8339815507354775\n",
      "Valid Error: \n",
      " Accuracy: 46.2%, Avg loss: 0.692423\n",
      "\n",
      "Train loss: 0.690251  [    0/  208] training time ratio: 0.8711365678346811\n",
      "Valid Error: \n",
      " Accuracy: 57.7%, Avg loss: 0.693158\n",
      "\n"
     ]
    },
    {
     "name": "stdout",
     "output_type": "stream",
     "text": [
      "Training time: 0.15713\n",
      "Training time: 0.159186\n"
     ]
    },
    {
     "name": "stderr",
     "output_type": "stream",
     "text": [
      "Train loss: 0.693055  [    0/  208] training time ratio: 0.8261181761493547\n",
      "Valid Error: \n",
      " Accuracy: 38.5%, Avg loss: 0.693154\n",
      "\n",
      "Train loss: 0.693145  [    0/  208] training time ratio: 0.854147377593813\n",
      "Valid Error: \n",
      " Accuracy: 50.0%, Avg loss: 0.693445\n",
      "\n"
     ]
    },
    {
     "name": "stdout",
     "output_type": "stream",
     "text": [
      "Training time: 0.165395\n",
      "Training time: 0.145356\n"
     ]
    },
    {
     "name": "stderr",
     "output_type": "stream",
     "text": [
      "Train loss: 0.692887  [    0/  208] training time ratio: 0.8569197787364687\n",
      "Valid Error: \n",
      " Accuracy: 50.0%, Avg loss: 0.693056\n",
      "\n",
      "Train loss: 0.692036  [    0/  208] training time ratio: 0.8567637835374842\n",
      "Valid Error: \n",
      " Accuracy: 53.8%, Avg loss: 0.693150\n",
      "\n"
     ]
    },
    {
     "name": "stdout",
     "output_type": "stream",
     "text": [
      "Training time: 0.147545\n",
      "Training time: 0.150118\n"
     ]
    },
    {
     "name": "stderr",
     "output_type": "stream",
     "text": [
      "Train loss: 0.693147  [    0/  208] training time ratio: 0.8523470839260313\n",
      "Valid Error: \n",
      " Accuracy: 50.0%, Avg loss: 0.693822\n",
      "\n",
      "Train loss: 0.693180  [    0/  208] training time ratio: 0.8486574450772986\n",
      "Valid Error: \n",
      " Accuracy: 50.0%, Avg loss: 0.693160\n",
      "\n"
     ]
    },
    {
     "name": "stdout",
     "output_type": "stream",
     "text": [
      "Training time: 0.156425\n",
      "Training time: 0.146936\n"
     ]
    },
    {
     "name": "stderr",
     "output_type": "stream",
     "text": [
      "Train loss: 0.693180  [    0/  208] training time ratio: 0.8566946951580138\n",
      "Valid Error: \n",
      " Accuracy: 51.9%, Avg loss: 0.692878\n",
      "\n",
      "Train loss: 0.692352  [    0/  208] training time ratio: 0.8466964990787048\n",
      "Valid Error: \n",
      " Accuracy: 48.1%, Avg loss: 0.693230\n",
      "\n"
     ]
    },
    {
     "name": "stdout",
     "output_type": "stream",
     "text": [
      "Training time: 0.149693\n",
      "Training time: 0.152102\n"
     ]
    },
    {
     "name": "stderr",
     "output_type": "stream",
     "text": [
      "Train loss: 0.693425  [    0/  208] training time ratio: 0.8625156018180533\n",
      "Valid Error: \n",
      " Accuracy: 48.1%, Avg loss: 0.693171\n",
      "\n",
      "Train loss: 0.693155  [    0/  208] training time ratio: 0.8536172830014607\n",
      "Valid Error: \n",
      " Accuracy: 48.1%, Avg loss: 0.693032\n",
      "\n"
     ]
    },
    {
     "name": "stdout",
     "output_type": "stream",
     "text": [
      "Training time: 0.159931\n",
      "Training time: 0.152659\n"
     ]
    },
    {
     "name": "stderr",
     "output_type": "stream",
     "text": [
      "Train loss: 0.692702  [    0/  208] training time ratio: 0.8586985200642825\n",
      "Valid Error: \n",
      " Accuracy: 46.2%, Avg loss: 0.693020\n",
      "\n",
      "Train loss: 0.693178  [    0/  208] training time ratio: 0.847447901724003\n",
      "Valid Error: \n",
      " Accuracy: 50.0%, Avg loss: 0.693147\n",
      "\n"
     ]
    },
    {
     "name": "stdout",
     "output_type": "stream",
     "text": [
      "Training time: 0.15769\n",
      "Training time: 0.151625\n"
     ]
    },
    {
     "name": "stderr",
     "output_type": "stream",
     "text": [
      "Train loss: 0.693148  [    0/  208] training time ratio: 0.8521219443785195\n",
      "Valid Error: \n",
      " Accuracy: 44.2%, Avg loss: 0.692930\n",
      "\n",
      "Train loss: 0.692542  [    0/  208] training time ratio: 0.8161564544629639\n",
      "Valid Error: \n",
      " Accuracy: 53.8%, Avg loss: 0.693142\n",
      "\n"
     ]
    },
    {
     "name": "stdout",
     "output_type": "stream",
     "text": [
      "Training time: 0.176904\n",
      "Training time: 0.158221\n"
     ]
    },
    {
     "name": "stderr",
     "output_type": "stream",
     "text": [
      "Train loss: 0.693151  [    0/  208] training time ratio: 0.861910154775387\n",
      "Valid Error: \n",
      " Accuracy: 59.6%, Avg loss: 0.693147\n",
      "\n",
      "Train loss: 0.693148  [    0/  208] training time ratio: 0.8211079734600638\n"
     ]
    },
    {
     "name": "stdout",
     "output_type": "stream",
     "text": [
      "Training time: 0.168978\n",
      "Training time: 0.163269\n"
     ]
    },
    {
     "name": "stderr",
     "output_type": "stream",
     "text": [
      "Valid Error: \n",
      " Accuracy: 46.2%, Avg loss: 0.693145\n",
      "\n",
      "Train loss: 0.693146  [    0/  208] training time ratio: 0.8207907402251303\n",
      "Valid Error: \n",
      " Accuracy: 46.2%, Avg loss: 0.693155\n",
      "\n",
      "Train loss: 0.693138  [    0/  208] training time ratio: 0.8405583985255769\n"
     ]
    },
    {
     "name": "stdout",
     "output_type": "stream",
     "text": [
      "Training time: 0.185036\n",
      "Training time: 0.16498\n"
     ]
    },
    {
     "name": "stderr",
     "output_type": "stream",
     "text": [
      "Valid Error: \n",
      " Accuracy: 36.5%, Avg loss: 0.693214\n",
      "\n",
      "Train loss: 0.693118  [    0/  208] training time ratio: 0.8487663994985001\n",
      "Valid Error: \n",
      " Accuracy: 50.0%, Avg loss: 0.693147\n",
      "\n",
      "Train loss: 0.693146  [    0/  208] training time ratio: 0.8593778330354598\n",
      "Valid Error: \n",
      " Accuracy: 51.9%, Avg loss: 0.693144\n",
      "\n"
     ]
    },
    {
     "name": "stdout",
     "output_type": "stream",
     "text": [
      "Training time: 0.155795\n",
      "Training time: 0.151332\n"
     ]
    },
    {
     "name": "stderr",
     "output_type": "stream",
     "text": [
      "Train loss: 0.693145  [    0/  208] training time ratio: 0.8600456507715973\n",
      "Valid Error: \n",
      " Accuracy: 61.5%, Avg loss: 0.692997\n",
      "\n",
      "Train loss: 0.693298  [    0/  208] training time ratio: 0.8350086402024971\n"
     ]
    },
    {
     "name": "stdout",
     "output_type": "stream",
     "text": [
      "Training time: 0.156633\n",
      "Training time: 0.161713\n"
     ]
    },
    {
     "name": "stderr",
     "output_type": "stream",
     "text": [
      "Valid Error: \n",
      " Accuracy: 57.7%, Avg loss: 0.692981\n",
      "\n",
      "Train loss: 0.693452  [    0/  208] training time ratio: 0.8225705734157318\n",
      "Valid Error: \n",
      " Accuracy: 65.4%, Avg loss: 0.692917\n",
      "\n",
      "Train loss: 0.692863  [    0/  208] training time ratio: 0.8614625192240909\n"
     ]
    },
    {
     "name": "stdout",
     "output_type": "stream",
     "text": [
      "Training time: 0.165913\n",
      "Training time: 0.173477\n"
     ]
    },
    {
     "name": "stderr",
     "output_type": "stream",
     "text": [
      "Valid Error: \n",
      " Accuracy: 57.7%, Avg loss: 0.693127\n",
      "\n",
      "Train loss: 0.693139  [    0/  208] training time ratio: 0.8337635758971138\n",
      "Valid Error: \n",
      " Accuracy: 63.5%, Avg loss: 0.693139\n",
      "\n",
      "Train loss: 0.693141  [    0/  208] training time ratio: 0.8488934637159032\n",
      "Valid Error: \n",
      " Accuracy: 59.6%, Avg loss: 0.693139\n",
      "\n"
     ]
    },
    {
     "name": "stdout",
     "output_type": "stream",
     "text": [
      "Training time: 0.163604\n",
      "Training time: 0.158961\n"
     ]
    },
    {
     "name": "stderr",
     "output_type": "stream",
     "text": [
      "Train loss: 0.693149  [    0/  208] training time ratio: 0.8483526790948529\n",
      "Valid Error: \n",
      " Accuracy: 61.5%, Avg loss: 0.693144\n",
      "\n",
      "Train loss: 0.693146  [    0/  208] training time ratio: 0.8556048610760929\n",
      "Valid Error: \n",
      " Accuracy: 57.7%, Avg loss: 0.693146\n",
      "\n"
     ]
    },
    {
     "name": "stdout",
     "output_type": "stream",
     "text": [
      "Training time: 0.158499\n",
      "Training time: 0.155305\n"
     ]
    },
    {
     "name": "stderr",
     "output_type": "stream",
     "text": [
      "Train loss: 0.693144  [    0/  208] training time ratio: 0.853702616003253\n",
      "Valid Error: \n",
      " Accuracy: 61.5%, Avg loss: 0.693144\n",
      "\n",
      "Train loss: 0.693143  [    0/  208] training time ratio: 0.8532945888635829\n",
      "Valid Error: \n",
      " Accuracy: 61.5%, Avg loss: 0.693137\n",
      "\n"
     ]
    },
    {
     "name": "stdout",
     "output_type": "stream",
     "text": [
      "Training time: 0.20139\n",
      "Training time: 0.156072\n"
     ]
    },
    {
     "name": "stderr",
     "output_type": "stream",
     "text": [
      "Train loss: 0.693152  [    0/  208] training time ratio: 0.8797257590597453\n",
      "Valid Error: \n",
      " Accuracy: 65.4%, Avg loss: 0.693110\n",
      "\n",
      "Train loss: 0.693159  [    0/  208] training time ratio: 0.8461275348155388\n",
      "Valid Error: \n",
      " Accuracy: 61.5%, Avg loss: 0.693013\n",
      "\n"
     ]
    },
    {
     "name": "stdout",
     "output_type": "stream",
     "text": [
      "Training time: 0.168463\n",
      "Training time: 0.15993\n"
     ]
    },
    {
     "name": "stderr",
     "output_type": "stream",
     "text": [
      "Train loss: 0.693140  [    0/  208] training time ratio: 0.868679277693084\n",
      "Valid Error: \n",
      " Accuracy: 57.7%, Avg loss: 0.692891\n",
      "\n",
      "Train loss: 0.693052  [    0/  208] training time ratio: 0.8526746640580755\n",
      "Valid Error: \n",
      " Accuracy: 59.6%, Avg loss: 0.692805\n",
      "\n"
     ]
    },
    {
     "name": "stdout",
     "output_type": "stream",
     "text": [
      "Training time: 0.164424\n",
      "Training time: 0.153161\n"
     ]
    },
    {
     "name": "stderr",
     "output_type": "stream",
     "text": [
      "Train loss: 0.693126  [    0/  208] training time ratio: 0.8661775923183919\n",
      "Valid Error: \n",
      " Accuracy: 61.5%, Avg loss: 0.692858\n",
      "\n",
      "Train loss: 0.693241  [    0/  208] training time ratio: 0.8522498840265965\n",
      "Valid Error: \n",
      " Accuracy: 63.5%, Avg loss: 0.693012\n",
      "\n"
     ]
    },
    {
     "name": "stdout",
     "output_type": "stream",
     "text": [
      "Training time: 0.164168\n",
      "Training time: 0.153277\n"
     ]
    },
    {
     "name": "stderr",
     "output_type": "stream",
     "text": [
      "Train loss: 0.693074  [    0/  208] training time ratio: 0.856951445160467\n",
      "Valid Error: \n",
      " Accuracy: 61.5%, Avg loss: 0.693102\n",
      "\n",
      "Train loss: 0.693132  [    0/  208] training time ratio: 0.831474688187821\n",
      "Valid Error: \n",
      " Accuracy: 61.5%, Avg loss: 0.693098\n",
      "\n"
     ]
    },
    {
     "name": "stdout",
     "output_type": "stream",
     "text": [
      "Training time: 0.184606\n",
      "Training time: 0.159646\n"
     ]
    },
    {
     "name": "stderr",
     "output_type": "stream",
     "text": [
      "Train loss: 0.693140  [    0/  208] training time ratio: 0.8441245604833227\n",
      "Valid Error: \n",
      " Accuracy: 59.6%, Avg loss: 0.693023\n",
      "\n",
      "Train loss: 0.693068  [    0/  208] training time ratio: 0.8370218228498074\n",
      "Valid Error: \n",
      " Accuracy: 55.8%, Avg loss: 0.692941\n",
      "\n"
     ]
    },
    {
     "name": "stdout",
     "output_type": "stream",
     "text": [
      "Training time: 0.180816\n",
      "Training time: 0.153443\n"
     ]
    },
    {
     "name": "stderr",
     "output_type": "stream",
     "text": [
      "Train loss: 0.692876  [    0/  208] training time ratio: 0.8574820677714569\n",
      "Valid Error: \n",
      " Accuracy: 55.8%, Avg loss: 0.692929\n",
      "\n",
      "Train loss: 0.693200  [    0/  208] training time ratio: 0.8510121043068812\n",
      "Valid Error: \n",
      " Accuracy: 59.6%, Avg loss: 0.692865\n",
      "\n"
     ]
    },
    {
     "name": "stdout",
     "output_type": "stream",
     "text": [
      "Training time: 0.155692\n",
      "Training time: 0.153689\n"
     ]
    },
    {
     "name": "stderr",
     "output_type": "stream",
     "text": [
      "Train loss: 0.693162  [    0/  208] training time ratio: 0.8602750886609796\n",
      "Valid Error: \n",
      " Accuracy: 59.6%, Avg loss: 0.692799\n",
      "\n",
      "Valid Error: \n",
      " Accuracy: 46.4%, Avg loss: 0.693273\n",
      "\n",
      "Test Error 18: \n",
      " Accuracy: 46.4%, Avg loss: 0.693273\n",
      "[2024-01-24 20:53:01] INFO (torcheeg/MainThread) Read the split of train and test set from ./examples_vanilla_torch/split19. If you want to use the same setting for the experiment, please set split_path to ./examples_vanilla_torch/split19 for the next run.\n"
     ]
    },
    {
     "name": "stdout",
     "output_type": "stream",
     "text": [
      "Training time: 0.170391\n"
     ]
    },
    {
     "name": "stderr",
     "output_type": "stream",
     "text": [
      "Train loss: 0.693221  [    0/  208] training time ratio: 0.8568935862601889\n",
      "Valid Error: \n",
      " Accuracy: 50.0%, Avg loss: 0.693183\n",
      "\n",
      "Train loss: 0.693068  [    0/  208] training time ratio: 0.8457077767422595\n",
      "Valid Error: \n",
      " Accuracy: 46.2%, Avg loss: 0.693371\n",
      "\n"
     ]
    },
    {
     "name": "stdout",
     "output_type": "stream",
     "text": [
      "Training time: 0.158621\n",
      "Training time: 0.154346\n"
     ]
    },
    {
     "name": "stderr",
     "output_type": "stream",
     "text": [
      "Train loss: 0.693135  [    0/  208] training time ratio: 0.8482175314446357\n",
      "Valid Error: \n",
      " Accuracy: 42.3%, Avg loss: 0.693918\n",
      "\n",
      "Train loss: 0.692232  [    0/  208] training time ratio: 0.8537518746444639\n",
      "Valid Error: \n",
      " Accuracy: 50.0%, Avg loss: 0.693180\n",
      "\n"
     ]
    },
    {
     "name": "stdout",
     "output_type": "stream",
     "text": [
      "Training time: 0.158126\n",
      "Training time: 0.155435\n"
     ]
    },
    {
     "name": "stderr",
     "output_type": "stream",
     "text": [
      "Train loss: 0.692917  [    0/  208] training time ratio: 0.8698776106679657\n",
      "Valid Error: \n",
      " Accuracy: 55.8%, Avg loss: 0.693102\n",
      "\n",
      "Train loss: 0.693126  [    0/  208] training time ratio: 0.8465869106263195\n"
     ]
    },
    {
     "name": "stdout",
     "output_type": "stream",
     "text": [
      "Training time: 0.176415\n",
      "Training time: 0.162746\n"
     ]
    },
    {
     "name": "stderr",
     "output_type": "stream",
     "text": [
      "Valid Error: \n",
      " Accuracy: 53.8%, Avg loss: 0.693154\n",
      "\n",
      "Train loss: 0.693058  [    0/  208] training time ratio: 0.8434303509402323\n",
      "Valid Error: \n",
      " Accuracy: 48.1%, Avg loss: 0.693251\n",
      "\n",
      "Train loss: 0.693069  [    0/  208] training time ratio: 0.8548707753479126\n",
      "Valid Error: \n",
      " Accuracy: 48.1%, Avg loss: 0.693347\n",
      "\n"
     ]
    },
    {
     "name": "stdout",
     "output_type": "stream",
     "text": [
      "Training time: 0.156524\n",
      "Training time: 0.152394\n"
     ]
    },
    {
     "name": "stderr",
     "output_type": "stream",
     "text": [
      "Train loss: 0.692671  [    0/  208] training time ratio: 0.863353440196102\n",
      "Valid Error: \n",
      " Accuracy: 55.8%, Avg loss: 0.692760\n",
      "\n",
      "Train loss: 0.693008  [    0/  208] training time ratio: 0.8553455822608969\n",
      "Valid Error: \n",
      " Accuracy: 59.6%, Avg loss: 0.691283\n",
      "\n"
     ]
    },
    {
     "name": "stdout",
     "output_type": "stream",
     "text": [
      "Training time: 0.160967\n",
      "Training time: 0.156373\n"
     ]
    },
    {
     "name": "stderr",
     "output_type": "stream",
     "text": [
      "Train loss: 0.692596  [    0/  208] training time ratio: 0.8097071845816125\n",
      "Valid Error: \n",
      " Accuracy: 63.5%, Avg loss: 0.690078\n",
      "\n",
      "Train loss: 0.693023  [    0/  208] training time ratio: 0.854490337248958\n"
     ]
    },
    {
     "name": "stdout",
     "output_type": "stream",
     "text": [
      "Training time: 0.215303\n",
      "Training time: 0.163685\n"
     ]
    },
    {
     "name": "stderr",
     "output_type": "stream",
     "text": [
      "Valid Error: \n",
      " Accuracy: 59.6%, Avg loss: 0.691555\n",
      "\n",
      "Train loss: 0.691154  [    0/  208] training time ratio: 0.8535074987905177\n",
      "Valid Error: \n",
      " Accuracy: 57.7%, Avg loss: 0.691942\n",
      "\n",
      "Train loss: 0.692471  [    0/  208] training time ratio: 0.8430404491002957\n"
     ]
    },
    {
     "name": "stdout",
     "output_type": "stream",
     "text": [
      "Training time: 0.170373\n",
      "Training time: 0.176057\n"
     ]
    },
    {
     "name": "stderr",
     "output_type": "stream",
     "text": [
      "Valid Error: \n",
      " Accuracy: 50.0%, Avg loss: 0.693345\n",
      "\n",
      "Train loss: 0.691701  [    0/  208] training time ratio: 0.8589566020313943\n",
      "Valid Error: \n",
      " Accuracy: 38.5%, Avg loss: 0.696388\n",
      "\n",
      "Train loss: 0.692516  [    0/  208] training time ratio: 0.8545276320669739\n",
      "Valid Error: \n",
      " Accuracy: 36.5%, Avg loss: 0.696352\n",
      "\n"
     ]
    },
    {
     "name": "stdout",
     "output_type": "stream",
     "text": [
      "Training time: 0.171001\n",
      "Training time: 0.151876\n"
     ]
    },
    {
     "name": "stderr",
     "output_type": "stream",
     "text": [
      "Train loss: 0.692332  [    0/  208] training time ratio: 0.8774027243839025\n",
      "Valid Error: \n",
      " Accuracy: 34.6%, Avg loss: 0.696832\n",
      "\n",
      "Train loss: 0.695117  [    0/  208] training time ratio: 0.8540226921093347\n",
      "Valid Error: \n",
      " Accuracy: 50.0%, Avg loss: 0.693156\n",
      "\n"
     ]
    },
    {
     "name": "stdout",
     "output_type": "stream",
     "text": [
      "Training time: 0.160276\n",
      "Training time: 0.156281\n"
     ]
    },
    {
     "name": "stderr",
     "output_type": "stream",
     "text": [
      "Train loss: 0.694375  [    0/  208] training time ratio: 0.8755322040039859\n",
      "Valid Error: \n",
      " Accuracy: 51.9%, Avg loss: 0.693162\n",
      "\n",
      "Train loss: 0.693127  [    0/  208] training time ratio: 0.8470406776116282\n",
      "Valid Error: \n",
      " Accuracy: 50.0%, Avg loss: 0.693163\n",
      "\n"
     ]
    },
    {
     "name": "stdout",
     "output_type": "stream",
     "text": [
      "Training time: 0.158646\n",
      "Training time: 0.147941\n"
     ]
    },
    {
     "name": "stderr",
     "output_type": "stream",
     "text": [
      "Train loss: 0.693144  [    0/  208] training time ratio: 0.8496229028782515\n",
      "Valid Error: \n",
      " Accuracy: 51.9%, Avg loss: 0.693160\n",
      "\n",
      "Train loss: 0.693137  [    0/  208] training time ratio: 0.8481118014826858\n"
     ]
    },
    {
     "name": "stdout",
     "output_type": "stream",
     "text": [
      "Training time: 0.173678\n",
      "Training time: 0.171351\n"
     ]
    },
    {
     "name": "stderr",
     "output_type": "stream",
     "text": [
      "Valid Error: \n",
      " Accuracy: 51.9%, Avg loss: 0.693157\n",
      "\n",
      "Train loss: 0.693122  [    0/  208] training time ratio: 0.8387895861666991\n",
      "Valid Error: \n",
      " Accuracy: 51.9%, Avg loss: 0.693158\n",
      "\n",
      "Train loss: 0.693106  [    0/  208] training time ratio: 0.8493514312298177\n",
      "Valid Error: \n",
      " Accuracy: 55.8%, Avg loss: 0.693154\n",
      "\n"
     ]
    },
    {
     "name": "stdout",
     "output_type": "stream",
     "text": [
      "Training time: 0.151202\n",
      "Training time: 0.14999\n"
     ]
    },
    {
     "name": "stderr",
     "output_type": "stream",
     "text": [
      "Train loss: 0.693096  [    0/  208] training time ratio: 0.8534258456201214\n",
      "Valid Error: \n",
      " Accuracy: 55.8%, Avg loss: 0.693140\n",
      "\n",
      "Train loss: 0.693128  [    0/  208] training time ratio: 0.8485813114096652\n",
      "Valid Error: \n",
      " Accuracy: 57.7%, Avg loss: 0.693134\n",
      "\n"
     ]
    },
    {
     "name": "stdout",
     "output_type": "stream",
     "text": [
      "Training time: 0.158935\n",
      "Training time: 0.166413\n"
     ]
    },
    {
     "name": "stderr",
     "output_type": "stream",
     "text": [
      "Train loss: 0.693115  [    0/  208] training time ratio: 0.8610837438423645\n",
      "Valid Error: \n",
      " Accuracy: 59.6%, Avg loss: 0.693122\n",
      "\n",
      "Train loss: 0.693157  [    0/  208] training time ratio: 0.8467594815170427\n"
     ]
    },
    {
     "name": "stdout",
     "output_type": "stream",
     "text": [
      "Training time: 0.169438\n",
      "Training time: 0.165502\n"
     ]
    },
    {
     "name": "stderr",
     "output_type": "stream",
     "text": [
      "Valid Error: \n",
      " Accuracy: 59.6%, Avg loss: 0.693093\n",
      "\n",
      "Train loss: 0.693095  [    0/  208] training time ratio: 0.8436789857672528\n",
      "Valid Error: \n",
      " Accuracy: 59.6%, Avg loss: 0.693074\n",
      "\n",
      "Train loss: 0.693134  [    0/  208] training time ratio: 0.8460028503051977\n",
      "Valid Error: \n",
      " Accuracy: 57.7%, Avg loss: 0.693114\n",
      "\n"
     ]
    },
    {
     "name": "stdout",
     "output_type": "stream",
     "text": [
      "Training time: 0.15068\n",
      "Training time: 0.147996\n"
     ]
    },
    {
     "name": "stderr",
     "output_type": "stream",
     "text": [
      "Train loss: 0.693114  [    0/  208] training time ratio: 0.8521585628618157\n",
      "Valid Error: \n",
      " Accuracy: 59.6%, Avg loss: 0.693094\n",
      "\n",
      "Train loss: 0.693174  [    0/  208] training time ratio: 0.8376190099427696\n",
      "Valid Error: \n",
      " Accuracy: 55.8%, Avg loss: 0.693115\n",
      "\n"
     ]
    },
    {
     "name": "stdout",
     "output_type": "stream",
     "text": [
      "Training time: 0.151426\n",
      "Training time: 0.145488\n"
     ]
    },
    {
     "name": "stderr",
     "output_type": "stream",
     "text": [
      "Train loss: 0.693183  [    0/  208] training time ratio: 0.8580651906840578\n",
      "Valid Error: \n",
      " Accuracy: 51.9%, Avg loss: 0.693383\n",
      "\n",
      "Train loss: 0.693097  [    0/  208] training time ratio: 0.8499278891942638\n",
      "Valid Error: \n",
      " Accuracy: 48.1%, Avg loss: 0.693714\n",
      "\n"
     ]
    },
    {
     "name": "stdout",
     "output_type": "stream",
     "text": [
      "Training time: 0.15095\n",
      "Training time: 0.147997\n"
     ]
    },
    {
     "name": "stderr",
     "output_type": "stream",
     "text": [
      "Train loss: 0.693115  [    0/  208] training time ratio: 0.8589035880841345\n",
      "Valid Error: \n",
      " Accuracy: 40.4%, Avg loss: 0.694292\n",
      "\n",
      "Train loss: 0.692846  [    0/  208] training time ratio: 0.853956315681022\n",
      "Valid Error: \n",
      " Accuracy: 44.2%, Avg loss: 0.693204\n",
      "\n"
     ]
    },
    {
     "name": "stdout",
     "output_type": "stream",
     "text": [
      "Training time: 0.157468\n",
      "Training time: 0.153979\n"
     ]
    },
    {
     "name": "stderr",
     "output_type": "stream",
     "text": [
      "Train loss: 0.693185  [    0/  208] training time ratio: 0.8642532849696126\n",
      "Valid Error: \n",
      " Accuracy: 36.5%, Avg loss: 0.693507\n",
      "\n",
      "Train loss: 0.693090  [    0/  208] training time ratio: 0.8515061634330185\n",
      "Valid Error: \n",
      " Accuracy: 46.2%, Avg loss: 0.693186\n",
      "\n"
     ]
    },
    {
     "name": "stdout",
     "output_type": "stream",
     "text": [
      "Training time: 0.163606\n",
      "Training time: 0.144357\n"
     ]
    },
    {
     "name": "stderr",
     "output_type": "stream",
     "text": [
      "Train loss: 0.692981  [    0/  208] training time ratio: 0.8525947381124789\n",
      "Valid Error: \n",
      " Accuracy: 40.4%, Avg loss: 0.693937\n",
      "\n",
      "Train loss: 0.692490  [    0/  208] training time ratio: 0.8482162162162161\n",
      "Valid Error: \n",
      " Accuracy: 42.3%, Avg loss: 0.693673\n",
      "\n"
     ]
    },
    {
     "name": "stdout",
     "output_type": "stream",
     "text": [
      "Training time: 0.153181\n",
      "Training time: 0.146692\n"
     ]
    },
    {
     "name": "stderr",
     "output_type": "stream",
     "text": [
      "Train loss: 0.693229  [    0/  208] training time ratio: 0.8570010389010736\n",
      "Valid Error: \n",
      " Accuracy: 51.9%, Avg loss: 0.693067\n",
      "\n",
      "Train loss: 0.692989  [    0/  208] training time ratio: 0.8515105658541858\n",
      "Valid Error: \n",
      " Accuracy: 57.7%, Avg loss: 0.692792\n",
      "\n"
     ]
    },
    {
     "name": "stdout",
     "output_type": "stream",
     "text": [
      "Training time: 0.158803\n",
      "Training time: 0.145675\n"
     ]
    },
    {
     "name": "stderr",
     "output_type": "stream",
     "text": [
      "Train loss: 0.693164  [    0/  208] training time ratio: 0.8573426922788699\n",
      "Valid Error: \n",
      " Accuracy: 53.8%, Avg loss: 0.693138\n",
      "\n",
      "Train loss: 0.693147  [    0/  208] training time ratio: 0.8490354299150322\n",
      "Valid Error: \n",
      " Accuracy: 48.1%, Avg loss: 0.693152\n",
      "\n"
     ]
    },
    {
     "name": "stdout",
     "output_type": "stream",
     "text": [
      "Training time: 0.151215\n",
      "Training time: 0.145161\n"
     ]
    },
    {
     "name": "stderr",
     "output_type": "stream",
     "text": [
      "Train loss: 0.693148  [    0/  208] training time ratio: 0.857109557109557\n",
      "Valid Error: \n",
      " Accuracy: 44.2%, Avg loss: 0.693166\n",
      "\n",
      "Train loss: 0.693143  [    0/  208] training time ratio: 0.8520288329148781\n",
      "Valid Error: \n",
      " Accuracy: 44.2%, Avg loss: 0.693162\n",
      "\n"
     ]
    },
    {
     "name": "stdout",
     "output_type": "stream",
     "text": [
      "Training time: 0.149942\n",
      "Training time: 0.145287\n"
     ]
    },
    {
     "name": "stderr",
     "output_type": "stream",
     "text": [
      "Train loss: 0.693149  [    0/  208] training time ratio: 0.8502273196941518\n",
      "Valid Error: \n",
      " Accuracy: 44.2%, Avg loss: 0.693150\n",
      "\n",
      "Train loss: 0.693147  [    0/  208] training time ratio: 0.8537776117810265\n",
      "Valid Error: \n",
      " Accuracy: 46.2%, Avg loss: 0.693148\n",
      "\n"
     ]
    },
    {
     "name": "stdout",
     "output_type": "stream",
     "text": [
      "Training time: 0.149485\n",
      "Training time: 0.145244\n"
     ]
    },
    {
     "name": "stderr",
     "output_type": "stream",
     "text": [
      "Train loss: 0.693147  [    0/  208] training time ratio: 0.8533113103665251\n",
      "Valid Error: \n",
      " Accuracy: 51.9%, Avg loss: 0.693147\n",
      "\n",
      "Train loss: 0.693148  [    0/  208] training time ratio: 0.8503257850886563\n",
      "Valid Error: \n",
      " Accuracy: 55.8%, Avg loss: 0.693147\n",
      "\n",
      "Valid Error: \n",
      " Accuracy: 46.4%, Avg loss: 0.695371\n",
      "\n",
      "Test Error 19: \n",
      " Accuracy: 46.4%, Avg loss: 0.695371\n"
     ]
    },
    {
     "name": "stdout",
     "output_type": "stream",
     "text": [
      "Training time: 0.15151\n",
      "Training time: 0.145115\n"
     ]
    },
    {
     "name": "stderr",
     "output_type": "stream",
     "text": [
      "[2024-01-24 20:53:10] INFO (torcheeg/MainThread) Read the split of train and test set from ./examples_vanilla_torch/split20. If you want to use the same setting for the experiment, please set split_path to ./examples_vanilla_torch/split20 for the next run.\n",
      "Train loss: 0.693074  [    0/  207] training time ratio: 0.839395394686955\n",
      "Valid Error: \n",
      " Accuracy: 48.1%, Avg loss: 0.693239\n",
      "\n",
      "Train loss: 0.692341  [    0/  207] training time ratio: 0.8450578566021413\n",
      "Valid Error: \n",
      " Accuracy: 55.8%, Avg loss: 0.692702\n",
      "\n"
     ]
    },
    {
     "name": "stdout",
     "output_type": "stream",
     "text": [
      "Training time: 0.148967\n",
      "Training time: 0.145002\n"
     ]
    },
    {
     "name": "stderr",
     "output_type": "stream",
     "text": [
      "Train loss: 0.692835  [    0/  207] training time ratio: 0.8610132894635375\n",
      "Valid Error: \n",
      " Accuracy: 67.3%, Avg loss: 0.691639\n",
      "\n",
      "Train loss: 0.691928  [    0/  207] training time ratio: 0.8533232506009129\n",
      "Valid Error: \n",
      " Accuracy: 71.2%, Avg loss: 0.690109\n",
      "\n"
     ]
    },
    {
     "name": "stdout",
     "output_type": "stream",
     "text": [
      "Training time: 0.148105\n",
      "Training time: 0.147934\n"
     ]
    },
    {
     "name": "stderr",
     "output_type": "stream",
     "text": [
      "Train loss: 0.690046  [    0/  207] training time ratio: 0.8541756815231502\n",
      "Valid Error: \n",
      " Accuracy: 59.6%, Avg loss: 0.690842\n",
      "\n",
      "Train loss: 0.691364  [    0/  207] training time ratio: 0.8598314159995759\n",
      "Valid Error: \n",
      " Accuracy: 67.3%, Avg loss: 0.690461\n",
      "\n"
     ]
    },
    {
     "name": "stdout",
     "output_type": "stream",
     "text": [
      "Training time: 0.170711\n",
      "Training time: 0.147693\n"
     ]
    },
    {
     "name": "stderr",
     "output_type": "stream",
     "text": [
      "Train loss: 0.690990  [    0/  207] training time ratio: 0.851380316607701\n",
      "Valid Error: \n",
      " Accuracy: 71.2%, Avg loss: 0.687268\n",
      "\n",
      "Train loss: 0.688107  [    0/  207] training time ratio: 0.8502554360383026\n",
      "Valid Error: \n",
      " Accuracy: 75.0%, Avg loss: 0.688246\n",
      "\n"
     ]
    },
    {
     "name": "stdout",
     "output_type": "stream",
     "text": [
      "Training time: 0.151606\n",
      "Training time: 0.152927\n"
     ]
    },
    {
     "name": "stderr",
     "output_type": "stream",
     "text": [
      "Train loss: 0.689208  [    0/  207] training time ratio: 0.8603166809868663\n",
      "Valid Error: \n",
      " Accuracy: 71.2%, Avg loss: 0.689266\n",
      "\n",
      "Train loss: 0.692504  [    0/  207] training time ratio: 0.8455326240225611\n",
      "Valid Error: \n",
      " Accuracy: 82.7%, Avg loss: 0.688884\n",
      "\n"
     ]
    },
    {
     "name": "stdout",
     "output_type": "stream",
     "text": [
      "Training time: 0.159418\n",
      "Training time: 0.15393\n"
     ]
    },
    {
     "name": "stderr",
     "output_type": "stream",
     "text": [
      "Train loss: 0.690776  [    0/  207] training time ratio: 0.8798892502417158\n",
      "Valid Error: \n",
      " Accuracy: 71.2%, Avg loss: 0.689892\n",
      "\n",
      "Train loss: 0.690997  [    0/  207] training time ratio: 0.8540842510424463\n",
      "Valid Error: \n",
      " Accuracy: 65.4%, Avg loss: 0.692131\n",
      "\n"
     ]
    },
    {
     "name": "stdout",
     "output_type": "stream",
     "text": [
      "Training time: 0.171754\n",
      "Training time: 0.147031\n"
     ]
    },
    {
     "name": "stderr",
     "output_type": "stream",
     "text": [
      "Train loss: 0.691837  [    0/  207] training time ratio: 0.8521770858671857\n",
      "Valid Error: \n",
      " Accuracy: 67.3%, Avg loss: 0.692017\n",
      "\n",
      "Train loss: 0.691466  [    0/  207] training time ratio: 0.850400987045034\n"
     ]
    },
    {
     "name": "stdout",
     "output_type": "stream",
     "text": [
      "Training time: 0.179379\n"
     ]
    },
    {
     "name": "stderr",
     "output_type": "stream",
     "text": [
      "Valid Error: \n",
      " Accuracy: 67.3%, Avg loss: 0.691225\n",
      "\n",
      "Train loss: 0.691675  [    0/  207] training time ratio: 0.8506052760478623\n",
      "Valid Error: \n",
      " Accuracy: 67.3%, Avg loss: 0.690501\n",
      "\n"
     ]
    },
    {
     "name": "stdout",
     "output_type": "stream",
     "text": [
      "Training time: 0.183291\n",
      "Training time: 0.162438\n"
     ]
    },
    {
     "name": "stderr",
     "output_type": "stream",
     "text": [
      "Train loss: 0.690233  [    0/  207] training time ratio: 0.8607552177584751\n",
      "Valid Error: \n",
      " Accuracy: 73.1%, Avg loss: 0.688788\n",
      "\n",
      "Train loss: 0.689468  [    0/  207] training time ratio: 0.8568185968848653\n",
      "Valid Error: \n",
      " Accuracy: 80.8%, Avg loss: 0.687122\n",
      "\n"
     ]
    },
    {
     "name": "stdout",
     "output_type": "stream",
     "text": [
      "Training time: 0.165309\n",
      "Training time: 0.157883\n"
     ]
    },
    {
     "name": "stderr",
     "output_type": "stream",
     "text": [
      "Train loss: 0.689299  [    0/  207] training time ratio: 0.809919841832678\n",
      "Valid Error: \n",
      " Accuracy: 75.0%, Avg loss: 0.687692\n",
      "\n",
      "Train loss: 0.689569  [    0/  207] training time ratio: 0.8536417948392018\n",
      "Valid Error: \n",
      " Accuracy: 80.8%, Avg loss: 0.691928\n",
      "\n"
     ]
    },
    {
     "name": "stdout",
     "output_type": "stream",
     "text": [
      "Training time: 0.160102\n",
      "Training time: 0.154723\n"
     ]
    },
    {
     "name": "stderr",
     "output_type": "stream",
     "text": [
      "Train loss: 0.693002  [    0/  207] training time ratio: 0.871385101391373\n",
      "Valid Error: \n",
      " Accuracy: 67.3%, Avg loss: 0.687953\n",
      "\n",
      "Train loss: 0.689933  [    0/  207] training time ratio: 0.853722006098202\n"
     ]
    },
    {
     "name": "stdout",
     "output_type": "stream",
     "text": [
      "Training time: 0.165035\n",
      "Training time: 0.175762\n"
     ]
    },
    {
     "name": "stderr",
     "output_type": "stream",
     "text": [
      "Valid Error: \n",
      " Accuracy: 63.5%, Avg loss: 0.690445\n",
      "\n",
      "Train loss: 0.692463  [    0/  207] training time ratio: 0.8618791256357538\n",
      "Valid Error: \n",
      " Accuracy: 61.5%, Avg loss: 0.690405\n",
      "\n",
      "Train loss: 0.690964  [    0/  207] training time ratio: 0.8609283079070695\n",
      "Valid Error: \n",
      " Accuracy: 59.6%, Avg loss: 0.692261\n",
      "\n"
     ]
    },
    {
     "name": "stdout",
     "output_type": "stream",
     "text": [
      "Training time: 0.235042\n",
      "Training time: 0.156022\n"
     ]
    },
    {
     "name": "stderr",
     "output_type": "stream",
     "text": [
      "Train loss: 0.690715  [    0/  207] training time ratio: 0.8554178292091661\n",
      "Valid Error: \n",
      " Accuracy: 71.2%, Avg loss: 0.689824\n",
      "\n",
      "Train loss: 0.691346  [    0/  207] training time ratio: 0.8453046058435135\n",
      "Valid Error: \n",
      " Accuracy: 73.1%, Avg loss: 0.688785\n",
      "\n"
     ]
    },
    {
     "name": "stdout",
     "output_type": "stream",
     "text": [
      "Training time: 0.156966\n",
      "Training time: 0.153449\n"
     ]
    },
    {
     "name": "stderr",
     "output_type": "stream",
     "text": [
      "Train loss: 0.689449  [    0/  207] training time ratio: 0.8642897824353571\n",
      "Valid Error: \n",
      " Accuracy: 80.8%, Avg loss: 0.685867\n",
      "\n",
      "Train loss: 0.688309  [    0/  207] training time ratio: 0.8525295746287439\n",
      "Valid Error: \n",
      " Accuracy: 80.8%, Avg loss: 0.685647\n",
      "\n"
     ]
    },
    {
     "name": "stdout",
     "output_type": "stream",
     "text": [
      "Training time: 0.172467\n",
      "Training time: 0.153828\n"
     ]
    },
    {
     "name": "stderr",
     "output_type": "stream",
     "text": [
      "Train loss: 0.689372  [    0/  207] training time ratio: 0.8629030319059412\n",
      "Valid Error: \n",
      " Accuracy: 86.5%, Avg loss: 0.681882\n",
      "\n",
      "Train loss: 0.685777  [    0/  207] training time ratio: 0.8515037593984962\n",
      "Valid Error: \n",
      " Accuracy: 82.7%, Avg loss: 0.687230\n",
      "\n"
     ]
    },
    {
     "name": "stdout",
     "output_type": "stream",
     "text": [
      "Training time: 0.159531\n",
      "Training time: 0.147937\n"
     ]
    },
    {
     "name": "stderr",
     "output_type": "stream",
     "text": [
      "Train loss: 0.688635  [    0/  207] training time ratio: 0.8593057962642018\n",
      "Valid Error: \n",
      " Accuracy: 82.7%, Avg loss: 0.685226\n",
      "\n",
      "Train loss: 0.689698  [    0/  207] training time ratio: 0.8394031925721804\n"
     ]
    },
    {
     "name": "stdout",
     "output_type": "stream",
     "text": [
      "Training time: 0.167402\n",
      "Training time: 0.166024\n"
     ]
    },
    {
     "name": "stderr",
     "output_type": "stream",
     "text": [
      "Valid Error: \n",
      " Accuracy: 84.6%, Avg loss: 0.684313\n",
      "\n",
      "Train loss: 0.688352  [    0/  207] training time ratio: 0.8421937933056589\n",
      "Valid Error: \n",
      " Accuracy: 75.0%, Avg loss: 0.685975\n",
      "\n",
      "Train loss: 0.686833  [    0/  207] training time ratio: 0.8454693540152196\n",
      "Valid Error: \n",
      " Accuracy: 78.8%, Avg loss: 0.684690\n",
      "\n"
     ]
    },
    {
     "name": "stdout",
     "output_type": "stream",
     "text": [
      "Training time: 0.213231\n",
      "Training time: 0.159985\n"
     ]
    },
    {
     "name": "stderr",
     "output_type": "stream",
     "text": [
      "Train loss: 0.686752  [    0/  207] training time ratio: 0.8442707842952641\n",
      "Valid Error: \n",
      " Accuracy: 88.5%, Avg loss: 0.682508\n",
      "\n",
      "Train loss: 0.684146  [    0/  207] training time ratio: 0.8344551398036235\n"
     ]
    },
    {
     "name": "stdout",
     "output_type": "stream",
     "text": [
      "Training time: 0.160359\n",
      "Training time: 0.166878\n"
     ]
    },
    {
     "name": "stderr",
     "output_type": "stream",
     "text": [
      "Valid Error: \n",
      " Accuracy: 80.8%, Avg loss: 0.683051\n",
      "\n",
      "Train loss: 0.686250  [    0/  207] training time ratio: 0.804652995210152\n",
      "Valid Error: \n",
      " Accuracy: 34.6%, Avg loss: 0.694545\n",
      "\n",
      "Train loss: 0.694228  [    0/  207] training time ratio: 0.848955698489557\n",
      "Valid Error: \n",
      " Accuracy: 55.8%, Avg loss: 0.693086\n",
      "\n"
     ]
    },
    {
     "name": "stdout",
     "output_type": "stream",
     "text": [
      "Training time: 0.187334\n",
      "Training time: 0.15791\n"
     ]
    },
    {
     "name": "stderr",
     "output_type": "stream",
     "text": [
      "Train loss: 0.692910  [    0/  207] training time ratio: 0.8438431723315445\n",
      "Valid Error: \n",
      " Accuracy: 65.4%, Avg loss: 0.692425\n",
      "\n",
      "Train loss: 0.692555  [    0/  207] training time ratio: 0.8519687162891046\n",
      "Valid Error: \n",
      " Accuracy: 71.2%, Avg loss: 0.691817\n",
      "\n"
     ]
    },
    {
     "name": "stdout",
     "output_type": "stream",
     "text": [
      "Training time: 0.155243\n",
      "Training time: 0.154173\n"
     ]
    },
    {
     "name": "stderr",
     "output_type": "stream",
     "text": [
      "Train loss: 0.692531  [    0/  207] training time ratio: 0.8751077419497426\n",
      "Valid Error: \n",
      " Accuracy: 75.0%, Avg loss: 0.687178\n",
      "\n",
      "Train loss: 0.689062  [    0/  207] training time ratio: 0.8533218755035179\n",
      "Valid Error: \n",
      " Accuracy: 75.0%, Avg loss: 0.685403\n",
      "\n"
     ]
    },
    {
     "name": "stdout",
     "output_type": "stream",
     "text": [
      "Training time: 0.157888\n",
      "Training time: 0.151487\n"
     ]
    },
    {
     "name": "stderr",
     "output_type": "stream",
     "text": [
      "Train loss: 0.686867  [    0/  207] training time ratio: 0.8658731865873187\n",
      "Valid Error: \n",
      " Accuracy: 42.3%, Avg loss: 0.694650\n",
      "\n",
      "Train loss: 0.692340  [    0/  207] training time ratio: 0.8579868437383641\n"
     ]
    },
    {
     "name": "stdout",
     "output_type": "stream",
     "text": [
      "Training time: 0.16313\n",
      "Training time: 0.168025\n"
     ]
    },
    {
     "name": "stderr",
     "output_type": "stream",
     "text": [
      "Valid Error: \n",
      " Accuracy: 46.2%, Avg loss: 0.693148\n",
      "\n",
      "Train loss: 0.693145  [    0/  207] training time ratio: 0.8549785612196283\n",
      "Valid Error: \n",
      " Accuracy: 65.4%, Avg loss: 0.693147\n",
      "\n",
      "Train loss: 0.693147  [    0/  207] training time ratio: 0.865575548899842\n"
     ]
    },
    {
     "name": "stdout",
     "output_type": "stream",
     "text": [
      "Training time: 0.194166\n"
     ]
    },
    {
     "name": "stderr",
     "output_type": "stream",
     "text": [
      "Valid Error: \n",
      " Accuracy: 75.0%, Avg loss: 0.688465\n",
      "\n",
      "Train loss: 0.689288  [    0/  207] training time ratio: 0.8839219312174629\n"
     ]
    },
    {
     "name": "stdout",
     "output_type": "stream",
     "text": [
      "Training time: 0.18715\n",
      "Training time: 0.170891\n"
     ]
    },
    {
     "name": "stderr",
     "output_type": "stream",
     "text": [
      "Valid Error: \n",
      " Accuracy: 59.6%, Avg loss: 0.693132\n",
      "\n",
      "Train loss: 0.693140  [    0/  207] training time ratio: 0.8096297928602909\n",
      "Valid Error: \n",
      " Accuracy: 50.0%, Avg loss: 0.693147\n",
      "\n",
      "Train loss: 0.693147  [    0/  207] training time ratio: 0.8519869249263852\n",
      "Valid Error: \n",
      " Accuracy: 67.3%, Avg loss: 0.692021\n",
      "\n"
     ]
    },
    {
     "name": "stdout",
     "output_type": "stream",
     "text": [
      "Training time: 0.158956\n",
      "Training time: 0.144079\n"
     ]
    },
    {
     "name": "stderr",
     "output_type": "stream",
     "text": [
      "Train loss: 0.692767  [    0/  207] training time ratio: 0.8531019476728758\n",
      "Valid Error: \n",
      " Accuracy: 75.0%, Avg loss: 0.693146\n",
      "\n",
      "Train loss: 0.693146  [    0/  207] training time ratio: 0.8538767923526287\n",
      "Valid Error: \n",
      " Accuracy: 63.5%, Avg loss: 0.693147\n",
      "\n",
      "Valid Error: \n",
      " Accuracy: 82.8%, Avg loss: 0.675447\n",
      "\n",
      "Test Error 20: \n",
      " Accuracy: 82.8%, Avg loss: 0.675447\n"
     ]
    },
    {
     "name": "stdout",
     "output_type": "stream",
     "text": [
      "Training time: 0.15968\n",
      "Training time: 0.146151\n"
     ]
    },
    {
     "name": "stderr",
     "output_type": "stream",
     "text": [
      "[2024-01-24 20:53:20] INFO (torcheeg/MainThread) Read the split of train and test set from ./examples_vanilla_torch/split21. If you want to use the same setting for the experiment, please set split_path to ./examples_vanilla_torch/split21 for the next run.\n",
      "Train loss: 0.693151  [    0/  207] training time ratio: 0.8478516083587696\n",
      "Valid Error: \n",
      " Accuracy: 48.1%, Avg loss: 0.693325\n",
      "\n",
      "Train loss: 0.692668  [    0/  207] training time ratio: 0.8517551415957791\n",
      "Valid Error: \n",
      " Accuracy: 48.1%, Avg loss: 0.693533\n",
      "\n"
     ]
    },
    {
     "name": "stdout",
     "output_type": "stream",
     "text": [
      "Training time: 0.148387\n",
      "Training time: 0.144507\n"
     ]
    },
    {
     "name": "stderr",
     "output_type": "stream",
     "text": [
      "Train loss: 0.691915  [    0/  207] training time ratio: 0.856556418717036\n",
      "Valid Error: \n",
      " Accuracy: 53.8%, Avg loss: 0.693584\n",
      "\n",
      "Train loss: 0.691877  [    0/  207] training time ratio: 0.8531895681733681\n",
      "Valid Error: \n",
      " Accuracy: 51.9%, Avg loss: 0.692743\n",
      "\n"
     ]
    },
    {
     "name": "stdout",
     "output_type": "stream",
     "text": [
      "Training time: 0.151707\n",
      "Training time: 0.147968\n"
     ]
    },
    {
     "name": "stderr",
     "output_type": "stream",
     "text": [
      "Train loss: 0.692565  [    0/  207] training time ratio: 0.8554894784995426\n",
      "Valid Error: \n",
      " Accuracy: 73.1%, Avg loss: 0.690781\n",
      "\n",
      "Train loss: 0.689890  [    0/  207] training time ratio: 0.8542972484861362\n",
      "Valid Error: \n",
      " Accuracy: 67.3%, Avg loss: 0.692528\n",
      "\n"
     ]
    },
    {
     "name": "stdout",
     "output_type": "stream",
     "text": [
      "Training time: 0.153479\n",
      "Training time: 0.145237\n"
     ]
    },
    {
     "name": "stderr",
     "output_type": "stream",
     "text": [
      "Train loss: 0.692728  [    0/  207] training time ratio: 0.8613318651857526\n",
      "Valid Error: \n",
      " Accuracy: 76.9%, Avg loss: 0.691230\n",
      "\n",
      "Train loss: 0.691875  [    0/  207] training time ratio: 0.8534583186583946\n",
      "Valid Error: \n",
      " Accuracy: 73.1%, Avg loss: 0.690742\n",
      "\n"
     ]
    },
    {
     "name": "stdout",
     "output_type": "stream",
     "text": [
      "Training time: 0.151767\n",
      "Training time: 0.143667\n"
     ]
    },
    {
     "name": "stderr",
     "output_type": "stream",
     "text": [
      "Train loss: 0.691826  [    0/  207] training time ratio: 0.847755185241808\n",
      "Valid Error: \n",
      " Accuracy: 69.2%, Avg loss: 0.693006\n",
      "\n",
      "Train loss: 0.693095  [    0/  207] training time ratio: 0.8503900747643298\n",
      "Valid Error: \n",
      " Accuracy: 40.4%, Avg loss: 0.693281\n",
      "\n"
     ]
    },
    {
     "name": "stdout",
     "output_type": "stream",
     "text": [
      "Training time: 0.149137\n",
      "Training time: 0.146431\n"
     ]
    },
    {
     "name": "stderr",
     "output_type": "stream",
     "text": [
      "Train loss: 0.692961  [    0/  207] training time ratio: 0.8523212275143358\n",
      "Valid Error: \n",
      " Accuracy: 55.8%, Avg loss: 0.693123\n",
      "\n",
      "Train loss: 0.693139  [    0/  207] training time ratio: 0.8471339266793813\n",
      "Valid Error: \n",
      " Accuracy: 48.1%, Avg loss: 0.693169\n",
      "\n"
     ]
    },
    {
     "name": "stdout",
     "output_type": "stream",
     "text": [
      "Training time: 0.161425\n",
      "Training time: 0.151412\n"
     ]
    },
    {
     "name": "stderr",
     "output_type": "stream",
     "text": [
      "Train loss: 0.693140  [    0/  207] training time ratio: 0.8695149046472876\n",
      "Valid Error: \n",
      " Accuracy: 42.3%, Avg loss: 0.694373\n",
      "\n",
      "Train loss: 0.692880  [    0/  207] training time ratio: 0.8351946275338888\n",
      "Valid Error: \n",
      " Accuracy: 50.0%, Avg loss: 0.694335\n",
      "\n"
     ]
    },
    {
     "name": "stdout",
     "output_type": "stream",
     "text": [
      "Training time: 0.160569\n",
      "Training time: 0.155998\n"
     ]
    },
    {
     "name": "stderr",
     "output_type": "stream",
     "text": [
      "Train loss: 0.692828  [    0/  207] training time ratio: 0.8716866376180101\n",
      "Valid Error: \n",
      " Accuracy: 36.5%, Avg loss: 0.693173\n",
      "\n",
      "Train loss: 0.693145  [    0/  207] training time ratio: 0.8428667216835155\n",
      "Valid Error: \n",
      " Accuracy: 73.1%, Avg loss: 0.692863\n",
      "\n"
     ]
    },
    {
     "name": "stdout",
     "output_type": "stream",
     "text": [
      "Training time: 0.158271\n",
      "Training time: 0.14623\n"
     ]
    },
    {
     "name": "stderr",
     "output_type": "stream",
     "text": [
      "Train loss: 0.692968  [    0/  207] training time ratio: 0.8650176678445229\n",
      "Valid Error: \n",
      " Accuracy: 42.3%, Avg loss: 0.693159\n",
      "\n",
      "Train loss: 0.693139  [    0/  207] training time ratio: 0.850240774735946\n",
      "Valid Error: \n",
      " Accuracy: 55.8%, Avg loss: 0.693116\n",
      "\n"
     ]
    },
    {
     "name": "stdout",
     "output_type": "stream",
     "text": [
      "Training time: 0.151757\n",
      "Training time: 0.146028\n"
     ]
    },
    {
     "name": "stderr",
     "output_type": "stream",
     "text": [
      "Train loss: 0.693132  [    0/  207] training time ratio: 0.8481825738683595\n",
      "Valid Error: \n",
      " Accuracy: 40.4%, Avg loss: 0.693338\n",
      "\n",
      "Train loss: 0.692907  [    0/  207] training time ratio: 0.8523636363636363\n",
      "Valid Error: \n",
      " Accuracy: 40.4%, Avg loss: 0.693187\n",
      "\n"
     ]
    },
    {
     "name": "stdout",
     "output_type": "stream",
     "text": [
      "Training time: 0.151824\n",
      "Training time: 0.144113\n"
     ]
    },
    {
     "name": "stderr",
     "output_type": "stream",
     "text": [
      "Train loss: 0.693177  [    0/  207] training time ratio: 0.8588003782360908\n",
      "Valid Error: \n",
      " Accuracy: 40.4%, Avg loss: 0.693232\n",
      "\n",
      "Train loss: 0.693096  [    0/  207] training time ratio: 0.8533871787328501\n",
      "Valid Error: \n",
      " Accuracy: 40.4%, Avg loss: 0.693187\n",
      "\n"
     ]
    },
    {
     "name": "stdout",
     "output_type": "stream",
     "text": [
      "Training time: 0.154805\n",
      "Training time: 0.143839\n"
     ]
    },
    {
     "name": "stderr",
     "output_type": "stream",
     "text": [
      "Train loss: 0.693142  [    0/  207] training time ratio: 0.8485712776633391\n",
      "Valid Error: \n",
      " Accuracy: 40.4%, Avg loss: 0.693196\n",
      "\n",
      "Train loss: 0.693094  [    0/  207] training time ratio: 0.8540169217303663\n",
      "Valid Error: \n",
      " Accuracy: 38.5%, Avg loss: 0.693293\n",
      "\n"
     ]
    },
    {
     "name": "stdout",
     "output_type": "stream",
     "text": [
      "Training time: 0.148375\n",
      "Training time: 0.146499\n"
     ]
    },
    {
     "name": "stderr",
     "output_type": "stream",
     "text": [
      "Train loss: 0.693068  [    0/  207] training time ratio: 0.8584185822601998\n",
      "Valid Error: \n",
      " Accuracy: 36.5%, Avg loss: 0.693248\n",
      "\n",
      "Train loss: 0.693200  [    0/  207] training time ratio: 0.8533856669870767\n",
      "Valid Error: \n",
      " Accuracy: 36.5%, Avg loss: 0.694964\n",
      "\n"
     ]
    },
    {
     "name": "stdout",
     "output_type": "stream",
     "text": [
      "Training time: 0.162446\n",
      "Training time: 0.144154\n"
     ]
    },
    {
     "name": "stderr",
     "output_type": "stream",
     "text": [
      "Train loss: 0.692634  [    0/  207] training time ratio: 0.8520921180668181\n",
      "Valid Error: \n",
      " Accuracy: 73.1%, Avg loss: 0.693045\n",
      "\n",
      "Train loss: 0.693091  [    0/  207] training time ratio: 0.8460469343026674\n",
      "Valid Error: \n",
      " Accuracy: 63.5%, Avg loss: 0.693144\n",
      "\n"
     ]
    },
    {
     "name": "stdout",
     "output_type": "stream",
     "text": [
      "Training time: 0.146562\n",
      "Training time: 0.143769\n"
     ]
    },
    {
     "name": "stderr",
     "output_type": "stream",
     "text": [
      "Train loss: 0.693143  [    0/  207] training time ratio: 0.8510757717492984\n",
      "Valid Error: \n",
      " Accuracy: 51.9%, Avg loss: 0.693150\n",
      "\n",
      "Train loss: 0.693148  [    0/  207] training time ratio: 0.8516456658700847\n",
      "Valid Error: \n",
      " Accuracy: 63.5%, Avg loss: 0.693029\n",
      "\n"
     ]
    },
    {
     "name": "stdout",
     "output_type": "stream",
     "text": [
      "Training time: 0.160487\n",
      "Training time: 0.144668\n"
     ]
    },
    {
     "name": "stderr",
     "output_type": "stream",
     "text": [
      "Train loss: 0.692959  [    0/  207] training time ratio: 0.8572166012801982\n",
      "Valid Error: \n",
      " Accuracy: 63.5%, Avg loss: 0.692979\n",
      "\n",
      "Train loss: 0.692967  [    0/  207] training time ratio: 0.8515639708453242\n",
      "Valid Error: \n",
      " Accuracy: 42.3%, Avg loss: 0.693262\n",
      "\n"
     ]
    },
    {
     "name": "stdout",
     "output_type": "stream",
     "text": [
      "Training time: 0.14855\n",
      "Training time: 0.151603\n"
     ]
    },
    {
     "name": "stderr",
     "output_type": "stream",
     "text": [
      "Train loss: 0.693109  [    0/  207] training time ratio: 0.868339339543528\n",
      "Valid Error: \n",
      " Accuracy: 50.0%, Avg loss: 0.693153\n",
      "\n",
      "Train loss: 0.693150  [    0/  207] training time ratio: 0.8443058136448102\n",
      "Valid Error: \n",
      " Accuracy: 53.8%, Avg loss: 0.692946\n",
      "\n"
     ]
    },
    {
     "name": "stdout",
     "output_type": "stream",
     "text": [
      "Training time: 0.154112\n",
      "Training time: 0.14532\n"
     ]
    },
    {
     "name": "stderr",
     "output_type": "stream",
     "text": [
      "Train loss: 0.693072  [    0/  207] training time ratio: 0.8511056511056512\n",
      "Valid Error: \n",
      " Accuracy: 57.7%, Avg loss: 0.693147\n",
      "\n",
      "Train loss: 0.693146  [    0/  207] training time ratio: 0.8529427558801417\n",
      "Valid Error: \n",
      " Accuracy: 55.8%, Avg loss: 0.693147\n",
      "\n"
     ]
    },
    {
     "name": "stdout",
     "output_type": "stream",
     "text": [
      "Training time: 0.151959\n",
      "Training time: 0.145866\n"
     ]
    },
    {
     "name": "stderr",
     "output_type": "stream",
     "text": [
      "Train loss: 0.693147  [    0/  207] training time ratio: 0.8553539350706829\n",
      "Valid Error: \n",
      " Accuracy: 55.8%, Avg loss: 0.693147\n",
      "\n",
      "Train loss: 0.693147  [    0/  207] training time ratio: 0.8435737844451539\n",
      "Valid Error: \n",
      " Accuracy: 55.8%, Avg loss: 0.693147\n",
      "\n"
     ]
    },
    {
     "name": "stdout",
     "output_type": "stream",
     "text": [
      "Training time: 0.149546\n",
      "Training time: 0.144947\n"
     ]
    },
    {
     "name": "stderr",
     "output_type": "stream",
     "text": [
      "Train loss: 0.693147  [    0/  207] training time ratio: 0.854730713245997\n",
      "Valid Error: \n",
      " Accuracy: 55.8%, Avg loss: 0.693147\n",
      "\n",
      "Train loss: 0.693147  [    0/  207] training time ratio: 0.848705698167193\n",
      "Valid Error: \n",
      " Accuracy: 55.8%, Avg loss: 0.693147\n",
      "\n"
     ]
    },
    {
     "name": "stdout",
     "output_type": "stream",
     "text": [
      "Training time: 0.149228\n",
      "Training time: 0.145245\n"
     ]
    },
    {
     "name": "stderr",
     "output_type": "stream",
     "text": [
      "Train loss: 0.693146  [    0/  207] training time ratio: 0.8506942665368653\n",
      "Valid Error: \n",
      " Accuracy: 57.7%, Avg loss: 0.693147\n",
      "\n",
      "Train loss: 0.693147  [    0/  207] training time ratio: 0.8466439315832606\n",
      "Valid Error: \n",
      " Accuracy: 57.7%, Avg loss: 0.693147\n",
      "\n"
     ]
    },
    {
     "name": "stdout",
     "output_type": "stream",
     "text": [
      "Training time: 0.152508\n",
      "Training time: 0.146279\n"
     ]
    },
    {
     "name": "stderr",
     "output_type": "stream",
     "text": [
      "Train loss: 0.693147  [    0/  207] training time ratio: 0.8389421894218942\n",
      "Valid Error: \n",
      " Accuracy: 57.7%, Avg loss: 0.693147\n",
      "\n",
      "Train loss: 0.693147  [    0/  207] training time ratio: 0.8458150962648694\n",
      "Valid Error: \n",
      " Accuracy: 57.7%, Avg loss: 0.693147\n",
      "\n"
     ]
    },
    {
     "name": "stdout",
     "output_type": "stream",
     "text": [
      "Training time: 0.15325\n",
      "Training time: 0.1448\n"
     ]
    },
    {
     "name": "stderr",
     "output_type": "stream",
     "text": [
      "Train loss: 0.693147  [    0/  207] training time ratio: 0.8516157918301772\n",
      "Valid Error: \n",
      " Accuracy: 59.6%, Avg loss: 0.693147\n",
      "\n",
      "Train loss: 0.693147  [    0/  207] training time ratio: 0.8514703484263739\n",
      "Valid Error: \n",
      " Accuracy: 63.5%, Avg loss: 0.693147\n",
      "\n"
     ]
    },
    {
     "name": "stdout",
     "output_type": "stream",
     "text": [
      "Training time: 0.165032\n",
      "Training time: 0.145179\n"
     ]
    },
    {
     "name": "stderr",
     "output_type": "stream",
     "text": [
      "Train loss: 0.693146  [    0/  207] training time ratio: 0.8536161068331245\n",
      "Valid Error: \n",
      " Accuracy: 63.5%, Avg loss: 0.693147\n",
      "\n",
      "Train loss: 0.693147  [    0/  207] training time ratio: 0.8485069585191191\n",
      "Valid Error: \n",
      " Accuracy: 63.5%, Avg loss: 0.693147\n",
      "\n"
     ]
    },
    {
     "name": "stdout",
     "output_type": "stream",
     "text": [
      "Training time: 0.149476\n",
      "Training time: 0.144794\n"
     ]
    },
    {
     "name": "stderr",
     "output_type": "stream",
     "text": [
      "Train loss: 0.693147  [    0/  207] training time ratio: 0.8531585588833664\n",
      "Valid Error: \n",
      " Accuracy: 63.5%, Avg loss: 0.693147\n",
      "\n",
      "Train loss: 0.693146  [    0/  207] training time ratio: 0.847803220325269\n",
      "Valid Error: \n",
      " Accuracy: 63.5%, Avg loss: 0.693147\n",
      "\n",
      "Valid Error: \n",
      " Accuracy: 65.5%, Avg loss: 0.690096\n",
      "\n",
      "Test Error 21: \n",
      " Accuracy: 65.5%, Avg loss: 0.690096\n"
     ]
    },
    {
     "name": "stdout",
     "output_type": "stream",
     "text": [
      "Training time: 0.151089\n",
      "Training time: 0.145343\n"
     ]
    },
    {
     "name": "stderr",
     "output_type": "stream",
     "text": [
      "[2024-01-24 20:53:28] INFO (torcheeg/MainThread) Read the split of train and test set from ./examples_vanilla_torch/split22. If you want to use the same setting for the experiment, please set split_path to ./examples_vanilla_torch/split22 for the next run.\n",
      "Train loss: 0.693156  [    0/  207] training time ratio: 0.8579945008151446\n",
      "Valid Error: \n",
      " Accuracy: 67.3%, Avg loss: 0.692885\n",
      "\n",
      "Train loss: 0.692914  [    0/  207] training time ratio: 0.8499580008399832\n",
      "Valid Error: \n",
      " Accuracy: 65.4%, Avg loss: 0.692069\n",
      "\n"
     ]
    },
    {
     "name": "stdout",
     "output_type": "stream",
     "text": [
      "Training time: 0.148416\n",
      "Training time: 0.151836\n"
     ]
    },
    {
     "name": "stderr",
     "output_type": "stream",
     "text": [
      "Train loss: 0.692141  [    0/  207] training time ratio: 0.8371881974933163\n",
      "Valid Error: \n",
      " Accuracy: 61.5%, Avg loss: 0.690767\n",
      "\n",
      "Train loss: 0.691563  [    0/  207] training time ratio: 0.8439358779440399\n",
      "Valid Error: \n",
      " Accuracy: 61.5%, Avg loss: 0.691209\n",
      "\n"
     ]
    },
    {
     "name": "stdout",
     "output_type": "stream",
     "text": [
      "Training time: 0.154595\n",
      "Training time: 0.147056\n"
     ]
    },
    {
     "name": "stderr",
     "output_type": "stream",
     "text": [
      "Train loss: 0.690037  [    0/  207] training time ratio: 0.8487279997895346\n",
      "Valid Error: \n",
      " Accuracy: 53.8%, Avg loss: 0.693153\n",
      "\n",
      "Train loss: 0.693060  [    0/  207] training time ratio: 0.8480145186629828\n",
      "Valid Error: \n",
      " Accuracy: 38.5%, Avg loss: 0.693201\n",
      "\n"
     ]
    },
    {
     "name": "stdout",
     "output_type": "stream",
     "text": [
      "Training time: 0.150508\n",
      "Training time: 0.159623\n"
     ]
    },
    {
     "name": "stderr",
     "output_type": "stream",
     "text": [
      "Train loss: 0.693159  [    0/  207] training time ratio: 0.8684082139530758\n",
      "Valid Error: \n",
      " Accuracy: 40.4%, Avg loss: 0.693278\n",
      "\n",
      "Train loss: 0.693196  [    0/  207] training time ratio: 0.8476122156179544\n",
      "Valid Error: \n",
      " Accuracy: 48.1%, Avg loss: 0.693289\n",
      "\n"
     ]
    },
    {
     "name": "stdout",
     "output_type": "stream",
     "text": [
      "Training time: 0.182123\n",
      "Training time: 0.154482\n"
     ]
    },
    {
     "name": "stderr",
     "output_type": "stream",
     "text": [
      "Train loss: 0.693093  [    0/  207] training time ratio: 0.8507631987769092\n",
      "Valid Error: \n",
      " Accuracy: 44.2%, Avg loss: 0.693300\n",
      "\n",
      "Train loss: 0.693183  [    0/  207] training time ratio: 0.8471184492397721\n",
      "Valid Error: \n",
      " Accuracy: 63.5%, Avg loss: 0.692955\n",
      "\n"
     ]
    },
    {
     "name": "stdout",
     "output_type": "stream",
     "text": [
      "Training time: 0.156669\n",
      "Training time: 0.148086\n"
     ]
    },
    {
     "name": "stderr",
     "output_type": "stream",
     "text": [
      "Train loss: 0.692916  [    0/  207] training time ratio: 0.8515355767281574\n",
      "Valid Error: \n",
      " Accuracy: 61.5%, Avg loss: 0.693141\n",
      "\n",
      "Train loss: 0.693134  [    0/  207] training time ratio: 0.8579418631500628\n",
      "Valid Error: \n",
      " Accuracy: 51.9%, Avg loss: 0.693150\n",
      "\n"
     ]
    },
    {
     "name": "stdout",
     "output_type": "stream",
     "text": [
      "Training time: 0.172283\n",
      "Training time: 0.1515\n"
     ]
    },
    {
     "name": "stderr",
     "output_type": "stream",
     "text": [
      "Train loss: 0.693145  [    0/  207] training time ratio: 0.8550414756041012\n",
      "Valid Error: \n",
      " Accuracy: 50.0%, Avg loss: 0.693151\n",
      "\n",
      "Train loss: 0.693148  [    0/  207] training time ratio: 0.8487692062310596\n",
      "Valid Error: \n",
      " Accuracy: 50.0%, Avg loss: 0.693151\n",
      "\n"
     ]
    },
    {
     "name": "stdout",
     "output_type": "stream",
     "text": [
      "Training time: 0.151563\n",
      "Training time: 0.149027\n"
     ]
    },
    {
     "name": "stderr",
     "output_type": "stream",
     "text": [
      "Train loss: 0.693150  [    0/  207] training time ratio: 0.8548382913608424\n",
      "Valid Error: \n",
      " Accuracy: 50.0%, Avg loss: 0.693149\n",
      "\n",
      "Train loss: 0.693146  [    0/  207] training time ratio: 0.8435262529832935\n",
      "Valid Error: \n",
      " Accuracy: 51.9%, Avg loss: 0.693146\n",
      "\n"
     ]
    },
    {
     "name": "stdout",
     "output_type": "stream",
     "text": [
      "Training time: 0.155224\n",
      "Training time: 0.161986\n"
     ]
    },
    {
     "name": "stderr",
     "output_type": "stream",
     "text": [
      "Train loss: 0.693146  [    0/  207] training time ratio: 0.8368710593081966\n",
      "Valid Error: \n",
      " Accuracy: 61.5%, Avg loss: 0.693142\n",
      "\n",
      "Train loss: 0.693143  [    0/  207] training time ratio: 0.8412327311370882\n",
      "Valid Error: \n",
      " Accuracy: 65.4%, Avg loss: 0.693130\n",
      "\n"
     ]
    },
    {
     "name": "stdout",
     "output_type": "stream",
     "text": [
      "Training time: 0.156465\n",
      "Training time: 0.157431\n"
     ]
    },
    {
     "name": "stderr",
     "output_type": "stream",
     "text": [
      "Train loss: 0.693135  [    0/  207] training time ratio: 0.8747155668585196\n",
      "Valid Error: \n",
      " Accuracy: 63.5%, Avg loss: 0.693028\n",
      "\n",
      "Train loss: 0.692985  [    0/  207] training time ratio: 0.8517623575143143\n",
      "Valid Error: \n",
      " Accuracy: 65.4%, Avg loss: 0.692643\n",
      "\n"
     ]
    },
    {
     "name": "stdout",
     "output_type": "stream",
     "text": [
      "Training time: 0.162631\n",
      "Training time: 0.15202\n"
     ]
    },
    {
     "name": "stderr",
     "output_type": "stream",
     "text": [
      "Train loss: 0.692883  [    0/  207] training time ratio: 0.8705451568150288\n",
      "Valid Error: \n",
      " Accuracy: 48.1%, Avg loss: 0.693311\n",
      "\n",
      "Train loss: 0.693221  [    0/  207] training time ratio: 0.8449310213896976\n",
      "Valid Error: \n",
      " Accuracy: 50.0%, Avg loss: 0.693160\n",
      "\n"
     ]
    },
    {
     "name": "stdout",
     "output_type": "stream",
     "text": [
      "Training time: 0.160529\n",
      "Training time: 0.152862\n"
     ]
    },
    {
     "name": "stderr",
     "output_type": "stream",
     "text": [
      "Train loss: 0.693162  [    0/  207] training time ratio: 0.8614413440754568\n",
      "Valid Error: \n",
      " Accuracy: 59.6%, Avg loss: 0.693142\n",
      "\n",
      "Train loss: 0.693140  [    0/  207] training time ratio: 0.8448080818710373\n",
      "Valid Error: \n",
      " Accuracy: 57.7%, Avg loss: 0.692587\n",
      "\n"
     ]
    },
    {
     "name": "stdout",
     "output_type": "stream",
     "text": [
      "Training time: 0.157122\n",
      "Training time: 0.145631\n"
     ]
    },
    {
     "name": "stderr",
     "output_type": "stream",
     "text": [
      "Train loss: 0.692038  [    0/  207] training time ratio: 0.8459100046389362\n",
      "Valid Error: \n",
      " Accuracy: 42.3%, Avg loss: 0.694962\n",
      "\n",
      "Train loss: 0.694006  [    0/  207] training time ratio: 0.8529375171075224\n",
      "Valid Error: \n",
      " Accuracy: 61.5%, Avg loss: 0.692809\n",
      "\n"
     ]
    },
    {
     "name": "stdout",
     "output_type": "stream",
     "text": [
      "Training time: 0.167847\n",
      "Training time: 0.153453\n"
     ]
    },
    {
     "name": "stderr",
     "output_type": "stream",
     "text": [
      "Train loss: 0.693073  [    0/  207] training time ratio: 0.8759188791836029\n",
      "Valid Error: \n",
      " Accuracy: 61.5%, Avg loss: 0.693026\n",
      "\n",
      "Train loss: 0.693145  [    0/  207] training time ratio: 0.8544186046511628\n"
     ]
    },
    {
     "name": "stdout",
     "output_type": "stream",
     "text": [
      "Training time: 0.161363\n"
     ]
    },
    {
     "name": "stderr",
     "output_type": "stream",
     "text": [
      "Valid Error: \n",
      " Accuracy: 61.5%, Avg loss: 0.691996\n",
      "\n",
      "Train loss: 0.692483  [    0/  207] training time ratio: 0.855740970147441\n",
      "Valid Error: \n",
      " Accuracy: 61.5%, Avg loss: 0.692981\n",
      "\n"
     ]
    },
    {
     "name": "stdout",
     "output_type": "stream",
     "text": [
      "Training time: 0.196947\n",
      "Training time: 0.160077\n"
     ]
    },
    {
     "name": "stderr",
     "output_type": "stream",
     "text": [
      "Train loss: 0.693070  [    0/  207] training time ratio: 0.851144677838093\n",
      "Valid Error: \n",
      " Accuracy: 51.9%, Avg loss: 0.693146\n",
      "\n",
      "Train loss: 0.693147  [    0/  207] training time ratio: 0.8629156727936018\n",
      "Valid Error: \n",
      " Accuracy: 44.2%, Avg loss: 0.693215\n",
      "\n"
     ]
    },
    {
     "name": "stdout",
     "output_type": "stream",
     "text": [
      "Training time: 0.160774\n",
      "Training time: 0.162209\n"
     ]
    },
    {
     "name": "stderr",
     "output_type": "stream",
     "text": [
      "Train loss: 0.693148  [    0/  207] training time ratio: 0.8312878133102852\n",
      "Valid Error: \n",
      " Accuracy: 51.9%, Avg loss: 0.693156\n",
      "\n",
      "Train loss: 0.693141  [    0/  207] training time ratio: 0.8514364319348182\n",
      "Valid Error: \n",
      " Accuracy: 53.8%, Avg loss: 0.693147\n",
      "\n"
     ]
    },
    {
     "name": "stdout",
     "output_type": "stream",
     "text": [
      "Training time: 0.160438\n",
      "Training time: 0.149622\n"
     ]
    },
    {
     "name": "stderr",
     "output_type": "stream",
     "text": [
      "Train loss: 0.693147  [    0/  207] training time ratio: 0.8568151453275858\n",
      "Valid Error: \n",
      " Accuracy: 53.8%, Avg loss: 0.693147\n",
      "\n",
      "Train loss: 0.693147  [    0/  207] training time ratio: 0.8500391860119451\n",
      "Valid Error: \n",
      " Accuracy: 53.8%, Avg loss: 0.693147\n",
      "\n"
     ]
    },
    {
     "name": "stdout",
     "output_type": "stream",
     "text": [
      "Training time: 0.15155\n",
      "Training time: 0.149407\n"
     ]
    },
    {
     "name": "stderr",
     "output_type": "stream",
     "text": [
      "Train loss: 0.693147  [    0/  207] training time ratio: 0.8517918607005467\n",
      "Valid Error: \n",
      " Accuracy: 51.9%, Avg loss: 0.693147\n",
      "\n",
      "Train loss: 0.693147  [    0/  207] training time ratio: 0.8494529211001808\n",
      "Valid Error: \n",
      " Accuracy: 51.9%, Avg loss: 0.693147\n",
      "\n"
     ]
    },
    {
     "name": "stdout",
     "output_type": "stream",
     "text": [
      "Training time: 0.155199\n",
      "Training time: 0.165665\n"
     ]
    },
    {
     "name": "stderr",
     "output_type": "stream",
     "text": [
      "Train loss: 0.693147  [    0/  207] training time ratio: 0.8512605431457966\n",
      "Valid Error: \n",
      " Accuracy: 51.9%, Avg loss: 0.693147\n",
      "\n",
      "Train loss: 0.693147  [    0/  207] training time ratio: 0.8539576365663323\n",
      "Valid Error: \n",
      " Accuracy: 50.0%, Avg loss: 0.693147\n",
      "\n"
     ]
    },
    {
     "name": "stdout",
     "output_type": "stream",
     "text": [
      "Training time: 0.173694\n",
      "Training time: 0.148584\n"
     ]
    },
    {
     "name": "stderr",
     "output_type": "stream",
     "text": [
      "Train loss: 0.693147  [    0/  207] training time ratio: 0.8472910277581192\n",
      "Valid Error: \n",
      " Accuracy: 50.0%, Avg loss: 0.693147\n",
      "\n",
      "Train loss: 0.693147  [    0/  207] training time ratio: 0.8582188420019627\n",
      "Valid Error: \n",
      " Accuracy: 50.0%, Avg loss: 0.693147\n",
      "\n"
     ]
    },
    {
     "name": "stdout",
     "output_type": "stream",
     "text": [
      "Training time: 0.15776\n",
      "Training time: 0.162174\n"
     ]
    },
    {
     "name": "stderr",
     "output_type": "stream",
     "text": [
      "Train loss: 0.693147  [    0/  207] training time ratio: 0.8523267787966459\n",
      "Valid Error: \n",
      " Accuracy: 50.0%, Avg loss: 0.693147\n",
      "\n",
      "Train loss: 0.693147  [    0/  207] training time ratio: 0.849185307215115\n",
      "Valid Error: \n",
      " Accuracy: 50.0%, Avg loss: 0.693147\n",
      "\n"
     ]
    },
    {
     "name": "stdout",
     "output_type": "stream",
     "text": [
      "Training time: 0.15754\n",
      "Training time: 0.150549\n"
     ]
    },
    {
     "name": "stderr",
     "output_type": "stream",
     "text": [
      "Train loss: 0.693147  [    0/  207] training time ratio: 0.8650582515365562\n",
      "Valid Error: \n",
      " Accuracy: 48.1%, Avg loss: 0.693147\n",
      "\n",
      "Train loss: 0.693147  [    0/  207] training time ratio: 0.8562624614826898\n",
      "Valid Error: \n",
      " Accuracy: 48.1%, Avg loss: 0.693147\n",
      "\n"
     ]
    },
    {
     "name": "stdout",
     "output_type": "stream",
     "text": [
      "Training time: 0.159224\n",
      "Training time: 0.151798\n"
     ]
    },
    {
     "name": "stderr",
     "output_type": "stream",
     "text": [
      "Train loss: 0.693147  [    0/  207] training time ratio: 0.8576490154016727\n",
      "Valid Error: \n",
      " Accuracy: 48.1%, Avg loss: 0.693147\n",
      "\n",
      "Train loss: 0.693147  [    0/  207] training time ratio: 0.8506289722830243\n",
      "Valid Error: \n",
      " Accuracy: 48.1%, Avg loss: 0.693147\n",
      "\n"
     ]
    },
    {
     "name": "stdout",
     "output_type": "stream",
     "text": [
      "Training time: 0.160529\n",
      "Training time: 0.150425\n"
     ]
    },
    {
     "name": "stderr",
     "output_type": "stream",
     "text": [
      "Train loss: 0.693147  [    0/  207] training time ratio: 0.8717362616646243\n",
      "Valid Error: \n",
      " Accuracy: 50.0%, Avg loss: 0.693147\n",
      "\n",
      "Train loss: 0.693147  [    0/  207] training time ratio: 0.8543159071279786\n",
      "Valid Error: \n",
      " Accuracy: 51.9%, Avg loss: 0.693147\n",
      "\n"
     ]
    },
    {
     "name": "stdout",
     "output_type": "stream",
     "text": [
      "Training time: 0.15339\n",
      "Training time: 0.154834\n"
     ]
    },
    {
     "name": "stderr",
     "output_type": "stream",
     "text": [
      "Train loss: 0.693147  [    0/  207] training time ratio: 0.8741742023145762\n",
      "Valid Error: \n",
      " Accuracy: 48.1%, Avg loss: 0.693147\n",
      "\n",
      "Valid Error: \n",
      " Accuracy: 58.6%, Avg loss: 0.692612\n",
      "\n",
      "Test Error 22: \n",
      " Accuracy: 58.6%, Avg loss: 0.692612\n"
     ]
    },
    {
     "name": "stdout",
     "output_type": "stream",
     "text": [
      "Training time: 0.158329\n"
     ]
    },
    {
     "name": "stderr",
     "output_type": "stream",
     "text": [
      "[2024-01-24 20:53:37] INFO (torcheeg/MainThread) Read the split of train and test set from ./examples_vanilla_torch/split23. If you want to use the same setting for the experiment, please set split_path to ./examples_vanilla_torch/split23 for the next run.\n",
      "Train loss: 0.693142  [    0/  207] training time ratio: 0.8532297425170577\n",
      "Valid Error: \n",
      " Accuracy: 51.9%, Avg loss: 0.692831\n",
      "\n",
      "Train loss: 0.692717  [    0/  207] training time ratio: 0.8453171745854672\n",
      "Valid Error: \n",
      " Accuracy: 53.8%, Avg loss: 0.691951\n",
      "\n"
     ]
    },
    {
     "name": "stdout",
     "output_type": "stream",
     "text": [
      "Training time: 0.147465\n",
      "Training time: 0.149295\n"
     ]
    },
    {
     "name": "stderr",
     "output_type": "stream",
     "text": [
      "Train loss: 0.691274  [    0/  207] training time ratio: 0.8442175544617183\n",
      "Valid Error: \n",
      " Accuracy: 53.8%, Avg loss: 0.693059\n",
      "\n",
      "Train loss: 0.692939  [    0/  207] training time ratio: 0.8314974314412042\n",
      "Valid Error: \n",
      " Accuracy: 55.8%, Avg loss: 0.691543\n",
      "\n"
     ]
    },
    {
     "name": "stdout",
     "output_type": "stream",
     "text": [
      "Training time: 0.156348\n",
      "Training time: 0.146899\n"
     ]
    },
    {
     "name": "stderr",
     "output_type": "stream",
     "text": [
      "Train loss: 0.690167  [    0/  207] training time ratio: 0.8605162279580885\n",
      "Valid Error: \n",
      " Accuracy: 55.8%, Avg loss: 0.692307\n",
      "\n",
      "Train loss: 0.692333  [    0/  207] training time ratio: 0.8440483431624045\n",
      "Valid Error: \n",
      " Accuracy: 48.1%, Avg loss: 0.691797\n",
      "\n"
     ]
    },
    {
     "name": "stdout",
     "output_type": "stream",
     "text": [
      "Training time: 0.151749\n",
      "Training time: 0.147042\n"
     ]
    },
    {
     "name": "stderr",
     "output_type": "stream",
     "text": [
      "Train loss: 0.692590  [    0/  207] training time ratio: 0.8400336149722903\n",
      "Valid Error: \n",
      " Accuracy: 46.2%, Avg loss: 0.693103\n",
      "\n",
      "Train loss: 0.693241  [    0/  207] training time ratio: 0.8517243263923048\n",
      "Valid Error: \n",
      " Accuracy: 55.8%, Avg loss: 0.692604\n",
      "\n"
     ]
    },
    {
     "name": "stdout",
     "output_type": "stream",
     "text": [
      "Training time: 0.158762\n",
      "Training time: 0.15828\n"
     ]
    },
    {
     "name": "stderr",
     "output_type": "stream",
     "text": [
      "Train loss: 0.692707  [    0/  207] training time ratio: 0.8684264608499076\n",
      "Valid Error: \n",
      " Accuracy: 51.9%, Avg loss: 0.693135\n",
      "\n",
      "Train loss: 0.692991  [    0/  207] training time ratio: 0.8456823027718551\n",
      "Valid Error: \n",
      " Accuracy: 55.8%, Avg loss: 0.693027\n",
      "\n"
     ]
    },
    {
     "name": "stdout",
     "output_type": "stream",
     "text": [
      "Training time: 0.154751\n",
      "Training time: 0.14741\n"
     ]
    },
    {
     "name": "stderr",
     "output_type": "stream",
     "text": [
      "Train loss: 0.693069  [    0/  207] training time ratio: 0.8546314728161112\n",
      "Valid Error: \n",
      " Accuracy: 63.5%, Avg loss: 0.692606\n",
      "\n",
      "Train loss: 0.692601  [    0/  207] training time ratio: 0.8533834586466165\n",
      "Valid Error: \n",
      " Accuracy: 69.2%, Avg loss: 0.692157\n",
      "\n"
     ]
    },
    {
     "name": "stdout",
     "output_type": "stream",
     "text": [
      "Training time: 0.15258\n",
      "Training time: 0.146023\n"
     ]
    },
    {
     "name": "stderr",
     "output_type": "stream",
     "text": [
      "Train loss: 0.691950  [    0/  207] training time ratio: 0.8634585667374928\n",
      "Valid Error: \n",
      " Accuracy: 59.6%, Avg loss: 0.692255\n",
      "\n",
      "Train loss: 0.691949  [    0/  207] training time ratio: 0.856589248094879\n",
      "Valid Error: \n",
      " Accuracy: 48.1%, Avg loss: 0.693174\n",
      "\n"
     ]
    },
    {
     "name": "stdout",
     "output_type": "stream",
     "text": [
      "Training time: 0.153044\n",
      "Training time: 0.147675\n"
     ]
    },
    {
     "name": "stderr",
     "output_type": "stream",
     "text": [
      "Train loss: 0.693152  [    0/  207] training time ratio: 0.8585310676367002\n",
      "Valid Error: \n",
      " Accuracy: 46.2%, Avg loss: 0.693173\n",
      "\n",
      "Train loss: 0.693157  [    0/  207] training time ratio: 0.8544783767165404\n",
      "Valid Error: \n",
      " Accuracy: 44.2%, Avg loss: 0.693160\n",
      "\n"
     ]
    },
    {
     "name": "stdout",
     "output_type": "stream",
     "text": [
      "Training time: 0.158895\n",
      "Training time: 0.151154\n"
     ]
    },
    {
     "name": "stderr",
     "output_type": "stream",
     "text": [
      "Train loss: 0.693151  [    0/  207] training time ratio: 0.8614112044115804\n",
      "Valid Error: \n",
      " Accuracy: 46.2%, Avg loss: 0.693155\n",
      "\n",
      "Train loss: 0.693150  [    0/  207] training time ratio: 0.8521901767320829\n",
      "Valid Error: \n",
      " Accuracy: 46.2%, Avg loss: 0.693152\n",
      "\n"
     ]
    },
    {
     "name": "stdout",
     "output_type": "stream",
     "text": [
      "Training time: 0.150323\n",
      "Training time: 0.145621\n"
     ]
    },
    {
     "name": "stderr",
     "output_type": "stream",
     "text": [
      "Train loss: 0.693148  [    0/  207] training time ratio: 0.854337585349071\n",
      "Valid Error: \n",
      " Accuracy: 48.1%, Avg loss: 0.693149\n",
      "\n",
      "Train loss: 0.693148  [    0/  207] training time ratio: 0.8484079870480302\n",
      "Valid Error: \n",
      " Accuracy: 44.2%, Avg loss: 0.693148\n",
      "\n"
     ]
    },
    {
     "name": "stdout",
     "output_type": "stream",
     "text": [
      "Training time: 0.148517\n",
      "Training time: 0.144779\n"
     ]
    },
    {
     "name": "stderr",
     "output_type": "stream",
     "text": [
      "Train loss: 0.693147  [    0/  207] training time ratio: 0.8530788894231986\n",
      "Valid Error: \n",
      " Accuracy: 48.1%, Avg loss: 0.693148\n",
      "\n",
      "Train loss: 0.693148  [    0/  207] training time ratio: 0.8478955708952217\n",
      "Valid Error: \n",
      " Accuracy: 50.0%, Avg loss: 0.693148\n",
      "\n"
     ]
    },
    {
     "name": "stdout",
     "output_type": "stream",
     "text": [
      "Training time: 0.152425\n",
      "Training time: 0.144178\n"
     ]
    },
    {
     "name": "stderr",
     "output_type": "stream",
     "text": [
      "Train loss: 0.693146  [    0/  207] training time ratio: 0.8545561058742078\n",
      "Valid Error: \n",
      " Accuracy: 50.0%, Avg loss: 0.693148\n",
      "\n",
      "Train loss: 0.693146  [    0/  207] training time ratio: 0.8467960591661968\n",
      "Valid Error: \n",
      " Accuracy: 50.0%, Avg loss: 0.693148\n",
      "\n"
     ]
    },
    {
     "name": "stdout",
     "output_type": "stream",
     "text": [
      "Training time: 0.149568\n",
      "Training time: 0.145154\n"
     ]
    },
    {
     "name": "stderr",
     "output_type": "stream",
     "text": [
      "Train loss: 0.693146  [    0/  207] training time ratio: 0.8490123363354273\n",
      "Valid Error: \n",
      " Accuracy: 50.0%, Avg loss: 0.693148\n",
      "\n",
      "Train loss: 0.693147  [    0/  207] training time ratio: 0.8429257875066738\n",
      "Valid Error: \n",
      " Accuracy: 51.9%, Avg loss: 0.693148\n",
      "\n"
     ]
    },
    {
     "name": "stdout",
     "output_type": "stream",
     "text": [
      "Training time: 0.151102\n",
      "Training time: 0.149035\n"
     ]
    },
    {
     "name": "stderr",
     "output_type": "stream",
     "text": [
      "Train loss: 0.693145  [    0/  207] training time ratio: 0.8723419154548213\n",
      "Valid Error: \n",
      " Accuracy: 57.7%, Avg loss: 0.693149\n",
      "\n",
      "Train loss: 0.693147  [    0/  207] training time ratio: 0.8555248981736959\n",
      "Valid Error: \n",
      " Accuracy: 57.7%, Avg loss: 0.693152\n",
      "\n"
     ]
    },
    {
     "name": "stdout",
     "output_type": "stream",
     "text": [
      "Training time: 0.164887\n",
      "Training time: 0.146553\n"
     ]
    },
    {
     "name": "stderr",
     "output_type": "stream",
     "text": [
      "Train loss: 0.693139  [    0/  207] training time ratio: 0.8197014632711586\n",
      "Valid Error: \n",
      " Accuracy: 59.6%, Avg loss: 0.693139\n",
      "\n",
      "Train loss: 0.693173  [    0/  207] training time ratio: 0.8440374205076995\n",
      "Valid Error: \n",
      " Accuracy: 51.9%, Avg loss: 0.693150\n",
      "\n"
     ]
    },
    {
     "name": "stdout",
     "output_type": "stream",
     "text": [
      "Training time: 0.152131\n",
      "Training time: 0.147544\n"
     ]
    },
    {
     "name": "stderr",
     "output_type": "stream",
     "text": [
      "Train loss: 0.693145  [    0/  207] training time ratio: 0.8505451750804554\n",
      "Valid Error: \n",
      " Accuracy: 51.9%, Avg loss: 0.693148\n",
      "\n",
      "Train loss: 0.693147  [    0/  207] training time ratio: 0.8441188015177287\n",
      "Valid Error: \n",
      " Accuracy: 51.9%, Avg loss: 0.693145\n",
      "\n"
     ]
    },
    {
     "name": "stdout",
     "output_type": "stream",
     "text": [
      "Training time: 0.154568\n",
      "Training time: 0.146746\n"
     ]
    },
    {
     "name": "stderr",
     "output_type": "stream",
     "text": [
      "Train loss: 0.693147  [    0/  207] training time ratio: 0.8513533213470043\n",
      "Valid Error: \n",
      " Accuracy: 46.2%, Avg loss: 0.693151\n",
      "\n",
      "Train loss: 0.693164  [    0/  207] training time ratio: 0.8460945187627988\n",
      "Valid Error: \n",
      " Accuracy: 38.5%, Avg loss: 0.693151\n",
      "\n"
     ]
    },
    {
     "name": "stdout",
     "output_type": "stream",
     "text": [
      "Training time: 0.157052\n",
      "Training time: 0.145626\n"
     ]
    },
    {
     "name": "stderr",
     "output_type": "stream",
     "text": [
      "Train loss: 0.693145  [    0/  207] training time ratio: 0.848955529924388\n",
      "Valid Error: \n",
      " Accuracy: 51.9%, Avg loss: 0.693161\n",
      "\n",
      "Train loss: 0.693131  [    0/  207] training time ratio: 0.8450624596166273\n",
      "Valid Error: \n",
      " Accuracy: 42.3%, Avg loss: 0.693148\n",
      "\n"
     ]
    },
    {
     "name": "stdout",
     "output_type": "stream",
     "text": [
      "Training time: 0.15307\n",
      "Training time: 0.145675\n"
     ]
    },
    {
     "name": "stderr",
     "output_type": "stream",
     "text": [
      "Train loss: 0.693149  [    0/  207] training time ratio: 0.8457293852490868\n",
      "Valid Error: \n",
      " Accuracy: 55.8%, Avg loss: 0.693140\n",
      "\n",
      "Train loss: 0.693149  [    0/  207] training time ratio: 0.846415461023537\n",
      "Valid Error: \n",
      " Accuracy: 53.8%, Avg loss: 0.693147\n",
      "\n"
     ]
    },
    {
     "name": "stdout",
     "output_type": "stream",
     "text": [
      "Training time: 0.151582\n",
      "Training time: 0.145068\n"
     ]
    },
    {
     "name": "stderr",
     "output_type": "stream",
     "text": [
      "Train loss: 0.693147  [    0/  207] training time ratio: 0.8523393684857486\n",
      "Valid Error: \n",
      " Accuracy: 53.8%, Avg loss: 0.693147\n",
      "\n",
      "Train loss: 0.693147  [    0/  207] training time ratio: 0.8444420554719415\n",
      "Valid Error: \n",
      " Accuracy: 50.0%, Avg loss: 0.693261\n",
      "\n"
     ]
    },
    {
     "name": "stdout",
     "output_type": "stream",
     "text": [
      "Training time: 0.154675\n",
      "Training time: 0.145347\n"
     ]
    },
    {
     "name": "stderr",
     "output_type": "stream",
     "text": [
      "Train loss: 0.694098  [    0/  207] training time ratio: 0.8469916086413141\n",
      "Valid Error: \n",
      " Accuracy: 51.9%, Avg loss: 0.693146\n",
      "\n",
      "Train loss: 0.693144  [    0/  207] training time ratio: 0.8471420213171885\n",
      "Valid Error: \n",
      " Accuracy: 50.0%, Avg loss: 0.693156\n",
      "\n"
     ]
    },
    {
     "name": "stdout",
     "output_type": "stream",
     "text": [
      "Training time: 0.153732\n",
      "Training time: 0.148979\n"
     ]
    },
    {
     "name": "stderr",
     "output_type": "stream",
     "text": [
      "Train loss: 0.693131  [    0/  207] training time ratio: 0.8481795641393709\n",
      "Valid Error: \n",
      " Accuracy: 44.2%, Avg loss: 0.693164\n",
      "\n",
      "Train loss: 0.693142  [    0/  207] training time ratio: 0.8464455220800661\n",
      "Valid Error: \n",
      " Accuracy: 55.8%, Avg loss: 0.693086\n",
      "\n"
     ]
    },
    {
     "name": "stdout",
     "output_type": "stream",
     "text": [
      "Training time: 0.161571\n",
      "Training time: 0.148005\n"
     ]
    },
    {
     "name": "stderr",
     "output_type": "stream",
     "text": [
      "Train loss: 0.693105  [    0/  207] training time ratio: 0.8504728591786501\n",
      "Valid Error: \n",
      " Accuracy: 51.9%, Avg loss: 0.693019\n",
      "\n",
      "Train loss: 0.693087  [    0/  207] training time ratio: 0.8524438393464943\n",
      "Valid Error: \n",
      " Accuracy: 46.2%, Avg loss: 0.693145\n",
      "\n"
     ]
    },
    {
     "name": "stdout",
     "output_type": "stream",
     "text": [
      "Training time: 0.149358\n",
      "Training time: 0.144225\n"
     ]
    },
    {
     "name": "stderr",
     "output_type": "stream",
     "text": [
      "Train loss: 0.693147  [    0/  207] training time ratio: 0.8553210668646268\n",
      "Valid Error: \n",
      " Accuracy: 51.9%, Avg loss: 0.693147\n",
      "\n",
      "Train loss: 0.693148  [    0/  207] training time ratio: 0.8485413794035742\n",
      "Valid Error: \n",
      " Accuracy: 48.1%, Avg loss: 0.693148\n",
      "\n"
     ]
    },
    {
     "name": "stdout",
     "output_type": "stream",
     "text": [
      "Training time: 0.150009\n",
      "Training time: 0.144736\n"
     ]
    },
    {
     "name": "stderr",
     "output_type": "stream",
     "text": [
      "Train loss: 0.693147  [    0/  207] training time ratio: 0.8478558688965285\n",
      "Valid Error: \n",
      " Accuracy: 50.0%, Avg loss: 0.693147\n",
      "\n",
      "Train loss: 0.693147  [    0/  207] training time ratio: 0.8524238524238524\n",
      "Valid Error: \n",
      " Accuracy: 51.9%, Avg loss: 0.693145\n",
      "\n",
      "Valid Error: \n",
      " Accuracy: 51.7%, Avg loss: 0.692212\n",
      "\n",
      "Test Error 23: \n",
      " Accuracy: 51.7%, Avg loss: 0.692212\n"
     ]
    },
    {
     "name": "stdout",
     "output_type": "stream",
     "text": [
      "Training time: 0.152166\n",
      "Training time: 0.146039\n"
     ]
    },
    {
     "name": "stderr",
     "output_type": "stream",
     "text": [
      "[2024-01-24 20:53:46] INFO (torcheeg/MainThread) Read the split of train and test set from ./examples_vanilla_torch/split24. If you want to use the same setting for the experiment, please set split_path to ./examples_vanilla_torch/split24 for the next run.\n",
      "Train loss: 0.693226  [    0/  207] training time ratio: 0.8556942887678232\n",
      "Valid Error: \n",
      " Accuracy: 44.2%, Avg loss: 0.693318\n",
      "\n",
      "Train loss: 0.692887  [    0/  207] training time ratio: 0.8473189367870594\n",
      "Valid Error: \n",
      " Accuracy: 44.2%, Avg loss: 0.693625\n",
      "\n"
     ]
    },
    {
     "name": "stdout",
     "output_type": "stream",
     "text": [
      "Training time: 0.147057\n",
      "Training time: 0.144701\n"
     ]
    },
    {
     "name": "stderr",
     "output_type": "stream",
     "text": [
      "Train loss: 0.691775  [    0/  207] training time ratio: 0.8638412984670873\n",
      "Valid Error: \n",
      " Accuracy: 44.2%, Avg loss: 0.693788\n",
      "\n",
      "Train loss: 0.690094  [    0/  207] training time ratio: 0.8561719089352786\n",
      "Valid Error: \n",
      " Accuracy: 48.1%, Avg loss: 0.693268\n",
      "\n"
     ]
    },
    {
     "name": "stdout",
     "output_type": "stream",
     "text": [
      "Training time: 0.155727\n",
      "Training time: 0.15221\n"
     ]
    },
    {
     "name": "stderr",
     "output_type": "stream",
     "text": [
      "Train loss: 0.690983  [    0/  207] training time ratio: 0.8660127513487004\n",
      "Valid Error: \n",
      " Accuracy: 50.0%, Avg loss: 0.693083\n",
      "\n",
      "Train loss: 0.690286  [    0/  207] training time ratio: 0.8557625948930296\n"
     ]
    },
    {
     "name": "stdout",
     "output_type": "stream",
     "text": [
      "Training time: 0.169125\n",
      "Training time: 0.158219\n"
     ]
    },
    {
     "name": "stderr",
     "output_type": "stream",
     "text": [
      "Valid Error: \n",
      " Accuracy: 46.2%, Avg loss: 0.693193\n",
      "\n",
      "Train loss: 0.692984  [    0/  207] training time ratio: 0.8530886343774436\n",
      "Valid Error: \n",
      " Accuracy: 42.3%, Avg loss: 0.693202\n",
      "\n",
      "Train loss: 0.692824  [    0/  207] training time ratio: 0.8511500658628027\n"
     ]
    },
    {
     "name": "stdout",
     "output_type": "stream",
     "text": [
      "Training time: 0.159677\n",
      "Training time: 0.16312\n"
     ]
    },
    {
     "name": "stderr",
     "output_type": "stream",
     "text": [
      "Valid Error: \n",
      " Accuracy: 44.2%, Avg loss: 0.693677\n",
      "\n",
      "Train loss: 0.691659  [    0/  207] training time ratio: 0.8147244963130698\n",
      "Valid Error: \n",
      " Accuracy: 55.8%, Avg loss: 0.692784\n",
      "\n",
      "Train loss: 0.691059  [    0/  207] training time ratio: 0.8471904736590293\n",
      "Valid Error: \n",
      " Accuracy: 50.0%, Avg loss: 0.693212\n",
      "\n"
     ]
    },
    {
     "name": "stdout",
     "output_type": "stream",
     "text": [
      "Training time: 0.166989\n",
      "Training time: 0.162483\n"
     ]
    },
    {
     "name": "stderr",
     "output_type": "stream",
     "text": [
      "Train loss: 0.693121  [    0/  207] training time ratio: 0.8674016408726459\n",
      "Valid Error: \n",
      " Accuracy: 53.8%, Avg loss: 0.693171\n",
      "\n",
      "Train loss: 0.693053  [    0/  207] training time ratio: 0.8521890016017085\n",
      "Valid Error: \n",
      " Accuracy: 61.5%, Avg loss: 0.692834\n",
      "\n"
     ]
    },
    {
     "name": "stdout",
     "output_type": "stream",
     "text": [
      "Training time: 0.156087\n",
      "Training time: 0.145835\n"
     ]
    },
    {
     "name": "stderr",
     "output_type": "stream",
     "text": [
      "Train loss: 0.691678  [    0/  207] training time ratio: 0.8604651162790697\n",
      "Valid Error: \n",
      " Accuracy: 61.5%, Avg loss: 0.692648\n",
      "\n",
      "Train loss: 0.691174  [    0/  207] training time ratio: 0.8505331353758941\n",
      "Valid Error: \n",
      " Accuracy: 57.7%, Avg loss: 0.691305\n",
      "\n"
     ]
    },
    {
     "name": "stdout",
     "output_type": "stream",
     "text": [
      "Training time: 0.1491\n",
      "Training time: 0.1442\n"
     ]
    },
    {
     "name": "stderr",
     "output_type": "stream",
     "text": [
      "Train loss: 0.690196  [    0/  207] training time ratio: 0.8520221076685977\n",
      "Valid Error: \n",
      " Accuracy: 71.2%, Avg loss: 0.692970\n",
      "\n",
      "Train loss: 0.692916  [    0/  207] training time ratio: 0.8527877181959734\n",
      "Valid Error: \n",
      " Accuracy: 55.8%, Avg loss: 0.693089\n",
      "\n"
     ]
    },
    {
     "name": "stdout",
     "output_type": "stream",
     "text": [
      "Training time: 0.14804\n",
      "Training time: 0.144217\n"
     ]
    },
    {
     "name": "stderr",
     "output_type": "stream",
     "text": [
      "Train loss: 0.693024  [    0/  207] training time ratio: 0.8540113219781043\n",
      "Valid Error: \n",
      " Accuracy: 63.5%, Avg loss: 0.692776\n",
      "\n",
      "Train loss: 0.692538  [    0/  207] training time ratio: 0.8535470296386732\n",
      "Valid Error: \n",
      " Accuracy: 65.4%, Avg loss: 0.692486\n",
      "\n"
     ]
    },
    {
     "name": "stdout",
     "output_type": "stream",
     "text": [
      "Training time: 0.154994\n",
      "Training time: 0.148697\n"
     ]
    },
    {
     "name": "stderr",
     "output_type": "stream",
     "text": [
      "Train loss: 0.692444  [    0/  207] training time ratio: 0.8566951566951566\n",
      "Valid Error: \n",
      " Accuracy: 46.2%, Avg loss: 0.693148\n",
      "\n",
      "Train loss: 0.693138  [    0/  207] training time ratio: 0.8518689881894558\n"
     ]
    },
    {
     "name": "stdout",
     "output_type": "stream",
     "text": [
      "Training time: 0.173858\n",
      "Training time: 0.168381\n"
     ]
    },
    {
     "name": "stderr",
     "output_type": "stream",
     "text": [
      "Valid Error: \n",
      " Accuracy: 46.2%, Avg loss: 0.693144\n",
      "\n",
      "Train loss: 0.693133  [    0/  207] training time ratio: 0.8499841420869013\n",
      "Valid Error: \n",
      " Accuracy: 44.2%, Avg loss: 0.693143\n",
      "\n",
      "Train loss: 0.693123  [    0/  207] training time ratio: 0.8554543343054014\n",
      "Valid Error: \n",
      " Accuracy: 42.3%, Avg loss: 0.693142\n",
      "\n"
     ]
    },
    {
     "name": "stdout",
     "output_type": "stream",
     "text": [
      "Training time: 0.157741\n",
      "Training time: 0.153239\n"
     ]
    },
    {
     "name": "stderr",
     "output_type": "stream",
     "text": [
      "Train loss: 0.693125  [    0/  207] training time ratio: 0.85314811010682\n",
      "Valid Error: \n",
      " Accuracy: 42.3%, Avg loss: 0.693138\n",
      "\n",
      "Train loss: 0.693108  [    0/  207] training time ratio: 0.8510408147112366\n",
      "Valid Error: \n",
      " Accuracy: 46.2%, Avg loss: 0.693119\n",
      "\n"
     ]
    },
    {
     "name": "stdout",
     "output_type": "stream",
     "text": [
      "Training time: 0.147175\n",
      "Training time: 0.146956\n"
     ]
    },
    {
     "name": "stderr",
     "output_type": "stream",
     "text": [
      "Train loss: 0.693030  [    0/  207] training time ratio: 0.8550768303705936\n",
      "Valid Error: \n",
      " Accuracy: 46.2%, Avg loss: 0.693090\n",
      "\n",
      "Train loss: 0.692948  [    0/  207] training time ratio: 0.8502531308286704\n",
      "Valid Error: \n",
      " Accuracy: 44.2%, Avg loss: 0.692930\n",
      "\n"
     ]
    },
    {
     "name": "stdout",
     "output_type": "stream",
     "text": [
      "Training time: 0.15474\n",
      "Training time: 0.150522\n"
     ]
    },
    {
     "name": "stderr",
     "output_type": "stream",
     "text": [
      "Train loss: 0.692753  [    0/  207] training time ratio: 0.8585609141971722\n",
      "Valid Error: \n",
      " Accuracy: 46.2%, Avg loss: 0.692605\n",
      "\n",
      "Train loss: 0.692392  [    0/  207] training time ratio: 0.8558133669609079\n",
      "Valid Error: \n",
      " Accuracy: 57.7%, Avg loss: 0.693076\n",
      "\n"
     ]
    },
    {
     "name": "stdout",
     "output_type": "stream",
     "text": [
      "Training time: 0.172759\n",
      "Training time: 0.156516\n"
     ]
    },
    {
     "name": "stderr",
     "output_type": "stream",
     "text": [
      "Train loss: 0.693039  [    0/  207] training time ratio: 0.8744182997968145\n",
      "Valid Error: \n",
      " Accuracy: 48.1%, Avg loss: 0.693159\n",
      "\n",
      "Train loss: 0.693169  [    0/  207] training time ratio: 0.855973194941301\n",
      "Valid Error: \n",
      " Accuracy: 48.1%, Avg loss: 0.693498\n",
      "\n"
     ]
    },
    {
     "name": "stdout",
     "output_type": "stream",
     "text": [
      "Training time: 0.162246\n",
      "Training time: 0.153763\n"
     ]
    },
    {
     "name": "stderr",
     "output_type": "stream",
     "text": [
      "Train loss: 0.692310  [    0/  207] training time ratio: 0.8623848605777678\n",
      "Valid Error: \n",
      " Accuracy: 50.0%, Avg loss: 0.693147\n",
      "\n",
      "Train loss: 0.693145  [    0/  207] training time ratio: 0.8737101072917378\n"
     ]
    },
    {
     "name": "stdout",
     "output_type": "stream",
     "text": [
      "Training time: 0.155432\n",
      "Training time: 0.175149\n"
     ]
    },
    {
     "name": "stderr",
     "output_type": "stream",
     "text": [
      "Valid Error: \n",
      " Accuracy: 53.8%, Avg loss: 0.693147\n",
      "\n",
      "Train loss: 0.693146  [    0/  207] training time ratio: 0.8635730123535001\n",
      "Valid Error: \n",
      " Accuracy: 53.8%, Avg loss: 0.693147\n",
      "\n",
      "Train loss: 0.693147  [    0/  207] training time ratio: 0.8476727584237578\n"
     ]
    },
    {
     "name": "stdout",
     "output_type": "stream",
     "text": [
      "Training time: 0.206589\n"
     ]
    },
    {
     "name": "stderr",
     "output_type": "stream",
     "text": [
      "Valid Error: \n",
      " Accuracy: 55.8%, Avg loss: 0.693152\n",
      "\n",
      "Train loss: 0.693160  [    0/  207] training time ratio: 0.8793872669595753\n"
     ]
    },
    {
     "name": "stdout",
     "output_type": "stream",
     "text": [
      "Training time: 0.265224\n"
     ]
    },
    {
     "name": "stderr",
     "output_type": "stream",
     "text": [
      "Valid Error: \n",
      " Accuracy: 51.9%, Avg loss: 0.693147\n",
      "\n",
      "Train loss: 0.693147  [    0/  207] training time ratio: 0.8574746971959516\n"
     ]
    },
    {
     "name": "stdout",
     "output_type": "stream",
     "text": [
      "Training time: 0.249565\n"
     ]
    },
    {
     "name": "stderr",
     "output_type": "stream",
     "text": [
      "Valid Error: \n",
      " Accuracy: 53.8%, Avg loss: 0.693147\n",
      "\n",
      "Train loss: 0.693146  [    0/  207] training time ratio: 0.8241804534313726\n"
     ]
    },
    {
     "name": "stdout",
     "output_type": "stream",
     "text": [
      "Training time: 0.197164\n"
     ]
    },
    {
     "name": "stderr",
     "output_type": "stream",
     "text": [
      "Valid Error: \n",
      " Accuracy: 53.8%, Avg loss: 0.693147\n",
      "\n",
      "Train loss: 0.693147  [    0/  207] training time ratio: 0.868614045991299\n"
     ]
    },
    {
     "name": "stdout",
     "output_type": "stream",
     "text": [
      "Training time: 0.199676\n"
     ]
    },
    {
     "name": "stderr",
     "output_type": "stream",
     "text": [
      "Valid Error: \n",
      " Accuracy: 53.8%, Avg loss: 0.693147\n",
      "\n",
      "Train loss: 0.693147  [    0/  207] training time ratio: 0.8394892915980231\n"
     ]
    },
    {
     "name": "stdout",
     "output_type": "stream",
     "text": [
      "Training time: 0.258973\n"
     ]
    },
    {
     "name": "stderr",
     "output_type": "stream",
     "text": [
      "Valid Error: \n",
      " Accuracy: 53.8%, Avg loss: 0.693147\n",
      "\n",
      "Train loss: 0.693147  [    0/  207] training time ratio: 0.8560893854748602\n"
     ]
    },
    {
     "name": "stdout",
     "output_type": "stream",
     "text": [
      "Training time: 0.241495\n"
     ]
    },
    {
     "name": "stderr",
     "output_type": "stream",
     "text": [
      "Valid Error: \n",
      " Accuracy: 53.8%, Avg loss: 0.693147\n",
      "\n",
      "Train loss: 0.693147  [    0/  207] training time ratio: 0.8618947579031613\n"
     ]
    },
    {
     "name": "stdout",
     "output_type": "stream",
     "text": [
      "Training time: 0.198157\n"
     ]
    },
    {
     "name": "stderr",
     "output_type": "stream",
     "text": [
      "Valid Error: \n",
      " Accuracy: 53.8%, Avg loss: 0.693147\n",
      "\n",
      "Train loss: 0.693147  [    0/  207] training time ratio: 0.8293358501405446\n"
     ]
    },
    {
     "name": "stdout",
     "output_type": "stream",
     "text": [
      "Training time: 0.186535\n",
      "Training time: 0.16857\n"
     ]
    },
    {
     "name": "stderr",
     "output_type": "stream",
     "text": [
      "Valid Error: \n",
      " Accuracy: 53.8%, Avg loss: 0.693147\n",
      "\n",
      "Train loss: 0.693147  [    0/  207] training time ratio: 0.8701144204356196\n",
      "Valid Error: \n",
      " Accuracy: 53.8%, Avg loss: 0.693147\n",
      "\n",
      "Train loss: 0.693147  [    0/  207] training time ratio: 0.8569567174433205\n",
      "Valid Error: \n",
      " Accuracy: 53.8%, Avg loss: 0.693147\n",
      "\n"
     ]
    },
    {
     "name": "stdout",
     "output_type": "stream",
     "text": [
      "Training time: 0.166025\n",
      "Training time: 0.1629\n"
     ]
    },
    {
     "name": "stderr",
     "output_type": "stream",
     "text": [
      "Train loss: 0.693147  [    0/  207] training time ratio: 0.8663629281650576\n",
      "Valid Error: \n",
      " Accuracy: 53.8%, Avg loss: 0.693147\n",
      "\n",
      "Train loss: 0.693147  [    0/  207] training time ratio: 0.8532511588160655\n",
      "Valid Error: \n",
      " Accuracy: 53.8%, Avg loss: 0.693147\n",
      "\n"
     ]
    },
    {
     "name": "stdout",
     "output_type": "stream",
     "text": [
      "Training time: 0.167731\n",
      "Training time: 0.158049\n"
     ]
    },
    {
     "name": "stderr",
     "output_type": "stream",
     "text": [
      "Train loss: 0.693147  [    0/  207] training time ratio: 0.8481604728550485\n",
      "Valid Error: \n",
      " Accuracy: 53.8%, Avg loss: 0.693147\n",
      "\n",
      "Train loss: 0.693147  [    0/  207] training time ratio: 0.8693361687731084\n",
      "Valid Error: \n",
      " Accuracy: 53.8%, Avg loss: 0.693147\n",
      "\n"
     ]
    },
    {
     "name": "stdout",
     "output_type": "stream",
     "text": [
      "Training time: 0.162186\n",
      "Training time: 0.156608\n"
     ]
    },
    {
     "name": "stderr",
     "output_type": "stream",
     "text": [
      "Train loss: 0.693146  [    0/  207] training time ratio: 0.859151897825931\n",
      "Valid Error: \n",
      " Accuracy: 53.8%, Avg loss: 0.693147\n",
      "\n",
      "Train loss: 0.693147  [    0/  207] training time ratio: 0.8604735724466941\n"
     ]
    },
    {
     "name": "stdout",
     "output_type": "stream",
     "text": [
      "Training time: 0.192394\n"
     ]
    },
    {
     "name": "stderr",
     "output_type": "stream",
     "text": [
      "Valid Error: \n",
      " Accuracy: 53.8%, Avg loss: 0.693147\n",
      "\n",
      "Valid Error: \n",
      " Accuracy: 62.1%, Avg loss: 0.692911\n",
      "\n",
      "Test Error 24: \n",
      " Accuracy: 62.1%, Avg loss: 0.692911\n",
      "[2024-01-24 20:53:55] INFO (torcheeg/MainThread) Read the split of train and test set from ./examples_vanilla_torch/split25. If you want to use the same setting for the experiment, please set split_path to ./examples_vanilla_torch/split25 for the next run.\n"
     ]
    },
    {
     "name": "stdout",
     "output_type": "stream",
     "text": [
      "Training time: 0.205695\n"
     ]
    },
    {
     "name": "stderr",
     "output_type": "stream",
     "text": [
      "Train loss: 0.693123  [    0/  207] training time ratio: 0.843810604985573\n",
      "Valid Error: \n",
      " Accuracy: 53.8%, Avg loss: 0.692948\n",
      "\n",
      "Train loss: 0.693255  [    0/  207] training time ratio: 0.8609428617489233\n"
     ]
    },
    {
     "name": "stdout",
     "output_type": "stream",
     "text": [
      "Training time: 0.175788\n",
      "Training time: 0.163771\n"
     ]
    },
    {
     "name": "stderr",
     "output_type": "stream",
     "text": [
      "Valid Error: \n",
      " Accuracy: 44.2%, Avg loss: 0.693819\n",
      "\n",
      "Train loss: 0.694622  [    0/  207] training time ratio: 0.8470974388461631\n",
      "Valid Error: \n",
      " Accuracy: 55.8%, Avg loss: 0.693146\n",
      "\n",
      "Train loss: 0.693147  [    0/  207] training time ratio: 0.8525435320111526\n",
      "Valid Error: \n",
      " Accuracy: 53.8%, Avg loss: 0.693146\n",
      "\n"
     ]
    },
    {
     "name": "stdout",
     "output_type": "stream",
     "text": [
      "Training time: 0.152866\n",
      "Training time: 0.16067\n"
     ]
    },
    {
     "name": "stderr",
     "output_type": "stream",
     "text": [
      "Train loss: 0.693146  [    0/  207] training time ratio: 0.8373644074195253\n",
      "Valid Error: \n",
      " Accuracy: 53.8%, Avg loss: 0.693146\n",
      "\n",
      "Train loss: 0.693146  [    0/  207] training time ratio: 0.8510765705954333\n",
      "Valid Error: \n",
      " Accuracy: 51.9%, Avg loss: 0.693146\n",
      "\n"
     ]
    },
    {
     "name": "stdout",
     "output_type": "stream",
     "text": [
      "Training time: 0.157147\n",
      "Training time: 0.152847\n"
     ]
    },
    {
     "name": "stderr",
     "output_type": "stream",
     "text": [
      "Train loss: 0.693146  [    0/  207] training time ratio: 0.8624047006264265\n",
      "Valid Error: \n",
      " Accuracy: 51.9%, Avg loss: 0.693146\n",
      "\n",
      "Train loss: 0.693147  [    0/  207] training time ratio: 0.8512215843266483\n",
      "Valid Error: \n",
      " Accuracy: 57.7%, Avg loss: 0.693146\n",
      "\n"
     ]
    },
    {
     "name": "stdout",
     "output_type": "stream",
     "text": [
      "Training time: 0.160855\n",
      "Training time: 0.153218\n"
     ]
    },
    {
     "name": "stderr",
     "output_type": "stream",
     "text": [
      "Train loss: 0.693147  [    0/  207] training time ratio: 0.8162714108975588\n",
      "Valid Error: \n",
      " Accuracy: 55.8%, Avg loss: 0.693145\n",
      "\n",
      "Train loss: 0.693147  [    0/  207] training time ratio: 0.845271218575333\n",
      "Valid Error: \n",
      " Accuracy: 57.7%, Avg loss: 0.693146\n",
      "\n"
     ]
    },
    {
     "name": "stdout",
     "output_type": "stream",
     "text": [
      "Training time: 0.202334\n",
      "Training time: 0.154962\n"
     ]
    },
    {
     "name": "stderr",
     "output_type": "stream",
     "text": [
      "Train loss: 0.693146  [    0/  207] training time ratio: 0.8885733848880296\n",
      "Valid Error: \n",
      " Accuracy: 53.8%, Avg loss: 0.693146\n",
      "\n",
      "Train loss: 0.693146  [    0/  207] training time ratio: 0.8484194093924808\n",
      "Valid Error: \n",
      " Accuracy: 57.7%, Avg loss: 0.693146\n",
      "\n"
     ]
    },
    {
     "name": "stdout",
     "output_type": "stream",
     "text": [
      "Training time: 0.186095\n",
      "Training time: 0.154432\n"
     ]
    },
    {
     "name": "stderr",
     "output_type": "stream",
     "text": [
      "Train loss: 0.693146  [    0/  207] training time ratio: 0.8556596904141123\n",
      "Valid Error: \n",
      " Accuracy: 55.8%, Avg loss: 0.693146\n",
      "\n",
      "Train loss: 0.693145  [    0/  207] training time ratio: 0.8555152637399378\n",
      "Valid Error: \n",
      " Accuracy: 55.8%, Avg loss: 0.693146\n",
      "\n"
     ]
    },
    {
     "name": "stdout",
     "output_type": "stream",
     "text": [
      "Training time: 0.168558\n",
      "Training time: 0.159085\n"
     ]
    },
    {
     "name": "stderr",
     "output_type": "stream",
     "text": [
      "Train loss: 0.693145  [    0/  207] training time ratio: 0.8427464008859358\n",
      "Valid Error: \n",
      " Accuracy: 53.8%, Avg loss: 0.693146\n",
      "\n",
      "Train loss: 0.693143  [    0/  207] training time ratio: 0.810356811862836\n"
     ]
    },
    {
     "name": "stdout",
     "output_type": "stream",
     "text": [
      "Training time: 0.176539\n",
      "Training time: 0.169661\n"
     ]
    },
    {
     "name": "stderr",
     "output_type": "stream",
     "text": [
      "Valid Error: \n",
      " Accuracy: 48.1%, Avg loss: 0.693150\n",
      "\n",
      "Train loss: 0.693150  [    0/  207] training time ratio: 0.8495479658463084\n",
      "Valid Error: \n",
      " Accuracy: 48.1%, Avg loss: 0.693161\n",
      "\n",
      "Train loss: 0.693139  [    0/  207] training time ratio: 0.8532621435082693\n",
      "Valid Error: \n",
      " Accuracy: 48.1%, Avg loss: 0.693183\n",
      "\n"
     ]
    },
    {
     "name": "stdout",
     "output_type": "stream",
     "text": [
      "Training time: 0.154017\n",
      "Training time: 0.161604\n"
     ]
    },
    {
     "name": "stderr",
     "output_type": "stream",
     "text": [
      "Train loss: 0.693100  [    0/  207] training time ratio: 0.8451202097525574\n",
      "Valid Error: \n",
      " Accuracy: 53.8%, Avg loss: 0.693175\n",
      "\n",
      "Train loss: 0.693182  [    0/  207] training time ratio: 0.8436174410575121\n",
      "Valid Error: \n",
      " Accuracy: 50.0%, Avg loss: 0.693159\n",
      "\n"
     ]
    },
    {
     "name": "stdout",
     "output_type": "stream",
     "text": [
      "Training time: 0.161986\n",
      "Training time: 0.15775\n"
     ]
    },
    {
     "name": "stderr",
     "output_type": "stream",
     "text": [
      "Train loss: 0.693073  [    0/  207] training time ratio: 0.8628024216753758\n",
      "Valid Error: \n",
      " Accuracy: 48.1%, Avg loss: 0.693149\n",
      "\n",
      "Train loss: 0.693147  [    0/  207] training time ratio: 0.8586679970067349\n",
      "Valid Error: \n",
      " Accuracy: 50.0%, Avg loss: 0.693147\n",
      "\n"
     ]
    },
    {
     "name": "stdout",
     "output_type": "stream",
     "text": [
      "Training time: 0.180726\n",
      "Training time: 0.165678\n"
     ]
    },
    {
     "name": "stderr",
     "output_type": "stream",
     "text": [
      "Train loss: 0.693144  [    0/  207] training time ratio: 0.867576389518542\n",
      "Valid Error: \n",
      " Accuracy: 48.1%, Avg loss: 0.693147\n",
      "\n",
      "Train loss: 0.693146  [    0/  207] training time ratio: 0.8426057002642506\n"
     ]
    },
    {
     "name": "stdout",
     "output_type": "stream",
     "text": [
      "Training time: 0.174837\n",
      "Training time: 0.165577\n"
     ]
    },
    {
     "name": "stderr",
     "output_type": "stream",
     "text": [
      "Valid Error: \n",
      " Accuracy: 44.2%, Avg loss: 0.693146\n",
      "\n",
      "Train loss: 0.693142  [    0/  207] training time ratio: 0.8722547980180453\n",
      "Valid Error: \n",
      " Accuracy: 48.1%, Avg loss: 0.693138\n",
      "\n",
      "Train loss: 0.693138  [    0/  207] training time ratio: 0.8494461608017482\n",
      "Valid Error: \n",
      " Accuracy: 48.1%, Avg loss: 0.693134\n",
      "\n"
     ]
    },
    {
     "name": "stdout",
     "output_type": "stream",
     "text": [
      "Training time: 0.172874\n",
      "Training time: 0.160597\n"
     ]
    },
    {
     "name": "stderr",
     "output_type": "stream",
     "text": [
      "Train loss: 0.693114  [    0/  207] training time ratio: 0.8398109750216993\n",
      "Valid Error: \n",
      " Accuracy: 50.0%, Avg loss: 0.693139\n",
      "\n",
      "Train loss: 0.693142  [    0/  207] training time ratio: 0.8522752746021072\n",
      "Valid Error: \n",
      " Accuracy: 53.8%, Avg loss: 0.693122\n",
      "\n"
     ]
    },
    {
     "name": "stdout",
     "output_type": "stream",
     "text": [
      "Training time: 0.165959\n",
      "Training time: 0.161889\n"
     ]
    },
    {
     "name": "stderr",
     "output_type": "stream",
     "text": [
      "Train loss: 0.693139  [    0/  207] training time ratio: 0.8584720190197512\n",
      "Valid Error: \n",
      " Accuracy: 59.6%, Avg loss: 0.693049\n",
      "\n",
      "Train loss: 0.693074  [    0/  207] training time ratio: 0.8568966391240432\n",
      "Valid Error: \n",
      " Accuracy: 48.1%, Avg loss: 0.693149\n",
      "\n"
     ]
    },
    {
     "name": "stdout",
     "output_type": "stream",
     "text": [
      "Training time: 0.168937\n",
      "Training time: 0.152858\n"
     ]
    },
    {
     "name": "stderr",
     "output_type": "stream",
     "text": [
      "Train loss: 0.693155  [    0/  207] training time ratio: 0.7833673336516342\n",
      "Valid Error: \n",
      " Accuracy: 48.1%, Avg loss: 0.693151\n",
      "\n",
      "Train loss: 0.693135  [    0/  207] training time ratio: 0.8459501438647417\n",
      "Valid Error: \n",
      " Accuracy: 48.1%, Avg loss: 0.693155\n",
      "\n"
     ]
    },
    {
     "name": "stdout",
     "output_type": "stream",
     "text": [
      "Training time: 0.162848\n",
      "Training time: 0.152467\n"
     ]
    },
    {
     "name": "stderr",
     "output_type": "stream",
     "text": [
      "Train loss: 0.693175  [    0/  207] training time ratio: 0.85854389429953\n",
      "Valid Error: \n",
      " Accuracy: 46.2%, Avg loss: 0.693173\n",
      "\n",
      "Train loss: 0.693121  [    0/  207] training time ratio: 0.839891352224343\n",
      "Valid Error: \n",
      " Accuracy: 48.1%, Avg loss: 0.693174\n",
      "\n"
     ]
    },
    {
     "name": "stdout",
     "output_type": "stream",
     "text": [
      "Training time: 0.165701\n",
      "Training time: 0.157487\n"
     ]
    },
    {
     "name": "stderr",
     "output_type": "stream",
     "text": [
      "Train loss: 0.693158  [    0/  207] training time ratio: 0.8671136564697118\n",
      "Valid Error: \n",
      " Accuracy: 51.9%, Avg loss: 0.693146\n",
      "\n",
      "Train loss: 0.693199  [    0/  207] training time ratio: 0.8463938618925831\n",
      "Valid Error: \n",
      " Accuracy: 53.8%, Avg loss: 0.693073\n",
      "\n"
     ]
    },
    {
     "name": "stdout",
     "output_type": "stream",
     "text": [
      "Training time: 0.159953\n",
      "Training time: 0.157947\n"
     ]
    },
    {
     "name": "stderr",
     "output_type": "stream",
     "text": [
      "Train loss: 0.693018  [    0/  207] training time ratio: 0.8635295809761242\n",
      "Valid Error: \n",
      " Accuracy: 61.5%, Avg loss: 0.692824\n",
      "\n",
      "Train loss: 0.692793  [    0/  207] training time ratio: 0.863935607283929\n",
      "Valid Error: \n",
      " Accuracy: 59.6%, Avg loss: 0.692968\n",
      "\n"
     ]
    },
    {
     "name": "stdout",
     "output_type": "stream",
     "text": [
      "Training time: 0.177008\n",
      "Training time: 0.157945\n"
     ]
    },
    {
     "name": "stderr",
     "output_type": "stream",
     "text": [
      "Train loss: 0.693153  [    0/  207] training time ratio: 0.8481344097752564\n",
      "Valid Error: \n",
      " Accuracy: 63.5%, Avg loss: 0.693133\n",
      "\n",
      "Train loss: 0.693138  [    0/  207] training time ratio: 0.8510258697591435\n",
      "Valid Error: \n",
      " Accuracy: 61.5%, Avg loss: 0.693146\n",
      "\n"
     ]
    },
    {
     "name": "stdout",
     "output_type": "stream",
     "text": [
      "Training time: 0.158361\n",
      "Training time: 0.152944\n"
     ]
    },
    {
     "name": "stderr",
     "output_type": "stream",
     "text": [
      "Train loss: 0.693147  [    0/  207] training time ratio: 0.8546101042026767\n",
      "Valid Error: \n",
      " Accuracy: 55.8%, Avg loss: 0.693147\n",
      "\n",
      "Train loss: 0.693147  [    0/  207] training time ratio: 0.8525332505304558\n",
      "Valid Error: \n",
      " Accuracy: 53.8%, Avg loss: 0.693147\n",
      "\n"
     ]
    },
    {
     "name": "stdout",
     "output_type": "stream",
     "text": [
      "Training time: 0.157231\n",
      "Training time: 0.154821\n"
     ]
    },
    {
     "name": "stderr",
     "output_type": "stream",
     "text": [
      "Train loss: 0.693147  [    0/  207] training time ratio: 0.8598083126406907\n",
      "Valid Error: \n",
      " Accuracy: 53.8%, Avg loss: 0.693147\n",
      "\n",
      "Train loss: 0.693147  [    0/  207] training time ratio: 0.858096402731071\n"
     ]
    },
    {
     "name": "stdout",
     "output_type": "stream",
     "text": [
      "Training time: 0.160709\n",
      "Training time: 0.167309\n"
     ]
    },
    {
     "name": "stderr",
     "output_type": "stream",
     "text": [
      "Valid Error: \n",
      " Accuracy: 53.8%, Avg loss: 0.693147\n",
      "\n",
      "Train loss: 0.693146  [    0/  207] training time ratio: 0.8955480098094699\n",
      "Valid Error: \n",
      " Accuracy: 51.9%, Avg loss: 0.693147\n",
      "\n",
      "Train loss: 0.693146  [    0/  207] training time ratio: 0.8509794197867592\n",
      "Valid Error: \n",
      " Accuracy: 51.9%, Avg loss: 0.693147\n",
      "\n"
     ]
    },
    {
     "name": "stdout",
     "output_type": "stream",
     "text": [
      "Training time: 0.178229\n",
      "Training time: 0.160801\n"
     ]
    },
    {
     "name": "stderr",
     "output_type": "stream",
     "text": [
      "Train loss: 0.693147  [    0/  207] training time ratio: 0.8668178382464097\n",
      "Valid Error: \n",
      " Accuracy: 51.9%, Avg loss: 0.693147\n",
      "\n",
      "Train loss: 0.693147  [    0/  207] training time ratio: 0.8543919185541788\n",
      "Valid Error: \n",
      " Accuracy: 50.0%, Avg loss: 0.693147\n",
      "\n"
     ]
    },
    {
     "name": "stdout",
     "output_type": "stream",
     "text": [
      "Training time: 0.169783\n",
      "Training time: 0.154541\n"
     ]
    },
    {
     "name": "stderr",
     "output_type": "stream",
     "text": [
      "Train loss: 0.693147  [    0/  207] training time ratio: 0.8606504028547703\n",
      "Valid Error: \n",
      " Accuracy: 53.8%, Avg loss: 0.693147\n",
      "\n",
      "Train loss: 0.693147  [    0/  207] training time ratio: 0.8415271460369689\n",
      "Valid Error: \n",
      " Accuracy: 53.8%, Avg loss: 0.693147\n",
      "\n"
     ]
    },
    {
     "name": "stdout",
     "output_type": "stream",
     "text": [
      "Training time: 0.16355\n",
      "Training time: 0.160151\n"
     ]
    },
    {
     "name": "stderr",
     "output_type": "stream",
     "text": [
      "Valid Error: \n",
      " Accuracy: 65.5%, Avg loss: 0.693128\n",
      "\n",
      "Test Error 25: \n",
      " Accuracy: 65.5%, Avg loss: 0.693128\n",
      "[2024-01-24 20:54:05] INFO (torcheeg/MainThread) Read the split of train and test set from ./examples_vanilla_torch/split26. If you want to use the same setting for the experiment, please set split_path to ./examples_vanilla_torch/split26 for the next run.\n",
      "Train loss: 0.693110  [    0/  207] training time ratio: 0.8569635832709896\n",
      "Valid Error: \n",
      " Accuracy: 59.6%, Avg loss: 0.693074\n",
      "\n",
      "Train loss: 0.692727  [    0/  207] training time ratio: 0.852594874734303\n"
     ]
    },
    {
     "name": "stdout",
     "output_type": "stream",
     "text": [
      "Training time: 0.170406\n",
      "Training time: 0.170238\n"
     ]
    },
    {
     "name": "stderr",
     "output_type": "stream",
     "text": [
      "Valid Error: \n",
      " Accuracy: 59.6%, Avg loss: 0.692728\n",
      "\n",
      "Train loss: 0.692640  [    0/  207] training time ratio: 0.9040550832310107\n",
      "Valid Error: \n",
      " Accuracy: 59.6%, Avg loss: 0.691024\n",
      "\n",
      "Train loss: 0.691419  [    0/  207] training time ratio: 0.8519643738152736\n",
      "Valid Error: \n",
      " Accuracy: 53.8%, Avg loss: 0.692311\n",
      "\n"
     ]
    },
    {
     "name": "stdout",
     "output_type": "stream",
     "text": [
      "Training time: 0.181531\n",
      "Training time: 0.151732\n"
     ]
    },
    {
     "name": "stderr",
     "output_type": "stream",
     "text": [
      "Train loss: 0.692322  [    0/  207] training time ratio: 0.8606510847298665\n",
      "Valid Error: \n",
      " Accuracy: 55.8%, Avg loss: 0.692516\n",
      "\n",
      "Train loss: 0.692999  [    0/  207] training time ratio: 0.863023508494666\n",
      "Valid Error: \n",
      " Accuracy: 57.7%, Avg loss: 0.692769\n",
      "\n"
     ]
    },
    {
     "name": "stdout",
     "output_type": "stream",
     "text": [
      "Training time: 0.155935\n",
      "Training time: 0.15884\n"
     ]
    },
    {
     "name": "stderr",
     "output_type": "stream",
     "text": [
      "Train loss: 0.692880  [    0/  207] training time ratio: 0.8563716471385687\n",
      "Valid Error: \n",
      " Accuracy: 51.9%, Avg loss: 0.693109\n",
      "\n",
      "Train loss: 0.693003  [    0/  207] training time ratio: 0.8543673315592397\n",
      "Valid Error: \n",
      " Accuracy: 44.2%, Avg loss: 0.693741\n",
      "\n"
     ]
    },
    {
     "name": "stdout",
     "output_type": "stream",
     "text": [
      "Training time: 0.163539\n",
      "Training time: 0.161611\n"
     ]
    },
    {
     "name": "stderr",
     "output_type": "stream",
     "text": [
      "Train loss: 0.693033  [    0/  207] training time ratio: 0.8551133028061524\n",
      "Valid Error: \n",
      " Accuracy: 51.9%, Avg loss: 0.693570\n",
      "\n",
      "Train loss: 0.691063  [    0/  207] training time ratio: 0.839013464328438\n",
      "Valid Error: \n",
      " Accuracy: 61.5%, Avg loss: 0.691183\n",
      "\n"
     ]
    },
    {
     "name": "stdout",
     "output_type": "stream",
     "text": [
      "Training time: 0.158413\n",
      "Training time: 0.149604\n"
     ]
    },
    {
     "name": "stderr",
     "output_type": "stream",
     "text": [
      "Train loss: 0.691548  [    0/  207] training time ratio: 0.8595245069322397\n",
      "Valid Error: \n",
      " Accuracy: 50.0%, Avg loss: 0.692342\n",
      "\n",
      "Train loss: 0.692315  [    0/  207] training time ratio: 0.8415772745331743\n"
     ]
    },
    {
     "name": "stdout",
     "output_type": "stream",
     "text": [
      "Training time: 0.171145\n",
      "Training time: 0.161549\n"
     ]
    },
    {
     "name": "stderr",
     "output_type": "stream",
     "text": [
      "Valid Error: \n",
      " Accuracy: 55.8%, Avg loss: 0.692865\n",
      "\n",
      "Train loss: 0.692909  [    0/  207] training time ratio: 0.8623315264390121\n",
      "Valid Error: \n",
      " Accuracy: 57.7%, Avg loss: 0.693026\n",
      "\n",
      "Train loss: 0.693039  [    0/  207] training time ratio: 0.8544940446401761\n"
     ]
    },
    {
     "name": "stdout",
     "output_type": "stream",
     "text": [
      "Training time: 0.164759\n",
      "Training time: 0.168283\n"
     ]
    },
    {
     "name": "stderr",
     "output_type": "stream",
     "text": [
      "Valid Error: \n",
      " Accuracy: 63.5%, Avg loss: 0.693131\n",
      "\n",
      "Train loss: 0.693139  [    0/  207] training time ratio: 0.8244625419738315\n",
      "Valid Error: \n",
      " Accuracy: 61.5%, Avg loss: 0.693135\n",
      "\n",
      "Train loss: 0.693117  [    0/  207] training time ratio: 0.8689254283449523\n"
     ]
    },
    {
     "name": "stdout",
     "output_type": "stream",
     "text": [
      "Training time: 0.189009\n"
     ]
    },
    {
     "name": "stderr",
     "output_type": "stream",
     "text": [
      "Valid Error: \n",
      " Accuracy: 57.7%, Avg loss: 0.693130\n",
      "\n",
      "Train loss: 0.693121  [    0/  207] training time ratio: 0.8670200967126569\n"
     ]
    },
    {
     "name": "stdout",
     "output_type": "stream",
     "text": [
      "Training time: 0.217477\n",
      "Training time: 0.16999\n"
     ]
    },
    {
     "name": "stderr",
     "output_type": "stream",
     "text": [
      "Valid Error: \n",
      " Accuracy: 57.7%, Avg loss: 0.693126\n",
      "\n",
      "Train loss: 0.693142  [    0/  207] training time ratio: 0.8246197614618667\n",
      "Valid Error: \n",
      " Accuracy: 55.8%, Avg loss: 0.693135\n",
      "\n",
      "Train loss: 0.693131  [    0/  207] training time ratio: 0.8489289740698985\n",
      "Valid Error: \n",
      " Accuracy: 57.7%, Avg loss: 0.693141\n",
      "\n"
     ]
    },
    {
     "name": "stdout",
     "output_type": "stream",
     "text": [
      "Training time: 0.173934\n",
      "Training time: 0.154192\n"
     ]
    },
    {
     "name": "stderr",
     "output_type": "stream",
     "text": [
      "Train loss: 0.693137  [    0/  207] training time ratio: 0.8625480200053154\n",
      "Valid Error: \n",
      " Accuracy: 55.8%, Avg loss: 0.693143\n",
      "\n",
      "Train loss: 0.693141  [    0/  207] training time ratio: 0.8503582823369423\n",
      "Valid Error: \n",
      " Accuracy: 55.8%, Avg loss: 0.693142\n",
      "\n"
     ]
    },
    {
     "name": "stdout",
     "output_type": "stream",
     "text": [
      "Training time: 0.160845\n",
      "Training time: 0.151425\n"
     ]
    },
    {
     "name": "stderr",
     "output_type": "stream",
     "text": [
      "Train loss: 0.693121  [    0/  207] training time ratio: 0.8655396016674386\n",
      "Valid Error: \n",
      " Accuracy: 55.8%, Avg loss: 0.693138\n",
      "\n",
      "Train loss: 0.693090  [    0/  207] training time ratio: 0.8589376239806039\n",
      "Valid Error: \n",
      " Accuracy: 57.7%, Avg loss: 0.693128\n",
      "\n"
     ]
    },
    {
     "name": "stdout",
     "output_type": "stream",
     "text": [
      "Training time: 0.174167\n",
      "Training time: 0.154465\n"
     ]
    },
    {
     "name": "stderr",
     "output_type": "stream",
     "text": [
      "Train loss: 0.693107  [    0/  207] training time ratio: 0.872678520407042\n",
      "Valid Error: \n",
      " Accuracy: 55.8%, Avg loss: 0.693114\n",
      "\n",
      "Train loss: 0.693066  [    0/  207] training time ratio: 0.8470093335086105\n",
      "Valid Error: \n",
      " Accuracy: 55.8%, Avg loss: 0.693107\n",
      "\n"
     ]
    },
    {
     "name": "stdout",
     "output_type": "stream",
     "text": [
      "Training time: 0.157631\n",
      "Training time: 0.153734\n"
     ]
    },
    {
     "name": "stderr",
     "output_type": "stream",
     "text": [
      "Train loss: 0.693026  [    0/  207] training time ratio: 0.8659482024194922\n",
      "Valid Error: \n",
      " Accuracy: 57.7%, Avg loss: 0.693082\n",
      "\n",
      "Train loss: 0.692962  [    0/  207] training time ratio: 0.8470210148384343\n",
      "Valid Error: \n",
      " Accuracy: 61.5%, Avg loss: 0.693060\n",
      "\n"
     ]
    },
    {
     "name": "stdout",
     "output_type": "stream",
     "text": [
      "Training time: 0.172292\n",
      "Training time: 0.156654\n"
     ]
    },
    {
     "name": "stderr",
     "output_type": "stream",
     "text": [
      "Train loss: 0.692961  [    0/  207] training time ratio: 0.8576101068610806\n",
      "Valid Error: \n",
      " Accuracy: 55.8%, Avg loss: 0.693087\n",
      "\n",
      "Train loss: 0.692936  [    0/  207] training time ratio: 0.8480287306239932\n",
      "Valid Error: \n",
      " Accuracy: 57.7%, Avg loss: 0.693038\n",
      "\n"
     ]
    },
    {
     "name": "stdout",
     "output_type": "stream",
     "text": [
      "Training time: 0.15025\n",
      "Training time: 0.146701\n"
     ]
    },
    {
     "name": "stderr",
     "output_type": "stream",
     "text": [
      "Train loss: 0.692779  [    0/  207] training time ratio: 0.8430579379912441\n",
      "Valid Error: \n",
      " Accuracy: 53.8%, Avg loss: 0.692929\n",
      "\n",
      "Train loss: 0.692510  [    0/  207] training time ratio: 0.8485943775100402\n",
      "Valid Error: \n",
      " Accuracy: 55.8%, Avg loss: 0.692865\n",
      "\n"
     ]
    },
    {
     "name": "stdout",
     "output_type": "stream",
     "text": [
      "Training time: 0.151396\n",
      "Training time: 0.145524\n"
     ]
    },
    {
     "name": "stderr",
     "output_type": "stream",
     "text": [
      "Train loss: 0.692269  [    0/  207] training time ratio: 0.8474254412659769\n",
      "Valid Error: \n",
      " Accuracy: 46.2%, Avg loss: 0.693053\n",
      "\n",
      "Train loss: 0.692840  [    0/  207] training time ratio: 0.852574041468478\n",
      "Valid Error: \n",
      " Accuracy: 55.8%, Avg loss: 0.693069\n",
      "\n"
     ]
    },
    {
     "name": "stdout",
     "output_type": "stream",
     "text": [
      "Training time: 0.154031\n",
      "Training time: 0.147788\n"
     ]
    },
    {
     "name": "stderr",
     "output_type": "stream",
     "text": [
      "Train loss: 0.692564  [    0/  207] training time ratio: 0.8549911245692806\n",
      "Valid Error: \n",
      " Accuracy: 55.8%, Avg loss: 0.692858\n",
      "\n",
      "Train loss: 0.692614  [    0/  207] training time ratio: 0.8477863743821191\n",
      "Valid Error: \n",
      " Accuracy: 57.7%, Avg loss: 0.693113\n",
      "\n"
     ]
    },
    {
     "name": "stdout",
     "output_type": "stream",
     "text": [
      "Training time: 0.148774\n",
      "Training time: 0.145626\n"
     ]
    },
    {
     "name": "stderr",
     "output_type": "stream",
     "text": [
      "Train loss: 0.693026  [    0/  207] training time ratio: 0.8508473689716498\n",
      "Valid Error: \n",
      " Accuracy: 53.8%, Avg loss: 0.693141\n",
      "\n",
      "Train loss: 0.693137  [    0/  207] training time ratio: 0.8458437474804483\n",
      "Valid Error: \n",
      " Accuracy: 48.1%, Avg loss: 0.693143\n",
      "\n"
     ]
    },
    {
     "name": "stdout",
     "output_type": "stream",
     "text": [
      "Training time: 0.150547\n",
      "Training time: 0.146266\n"
     ]
    },
    {
     "name": "stderr",
     "output_type": "stream",
     "text": [
      "Train loss: 0.693138  [    0/  207] training time ratio: 0.8555850434874005\n",
      "Valid Error: \n",
      " Accuracy: 50.0%, Avg loss: 0.693142\n",
      "\n",
      "Train loss: 0.693138  [    0/  207] training time ratio: 0.8480570892801333\n",
      "Valid Error: \n",
      " Accuracy: 50.0%, Avg loss: 0.693141\n",
      "\n"
     ]
    },
    {
     "name": "stdout",
     "output_type": "stream",
     "text": [
      "Training time: 0.158879\n",
      "Training time: 0.148912\n"
     ]
    },
    {
     "name": "stderr",
     "output_type": "stream",
     "text": [
      "Train loss: 0.693137  [    0/  207] training time ratio: 0.8510808234354469\n",
      "Valid Error: \n",
      " Accuracy: 50.0%, Avg loss: 0.693139\n",
      "\n",
      "Train loss: 0.693134  [    0/  207] training time ratio: 0.8511558810498058\n",
      "Valid Error: \n",
      " Accuracy: 50.0%, Avg loss: 0.693133\n",
      "\n"
     ]
    },
    {
     "name": "stdout",
     "output_type": "stream",
     "text": [
      "Training time: 0.164424\n",
      "Training time: 0.151473\n"
     ]
    },
    {
     "name": "stderr",
     "output_type": "stream",
     "text": [
      "Train loss: 0.693128  [    0/  207] training time ratio: 0.8614378501439636\n",
      "Valid Error: \n",
      " Accuracy: 50.0%, Avg loss: 0.693122\n",
      "\n",
      "Train loss: 0.693101  [    0/  207] training time ratio: 0.8528459418234366\n",
      "Valid Error: \n",
      " Accuracy: 50.0%, Avg loss: 0.693098\n",
      "\n"
     ]
    },
    {
     "name": "stdout",
     "output_type": "stream",
     "text": [
      "Training time: 0.15614\n",
      "Training time: 0.147127\n"
     ]
    },
    {
     "name": "stderr",
     "output_type": "stream",
     "text": [
      "Train loss: 0.693070  [    0/  207] training time ratio: 0.8556302390159085\n",
      "Valid Error: \n",
      " Accuracy: 48.1%, Avg loss: 0.693084\n",
      "\n",
      "Train loss: 0.692987  [    0/  207] training time ratio: 0.8511239005320881\n",
      "Valid Error: \n",
      " Accuracy: 48.1%, Avg loss: 0.693048\n",
      "\n"
     ]
    },
    {
     "name": "stdout",
     "output_type": "stream",
     "text": [
      "Training time: 0.15102\n",
      "Training time: 0.146908\n"
     ]
    },
    {
     "name": "stderr",
     "output_type": "stream",
     "text": [
      "Train loss: 0.692881  [    0/  207] training time ratio: 0.8516063366129916\n",
      "Valid Error: \n",
      " Accuracy: 48.1%, Avg loss: 0.693012\n",
      "\n",
      "Train loss: 0.692766  [    0/  207] training time ratio: 0.8429140127388535\n",
      "Valid Error: \n",
      " Accuracy: 53.8%, Avg loss: 0.692955\n",
      "\n"
     ]
    },
    {
     "name": "stdout",
     "output_type": "stream",
     "text": [
      "Training time: 0.149207\n",
      "Training time: 0.146746\n"
     ]
    },
    {
     "name": "stderr",
     "output_type": "stream",
     "text": [
      "Train loss: 0.692718  [    0/  207] training time ratio: 0.8517327897130312\n",
      "Valid Error: \n",
      " Accuracy: 55.8%, Avg loss: 0.692926\n",
      "\n",
      "Train loss: 0.692714  [    0/  207] training time ratio: 0.8492259066802378\n",
      "Valid Error: \n",
      " Accuracy: 55.8%, Avg loss: 0.693084\n",
      "\n"
     ]
    },
    {
     "name": "stdout",
     "output_type": "stream",
     "text": [
      "Training time: 0.149732\n",
      "Training time: 0.145927\n"
     ]
    },
    {
     "name": "stderr",
     "output_type": "stream",
     "text": [
      "Train loss: 0.692927  [    0/  207] training time ratio: 0.8497582255860402\n",
      "Valid Error: \n",
      " Accuracy: 51.9%, Avg loss: 0.693267\n",
      "\n",
      "Valid Error: \n",
      " Accuracy: 58.6%, Avg loss: 0.693104\n",
      "\n",
      "Test Error 26: \n",
      " Accuracy: 58.6%, Avg loss: 0.693104\n"
     ]
    },
    {
     "name": "stdout",
     "output_type": "stream",
     "text": [
      "Training time: 0.153099\n"
     ]
    },
    {
     "name": "stderr",
     "output_type": "stream",
     "text": [
      "[2024-01-24 20:54:14] INFO (torcheeg/MainThread) Read the split of train and test set from ./examples_vanilla_torch/split27. If you want to use the same setting for the experiment, please set split_path to ./examples_vanilla_torch/split27 for the next run.\n",
      "Train loss: 0.693144  [    0/  207] training time ratio: 0.8537772087067862\n",
      "Valid Error: \n",
      " Accuracy: 55.8%, Avg loss: 0.693067\n",
      "\n",
      "Train loss: 0.690971  [    0/  207] training time ratio: 0.8491300485918803\n",
      "Valid Error: \n",
      " Accuracy: 55.8%, Avg loss: 0.693128\n",
      "\n"
     ]
    },
    {
     "name": "stdout",
     "output_type": "stream",
     "text": [
      "Training time: 0.151065\n",
      "Training time: 0.14957\n"
     ]
    },
    {
     "name": "stderr",
     "output_type": "stream",
     "text": [
      "Train loss: 0.693112  [    0/  207] training time ratio: 0.8662986368368805\n",
      "Valid Error: \n",
      " Accuracy: 59.6%, Avg loss: 0.693144\n",
      "\n",
      "Train loss: 0.693143  [    0/  207] training time ratio: 0.8529959843573659\n",
      "Valid Error: \n",
      " Accuracy: 51.9%, Avg loss: 0.693145\n",
      "\n"
     ]
    },
    {
     "name": "stdout",
     "output_type": "stream",
     "text": [
      "Training time: 0.156248\n",
      "Training time: 0.148986\n"
     ]
    },
    {
     "name": "stderr",
     "output_type": "stream",
     "text": [
      "Train loss: 0.693144  [    0/  207] training time ratio: 0.8658032190210583\n",
      "Valid Error: \n",
      " Accuracy: 53.8%, Avg loss: 0.693145\n",
      "\n",
      "Train loss: 0.693145  [    0/  207] training time ratio: 0.8557804079044701\n",
      "Valid Error: \n",
      " Accuracy: 57.7%, Avg loss: 0.693144\n",
      "\n"
     ]
    },
    {
     "name": "stdout",
     "output_type": "stream",
     "text": [
      "Training time: 0.157619\n",
      "Training time: 0.150231\n"
     ]
    },
    {
     "name": "stderr",
     "output_type": "stream",
     "text": [
      "Train loss: 0.693142  [    0/  207] training time ratio: 0.8723067715458276\n",
      "Valid Error: \n",
      " Accuracy: 53.8%, Avg loss: 0.693142\n",
      "\n",
      "Train loss: 0.693140  [    0/  207] training time ratio: 0.8453073614975967\n",
      "Valid Error: \n",
      " Accuracy: 61.5%, Avg loss: 0.693132\n",
      "\n"
     ]
    },
    {
     "name": "stdout",
     "output_type": "stream",
     "text": [
      "Training time: 0.182737\n",
      "Training time: 0.161555\n"
     ]
    },
    {
     "name": "stderr",
     "output_type": "stream",
     "text": [
      "Train loss: 0.693118  [    0/  207] training time ratio: 0.8490906072893695\n",
      "Valid Error: \n",
      " Accuracy: 63.5%, Avg loss: 0.693069\n",
      "\n",
      "Train loss: 0.692949  [    0/  207] training time ratio: 0.8518601803962721\n",
      "Valid Error: \n",
      " Accuracy: 59.6%, Avg loss: 0.693134\n",
      "\n"
     ]
    },
    {
     "name": "stdout",
     "output_type": "stream",
     "text": [
      "Training time: 0.162919\n",
      "Training time: 0.1537\n"
     ]
    },
    {
     "name": "stderr",
     "output_type": "stream",
     "text": [
      "Train loss: 0.693094  [    0/  207] training time ratio: 0.8511966701352757\n",
      "Valid Error: \n",
      " Accuracy: 57.7%, Avg loss: 0.692772\n",
      "\n",
      "Train loss: 0.693192  [    0/  207] training time ratio: 0.8518004060262849\n",
      "Valid Error: \n",
      " Accuracy: 53.8%, Avg loss: 0.693081\n",
      "\n"
     ]
    },
    {
     "name": "stdout",
     "output_type": "stream",
     "text": [
      "Training time: 0.159418\n",
      "Training time: 0.15516\n"
     ]
    },
    {
     "name": "stderr",
     "output_type": "stream",
     "text": [
      "Train loss: 0.693157  [    0/  207] training time ratio: 0.8514212477685724\n",
      "Valid Error: \n",
      " Accuracy: 48.1%, Avg loss: 0.693147\n",
      "\n",
      "Train loss: 0.693148  [    0/  207] training time ratio: 0.8494198312236287\n",
      "Valid Error: \n",
      " Accuracy: 48.1%, Avg loss: 0.693147\n",
      "\n"
     ]
    },
    {
     "name": "stdout",
     "output_type": "stream",
     "text": [
      "Training time: 0.158883\n",
      "Training time: 0.150307\n"
     ]
    },
    {
     "name": "stderr",
     "output_type": "stream",
     "text": [
      "Train loss: 0.693147  [    0/  207] training time ratio: 0.8601754952894678\n",
      "Valid Error: \n",
      " Accuracy: 50.0%, Avg loss: 0.693146\n",
      "\n",
      "Train loss: 0.693146  [    0/  207] training time ratio: 0.8518992632843931\n",
      "Valid Error: \n",
      " Accuracy: 50.0%, Avg loss: 0.693146\n",
      "\n"
     ]
    },
    {
     "name": "stdout",
     "output_type": "stream",
     "text": [
      "Training time: 0.157659\n",
      "Training time: 0.148763\n"
     ]
    },
    {
     "name": "stderr",
     "output_type": "stream",
     "text": [
      "Train loss: 0.693147  [    0/  207] training time ratio: 0.8526511107722027\n",
      "Valid Error: \n",
      " Accuracy: 53.8%, Avg loss: 0.693145\n",
      "\n",
      "Train loss: 0.693146  [    0/  207] training time ratio: 0.8537899565544526\n",
      "Valid Error: \n",
      " Accuracy: 51.9%, Avg loss: 0.693144\n",
      "\n"
     ]
    },
    {
     "name": "stdout",
     "output_type": "stream",
     "text": [
      "Training time: 0.155902\n",
      "Training time: 0.162146\n"
     ]
    },
    {
     "name": "stderr",
     "output_type": "stream",
     "text": [
      "Train loss: 0.693142  [    0/  207] training time ratio: 0.842002736485703\n",
      "Valid Error: \n",
      " Accuracy: 61.5%, Avg loss: 0.693142\n",
      "\n",
      "Train loss: 0.693146  [    0/  207] training time ratio: 0.8480409026104911\n",
      "Valid Error: \n",
      " Accuracy: 61.5%, Avg loss: 0.693123\n",
      "\n"
     ]
    },
    {
     "name": "stdout",
     "output_type": "stream",
     "text": [
      "Training time: 0.16439\n",
      "Training time: 0.151956\n"
     ]
    },
    {
     "name": "stderr",
     "output_type": "stream",
     "text": [
      "Train loss: 0.693124  [    0/  207] training time ratio: 0.8619120258070969\n",
      "Valid Error: \n",
      " Accuracy: 61.5%, Avg loss: 0.693063\n",
      "\n",
      "Train loss: 0.693060  [    0/  207] training time ratio: 0.8545459174580543\n",
      "Valid Error: \n",
      " Accuracy: 59.6%, Avg loss: 0.692920\n",
      "\n"
     ]
    },
    {
     "name": "stdout",
     "output_type": "stream",
     "text": [
      "Training time: 0.152314\n",
      "Training time: 0.162438\n"
     ]
    },
    {
     "name": "stderr",
     "output_type": "stream",
     "text": [
      "Train loss: 0.693142  [    0/  207] training time ratio: 0.8327421981306744\n",
      "Valid Error: \n",
      " Accuracy: 57.7%, Avg loss: 0.691896\n",
      "\n",
      "Train loss: 0.691457  [    0/  207] training time ratio: 0.8635483870967741\n",
      "Valid Error: \n",
      " Accuracy: 53.8%, Avg loss: 0.693147\n",
      "\n"
     ]
    },
    {
     "name": "stdout",
     "output_type": "stream",
     "text": [
      "Training time: 0.172555\n",
      "Training time: 0.156201\n"
     ]
    },
    {
     "name": "stderr",
     "output_type": "stream",
     "text": [
      "Train loss: 0.693140  [    0/  207] training time ratio: 0.8571073435091733\n",
      "Valid Error: \n",
      " Accuracy: 51.9%, Avg loss: 0.693148\n",
      "\n",
      "Train loss: 0.693143  [    0/  207] training time ratio: 0.8558939379383227\n",
      "Valid Error: \n",
      " Accuracy: 44.2%, Avg loss: 0.693148\n",
      "\n"
     ]
    },
    {
     "name": "stdout",
     "output_type": "stream",
     "text": [
      "Training time: 0.162831\n",
      "Training time: 0.16285\n"
     ]
    },
    {
     "name": "stderr",
     "output_type": "stream",
     "text": [
      "Train loss: 0.693147  [    0/  207] training time ratio: 0.8668930462109549\n",
      "Valid Error: \n",
      " Accuracy: 44.2%, Avg loss: 0.693147\n",
      "\n",
      "Train loss: 0.693147  [    0/  207] training time ratio: 0.8484271714807479\n",
      "Valid Error: \n",
      " Accuracy: 55.8%, Avg loss: 0.693146\n",
      "\n"
     ]
    },
    {
     "name": "stdout",
     "output_type": "stream",
     "text": [
      "Training time: 0.167399\n",
      "Training time: 0.165335\n"
     ]
    },
    {
     "name": "stderr",
     "output_type": "stream",
     "text": [
      "Train loss: 0.693147  [    0/  207] training time ratio: 0.8585802363418393\n",
      "Valid Error: \n",
      " Accuracy: 55.8%, Avg loss: 0.693147\n",
      "\n",
      "Train loss: 0.693147  [    0/  207] training time ratio: 0.8524376445122251\n",
      "Valid Error: \n",
      " Accuracy: 55.8%, Avg loss: 0.693147\n",
      "\n"
     ]
    },
    {
     "name": "stdout",
     "output_type": "stream",
     "text": [
      "Training time: 0.171978\n",
      "Training time: 0.154978\n"
     ]
    },
    {
     "name": "stderr",
     "output_type": "stream",
     "text": [
      "Train loss: 0.693147  [    0/  207] training time ratio: 0.861088931031041\n",
      "Valid Error: \n",
      " Accuracy: 59.6%, Avg loss: 0.693147\n",
      "\n",
      "Train loss: 0.693147  [    0/  207] training time ratio: 0.8611978427476583\n"
     ]
    },
    {
     "name": "stdout",
     "output_type": "stream",
     "text": [
      "Training time: 0.168727\n",
      "Training time: 0.172675\n"
     ]
    },
    {
     "name": "stderr",
     "output_type": "stream",
     "text": [
      "Valid Error: \n",
      " Accuracy: 50.0%, Avg loss: 0.693147\n",
      "\n",
      "Train loss: 0.693147  [    0/  207] training time ratio: 0.8413834658953966\n",
      "Valid Error: \n",
      " Accuracy: 53.8%, Avg loss: 0.693147\n",
      "\n",
      "Train loss: 0.693147  [    0/  207] training time ratio: 0.8592439470620382\n",
      "Valid Error: \n",
      " Accuracy: 50.0%, Avg loss: 0.693147\n",
      "\n"
     ]
    },
    {
     "name": "stdout",
     "output_type": "stream",
     "text": [
      "Training time: 0.16781\n",
      "Training time: 0.16215\n"
     ]
    },
    {
     "name": "stderr",
     "output_type": "stream",
     "text": [
      "Train loss: 0.693146  [    0/  207] training time ratio: 0.856191594058959\n",
      "Valid Error: \n",
      " Accuracy: 50.0%, Avg loss: 0.693147\n",
      "\n",
      "Train loss: 0.693146  [    0/  207] training time ratio: 0.8507462686567164\n"
     ]
    },
    {
     "name": "stdout",
     "output_type": "stream",
     "text": [
      "Training time: 0.19704\n",
      "Training time: 0.166407\n"
     ]
    },
    {
     "name": "stderr",
     "output_type": "stream",
     "text": [
      "Valid Error: \n",
      " Accuracy: 51.9%, Avg loss: 0.693147\n",
      "\n",
      "Train loss: 0.693145  [    0/  207] training time ratio: 0.8479514349746513\n",
      "Valid Error: \n",
      " Accuracy: 51.9%, Avg loss: 0.693147\n",
      "\n",
      "Train loss: 0.693147  [    0/  207] training time ratio: 0.8526624757326431\n"
     ]
    },
    {
     "name": "stdout",
     "output_type": "stream",
     "text": [
      "Training time: 0.176296\n",
      "Training time: 0.165094\n"
     ]
    },
    {
     "name": "stderr",
     "output_type": "stream",
     "text": [
      "Valid Error: \n",
      " Accuracy: 53.8%, Avg loss: 0.693147\n",
      "\n",
      "Train loss: 0.693145  [    0/  207] training time ratio: 0.8508699778551092\n",
      "Valid Error: \n",
      " Accuracy: 51.9%, Avg loss: 0.693147\n",
      "\n",
      "Train loss: 0.693146  [    0/  207] training time ratio: 0.8537818012315694\n",
      "Valid Error: \n",
      " Accuracy: 51.9%, Avg loss: 0.693147\n",
      "\n"
     ]
    },
    {
     "name": "stdout",
     "output_type": "stream",
     "text": [
      "Training time: 0.202211\n",
      "Training time: 0.159885\n"
     ]
    },
    {
     "name": "stderr",
     "output_type": "stream",
     "text": [
      "Train loss: 0.693136  [    0/  207] training time ratio: 0.8574763757643136\n",
      "Valid Error: \n",
      " Accuracy: 53.8%, Avg loss: 0.692911\n",
      "\n",
      "Train loss: 0.693082  [    0/  207] training time ratio: 0.8505511731391586\n",
      "Valid Error: \n",
      " Accuracy: 46.2%, Avg loss: 0.693148\n",
      "\n"
     ]
    },
    {
     "name": "stdout",
     "output_type": "stream",
     "text": [
      "Training time: 0.179646\n",
      "Training time: 0.155579\n"
     ]
    },
    {
     "name": "stderr",
     "output_type": "stream",
     "text": [
      "Train loss: 0.693166  [    0/  207] training time ratio: 0.8539750732809739\n",
      "Valid Error: \n",
      " Accuracy: 46.2%, Avg loss: 0.693147\n",
      "\n",
      "Train loss: 0.693148  [    0/  207] training time ratio: 0.8403912079048196\n",
      "Valid Error: \n",
      " Accuracy: 50.0%, Avg loss: 0.693147\n",
      "\n"
     ]
    },
    {
     "name": "stdout",
     "output_type": "stream",
     "text": [
      "Training time: 0.167488\n",
      "Training time: 0.157933\n"
     ]
    },
    {
     "name": "stderr",
     "output_type": "stream",
     "text": [
      "Train loss: 0.693147  [    0/  207] training time ratio: 0.8614350912778904\n",
      "Valid Error: \n",
      " Accuracy: 51.9%, Avg loss: 0.693147\n",
      "\n",
      "Train loss: 0.693147  [    0/  207] training time ratio: 0.8571841363866214\n"
     ]
    },
    {
     "name": "stdout",
     "output_type": "stream",
     "text": [
      "Training time: 0.177467\n",
      "Training time: 0.175379\n"
     ]
    },
    {
     "name": "stderr",
     "output_type": "stream",
     "text": [
      "Valid Error: \n",
      " Accuracy: 50.0%, Avg loss: 0.693147\n",
      "\n",
      "Train loss: 0.693147  [    0/  207] training time ratio: 0.8399832199123707\n",
      "Valid Error: \n",
      " Accuracy: 50.0%, Avg loss: 0.693147\n",
      "\n",
      "Train loss: 0.693147  [    0/  207] training time ratio: 0.8487115956392468\n",
      "Valid Error: \n",
      " Accuracy: 50.0%, Avg loss: 0.693147\n",
      "\n"
     ]
    },
    {
     "name": "stdout",
     "output_type": "stream",
     "text": [
      "Training time: 0.16161\n",
      "Training time: 0.159729\n"
     ]
    },
    {
     "name": "stderr",
     "output_type": "stream",
     "text": [
      "Train loss: 0.693147  [    0/  207] training time ratio: 0.8564573968382241\n",
      "Valid Error: \n",
      " Accuracy: 50.0%, Avg loss: 0.693147\n",
      "\n",
      "Train loss: 0.693147  [    0/  207] training time ratio: 0.8556205949110023\n",
      "Valid Error: \n",
      " Accuracy: 50.0%, Avg loss: 0.693147\n",
      "\n"
     ]
    },
    {
     "name": "stdout",
     "output_type": "stream",
     "text": [
      "Training time: 0.155589\n",
      "Training time: 0.153749\n"
     ]
    },
    {
     "name": "stderr",
     "output_type": "stream",
     "text": [
      "Valid Error: \n",
      " Accuracy: 31.0%, Avg loss: 0.693484\n",
      "\n",
      "Test Error 27: \n",
      " Accuracy: 31.0%, Avg loss: 0.693484\n",
      "[2024-01-24 20:54:23] INFO (torcheeg/MainThread) Read the split of train and test set from ./examples_vanilla_torch/split28. If you want to use the same setting for the experiment, please set split_path to ./examples_vanilla_torch/split28 for the next run.\n",
      "Train loss: 0.693151  [    0/  208] training time ratio: 0.8523757346349238\n",
      "Valid Error: \n",
      " Accuracy: 51.9%, Avg loss: 0.692725\n",
      "\n",
      "Train loss: 0.692786  [    0/  208] training time ratio: 0.8393162817236847\n",
      "Valid Error: \n",
      " Accuracy: 55.8%, Avg loss: 0.693155\n",
      "\n"
     ]
    },
    {
     "name": "stdout",
     "output_type": "stream",
     "text": [
      "Training time: 0.157324\n",
      "Training time: 0.155913\n"
     ]
    },
    {
     "name": "stderr",
     "output_type": "stream",
     "text": [
      "Train loss: 0.692522  [    0/  208] training time ratio: 0.8602312138728323\n",
      "Valid Error: \n",
      " Accuracy: 55.8%, Avg loss: 0.692757\n",
      "\n",
      "Train loss: 0.692667  [    0/  208] training time ratio: 0.8483744024509416\n",
      "Valid Error: \n",
      " Accuracy: 53.8%, Avg loss: 0.692995\n",
      "\n"
     ]
    },
    {
     "name": "stdout",
     "output_type": "stream",
     "text": [
      "Training time: 0.158093\n",
      "Training time: 0.148836\n"
     ]
    },
    {
     "name": "stderr",
     "output_type": "stream",
     "text": [
      "Train loss: 0.693093  [    0/  208] training time ratio: 0.8516996448503299\n",
      "Valid Error: \n",
      " Accuracy: 59.6%, Avg loss: 0.693050\n",
      "\n",
      "Train loss: 0.693033  [    0/  208] training time ratio: 0.8581910316978542\n",
      "Valid Error: \n",
      " Accuracy: 63.5%, Avg loss: 0.692812\n",
      "\n"
     ]
    },
    {
     "name": "stdout",
     "output_type": "stream",
     "text": [
      "Training time: 0.155803\n",
      "Training time: 0.148758\n"
     ]
    },
    {
     "name": "stderr",
     "output_type": "stream",
     "text": [
      "Train loss: 0.692966  [    0/  208] training time ratio: 0.8668157837154457\n",
      "Valid Error: \n",
      " Accuracy: 65.4%, Avg loss: 0.691743\n",
      "\n",
      "Train loss: 0.692294  [    0/  208] training time ratio: 0.8519299890607906\n",
      "Valid Error: \n",
      " Accuracy: 50.0%, Avg loss: 0.694375\n",
      "\n"
     ]
    },
    {
     "name": "stdout",
     "output_type": "stream",
     "text": [
      "Training time: 0.158321\n",
      "Training time: 0.149652\n"
     ]
    },
    {
     "name": "stderr",
     "output_type": "stream",
     "text": [
      "Train loss: 0.692808  [    0/  208] training time ratio: 0.8620346406529962\n",
      "Valid Error: \n",
      " Accuracy: 55.8%, Avg loss: 0.691583\n",
      "\n",
      "Train loss: 0.692525  [    0/  208] training time ratio: 0.8625498520519748\n",
      "Valid Error: \n",
      " Accuracy: 61.5%, Avg loss: 0.692201\n",
      "\n"
     ]
    },
    {
     "name": "stdout",
     "output_type": "stream",
     "text": [
      "Training time: 0.167341\n",
      "Training time: 0.150469\n"
     ]
    },
    {
     "name": "stderr",
     "output_type": "stream",
     "text": [
      "Train loss: 0.692490  [    0/  208] training time ratio: 0.8706388177525081\n",
      "Valid Error: \n",
      " Accuracy: 51.9%, Avg loss: 0.693109\n",
      "\n",
      "Train loss: 0.693124  [    0/  208] training time ratio: 0.8461376274938723\n",
      "Valid Error: \n",
      " Accuracy: 53.8%, Avg loss: 0.693957\n",
      "\n"
     ]
    },
    {
     "name": "stdout",
     "output_type": "stream",
     "text": [
      "Training time: 0.158277\n",
      "Training time: 0.149321\n"
     ]
    },
    {
     "name": "stderr",
     "output_type": "stream",
     "text": [
      "Train loss: 0.694209  [    0/  208] training time ratio: 0.865046045503792\n",
      "Valid Error: \n",
      " Accuracy: 59.6%, Avg loss: 0.692949\n",
      "\n",
      "Train loss: 0.693998  [    0/  208] training time ratio: 0.8581023680577679\n",
      "Valid Error: \n",
      " Accuracy: 42.3%, Avg loss: 0.693146\n",
      "\n"
     ]
    },
    {
     "name": "stdout",
     "output_type": "stream",
     "text": [
      "Training time: 0.159692\n",
      "Training time: 0.148681\n"
     ]
    },
    {
     "name": "stderr",
     "output_type": "stream",
     "text": [
      "Train loss: 0.693138  [    0/  208] training time ratio: 0.8610437036164448\n",
      "Valid Error: \n",
      " Accuracy: 57.7%, Avg loss: 0.692050\n",
      "\n",
      "Train loss: 0.693171  [    0/  208] training time ratio: 0.8527488622691844\n",
      "Valid Error: \n",
      " Accuracy: 51.9%, Avg loss: 0.693146\n",
      "\n"
     ]
    },
    {
     "name": "stdout",
     "output_type": "stream",
     "text": [
      "Training time: 0.160793\n",
      "Training time: 0.148699\n"
     ]
    },
    {
     "name": "stderr",
     "output_type": "stream",
     "text": [
      "Train loss: 0.693138  [    0/  208] training time ratio: 0.8586250688903265\n",
      "Valid Error: \n",
      " Accuracy: 46.2%, Avg loss: 0.693170\n",
      "\n",
      "Train loss: 0.693138  [    0/  208] training time ratio: 0.8538656929671377\n",
      "Valid Error: \n",
      " Accuracy: 42.3%, Avg loss: 0.693148\n",
      "\n"
     ]
    },
    {
     "name": "stdout",
     "output_type": "stream",
     "text": [
      "Training time: 0.161471\n",
      "Training time: 0.150543\n"
     ]
    },
    {
     "name": "stderr",
     "output_type": "stream",
     "text": [
      "Train loss: 0.693147  [    0/  208] training time ratio: 0.8622262566662884\n",
      "Valid Error: \n",
      " Accuracy: 57.7%, Avg loss: 0.693114\n",
      "\n",
      "Train loss: 0.693134  [    0/  208] training time ratio: 0.8477916732626246\n",
      "Valid Error: \n",
      " Accuracy: 55.8%, Avg loss: 0.692954\n",
      "\n"
     ]
    },
    {
     "name": "stdout",
     "output_type": "stream",
     "text": [
      "Training time: 0.16294\n",
      "Training time: 0.148985\n"
     ]
    },
    {
     "name": "stderr",
     "output_type": "stream",
     "text": [
      "Train loss: 0.693185  [    0/  208] training time ratio: 0.8606705290151012\n",
      "Valid Error: \n",
      " Accuracy: 55.8%, Avg loss: 0.693147\n",
      "\n",
      "Train loss: 0.693147  [    0/  208] training time ratio: 0.8551009703645424\n",
      "Valid Error: \n",
      " Accuracy: 42.3%, Avg loss: 0.693148\n",
      "\n"
     ]
    },
    {
     "name": "stdout",
     "output_type": "stream",
     "text": [
      "Training time: 0.161224\n",
      "Training time: 0.148743\n"
     ]
    },
    {
     "name": "stderr",
     "output_type": "stream",
     "text": [
      "Train loss: 0.693147  [    0/  208] training time ratio: 0.8638362321672854\n",
      "Valid Error: \n",
      " Accuracy: 55.8%, Avg loss: 0.693174\n",
      "\n",
      "Train loss: 0.693137  [    0/  208] training time ratio: 0.8524873177339246\n",
      "Valid Error: \n",
      " Accuracy: 50.0%, Avg loss: 0.692881\n",
      "\n"
     ]
    },
    {
     "name": "stdout",
     "output_type": "stream",
     "text": [
      "Training time: 0.157289\n",
      "Training time: 0.148609\n"
     ]
    },
    {
     "name": "stderr",
     "output_type": "stream",
     "text": [
      "Train loss: 0.693568  [    0/  208] training time ratio: 0.8567856504988136\n",
      "Valid Error: \n",
      " Accuracy: 57.7%, Avg loss: 0.693134\n",
      "\n",
      "Train loss: 0.693128  [    0/  208] training time ratio: 0.8314590437495465\n",
      "Valid Error: \n",
      " Accuracy: 46.2%, Avg loss: 0.693148\n",
      "\n"
     ]
    },
    {
     "name": "stdout",
     "output_type": "stream",
     "text": [
      "Training time: 0.155502\n",
      "Training time: 0.151225\n"
     ]
    },
    {
     "name": "stderr",
     "output_type": "stream",
     "text": [
      "Train loss: 0.693147  [    0/  208] training time ratio: 0.8530736884261113\n",
      "Valid Error: \n",
      " Accuracy: 46.2%, Avg loss: 0.693173\n",
      "\n",
      "Train loss: 0.693140  [    0/  208] training time ratio: 0.8444374109827505\n",
      "Valid Error: \n",
      " Accuracy: 48.1%, Avg loss: 0.693162\n",
      "\n"
     ]
    },
    {
     "name": "stdout",
     "output_type": "stream",
     "text": [
      "Training time: 0.152221\n",
      "Training time: 0.148782\n"
     ]
    },
    {
     "name": "stderr",
     "output_type": "stream",
     "text": [
      "Train loss: 0.693127  [    0/  208] training time ratio: 0.853607188703466\n",
      "Valid Error: \n",
      " Accuracy: 46.2%, Avg loss: 0.693150\n",
      "\n",
      "Train loss: 0.693149  [    0/  208] training time ratio: 0.8497867719121659\n",
      "Valid Error: \n",
      " Accuracy: 50.0%, Avg loss: 0.693147\n",
      "\n"
     ]
    },
    {
     "name": "stdout",
     "output_type": "stream",
     "text": [
      "Training time: 0.157133\n",
      "Training time: 0.147934\n"
     ]
    },
    {
     "name": "stderr",
     "output_type": "stream",
     "text": [
      "Train loss: 0.693147  [    0/  208] training time ratio: 0.8577915376676986\n",
      "Valid Error: \n",
      " Accuracy: 57.7%, Avg loss: 0.693147\n",
      "\n",
      "Train loss: 0.693147  [    0/  208] training time ratio: 0.8511060541913632\n",
      "Valid Error: \n",
      " Accuracy: 51.9%, Avg loss: 0.693146\n",
      "\n"
     ]
    },
    {
     "name": "stdout",
     "output_type": "stream",
     "text": [
      "Training time: 0.153018\n",
      "Training time: 0.148387\n"
     ]
    },
    {
     "name": "stderr",
     "output_type": "stream",
     "text": [
      "Train loss: 0.693148  [    0/  208] training time ratio: 0.8551285595797623\n",
      "Valid Error: \n",
      " Accuracy: 53.8%, Avg loss: 0.693146\n",
      "\n",
      "Train loss: 0.693146  [    0/  208] training time ratio: 0.8500707213578501\n",
      "Valid Error: \n",
      " Accuracy: 51.9%, Avg loss: 0.693146\n",
      "\n"
     ]
    },
    {
     "name": "stdout",
     "output_type": "stream",
     "text": [
      "Training time: 0.152881\n",
      "Training time: 0.148618\n"
     ]
    },
    {
     "name": "stderr",
     "output_type": "stream",
     "text": [
      "Train loss: 0.693148  [    0/  208] training time ratio: 0.8466389747226585\n",
      "Valid Error: \n",
      " Accuracy: 51.9%, Avg loss: 0.693146\n",
      "\n",
      "Train loss: 0.693146  [    0/  208] training time ratio: 0.8551660026560425\n",
      "Valid Error: \n",
      " Accuracy: 51.9%, Avg loss: 0.693146\n",
      "\n"
     ]
    },
    {
     "name": "stdout",
     "output_type": "stream",
     "text": [
      "Training time: 0.153915\n",
      "Training time: 0.148526\n"
     ]
    },
    {
     "name": "stderr",
     "output_type": "stream",
     "text": [
      "Train loss: 0.693147  [    0/  208] training time ratio: 0.8522701200703596\n",
      "Valid Error: \n",
      " Accuracy: 51.9%, Avg loss: 0.693146\n",
      "\n",
      "Train loss: 0.693147  [    0/  208] training time ratio: 0.8527739762080219\n",
      "Valid Error: \n",
      " Accuracy: 51.9%, Avg loss: 0.693146\n",
      "\n"
     ]
    },
    {
     "name": "stdout",
     "output_type": "stream",
     "text": [
      "Training time: 0.153405\n",
      "Training time: 0.148528\n"
     ]
    },
    {
     "name": "stderr",
     "output_type": "stream",
     "text": [
      "Train loss: 0.693148  [    0/  208] training time ratio: 0.8520272269902338\n",
      "Valid Error: \n",
      " Accuracy: 51.9%, Avg loss: 0.693146\n",
      "\n",
      "Train loss: 0.693146  [    0/  208] training time ratio: 0.8583679765733261\n",
      "Valid Error: \n",
      " Accuracy: 51.9%, Avg loss: 0.693145\n",
      "\n"
     ]
    },
    {
     "name": "stdout",
     "output_type": "stream",
     "text": [
      "Training time: 0.160327\n",
      "Training time: 0.166355\n"
     ]
    },
    {
     "name": "stderr",
     "output_type": "stream",
     "text": [
      "Train loss: 0.693146  [    0/  208] training time ratio: 0.8801505174035748\n",
      "Valid Error: \n",
      " Accuracy: 51.9%, Avg loss: 0.693145\n",
      "\n",
      "Train loss: 0.693147  [    0/  208] training time ratio: 0.8563042906027902\n",
      "Valid Error: \n",
      " Accuracy: 51.9%, Avg loss: 0.693145\n",
      "\n"
     ]
    },
    {
     "name": "stdout",
     "output_type": "stream",
     "text": [
      "Training time: 0.163455\n",
      "Training time: 0.148847\n"
     ]
    },
    {
     "name": "stderr",
     "output_type": "stream",
     "text": [
      "Train loss: 0.693145  [    0/  208] training time ratio: 0.8567716791165962\n",
      "Valid Error: \n",
      " Accuracy: 51.9%, Avg loss: 0.693145\n",
      "\n",
      "Train loss: 0.693144  [    0/  208] training time ratio: 0.8449041031896395\n",
      "Valid Error: \n",
      " Accuracy: 50.0%, Avg loss: 0.693146\n",
      "\n"
     ]
    },
    {
     "name": "stdout",
     "output_type": "stream",
     "text": [
      "Training time: 0.156009\n",
      "Training time: 0.150517\n"
     ]
    },
    {
     "name": "stderr",
     "output_type": "stream",
     "text": [
      "Train loss: 0.693148  [    0/  208] training time ratio: 0.8541851742177475\n",
      "Valid Error: \n",
      " Accuracy: 51.9%, Avg loss: 0.693146\n",
      "\n",
      "Train loss: 0.693147  [    0/  208] training time ratio: 0.8497664969262025\n",
      "Valid Error: \n",
      " Accuracy: 51.9%, Avg loss: 0.693146\n",
      "\n"
     ]
    },
    {
     "name": "stdout",
     "output_type": "stream",
     "text": [
      "Training time: 0.157008\n",
      "Training time: 0.150032\n"
     ]
    },
    {
     "name": "stderr",
     "output_type": "stream",
     "text": [
      "Train loss: 0.693147  [    0/  208] training time ratio: 0.8535169699950811\n",
      "Valid Error: \n",
      " Accuracy: 51.9%, Avg loss: 0.693146\n",
      "\n",
      "Train loss: 0.693146  [    0/  208] training time ratio: 0.8533288273065225\n",
      "Valid Error: \n",
      " Accuracy: 51.9%, Avg loss: 0.693146\n",
      "\n"
     ]
    },
    {
     "name": "stdout",
     "output_type": "stream",
     "text": [
      "Training time: 0.157825\n",
      "Training time: 0.14942\n"
     ]
    },
    {
     "name": "stderr",
     "output_type": "stream",
     "text": [
      "Train loss: 0.693146  [    0/  208] training time ratio: 0.8584111788774801\n",
      "Valid Error: \n",
      " Accuracy: 50.0%, Avg loss: 0.693146\n",
      "\n",
      "Train loss: 0.693146  [    0/  208] training time ratio: 0.8415571337714649\n",
      "Valid Error: \n",
      " Accuracy: 53.8%, Avg loss: 0.693146\n",
      "\n",
      "Valid Error: \n",
      " Accuracy: 50.0%, Avg loss: 0.693179\n",
      "\n",
      "Test Error 28: \n",
      " Accuracy: 50.0%, Avg loss: 0.693179\n"
     ]
    },
    {
     "name": "stdout",
     "output_type": "stream",
     "text": [
      "Training time: 0.152999\n",
      "Training time: 0.148408\n"
     ]
    },
    {
     "name": "stderr",
     "output_type": "stream",
     "text": [
      "[2024-01-24 20:54:32] INFO (torcheeg/MainThread) Read the split of train and test set from ./examples_vanilla_torch/split29. If you want to use the same setting for the experiment, please set split_path to ./examples_vanilla_torch/split29 for the next run.\n",
      "Train loss: 0.693171  [    0/  208] training time ratio: 0.8514665584086065\n",
      "Valid Error: \n",
      " Accuracy: 46.2%, Avg loss: 0.693603\n",
      "\n",
      "Train loss: 0.692111  [    0/  208] training time ratio: 0.8458592628051699\n",
      "Valid Error: \n",
      " Accuracy: 42.3%, Avg loss: 0.693160\n",
      "\n"
     ]
    },
    {
     "name": "stdout",
     "output_type": "stream",
     "text": [
      "Training time: 0.150993\n",
      "Training time: 0.151114\n"
     ]
    },
    {
     "name": "stderr",
     "output_type": "stream",
     "text": [
      "Train loss: 0.692479  [    0/  208] training time ratio: 0.8560205074648121\n",
      "Valid Error: \n",
      " Accuracy: 51.9%, Avg loss: 0.693108\n",
      "\n",
      "Train loss: 0.693040  [    0/  208] training time ratio: 0.8575291884442364\n",
      "Valid Error: \n",
      " Accuracy: 51.9%, Avg loss: 0.693094\n",
      "\n"
     ]
    },
    {
     "name": "stdout",
     "output_type": "stream",
     "text": [
      "Training time: 0.166088\n",
      "Training time: 0.150259\n"
     ]
    },
    {
     "name": "stderr",
     "output_type": "stream",
     "text": [
      "Train loss: 0.692565  [    0/  208] training time ratio: 0.8655507692307692\n",
      "Valid Error: \n",
      " Accuracy: 55.8%, Avg loss: 0.693071\n",
      "\n",
      "Train loss: 0.692596  [    0/  208] training time ratio: 0.853491205763933\n",
      "Valid Error: \n",
      " Accuracy: 51.9%, Avg loss: 0.692507\n",
      "\n"
     ]
    },
    {
     "name": "stdout",
     "output_type": "stream",
     "text": [
      "Training time: 0.155661\n",
      "Training time: 0.148715\n"
     ]
    },
    {
     "name": "stderr",
     "output_type": "stream",
     "text": [
      "Train loss: 0.691395  [    0/  208] training time ratio: 0.8612154531207243\n",
      "Valid Error: \n",
      " Accuracy: 48.1%, Avg loss: 0.693156\n",
      "\n",
      "Train loss: 0.693250  [    0/  208] training time ratio: 0.8526310225440706\n",
      "Valid Error: \n",
      " Accuracy: 50.0%, Avg loss: 0.693341\n",
      "\n"
     ]
    },
    {
     "name": "stdout",
     "output_type": "stream",
     "text": [
      "Training time: 0.152239\n",
      "Training time: 0.147885\n"
     ]
    },
    {
     "name": "stderr",
     "output_type": "stream",
     "text": [
      "Train loss: 0.692885  [    0/  208] training time ratio: 0.8508035438343464\n",
      "Valid Error: \n",
      " Accuracy: 51.9%, Avg loss: 0.693145\n",
      "\n",
      "Train loss: 0.693144  [    0/  208] training time ratio: 0.8557417459942832\n",
      "Valid Error: \n",
      " Accuracy: 38.5%, Avg loss: 0.693154\n",
      "\n"
     ]
    },
    {
     "name": "stdout",
     "output_type": "stream",
     "text": [
      "Training time: 0.154833\n",
      "Training time: 0.148427\n"
     ]
    },
    {
     "name": "stderr",
     "output_type": "stream",
     "text": [
      "Train loss: 0.693133  [    0/  208] training time ratio: 0.8623485689463777\n",
      "Valid Error: \n",
      " Accuracy: 44.2%, Avg loss: 0.693147\n",
      "\n",
      "Train loss: 0.693147  [    0/  208] training time ratio: 0.8498782295637441\n",
      "Valid Error: \n",
      " Accuracy: 51.9%, Avg loss: 0.693145\n",
      "\n"
     ]
    },
    {
     "name": "stdout",
     "output_type": "stream",
     "text": [
      "Training time: 0.155937\n",
      "Training time: 0.148995\n"
     ]
    },
    {
     "name": "stderr",
     "output_type": "stream",
     "text": [
      "Train loss: 0.693145  [    0/  208] training time ratio: 0.8525248951119648\n",
      "Valid Error: \n",
      " Accuracy: 55.8%, Avg loss: 0.693145\n",
      "\n",
      "Train loss: 0.693146  [    0/  208] training time ratio: 0.8469038976179751\n",
      "Valid Error: \n",
      " Accuracy: 57.7%, Avg loss: 0.693144\n",
      "\n"
     ]
    },
    {
     "name": "stdout",
     "output_type": "stream",
     "text": [
      "Training time: 0.155385\n",
      "Training time: 0.148132\n"
     ]
    },
    {
     "name": "stderr",
     "output_type": "stream",
     "text": [
      "Train loss: 0.693145  [    0/  208] training time ratio: 0.8665546709517201\n",
      "Valid Error: \n",
      " Accuracy: 59.6%, Avg loss: 0.693143\n",
      "\n",
      "Train loss: 0.693141  [    0/  208] training time ratio: 0.8439443598544478\n",
      "Valid Error: \n",
      " Accuracy: 59.6%, Avg loss: 0.693142\n",
      "\n"
     ]
    },
    {
     "name": "stdout",
     "output_type": "stream",
     "text": [
      "Training time: 0.159263\n",
      "Training time: 0.149365\n"
     ]
    },
    {
     "name": "stderr",
     "output_type": "stream",
     "text": [
      "Train loss: 0.693145  [    0/  208] training time ratio: 0.8506999584666879\n",
      "Valid Error: \n",
      " Accuracy: 59.6%, Avg loss: 0.693141\n",
      "\n",
      "Train loss: 0.693143  [    0/  208] training time ratio: 0.8549800796812749\n",
      "Valid Error: \n",
      " Accuracy: 59.6%, Avg loss: 0.693138\n",
      "\n"
     ]
    },
    {
     "name": "stdout",
     "output_type": "stream",
     "text": [
      "Training time: 0.15874\n",
      "Training time: 0.149608\n"
     ]
    },
    {
     "name": "stderr",
     "output_type": "stream",
     "text": [
      "Train loss: 0.693135  [    0/  208] training time ratio: 0.90018240250152\n",
      "Valid Error: \n",
      " Accuracy: 59.6%, Avg loss: 0.693129\n",
      "\n",
      "Train loss: 0.693116  [    0/  208] training time ratio: 0.846389196602838\n",
      "Valid Error: \n",
      " Accuracy: 57.7%, Avg loss: 0.693113\n",
      "\n"
     ]
    },
    {
     "name": "stdout",
     "output_type": "stream",
     "text": [
      "Training time: 0.17475\n",
      "Training time: 0.149631\n"
     ]
    },
    {
     "name": "stderr",
     "output_type": "stream",
     "text": [
      "Train loss: 0.693083  [    0/  208] training time ratio: 0.8467669845053635\n",
      "Valid Error: \n",
      " Accuracy: 55.8%, Avg loss: 0.693125\n",
      "\n",
      "Train loss: 0.693027  [    0/  208] training time ratio: 0.8439392747581216\n",
      "Valid Error: \n",
      " Accuracy: 48.1%, Avg loss: 0.693109\n",
      "\n"
     ]
    },
    {
     "name": "stdout",
     "output_type": "stream",
     "text": [
      "Training time: 0.154211\n",
      "Training time: 0.149345\n"
     ]
    },
    {
     "name": "stderr",
     "output_type": "stream",
     "text": [
      "Train loss: 0.693022  [    0/  208] training time ratio: 0.8536394205243597\n",
      "Valid Error: \n",
      " Accuracy: 51.9%, Avg loss: 0.693080\n",
      "\n",
      "Train loss: 0.692873  [    0/  208] training time ratio: 0.8528868482161707\n",
      "Valid Error: \n",
      " Accuracy: 51.9%, Avg loss: 0.693029\n",
      "\n"
     ]
    },
    {
     "name": "stdout",
     "output_type": "stream",
     "text": [
      "Training time: 0.153492\n",
      "Training time: 0.149452\n"
     ]
    },
    {
     "name": "stderr",
     "output_type": "stream",
     "text": [
      "Train loss: 0.692824  [    0/  208] training time ratio: 0.8551587301587301\n",
      "Valid Error: \n",
      " Accuracy: 50.0%, Avg loss: 0.692932\n",
      "\n",
      "Train loss: 0.692535  [    0/  208] training time ratio: 0.8579849143313851\n",
      "Valid Error: \n",
      " Accuracy: 51.9%, Avg loss: 0.692564\n",
      "\n"
     ]
    },
    {
     "name": "stdout",
     "output_type": "stream",
     "text": [
      "Training time: 0.158252\n",
      "Training time: 0.158012\n"
     ]
    },
    {
     "name": "stderr",
     "output_type": "stream",
     "text": [
      "Train loss: 0.692207  [    0/  208] training time ratio: 0.8637104810218317\n",
      "Valid Error: \n",
      " Accuracy: 48.1%, Avg loss: 0.692187\n",
      "\n",
      "Train loss: 0.692276  [    0/  208] training time ratio: 0.8565788124294944\n",
      "Valid Error: \n",
      " Accuracy: 50.0%, Avg loss: 0.691177\n",
      "\n"
     ]
    },
    {
     "name": "stdout",
     "output_type": "stream",
     "text": [
      "Training time: 0.163372\n",
      "Training time: 0.151582\n"
     ]
    },
    {
     "name": "stderr",
     "output_type": "stream",
     "text": [
      "Train loss: 0.692357  [    0/  208] training time ratio: 0.8597994622169728\n",
      "Valid Error: \n",
      " Accuracy: 51.9%, Avg loss: 0.692913\n",
      "\n",
      "Train loss: 0.692876  [    0/  208] training time ratio: 0.8487248740456034\n",
      "Valid Error: \n",
      " Accuracy: 51.9%, Avg loss: 0.693404\n",
      "\n"
     ]
    },
    {
     "name": "stdout",
     "output_type": "stream",
     "text": [
      "Training time: 0.153975\n",
      "Training time: 0.150749\n"
     ]
    },
    {
     "name": "stderr",
     "output_type": "stream",
     "text": [
      "Train loss: 0.692793  [    0/  208] training time ratio: 0.8724289966652493\n",
      "Valid Error: \n",
      " Accuracy: 53.8%, Avg loss: 0.693154\n",
      "\n",
      "Train loss: 0.693135  [    0/  208] training time ratio: 0.852301869880238\n",
      "Valid Error: \n",
      " Accuracy: 53.8%, Avg loss: 0.693147\n",
      "\n"
     ]
    },
    {
     "name": "stdout",
     "output_type": "stream",
     "text": [
      "Training time: 0.161733\n",
      "Training time: 0.157942\n"
     ]
    },
    {
     "name": "stderr",
     "output_type": "stream",
     "text": [
      "Train loss: 0.693141  [    0/  208] training time ratio: 0.8931172684881884\n",
      "Valid Error: \n",
      " Accuracy: 50.0%, Avg loss: 0.693147\n",
      "\n",
      "Train loss: 0.693147  [    0/  208] training time ratio: 0.8517253250708403\n",
      "Valid Error: \n",
      " Accuracy: 40.4%, Avg loss: 0.693147\n",
      "\n"
     ]
    },
    {
     "name": "stdout",
     "output_type": "stream",
     "text": [
      "Training time: 0.171471\n",
      "Training time: 0.149941\n"
     ]
    },
    {
     "name": "stderr",
     "output_type": "stream",
     "text": [
      "Train loss: 0.693147  [    0/  208] training time ratio: 0.8653601482109774\n",
      "Valid Error: \n",
      " Accuracy: 40.4%, Avg loss: 0.693147\n",
      "\n",
      "Train loss: 0.693147  [    0/  208] training time ratio: 0.8401049514210006\n",
      "Valid Error: \n",
      " Accuracy: 42.3%, Avg loss: 0.693147\n",
      "\n"
     ]
    },
    {
     "name": "stdout",
     "output_type": "stream",
     "text": [
      "Training time: 0.165047\n",
      "Training time: 0.151075\n"
     ]
    },
    {
     "name": "stderr",
     "output_type": "stream",
     "text": [
      "Train loss: 0.693145  [    0/  208] training time ratio: 0.8698106800237712\n",
      "Valid Error: \n",
      " Accuracy: 42.3%, Avg loss: 0.693147\n",
      "\n",
      "Train loss: 0.693146  [    0/  208] training time ratio: 0.8516164184525972\n",
      "Valid Error: \n",
      " Accuracy: 42.3%, Avg loss: 0.693148\n",
      "\n"
     ]
    },
    {
     "name": "stdout",
     "output_type": "stream",
     "text": [
      "Training time: 0.165518\n",
      "Training time: 0.154231\n"
     ]
    },
    {
     "name": "stderr",
     "output_type": "stream",
     "text": [
      "Train loss: 0.693146  [    0/  208] training time ratio: 0.8565863935912198\n",
      "Valid Error: \n",
      " Accuracy: 40.4%, Avg loss: 0.693147\n",
      "\n",
      "Train loss: 0.693146  [    0/  208] training time ratio: 0.8499210110584517\n",
      "Valid Error: \n",
      " Accuracy: 40.4%, Avg loss: 0.693147\n",
      "\n"
     ]
    },
    {
     "name": "stdout",
     "output_type": "stream",
     "text": [
      "Training time: 0.157937\n",
      "Training time: 0.150578\n"
     ]
    },
    {
     "name": "stderr",
     "output_type": "stream",
     "text": [
      "Train loss: 0.693147  [    0/  208] training time ratio: 0.8612055406159623\n",
      "Valid Error: \n",
      " Accuracy: 42.3%, Avg loss: 0.693147\n",
      "\n",
      "Train loss: 0.693146  [    0/  208] training time ratio: 0.8282820667470848\n",
      "Valid Error: \n",
      " Accuracy: 42.3%, Avg loss: 0.693148\n",
      "\n"
     ]
    },
    {
     "name": "stdout",
     "output_type": "stream",
     "text": [
      "Training time: 0.159195\n",
      "Training time: 0.15216\n"
     ]
    },
    {
     "name": "stderr",
     "output_type": "stream",
     "text": [
      "Train loss: 0.693147  [    0/  208] training time ratio: 0.864691943127962\n",
      "Valid Error: \n",
      " Accuracy: 42.3%, Avg loss: 0.693148\n",
      "\n",
      "Train loss: 0.693147  [    0/  208] training time ratio: 0.8399275456074525\n",
      "Valid Error: \n",
      " Accuracy: 42.3%, Avg loss: 0.693148\n",
      "\n"
     ]
    },
    {
     "name": "stdout",
     "output_type": "stream",
     "text": [
      "Training time: 0.166105\n",
      "Training time: 0.150144\n"
     ]
    },
    {
     "name": "stderr",
     "output_type": "stream",
     "text": [
      "Train loss: 0.693146  [    0/  208] training time ratio: 0.854191616766467\n",
      "Valid Error: \n",
      " Accuracy: 40.4%, Avg loss: 0.693147\n",
      "\n",
      "Train loss: 0.693145  [    0/  208] training time ratio: 0.8532848062874173\n",
      "Valid Error: \n",
      " Accuracy: 40.4%, Avg loss: 0.693147\n",
      "\n"
     ]
    },
    {
     "name": "stdout",
     "output_type": "stream",
     "text": [
      "Training time: 0.159253\n",
      "Training time: 0.150522\n"
     ]
    },
    {
     "name": "stderr",
     "output_type": "stream",
     "text": [
      "Train loss: 0.693145  [    0/  208] training time ratio: 0.8602859732151849\n",
      "Valid Error: \n",
      " Accuracy: 42.3%, Avg loss: 0.693148\n",
      "\n",
      "Train loss: 0.693145  [    0/  208] training time ratio: 0.852600469694171\n",
      "Valid Error: \n",
      " Accuracy: 42.3%, Avg loss: 0.693148\n",
      "\n"
     ]
    },
    {
     "name": "stdout",
     "output_type": "stream",
     "text": [
      "Training time: 0.159266\n",
      "Training time: 0.148774\n"
     ]
    },
    {
     "name": "stderr",
     "output_type": "stream",
     "text": [
      "Train loss: 0.693145  [    0/  208] training time ratio: 0.8570779748529904\n",
      "Valid Error: \n",
      " Accuracy: 42.3%, Avg loss: 0.693147\n",
      "\n",
      "Train loss: 0.693146  [    0/  208] training time ratio: 0.8518538191862318\n",
      "Valid Error: \n",
      " Accuracy: 42.3%, Avg loss: 0.693148\n",
      "\n",
      "Valid Error: \n",
      " Accuracy: 46.4%, Avg loss: 0.693157\n",
      "\n",
      "Test Error 29: \n",
      " Accuracy: 46.4%, Avg loss: 0.693157\n"
     ]
    },
    {
     "name": "stdout",
     "output_type": "stream",
     "text": [
      "Training time: 0.160489\n",
      "Training time: 0.148708\n"
     ]
    },
    {
     "name": "stderr",
     "output_type": "stream",
     "text": [
      "Test Error: \n",
      " Accuracy: 53.0%, Avg loss: 0.692324\n"
     ]
    }
   ],
   "source": [
    "import torch.nn as nn\n",
    "\n",
    "from torcheeg.model_selection import train_test_split\n",
    "from torch.utils.data.dataloader import DataLoader\n",
    "\n",
    "loss_fn = nn.CrossEntropyLoss()\n",
    "batch_size = 64\n",
    "\n",
    "test_accs = []\n",
    "test_losses = []\n",
    "\n",
    "for i, (train_dataset, test_dataset) in enumerate(k_fold.split(dataset)):\n",
    "    # initialize model\n",
    "    model = OnlyLiquidEEG(liquid_units=412).to(device)\n",
    "    # initialize optimizer\n",
    "    optimizer = torch.optim.Adam(model.parameters(),\n",
    "                                 lr=1e-3)  # official: weight_decay=5e-1\n",
    "    # split train and val\n",
    "    train_dataset, val_dataset = train_test_split(\n",
    "        train_dataset,\n",
    "        test_size=0.2,\n",
    "        split_path=f'./examples_vanilla_torch/split{i}',\n",
    "        shuffle=True)\n",
    "    train_loader = DataLoader(train_dataset,\n",
    "                              batch_size=batch_size,\n",
    "                              shuffle=True)\n",
    "    val_loader = DataLoader(val_dataset, batch_size=batch_size, shuffle=True)\n",
    "\n",
    "    epochs = 50\n",
    "    best_val_acc = 0.0\n",
    "    for t in range(epochs):\n",
    "        train_loss = train(train_loader, model, loss_fn, optimizer)\n",
    "        val_acc, val_loss = valid(val_loader, model, loss_fn)\n",
    "        # save the best model based on val_acc\n",
    "        if val_acc > best_val_acc:\n",
    "            best_val_acc = val_acc\n",
    "            torch.save(model.state_dict(),\n",
    "                       f'./examples_vanilla_torch/model{i}.pt')\n",
    "\n",
    "    test_loader = DataLoader(test_dataset, batch_size=batch_size, shuffle=False)\n",
    "\n",
    "    # load the best model to test on test set\n",
    "    model.load_state_dict(torch.load(f'./examples_vanilla_torch/model{i}.pt'))\n",
    "    test_acc, test_loss = valid(test_loader, model, loss_fn)\n",
    "\n",
    "    # log the test result\n",
    "    logger.info(\n",
    "        f\"Test Error {i}: \\n Accuracy: {(100*test_acc):>0.1f}%, Avg loss: {test_loss:>8f}\"\n",
    "    )\n",
    "\n",
    "    test_accs.append(test_acc)\n",
    "    test_losses.append(test_loss)\n",
    "\n",
    "# log the average test result on cross-validation datasets\n",
    "logger.info(\n",
    "    f\"Test Error: \\n Accuracy: {100*np.mean(test_accs):>0.1f}%, Avg loss: {np.mean(test_losses):>8f}\"\n",
    ")"
   ]
  }
 ],
 "metadata": {
  "kernelspec": {
   "display_name": ".venv",
   "language": "python",
   "name": "python3"
  },
  "language_info": {
   "codemirror_mode": {
    "name": "ipython",
    "version": 3
   },
   "file_extension": ".py",
   "mimetype": "text/x-python",
   "name": "python",
   "nbconvert_exporter": "python",
   "pygments_lexer": "ipython3",
   "version": "3.10.12"
  }
 },
 "nbformat": 4,
 "nbformat_minor": 2
}
